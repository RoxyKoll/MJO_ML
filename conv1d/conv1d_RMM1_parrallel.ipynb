{
 "cells": [
  {
   "cell_type": "markdown",
   "metadata": {},
   "source": [
    "## Convolution 1-D for RMM1 network for GPU tuning "
   ]
  },
  {
   "cell_type": "markdown",
   "metadata": {},
   "source": [
    "Written by Abirlal Metya, Panini Dasgupta, Manmeet Singh (16/01/2020)"
   ]
  },
  {
   "cell_type": "markdown",
   "metadata": {},
   "source": [
    "import modules"
   ]
  },
  {
   "cell_type": "code",
   "execution_count": 1,
   "metadata": {},
   "outputs": [
    {
     "name": "stderr",
     "output_type": "stream",
     "text": [
      "Using TensorFlow backend.\n"
     ]
    }
   ],
   "source": [
    "import numpy as np\n",
    "from numpy.random import seed\n",
    "seed(7)\n",
    "import random as rn\n",
    "rn.seed(7)\n",
    "import tensorflow\n",
    "tensorflow.random.set_seed(10)\n",
    "import os\n",
    "os.environ[\"PYTHONHASHSEED\"] = '0'\n",
    "\n",
    "import pandas as pd\n",
    "import datetime\n",
    "import hilbert_data1_jgrjd_20CRV3\n",
    "from sklearn.preprocessing import MinMaxScaler\n",
    "import itertools\n",
    "import multiprocessing\n",
    "from IPython.display import clear_output\n",
    "import tqdm\n",
    "\n",
    "import keras \n",
    "from keras.models import Sequential\n",
    "from keras.layers import Input,Dense, Conv1D, Flatten,MaxPooling1D,Dropout, Activation, Flatten,Add\n",
    "from keras.layers import BatchNormalization\n",
    "from keras.callbacks import EarlyStopping\n"
   ]
  },
  {
   "cell_type": "markdown",
   "metadata": {},
   "source": [
    "### Test and Train Splitter:"
   ]
  },
  {
   "cell_type": "markdown",
   "metadata": {},
   "source": [
    "#### RMM1"
   ]
  },
  {
   "cell_type": "code",
   "execution_count": 2,
   "metadata": {},
   "outputs": [],
   "source": [
    "x_train,y_train,_ = hilbert_data1_jgrjd_20CRV3.data_hilbert(datetime.datetime(1979,1,1),datetime.datetime(2008,12,31))\n",
    "x_test,y_test,_ = hilbert_data1_jgrjd_20CRV3.data_hilbert(datetime.datetime(1974,6,1),datetime.datetime(1978,3,16))\n",
    "x_test2,y_test2,_ = hilbert_data1_jgrjd_20CRV3.data_hilbert(datetime.datetime(2009,1,1),datetime.datetime(2015,12,31))\n"
   ]
  },
  {
   "cell_type": "markdown",
   "metadata": {},
   "source": [
    "#### RMM2"
   ]
  },
  {
   "cell_type": "markdown",
   "metadata": {},
   "source": [
    "#### Historical pressure"
   ]
  },
  {
   "cell_type": "code",
   "execution_count": 3,
   "metadata": {},
   "outputs": [],
   "source": [
    "x_test3 = hilbert_data1_jgrjd_20CRV3.data_pres(datetime.datetime(1905,1,1),datetime.datetime(2015,12,31))"
   ]
  },
  {
   "cell_type": "markdown",
   "metadata": {},
   "source": [
    "#### scale the data"
   ]
  },
  {
   "cell_type": "code",
   "execution_count": 4,
   "metadata": {},
   "outputs": [],
   "source": [
    "sc3 = MinMaxScaler()\n",
    "sc5 = MinMaxScaler()\n",
    "\n",
    "sc5.fit(x_test3[:])\n",
    "\n",
    "test_x3 =  sc5.transform(x_test3[:])\n",
    "train_x = sc5.transform(x_train[:])\n",
    "test_x  = sc5.transform(x_test[:])\n",
    "test_x2  = sc5.transform(x_test2[:])\n",
    "\n",
    "\n",
    "sc3.fit(y_train[:])\n",
    "\n",
    "train_y = sc3.transform(y_train)\n",
    "test_y  = sc3.transform(y_test)\n",
    "test_y2  = sc3.transform(y_test2)\n",
    "\n",
    "#train_x.max(),test_x.max(),test_x3.max(),test_x2.max(),train_y.max(),test_y.max(),test_y2.max()"
   ]
  },
  {
   "cell_type": "markdown",
   "metadata": {},
   "source": [
    "In RNN we have to choose a window. Here we choose first 120 points as predictor and next RMM value as predicted. That means RMM will be fitted using previous 120 time steps's pressure of every point"
   ]
  },
  {
   "cell_type": "markdown",
   "metadata": {},
   "source": [
    "#### split the sequence data for training"
   ]
  },
  {
   "cell_type": "code",
   "execution_count": 5,
   "metadata": {},
   "outputs": [],
   "source": [
    "def split_sequence(window,x,*args):\n",
    "    xout  = []\n",
    "    for i in range(window,len(x)):\n",
    "        xout.append(x[i-window:i,:])\n",
    "    \n",
    "    xout = np.array(xout)\n",
    "    xout = np.reshape(xout,(xout.shape[0],xout.shape[1],xout.shape[2]))\n",
    "        \n",
    "    if np.any(len(args)):\n",
    "        for y in args:\n",
    "            yout = []\n",
    "            for i in range(window,len(y)):\n",
    "                yout.append(y[i,0])\n",
    "            yout = np.array(yout)\n",
    "            yout = yout.reshape(yout.shape[0])\n",
    "    else:\n",
    "        yout = [] \n",
    "    \n",
    "    return xout,yout"
   ]
  },
  {
   "cell_type": "code",
   "execution_count": 6,
   "metadata": {},
   "outputs": [],
   "source": [
    "window = 120\n",
    "xtrain , ytrain = split_sequence(window,train_x,train_y)\n",
    "xtest , ytest   = split_sequence(window,test_x,test_y)\n",
    "xtest2 , ytest2 = split_sequence(window,test_x2,test_y2)\n",
    "xtest3,_        = split_sequence(window, test_x3)"
   ]
  },
  {
   "cell_type": "markdown",
   "metadata": {},
   "source": [
    "#### Cut the data according to batch size"
   ]
  },
  {
   "cell_type": "code",
   "execution_count": 7,
   "metadata": {},
   "outputs": [],
   "source": [
    "par_b =100 \n",
    "\n",
    "#print(x_test3.shape)\n",
    "te3_lc = ((len(x_test3)-window)//par_b)*par_b\n",
    "\n",
    "xtest3 = xtest3[:te3_lc,:,:]\n",
    "#print(xtest3.shape)\n",
    "\n",
    "#x_test3.iloc[window:window+te3_lc,:].index\n",
    "## THis perid data will be available\n",
    "\n"
   ]
  },
  {
   "cell_type": "code",
   "execution_count": 8,
   "metadata": {},
   "outputs": [],
   "source": [
    "#print(xtrain.shape,ytrain.shape,xtest.shape,ytest.shape)\n",
    "\n",
    "tr_lc = ((len(x_train)-window)//par_b)*par_b\n",
    "te_lc =  ((len(x_test)-window)//par_b)*par_b\n",
    "te_lc2 =  ((len(x_test2)-window)//par_b)*par_b\n",
    "\n",
    "xtrain = xtrain[:tr_lc,:,:]\n",
    "ytrain = ytrain[:tr_lc]\n",
    "xtest = xtest[:te_lc,:,:]\n",
    "ytest = ytest[:te_lc,]\n",
    "xtest2 = xtest2[:te_lc2,:,:]\n",
    "ytest2 = ytest2[:te_lc2,]\n",
    "#print(xtrain.shape,ytrain.shape,xtest.shape,xtest2.shape,ytest.shape,ytest2.shape)"
   ]
  },
  {
   "cell_type": "markdown",
   "metadata": {},
   "source": [
    "### Using Simple Convolution 1D\n",
    "* 1. Basic conv1d\n",
    "* 2. wavenet\n",
    "* 3. ENSO  paper model\n"
   ]
  },
  {
   "cell_type": "code",
   "execution_count": 9,
   "metadata": {},
   "outputs": [],
   "source": [
    "nf=[]\n",
    "for i in range(1,6,1):\n",
    "    nf.append([2**i,2**i,2**i])\n",
    "    nf.append([2**(i+2),2**(i+1),2**i])\n",
    "    #nf.append([2**(2*i+1),2**(i+1),2**(i)])\n",
    "    #nf.append([2**(i+1)+2**i,2**(i+1),2**(i-1)])\n",
    "\n",
    "kz=[]\n",
    "for i in range(1,4,1):\n",
    "    kz.append([2**i,2**i,2**i])\n",
    "    kz.append([2**(i+2),2**(i+1),2**(i)])\n",
    "    #kz.append([2**(i+1)+2**i,2**(i+1),2**(i)]\n",
    "    #kz.append([2**(i+1)+2**i,2**(i+1),2**(i-1)])\n",
    "\n",
    "ds = [10,20,30,40,50]"
   ]
  },
  {
   "cell_type": "code",
   "execution_count": 10,
   "metadata": {},
   "outputs": [],
   "source": [
    "def models(params):\n",
    "    \"\"\"\n",
    "       Random number initializer is needed \n",
    "    \"\"\"\n",
    "    \n",
    "    seed(7)\n",
    "    rn.seed(7)\n",
    "    tensorflow.random.set_seed(10)\n",
    "    os.environ[\"PYTHONHASHSEED\"] = '0'\n",
    "    \n",
    "    \n",
    "    i = params[0]; k = params[1]; j = params[2];  \n",
    "    #print('running on iteration ' + str(i)+','+str(k)+','+str(j))\n",
    "    \n",
    "    model = Sequential()\n",
    "    # Use the Keras Conv1D function to create a 1-dimensional convolutional layer, with kernel size (filter) of 5X5 pixels and a stride of 1 in x and y directions. The Conv2D command automatically creates the activation function for you━here we use ReLu activation.\n",
    "\n",
    "    model.add(Conv1D(nf[i][0] ,kernel_size=kz[k][0], strides=1,kernel_initializer = \"random_uniform\",\n",
    "                     bias_initializer = \"zeros\",activation='relu',\n",
    "                     input_shape=(xtrain.shape[1],xtrain.shape[2])))\n",
    "    # Then use the MaxPooling2D function to add a 2D max pooling layer, with pooling filter sized 2X2 and stride of 2 in x and y directions.\n",
    "\n",
    "    model.add(MaxPooling1D(pool_size=1, strides=1))\n",
    "\n",
    "    \n",
    "    model.add(Conv1D(nf[i][1], kernel_size=kz[k][1], strides=1,\n",
    "                     kernel_initializer = \"random_uniform\",bias_initializer = \"zeros\",activation='relu'))\n",
    "    # Then use the MaxPooling2D function to add a 2D max pooling layer, with pooling filter sized 2X2 and stride of 2 in x and y directions.\n",
    "\n",
    "    model.add(MaxPooling1D(pool_size=1, strides=1))\n",
    "\n",
    "    \n",
    "    model.add(Conv1D(nf[i][2], kernel_size=kz[k][2], strides=1,\n",
    "                     kernel_initializer = \"random_uniform\",bias_initializer = \"zeros\",activation='relu'))\n",
    "\n",
    "    \n",
    "    model.add(Flatten())\n",
    "    model.add(Dense(ds[j], kernel_initializer = \"random_uniform\",\n",
    "                    bias_initializer = \"zeros\",activation='relu'))\n",
    "\n",
    "\n",
    "    model.add(Dense(1, activation='linear'))\n",
    "    opt = keras.optimizers.Adam(learning_rate=0.001, decay=1e-6)\n",
    "    model.compile(loss='mae', optimizer=opt)\n",
    "    es = EarlyStopping(monitor='val_loss', mode='min', verbose=0,min_delta=.01,patience=30)\n",
    "\n",
    "    \n",
    "    model.fit(xtrain, ytrain, validation_data=(xtest, ytest),batch_size=100,callbacks=[es], shuffle = False,epochs= 200,verbose=0)\n",
    "    \n",
    "    train_corr_= np.nan\n",
    "    test1_corr_ = np.nan\n",
    "    test2_corr_ = np.nan\n",
    "    \n",
    "    np.seterr(divide='ignore', invalid='ignore')\n",
    "    \n",
    "    predict1   = model.predict(xtrain)\n",
    "    yy_train   = sc3.inverse_transform(predict1)\n",
    "    yy_train   = yy_train/yy_train.std()\n",
    "    train_corr_ = np.corrcoef(yy_train[:,0],ytrain)[0,1]\n",
    "    \n",
    "\n",
    "    predict1  = model.predict(xtest2)\n",
    "    yy_test1   = sc3.inverse_transform(predict1)\n",
    "    yy_test1   = yy_test1/yy_test1.std()\n",
    "    test1_corr_ = np.corrcoef(yy_test1[:,0],ytest2)[0,1]\n",
    "\n",
    "    predict2  = model.predict(xtest)\n",
    "    yy_test2   = sc3.inverse_transform(predict2)\n",
    "    yy_test2   = yy_test2/yy_test2.std()\n",
    "    test2_corr_ = np.corrcoef(yy_test2[:,0],ytest)[0,1]\n",
    "    \n",
    "    print('running on iteration ' + str(i)+','+str(k)+','+str(j))\n",
    "    print(train_corr_,test1_corr_,test2_corr_)\n",
    "    \n",
    "    return i,k,j,train_corr_,test1_corr_,test2_corr_\n"
   ]
  },
  {
   "cell_type": "code",
   "execution_count": null,
   "metadata": {},
   "outputs": [
    {
     "name": "stdout",
     "output_type": "stream",
     "text": [
      "28\n"
     ]
    },
    {
     "name": "stderr",
     "output_type": "stream",
     "text": [
      "\r",
      "  0%|          | 0/300 [00:00<?, ?it/s]"
     ]
    },
    {
     "name": "stdout",
     "output_type": "stream",
     "text": [
      "running on iteration 0,0,0\n",
      "nan nan nan\n"
     ]
    },
    {
     "name": "stderr",
     "output_type": "stream",
     "text": [
      "\r",
      "  0%|          | 1/300 [00:27<2:18:58, 27.89s/it]"
     ]
    },
    {
     "name": "stdout",
     "output_type": "stream",
     "text": [
      "running on iteration 0,0,1\n",
      "nan nan nan\n"
     ]
    },
    {
     "name": "stderr",
     "output_type": "stream",
     "text": [
      "\r",
      "  1%|          | 2/300 [00:28<1:38:08, 19.76s/it]"
     ]
    },
    {
     "name": "stdout",
     "output_type": "stream",
     "text": [
      "running on iteration 0,0,2\n",
      "nan nan nan\n"
     ]
    },
    {
     "name": "stderr",
     "output_type": "stream",
     "text": [
      "\r",
      "  1%|          | 3/300 [00:55<1:47:49, 21.78s/it]"
     ]
    },
    {
     "name": "stdout",
     "output_type": "stream",
     "text": [
      "running on iteration 0,0,3\n",
      "0.8187927612663032 0.7409381522621622 0.8163910465644205\n"
     ]
    },
    {
     "name": "stderr",
     "output_type": "stream",
     "text": [
      "\r",
      "  1%|▏         | 4/300 [01:21<1:53:50, 23.08s/it]"
     ]
    },
    {
     "name": "stdout",
     "output_type": "stream",
     "text": [
      "running on iteration 0,0,4\n",
      "nan nan nan\n"
     ]
    },
    {
     "name": "stderr",
     "output_type": "stream",
     "text": [
      "\r",
      "  2%|▏         | 5/300 [01:23<1:23:03, 16.89s/it]"
     ]
    },
    {
     "name": "stdout",
     "output_type": "stream",
     "text": [
      "running on iteration 0,1,1\n",
      "nan nan nan\n"
     ]
    },
    {
     "name": "stderr",
     "output_type": "stream",
     "text": [
      "\r",
      "  2%|▏         | 6/300 [01:55<1:44:30, 21.33s/it]"
     ]
    },
    {
     "name": "stdout",
     "output_type": "stream",
     "text": [
      "running on iteration 0,1,0\n",
      "0.7954376322092962 0.7147396003419652 0.790609634216799\n"
     ]
    },
    {
     "name": "stderr",
     "output_type": "stream",
     "text": [
      "\r",
      "  2%|▏         | 7/300 [02:24<1:55:50, 23.72s/it]"
     ]
    },
    {
     "name": "stdout",
     "output_type": "stream",
     "text": [
      "running on iteration 0,1,2\n",
      "nan nan nan\n"
     ]
    },
    {
     "name": "stderr",
     "output_type": "stream",
     "text": [
      "\r",
      "  3%|▎         | 8/300 [02:27<1:24:27, 17.35s/it]"
     ]
    },
    {
     "name": "stdout",
     "output_type": "stream",
     "text": [
      "running on iteration 0,1,3\n",
      "nan nan nan\n"
     ]
    },
    {
     "name": "stderr",
     "output_type": "stream",
     "text": [
      "\r",
      "  3%|▎         | 9/300 [02:55<1:40:17, 20.68s/it]"
     ]
    },
    {
     "name": "stdout",
     "output_type": "stream",
     "text": [
      "running on iteration 0,1,4\n",
      "nan nan nan\n"
     ]
    },
    {
     "name": "stderr",
     "output_type": "stream",
     "text": [
      "\r",
      "  3%|▎         | 10/300 [02:58<1:13:48, 15.27s/it]"
     ]
    },
    {
     "name": "stdout",
     "output_type": "stream",
     "text": [
      "running on iteration 0,2,1\n",
      "nan nan nan\n"
     ]
    },
    {
     "name": "stderr",
     "output_type": "stream",
     "text": [
      "\r",
      "  4%|▎         | 11/300 [03:23<1:27:39, 18.20s/it]"
     ]
    },
    {
     "name": "stdout",
     "output_type": "stream",
     "text": [
      "running on iteration 0,2,2\n",
      "nan nan nan\n"
     ]
    },
    {
     "name": "stderr",
     "output_type": "stream",
     "text": [
      "\r",
      "  4%|▍         | 12/300 [03:49<1:38:47, 20.58s/it]"
     ]
    },
    {
     "name": "stdout",
     "output_type": "stream",
     "text": [
      "running on iteration 0,2,0\n",
      "0.7965910403410257 0.7171128485994903 0.7945529829036818\n"
     ]
    },
    {
     "name": "stderr",
     "output_type": "stream",
     "text": [
      "\r",
      "  4%|▍         | 13/300 [03:50<1:10:40, 14.78s/it]"
     ]
    },
    {
     "name": "stdout",
     "output_type": "stream",
     "text": [
      "running on iteration 0,2,3\n",
      "nan nan nan\n"
     ]
    },
    {
     "name": "stderr",
     "output_type": "stream",
     "text": [
      "\r",
      "  5%|▍         | 14/300 [04:16<1:26:06, 18.06s/it]"
     ]
    },
    {
     "name": "stdout",
     "output_type": "stream",
     "text": [
      "running on iteration 0,2,4\n",
      "nan nan nan\n"
     ]
    },
    {
     "name": "stderr",
     "output_type": "stream",
     "text": [
      "\r",
      "  5%|▌         | 15/300 [04:17<1:01:15, 12.90s/it]"
     ]
    },
    {
     "name": "stdout",
     "output_type": "stream",
     "text": [
      "running on iteration 0,3,1\n",
      "nan nan nan\n"
     ]
    },
    {
     "name": "stderr",
     "output_type": "stream",
     "text": [
      "\r",
      "  5%|▌         | 16/300 [04:53<1:33:45, 19.81s/it]"
     ]
    },
    {
     "name": "stdout",
     "output_type": "stream",
     "text": [
      "running on iteration 0,3,2\n",
      "nan nan nan\n"
     ]
    },
    {
     "name": "stderr",
     "output_type": "stream",
     "text": [
      "\r",
      "  6%|▌         | 17/300 [05:28<1:55:28, 24.48s/it]"
     ]
    },
    {
     "name": "stdout",
     "output_type": "stream",
     "text": [
      "running on iteration 0,3,0\n",
      "0.8368564110497745 0.7840484230143147 0.8316450516065959\n"
     ]
    },
    {
     "name": "stderr",
     "output_type": "stream",
     "text": [
      "\r",
      "  6%|▌         | 18/300 [05:39<1:35:15, 20.27s/it]"
     ]
    },
    {
     "name": "stdout",
     "output_type": "stream",
     "text": [
      "running on iteration 0,3,4\n",
      "nan nan nan\n"
     ]
    },
    {
     "name": "stderr",
     "output_type": "stream",
     "text": [
      "\r",
      "  6%|▋         | 19/300 [06:13<1:55:10, 24.59s/it]"
     ]
    },
    {
     "name": "stdout",
     "output_type": "stream",
     "text": [
      "running on iteration 0,3,3\n",
      "0.8297841051650567 0.7670846304382902 0.8188247508870545\n"
     ]
    },
    {
     "name": "stderr",
     "output_type": "stream",
     "text": [
      "\r",
      "  7%|▋         | 20/300 [06:25<1:36:16, 20.63s/it]"
     ]
    },
    {
     "name": "stdout",
     "output_type": "stream",
     "text": [
      "running on iteration 0,4,1\n",
      "nan nan nan\n"
     ]
    },
    {
     "name": "stderr",
     "output_type": "stream",
     "text": [
      "\r",
      "  7%|▋         | 21/300 [06:55<1:50:07, 23.68s/it]"
     ]
    },
    {
     "name": "stdout",
     "output_type": "stream",
     "text": [
      "running on iteration 0,4,0\n",
      "0.8118182367844319 0.743588482373922 0.8074920877807042\n"
     ]
    },
    {
     "name": "stderr",
     "output_type": "stream",
     "text": [
      "\r",
      "  7%|▋         | 22/300 [07:14<1:42:43, 22.17s/it]"
     ]
    },
    {
     "name": "stdout",
     "output_type": "stream",
     "text": [
      "running on iteration 0,4,2\n",
      "nan nan nan\n"
     ]
    },
    {
     "name": "stderr",
     "output_type": "stream",
     "text": [
      "\r",
      "  8%|▊         | 23/300 [07:26<1:28:05, 19.08s/it]"
     ]
    },
    {
     "name": "stdout",
     "output_type": "stream",
     "text": [
      "running on iteration 0,4,4\n",
      "nan nan nan\n"
     ]
    },
    {
     "name": "stderr",
     "output_type": "stream",
     "text": [
      "\r",
      "  8%|▊         | 24/300 [07:57<1:44:05, 22.63s/it]"
     ]
    },
    {
     "name": "stdout",
     "output_type": "stream",
     "text": [
      "running on iteration 0,4,3\n",
      "0.8366872458638981 0.7674590104518837 0.8199087424585164\n"
     ]
    },
    {
     "name": "stderr",
     "output_type": "stream",
     "text": [
      "\r",
      "  8%|▊         | 25/300 [08:20<1:44:32, 22.81s/it]"
     ]
    },
    {
     "name": "stdout",
     "output_type": "stream",
     "text": [
      "running on iteration 0,5,0\n",
      "nan nan nan\n"
     ]
    },
    {
     "name": "stderr",
     "output_type": "stream",
     "text": [
      "\r",
      "  9%|▊         | 26/300 [08:39<1:38:55, 21.66s/it]"
     ]
    },
    {
     "name": "stdout",
     "output_type": "stream",
     "text": [
      "running on iteration 0,5,1\n",
      "nan nan nan\n"
     ]
    },
    {
     "name": "stderr",
     "output_type": "stream",
     "text": [
      "\r",
      "  9%|▉         | 27/300 [09:04<1:43:13, 22.69s/it]"
     ]
    },
    {
     "name": "stdout",
     "output_type": "stream",
     "text": [
      "running on iteration 0,5,2\n",
      "nan nan nan\n"
     ]
    },
    {
     "name": "stderr",
     "output_type": "stream",
     "text": [
      "\r",
      "  9%|▉         | 28/300 [09:26<1:41:23, 22.37s/it]"
     ]
    },
    {
     "name": "stdout",
     "output_type": "stream",
     "text": [
      "running on iteration 0,5,3\n",
      "nan nan nan\n"
     ]
    },
    {
     "name": "stderr",
     "output_type": "stream",
     "text": [
      "\r",
      " 10%|▉         | 29/300 [09:52<1:45:48, 23.43s/it]"
     ]
    },
    {
     "name": "stdout",
     "output_type": "stream",
     "text": [
      "running on iteration 0,5,4\n",
      "nan nan nan\n"
     ]
    },
    {
     "name": "stderr",
     "output_type": "stream",
     "text": [
      "\r",
      " 10%|█         | 30/300 [10:12<1:41:18, 22.51s/it]"
     ]
    },
    {
     "name": "stdout",
     "output_type": "stream",
     "text": [
      "running on iteration 1,0,1\n",
      "nan nan nan\n"
     ]
    },
    {
     "name": "stderr",
     "output_type": "stream",
     "text": [
      "\r",
      " 10%|█         | 31/300 [10:43<1:52:20, 25.06s/it]"
     ]
    },
    {
     "name": "stdout",
     "output_type": "stream",
     "text": [
      "running on iteration 1,0,0\n",
      "0.7990302954591578 0.721745351001223 0.7989160424036366\n"
     ]
    },
    {
     "name": "stderr",
     "output_type": "stream",
     "text": [
      "\r",
      " 11%|█         | 32/300 [10:55<1:34:13, 21.09s/it]"
     ]
    },
    {
     "name": "stdout",
     "output_type": "stream",
     "text": [
      "running on iteration 1,0,2\n",
      "0.8120120769109603 0.7392711920719202 0.8091614570861808\n"
     ]
    },
    {
     "name": "stderr",
     "output_type": "stream",
     "text": [
      "\r",
      " 11%|█         | 33/300 [11:34<1:57:46, 26.47s/it]"
     ]
    },
    {
     "name": "stdout",
     "output_type": "stream",
     "text": [
      "running on iteration 1,0,3\n",
      "0.8089277667224685 0.7299829250978267 0.8080225502897773\n"
     ]
    },
    {
     "name": "stderr",
     "output_type": "stream",
     "text": [
      "\r",
      " 11%|█▏        | 34/300 [11:39<1:29:23, 20.16s/it]"
     ]
    },
    {
     "name": "stdout",
     "output_type": "stream",
     "text": [
      "running on iteration 1,0,4\n",
      "nan nan nan\n"
     ]
    },
    {
     "name": "stderr",
     "output_type": "stream",
     "text": [
      "\r",
      " 12%|█▏        | 35/300 [12:00<1:29:27, 20.25s/it]"
     ]
    },
    {
     "name": "stdout",
     "output_type": "stream",
     "text": [
      "running on iteration 1,1,1\n",
      "nan nan nan\n"
     ]
    },
    {
     "name": "stderr",
     "output_type": "stream",
     "text": [
      "\r",
      " 12%|█▏        | 36/300 [12:29<1:40:34, 22.86s/it]"
     ]
    },
    {
     "name": "stdout",
     "output_type": "stream",
     "text": [
      "running on iteration 1,1,0\n",
      "0.8314995580341054 0.7636702916727713 0.8116049031830408\n"
     ]
    },
    {
     "name": "stderr",
     "output_type": "stream",
     "text": [
      "\r",
      " 12%|█▏        | 37/300 [12:32<1:14:43, 17.05s/it]"
     ]
    },
    {
     "name": "stdout",
     "output_type": "stream",
     "text": [
      "running on iteration 1,1,2\n",
      "0.8239026629223453 0.7516491194485808 0.8135552244973336\n"
     ]
    },
    {
     "name": "stderr",
     "output_type": "stream",
     "text": [
      "\r",
      " 13%|█▎        | 38/300 [13:15<1:48:27, 24.84s/it]"
     ]
    },
    {
     "name": "stdout",
     "output_type": "stream",
     "text": [
      "running on iteration 1,1,4\n",
      "nan nan nan\n"
     ]
    },
    {
     "name": "stderr",
     "output_type": "stream",
     "text": [
      "\r",
      " 13%|█▎        | 39/300 [13:46<1:55:41, 26.59s/it]"
     ]
    },
    {
     "name": "stdout",
     "output_type": "stream",
     "text": [
      "running on iteration 1,1,3\n",
      "0.8543287812978797 0.7943247235577026 0.840947504870633\n"
     ]
    },
    {
     "name": "stderr",
     "output_type": "stream",
     "text": [
      "\r",
      " 13%|█▎        | 40/300 [13:47<1:21:26, 18.80s/it]"
     ]
    },
    {
     "name": "stdout",
     "output_type": "stream",
     "text": [
      "running on iteration 1,2,0\n",
      "nan nan nan\n"
     ]
    },
    {
     "name": "stderr",
     "output_type": "stream",
     "text": [
      "\r",
      " 14%|█▎        | 41/300 [14:14<1:32:12, 21.36s/it]"
     ]
    },
    {
     "name": "stdout",
     "output_type": "stream",
     "text": [
      "running on iteration 1,2,1\n",
      "nan nan nan\n"
     ]
    },
    {
     "name": "stderr",
     "output_type": "stream",
     "text": [
      "\r",
      " 14%|█▍        | 42/300 [14:14<1:04:37, 15.03s/it]"
     ]
    },
    {
     "name": "stdout",
     "output_type": "stream",
     "text": [
      "running on iteration 1,2,2\n",
      "nan nan nan\n"
     ]
    },
    {
     "name": "stderr",
     "output_type": "stream",
     "text": [
      "\r",
      " 14%|█▍        | 43/300 [14:42<1:20:24, 18.77s/it]"
     ]
    },
    {
     "name": "stdout",
     "output_type": "stream",
     "text": [
      "running on iteration 1,2,3\n",
      "0.8341947768101088 0.7568393677208392 0.8211320217315402\n"
     ]
    },
    {
     "name": "stderr",
     "output_type": "stream",
     "text": [
      "\r",
      " 15%|█▍        | 44/300 [14:58<1:17:02, 18.06s/it]"
     ]
    },
    {
     "name": "stdout",
     "output_type": "stream",
     "text": [
      "running on iteration 1,2,4\n",
      "nan nan nan\n"
     ]
    },
    {
     "name": "stderr",
     "output_type": "stream",
     "text": [
      "\r",
      " 15%|█▌        | 45/300 [15:09<1:07:39, 15.92s/it]"
     ]
    },
    {
     "name": "stdout",
     "output_type": "stream",
     "text": [
      "running on iteration 1,3,0\n",
      "0.8590784054956088 0.7858418655585346 0.8305900323326393\n"
     ]
    },
    {
     "name": "stderr",
     "output_type": "stream",
     "text": [
      "\r",
      " 15%|█▌        | 46/300 [16:02<1:55:05, 27.19s/it]"
     ]
    },
    {
     "name": "stdout",
     "output_type": "stream",
     "text": [
      "running on iteration 1,3,1\n",
      "0.850936107557785 0.7975183010826742 0.8322337580645547\n"
     ]
    },
    {
     "name": "stderr",
     "output_type": "stream",
     "text": [
      "\r",
      " 16%|█▌        | 47/300 [16:37<2:03:42, 29.34s/it]"
     ]
    },
    {
     "name": "stdout",
     "output_type": "stream",
     "text": [
      "running on iteration 1,3,2\n",
      "0.8633600435826941 0.796419234970461 0.8342695089109087\n"
     ]
    },
    {
     "name": "stderr",
     "output_type": "stream",
     "text": [
      "\r",
      " 16%|█▌        | 48/300 [17:02<1:57:22, 27.95s/it]"
     ]
    },
    {
     "name": "stdout",
     "output_type": "stream",
     "text": [
      "running on iteration 1,3,3\n",
      "0.8340283397154662 0.7762055380318617 0.8295747597724841\n"
     ]
    },
    {
     "name": "stderr",
     "output_type": "stream",
     "text": [
      "\r",
      " 16%|█▋        | 49/300 [17:29<1:56:48, 27.92s/it]"
     ]
    },
    {
     "name": "stdout",
     "output_type": "stream",
     "text": [
      "running on iteration 1,3,4\n",
      "0.8496989927375972 0.791030677573521 0.8276541748885486\n"
     ]
    },
    {
     "name": "stderr",
     "output_type": "stream",
     "text": [
      "\r",
      " 17%|█▋        | 50/300 [18:10<2:12:19, 31.76s/it]"
     ]
    },
    {
     "name": "stdout",
     "output_type": "stream",
     "text": [
      "running on iteration 1,4,0\n",
      "0.8454077375769675 0.7949237977668229 0.8304044715195339\n"
     ]
    },
    {
     "name": "stderr",
     "output_type": "stream",
     "text": [
      "\r",
      " 17%|█▋        | 51/300 [18:32<1:59:23, 28.77s/it]"
     ]
    },
    {
     "name": "stdout",
     "output_type": "stream",
     "text": [
      "running on iteration 1,4,1\n",
      "0.841269038778311 0.7891943408591106 0.8264518222129321\n"
     ]
    },
    {
     "name": "stderr",
     "output_type": "stream",
     "text": [
      "\r",
      " 17%|█▋        | 52/300 [19:04<2:03:03, 29.77s/it]"
     ]
    },
    {
     "name": "stdout",
     "output_type": "stream",
     "text": [
      "running on iteration 1,4,2\n",
      "0.8497408350497951 0.7876832613250715 0.8341234558561\n"
     ]
    },
    {
     "name": "stderr",
     "output_type": "stream",
     "text": [
      "\r",
      " 18%|█▊        | 53/300 [19:31<1:59:05, 28.93s/it]"
     ]
    },
    {
     "name": "stdout",
     "output_type": "stream",
     "text": [
      "running on iteration 1,4,3\n",
      "0.857781305630904 0.7908387745783775 0.8435009856336536\n"
     ]
    },
    {
     "name": "stderr",
     "output_type": "stream",
     "text": [
      "\r",
      " 18%|█▊        | 54/300 [20:01<1:59:57, 29.26s/it]"
     ]
    },
    {
     "name": "stdout",
     "output_type": "stream",
     "text": [
      "running on iteration 1,4,4\n",
      "0.8532395330039537 0.7872327667221622 0.842139119003512\n"
     ]
    },
    {
     "name": "stderr",
     "output_type": "stream",
     "text": [
      "\r",
      " 18%|█▊        | 55/300 [20:35<2:05:27, 30.72s/it]"
     ]
    },
    {
     "name": "stdout",
     "output_type": "stream",
     "text": [
      "running on iteration 1,5,1\n",
      "nan nan nan\n"
     ]
    },
    {
     "name": "stderr",
     "output_type": "stream",
     "text": [
      "\r",
      " 19%|█▊        | 56/300 [21:17<2:18:45, 34.12s/it]"
     ]
    },
    {
     "name": "stdout",
     "output_type": "stream",
     "text": [
      "running on iteration 1,5,0\n",
      "0.8434118960217407 0.7852258146103542 0.8405959048495273\n"
     ]
    },
    {
     "name": "stderr",
     "output_type": "stream",
     "text": [
      "\r",
      " 19%|█▉        | 57/300 [21:29<1:50:46, 27.35s/it]"
     ]
    },
    {
     "name": "stdout",
     "output_type": "stream",
     "text": [
      "running on iteration 1,5,3\n",
      "0.8611538932977266 0.7793175573548621 0.8421878479040755\n"
     ]
    },
    {
     "name": "stderr",
     "output_type": "stream",
     "text": [
      "\r",
      " 19%|█▉        | 58/300 [23:03<3:10:58, 47.35s/it]"
     ]
    },
    {
     "name": "stdout",
     "output_type": "stream",
     "text": [
      "running on iteration 1,5,2\n",
      "0.8492734473022057 0.7998589689253942 0.8499290552036887\n"
     ]
    },
    {
     "name": "stderr",
     "output_type": "stream",
     "text": [
      "\r",
      " 20%|█▉        | 59/300 [23:24<2:38:14, 39.40s/it]"
     ]
    },
    {
     "name": "stdout",
     "output_type": "stream",
     "text": [
      "running on iteration 1,5,4\n",
      "0.830703308917411 0.7690236444386368 0.8043965036491385\n"
     ]
    },
    {
     "name": "stderr",
     "output_type": "stream",
     "text": [
      "\r",
      " 20%|██        | 60/300 [24:13<2:49:27, 42.37s/it]"
     ]
    },
    {
     "name": "stdout",
     "output_type": "stream",
     "text": [
      "running on iteration 2,0,0\n",
      "0.8096432910855677 0.7247196943999774 0.8000993806826425\n"
     ]
    },
    {
     "name": "stderr",
     "output_type": "stream",
     "text": [
      "\r",
      " 20%|██        | 61/300 [24:22<2:09:08, 32.42s/it]"
     ]
    },
    {
     "name": "stdout",
     "output_type": "stream",
     "text": [
      "running on iteration 2,0,1\n",
      "nan nan nan\n"
     ]
    },
    {
     "name": "stderr",
     "output_type": "stream",
     "text": [
      "\r",
      " 21%|██        | 62/300 [24:39<1:50:10, 27.78s/it]"
     ]
    },
    {
     "name": "stdout",
     "output_type": "stream",
     "text": [
      "running on iteration 2,0,2\n",
      "0.8200719577224431 0.7459334338005927 0.8181029503284498\n"
     ]
    },
    {
     "name": "stderr",
     "output_type": "stream",
     "text": [
      "\r",
      " 21%|██        | 63/300 [25:03<1:44:45, 26.52s/it]"
     ]
    },
    {
     "name": "stdout",
     "output_type": "stream",
     "text": [
      "running on iteration 2,0,3\n",
      "0.8328949965186047 0.7481310673762154 0.8207234763590135\n"
     ]
    },
    {
     "name": "stderr",
     "output_type": "stream",
     "text": [
      "\r",
      " 21%|██▏       | 64/300 [25:16<1:28:25, 22.48s/it]"
     ]
    },
    {
     "name": "stdout",
     "output_type": "stream",
     "text": [
      "running on iteration 2,0,4\n",
      "0.8321792446247472 0.7430321657197495 0.8196657602510737\n"
     ]
    },
    {
     "name": "stderr",
     "output_type": "stream",
     "text": [
      "\r",
      " 22%|██▏       | 65/300 [25:47<1:38:22, 25.12s/it]"
     ]
    },
    {
     "name": "stdout",
     "output_type": "stream",
     "text": [
      "running on iteration 2,1,0\n",
      "0.7954154854327138 0.7183176602185266 0.7923541005748183\n"
     ]
    },
    {
     "name": "stderr",
     "output_type": "stream",
     "text": [
      "\r",
      " 22%|██▏       | 66/300 [25:59<1:22:50, 21.24s/it]"
     ]
    },
    {
     "name": "stdout",
     "output_type": "stream",
     "text": [
      "running on iteration 2,1,1\n",
      "nan nan nan\n"
     ]
    },
    {
     "name": "stderr",
     "output_type": "stream",
     "text": [
      "\r",
      " 22%|██▏       | 67/300 [26:15<1:16:27, 19.69s/it]"
     ]
    },
    {
     "name": "stdout",
     "output_type": "stream",
     "text": [
      "running on iteration 2,1,3\n",
      "nan nan nan\n"
     ]
    },
    {
     "name": "stderr",
     "output_type": "stream",
     "text": [
      "\r",
      " 23%|██▎       | 68/300 [26:44<1:27:11, 22.55s/it]"
     ]
    },
    {
     "name": "stdout",
     "output_type": "stream",
     "text": [
      "running on iteration 2,1,2\n",
      "0.8259426040459833 0.7507693836120751 0.8160444148641958\n"
     ]
    },
    {
     "name": "stderr",
     "output_type": "stream",
     "text": [
      "\r",
      " 23%|██▎       | 69/300 [26:48<1:04:30, 16.76s/it]"
     ]
    },
    {
     "name": "stdout",
     "output_type": "stream",
     "text": [
      "running on iteration 2,1,4\n",
      "nan nan nan\n"
     ]
    },
    {
     "name": "stderr",
     "output_type": "stream",
     "text": [
      "\r",
      " 23%|██▎       | 70/300 [27:12<1:12:35, 18.94s/it]"
     ]
    },
    {
     "name": "stdout",
     "output_type": "stream",
     "text": [
      "running on iteration 2,2,0\n",
      "0.8106090029388127 0.7285067950789662 0.8000446079909074\n"
     ]
    },
    {
     "name": "stderr",
     "output_type": "stream",
     "text": [
      "\r",
      " 24%|██▎       | 71/300 [27:36<1:18:44, 20.63s/it]"
     ]
    },
    {
     "name": "stdout",
     "output_type": "stream",
     "text": [
      "running on iteration 2,2,1\n",
      "nan nan nan\n"
     ]
    },
    {
     "name": "stderr",
     "output_type": "stream",
     "text": [
      "\r",
      " 24%|██▍       | 72/300 [27:37<55:56, 14.72s/it]  "
     ]
    },
    {
     "name": "stdout",
     "output_type": "stream",
     "text": [
      "running on iteration 2,2,3\n",
      "0.8302154882640815 0.7506926826724786 0.8169911588565143\n"
     ]
    },
    {
     "name": "stderr",
     "output_type": "stream",
     "text": [
      "\r",
      " 24%|██▍       | 73/300 [28:18<1:24:48, 22.42s/it]"
     ]
    },
    {
     "name": "stdout",
     "output_type": "stream",
     "text": [
      "running on iteration 2,2,2\n",
      "0.8348660172967542 0.7650414891303681 0.8252857139156011\n"
     ]
    },
    {
     "name": "stderr",
     "output_type": "stream",
     "text": [
      "\r",
      " 25%|██▍       | 74/300 [28:35<1:19:10, 21.02s/it]"
     ]
    },
    {
     "name": "stdout",
     "output_type": "stream",
     "text": [
      "running on iteration 2,2,4\n",
      "0.8216976668595736 0.7412471445734485 0.8137502304539648\n"
     ]
    },
    {
     "name": "stderr",
     "output_type": "stream",
     "text": [
      "\r",
      " 25%|██▌       | 75/300 [29:00<1:23:14, 22.20s/it]"
     ]
    },
    {
     "name": "stdout",
     "output_type": "stream",
     "text": [
      "running on iteration 2,3,0\n",
      "0.8301868376867 0.7751010545095177 0.8252502174647788\n"
     ]
    },
    {
     "name": "stderr",
     "output_type": "stream",
     "text": [
      "\r",
      " 25%|██▌       | 76/300 [29:45<1:48:02, 28.94s/it]"
     ]
    },
    {
     "name": "stdout",
     "output_type": "stream",
     "text": [
      "running on iteration 2,3,1\n",
      "0.8363812630440731 0.785142676851094 0.8293109498769418\n"
     ]
    },
    {
     "name": "stderr",
     "output_type": "stream",
     "text": [
      "\r",
      " 26%|██▌       | 77/300 [30:21<1:55:59, 31.21s/it]"
     ]
    },
    {
     "name": "stdout",
     "output_type": "stream",
     "text": [
      "running on iteration 2,3,2\n",
      "0.8263811611604635 0.76516105969357 0.8193489352135235\n"
     ]
    },
    {
     "name": "stderr",
     "output_type": "stream",
     "text": [
      "\r",
      " 26%|██▌       | 78/300 [30:43<1:44:24, 28.22s/it]"
     ]
    },
    {
     "name": "stdout",
     "output_type": "stream",
     "text": [
      "running on iteration 2,3,3\n",
      "0.8364965577885315 0.7788745872018495 0.83020177495884\n"
     ]
    },
    {
     "name": "stderr",
     "output_type": "stream",
     "text": [
      "\r",
      " 26%|██▋       | 79/300 [31:23<1:56:44, 31.69s/it]"
     ]
    },
    {
     "name": "stdout",
     "output_type": "stream",
     "text": [
      "running on iteration 2,3,4\n",
      "0.833314338819358 0.772296843281272 0.8233173997160173\n"
     ]
    },
    {
     "name": "stderr",
     "output_type": "stream",
     "text": [
      "\r",
      " 27%|██▋       | 80/300 [31:39<1:39:41, 27.19s/it]"
     ]
    },
    {
     "name": "stdout",
     "output_type": "stream",
     "text": [
      "running on iteration 2,4,1\n",
      "nan nan nan\n"
     ]
    },
    {
     "name": "stderr",
     "output_type": "stream",
     "text": [
      "\r",
      " 27%|██▋       | 81/300 [32:07<1:40:13, 27.46s/it]"
     ]
    },
    {
     "name": "stdout",
     "output_type": "stream",
     "text": [
      "running on iteration 2,4,0\n",
      "0.8303792414617361 0.7699880817192665 0.823415552345476\n"
     ]
    },
    {
     "name": "stderr",
     "output_type": "stream",
     "text": [
      "\r",
      " 27%|██▋       | 82/300 [32:32<1:36:23, 26.53s/it]"
     ]
    },
    {
     "name": "stdout",
     "output_type": "stream",
     "text": [
      "running on iteration 2,4,2\n",
      "0.8450914478093804 0.7727624415283795 0.8240240590559643\n"
     ]
    },
    {
     "name": "stderr",
     "output_type": "stream",
     "text": [
      "\r",
      " 28%|██▊       | 83/300 [33:08<1:46:55, 29.56s/it]"
     ]
    },
    {
     "name": "stdout",
     "output_type": "stream",
     "text": [
      "running on iteration 2,4,3\n",
      "0.8389445111922171 0.7810290983821705 0.8288094569971033\n"
     ]
    },
    {
     "name": "stderr",
     "output_type": "stream",
     "text": [
      "\r",
      " 28%|██▊       | 84/300 [33:11<1:17:40, 21.57s/it]"
     ]
    },
    {
     "name": "stdout",
     "output_type": "stream",
     "text": [
      "running on iteration 2,4,4\n",
      "nan nan nan\n"
     ]
    },
    {
     "name": "stderr",
     "output_type": "stream",
     "text": [
      "\r",
      " 28%|██▊       | 85/300 [33:38<1:23:14, 23.23s/it]"
     ]
    },
    {
     "name": "stdout",
     "output_type": "stream",
     "text": [
      "running on iteration 2,5,1\n",
      "nan nan nan\n"
     ]
    },
    {
     "name": "stderr",
     "output_type": "stream",
     "text": [
      "\r",
      " 29%|██▊       | 86/300 [34:19<1:41:32, 28.47s/it]"
     ]
    },
    {
     "name": "stdout",
     "output_type": "stream",
     "text": [
      "running on iteration 2,5,0\n",
      "0.844898005989605 0.7972807594805865 0.8325954891091607\n"
     ]
    },
    {
     "name": "stderr",
     "output_type": "stream",
     "text": [
      "\r",
      " 29%|██▉       | 87/300 [35:10<2:05:21, 35.31s/it]"
     ]
    },
    {
     "name": "stdout",
     "output_type": "stream",
     "text": [
      "running on iteration 2,5,2\n",
      "0.8543371935459031 0.7812446794084488 0.8260968669016753\n"
     ]
    },
    {
     "name": "stderr",
     "output_type": "stream",
     "text": [
      "\r",
      " 29%|██▉       | 88/300 [36:15<2:35:47, 44.09s/it]"
     ]
    },
    {
     "name": "stdout",
     "output_type": "stream",
     "text": [
      "running on iteration 2,5,3\n",
      "0.8435837174643795 0.7842571463386633 0.8358384157578037\n"
     ]
    },
    {
     "name": "stderr",
     "output_type": "stream",
     "text": [
      "\r",
      " 30%|██▉       | 89/300 [36:50<2:25:08, 41.27s/it]"
     ]
    },
    {
     "name": "stdout",
     "output_type": "stream",
     "text": [
      "running on iteration 2,5,4\n",
      "0.8455954991665435 0.796259352983981 0.859202089229786\n"
     ]
    },
    {
     "name": "stderr",
     "output_type": "stream",
     "text": [
      "\r",
      " 30%|███       | 90/300 [37:37<2:30:37, 43.04s/it]"
     ]
    },
    {
     "name": "stdout",
     "output_type": "stream",
     "text": [
      "running on iteration 3,0,0\n",
      "0.8484174959141135 0.7605636034869665 0.8147224660915593\n"
     ]
    },
    {
     "name": "stderr",
     "output_type": "stream",
     "text": [
      "\r",
      " 30%|███       | 91/300 [37:40<1:48:34, 31.17s/it]"
     ]
    },
    {
     "name": "stdout",
     "output_type": "stream",
     "text": [
      "running on iteration 3,0,1\n",
      "nan nan nan\n"
     ]
    },
    {
     "name": "stderr",
     "output_type": "stream",
     "text": [
      "\r",
      " 31%|███       | 92/300 [38:06<1:42:20, 29.52s/it]"
     ]
    },
    {
     "name": "stdout",
     "output_type": "stream",
     "text": [
      "running on iteration 3,0,2\n",
      "0.8220648116297306 0.7503612463093189 0.8359269526930677\n"
     ]
    },
    {
     "name": "stderr",
     "output_type": "stream",
     "text": [
      "\r",
      " 31%|███       | 93/300 [38:24<1:30:28, 26.22s/it]"
     ]
    },
    {
     "name": "stdout",
     "output_type": "stream",
     "text": [
      "running on iteration 3,0,4\n",
      "nan nan nan\n"
     ]
    },
    {
     "name": "stderr",
     "output_type": "stream",
     "text": [
      "\r",
      " 31%|███▏      | 94/300 [38:50<1:29:37, 26.10s/it]"
     ]
    },
    {
     "name": "stdout",
     "output_type": "stream",
     "text": [
      "running on iteration 3,0,3\n",
      "0.8584757564351445 0.7789528179311088 0.8272775420051368\n"
     ]
    },
    {
     "name": "stderr",
     "output_type": "stream",
     "text": [
      "\r",
      " 32%|███▏      | 95/300 [38:52<1:03:52, 18.70s/it]"
     ]
    },
    {
     "name": "stdout",
     "output_type": "stream",
     "text": [
      "running on iteration 3,1,0\n",
      "0.8328668421435641 0.7712132916918882 0.8185058114015578\n"
     ]
    },
    {
     "name": "stderr",
     "output_type": "stream",
     "text": [
      "\r",
      " 32%|███▏      | 96/300 [39:45<1:38:44, 29.04s/it]"
     ]
    },
    {
     "name": "stdout",
     "output_type": "stream",
     "text": [
      "running on iteration 3,1,1\n",
      "0.8416562611226982 0.7820669837155043 0.8312602594096704\n"
     ]
    },
    {
     "name": "stderr",
     "output_type": "stream",
     "text": [
      "\r",
      " 32%|███▏      | 97/300 [40:00<1:24:09, 24.87s/it]"
     ]
    },
    {
     "name": "stdout",
     "output_type": "stream",
     "text": [
      "running on iteration 3,1,2\n",
      "0.8499137164065599 0.7856078471300167 0.8272836383712481\n"
     ]
    },
    {
     "name": "stderr",
     "output_type": "stream",
     "text": [
      "\r",
      " 33%|███▎      | 98/300 [40:50<1:48:54, 32.35s/it]"
     ]
    },
    {
     "name": "stdout",
     "output_type": "stream",
     "text": [
      "running on iteration 3,1,3\n",
      "0.8652101005808884 0.7975873585362203 0.8413812413395967\n"
     ]
    },
    {
     "name": "stderr",
     "output_type": "stream",
     "text": [
      "\r",
      " 33%|███▎      | 99/300 [41:07<1:33:41, 27.97s/it]"
     ]
    },
    {
     "name": "stdout",
     "output_type": "stream",
     "text": [
      "running on iteration 3,2,0\n",
      "0.8210278538818765 0.7536801770001849 0.8152058742434924\n"
     ]
    },
    {
     "name": "stderr",
     "output_type": "stream",
     "text": [
      "\r",
      " 33%|███▎      | 100/300 [41:53<1:50:38, 33.19s/it]"
     ]
    },
    {
     "name": "stdout",
     "output_type": "stream",
     "text": [
      "running on iteration 3,1,4\n",
      "0.8627400287130735 0.7981972690271562 0.8434533667917029\n"
     ]
    },
    {
     "name": "stderr",
     "output_type": "stream",
     "text": [
      "\r",
      " 34%|███▎      | 101/300 [42:00<1:24:22, 25.44s/it]"
     ]
    },
    {
     "name": "stdout",
     "output_type": "stream",
     "text": [
      "running on iteration 3,2,1\n",
      "0.8246691528402171 0.7601116071211567 0.8184168982969774\n"
     ]
    },
    {
     "name": "stderr",
     "output_type": "stream",
     "text": [
      "\r",
      " 34%|███▍      | 102/300 [42:38<1:36:15, 29.17s/it]"
     ]
    },
    {
     "name": "stdout",
     "output_type": "stream",
     "text": [
      "running on iteration 3,2,2\n",
      "0.8417833230970859 0.7697564531833272 0.8303918526214602\n"
     ]
    },
    {
     "name": "stderr",
     "output_type": "stream",
     "text": [
      "\r",
      " 34%|███▍      | 103/300 [42:52<1:20:55, 24.65s/it]"
     ]
    },
    {
     "name": "stdout",
     "output_type": "stream",
     "text": [
      "running on iteration 3,2,3\n",
      "0.856698081871164 0.7870109351326359 0.8305927245410846\n"
     ]
    },
    {
     "name": "stderr",
     "output_type": "stream",
     "text": [
      "\r",
      " 35%|███▍      | 104/300 [43:22<1:25:11, 26.08s/it]"
     ]
    },
    {
     "name": "stdout",
     "output_type": "stream",
     "text": [
      "running on iteration 3,2,4\n",
      "0.8522606792657109 0.7871995723721669 0.8370409555296917\n"
     ]
    },
    {
     "name": "stderr",
     "output_type": "stream",
     "text": [
      "\r",
      " 35%|███▌      | 105/300 [43:33<1:10:09, 21.58s/it]"
     ]
    },
    {
     "name": "stdout",
     "output_type": "stream",
     "text": [
      "running on iteration 3,3,0\n",
      "nan nan nan\n"
     ]
    },
    {
     "name": "stderr",
     "output_type": "stream",
     "text": [
      "\r",
      " 35%|███▌      | 106/300 [43:58<1:13:28, 22.72s/it]"
     ]
    },
    {
     "name": "stdout",
     "output_type": "stream",
     "text": [
      "running on iteration 3,3,1\n",
      "nan nan nan\n"
     ]
    },
    {
     "name": "stderr",
     "output_type": "stream",
     "text": [
      "\r",
      " 36%|███▌      | 107/300 [44:08<1:00:28, 18.80s/it]"
     ]
    },
    {
     "name": "stdout",
     "output_type": "stream",
     "text": [
      "running on iteration 3,3,3\n",
      "0.8526805442697164 0.7971448333370003 0.8408168439782471\n"
     ]
    },
    {
     "name": "stderr",
     "output_type": "stream",
     "text": [
      "\r",
      " 36%|███▌      | 108/300 [45:10<1:42:15, 31.96s/it]"
     ]
    },
    {
     "name": "stdout",
     "output_type": "stream",
     "text": [
      "running on iteration 3,3,2\n",
      "0.8501394067684706 0.7972363661161446 0.8386825597241041\n"
     ]
    },
    {
     "name": "stderr",
     "output_type": "stream",
     "text": [
      "\r",
      " 36%|███▋      | 109/300 [45:29<1:28:44, 27.88s/it]"
     ]
    },
    {
     "name": "stdout",
     "output_type": "stream",
     "text": [
      "running on iteration 3,3,4\n",
      "nan nan nan\n"
     ]
    },
    {
     "name": "stderr",
     "output_type": "stream",
     "text": [
      "\r",
      " 37%|███▋      | 110/300 [45:48<1:19:39, 25.16s/it]"
     ]
    },
    {
     "name": "stdout",
     "output_type": "stream",
     "text": [
      "running on iteration 3,4,1\n",
      "nan nan nan\n"
     ]
    },
    {
     "name": "stderr",
     "output_type": "stream",
     "text": [
      "\r",
      " 37%|███▋      | 111/300 [46:21<1:26:39, 27.51s/it]"
     ]
    },
    {
     "name": "stdout",
     "output_type": "stream",
     "text": [
      "running on iteration 3,4,0\n",
      "0.8475141233886343 0.7974413798022197 0.83790652811593\n"
     ]
    },
    {
     "name": "stderr",
     "output_type": "stream",
     "text": [
      "\r",
      " 37%|███▋      | 112/300 [46:45<1:23:43, 26.72s/it]"
     ]
    },
    {
     "name": "stdout",
     "output_type": "stream",
     "text": [
      "running on iteration 3,4,2\n",
      "0.8501391016737774 0.7817012707210053 0.8284469386728077\n"
     ]
    },
    {
     "name": "stderr",
     "output_type": "stream",
     "text": [
      "\r",
      " 38%|███▊      | 113/300 [47:20<1:30:47, 29.13s/it]"
     ]
    },
    {
     "name": "stdout",
     "output_type": "stream",
     "text": [
      "running on iteration 3,4,3\n",
      "0.8524258645971299 0.7867451713116321 0.8362257993055534\n"
     ]
    },
    {
     "name": "stderr",
     "output_type": "stream",
     "text": [
      "\r",
      " 38%|███▊      | 114/300 [47:40<1:21:58, 26.44s/it]"
     ]
    },
    {
     "name": "stdout",
     "output_type": "stream",
     "text": [
      "running on iteration 3,4,4\n",
      "nan nan nan\n"
     ]
    },
    {
     "name": "stderr",
     "output_type": "stream",
     "text": [
      "\r",
      " 38%|███▊      | 115/300 [47:54<1:09:45, 22.62s/it]"
     ]
    },
    {
     "name": "stdout",
     "output_type": "stream",
     "text": [
      "running on iteration 3,5,1\n",
      "nan nan nan\n"
     ]
    },
    {
     "name": "stderr",
     "output_type": "stream",
     "text": [
      "\r",
      " 39%|███▊      | 116/300 [48:43<1:33:13, 30.40s/it]"
     ]
    },
    {
     "name": "stdout",
     "output_type": "stream",
     "text": [
      "running on iteration 3,5,0\n",
      "0.8386601755931405 0.7870410592845771 0.8323261088682455\n"
     ]
    },
    {
     "name": "stderr",
     "output_type": "stream",
     "text": [
      "\r",
      " 39%|███▉      | 117/300 [49:26<1:44:49, 34.37s/it]"
     ]
    },
    {
     "name": "stdout",
     "output_type": "stream",
     "text": [
      "running on iteration 3,5,2\n",
      "nan nan nan\n"
     ]
    },
    {
     "name": "stderr",
     "output_type": "stream",
     "text": [
      "\r",
      " 39%|███▉      | 118/300 [49:31<1:17:03, 25.41s/it]"
     ]
    },
    {
     "name": "stdout",
     "output_type": "stream",
     "text": [
      "running on iteration 3,5,4\n",
      "nan nan nan\n"
     ]
    },
    {
     "name": "stderr",
     "output_type": "stream",
     "text": [
      "\r",
      " 40%|███▉      | 119/300 [50:18<1:36:29, 31.99s/it]"
     ]
    },
    {
     "name": "stdout",
     "output_type": "stream",
     "text": [
      "running on iteration 3,5,3\n",
      "0.8506703840496426 0.7857458640714813 0.8460465969135526\n"
     ]
    },
    {
     "name": "stderr",
     "output_type": "stream",
     "text": [
      "\r",
      " 40%|████      | 120/300 [51:07<1:50:51, 36.95s/it]"
     ]
    },
    {
     "name": "stdout",
     "output_type": "stream",
     "text": [
      "running on iteration 4,0,0\n",
      "0.8037169931144703 0.7295079658539737 0.8084997201342501\n"
     ]
    },
    {
     "name": "stderr",
     "output_type": "stream",
     "text": [
      "\r",
      " 40%|████      | 121/300 [51:17<1:26:06, 28.86s/it]"
     ]
    },
    {
     "name": "stdout",
     "output_type": "stream",
     "text": [
      "running on iteration 4,0,2\n",
      "0.8364336587708292 0.7541039611803352 0.8217932738669516\n"
     ]
    },
    {
     "name": "stderr",
     "output_type": "stream",
     "text": [
      "\r",
      " 41%|████      | 122/300 [52:01<1:39:24, 33.51s/it]"
     ]
    },
    {
     "name": "stdout",
     "output_type": "stream",
     "text": [
      "running on iteration 4,0,1\n",
      "0.8248411981473439 0.754118859637808 0.8175693763288902\n"
     ]
    },
    {
     "name": "stderr",
     "output_type": "stream",
     "text": [
      "\r",
      " 41%|████      | 123/300 [52:05<1:13:05, 24.78s/it]"
     ]
    },
    {
     "name": "stdout",
     "output_type": "stream",
     "text": [
      "running on iteration 4,0,3\n",
      "0.8566546488320844 0.7682035814099383 0.8342126345161005\n"
     ]
    },
    {
     "name": "stderr",
     "output_type": "stream",
     "text": [
      "\r",
      " 41%|████▏     | 124/300 [52:44<1:24:48, 28.91s/it]"
     ]
    },
    {
     "name": "stdout",
     "output_type": "stream",
     "text": [
      "running on iteration 4,0,4\n",
      "0.842165787395758 0.7592136542481993 0.8381633985615011\n"
     ]
    },
    {
     "name": "stderr",
     "output_type": "stream",
     "text": [
      "\r",
      " 42%|████▏     | 125/300 [52:44<59:20, 20.34s/it]  "
     ]
    },
    {
     "name": "stdout",
     "output_type": "stream",
     "text": [
      "running on iteration 4,1,0\n",
      "0.8211088053423142 0.7529410712339242 0.8158725083008462\n"
     ]
    },
    {
     "name": "stderr",
     "output_type": "stream",
     "text": [
      "\r",
      " 42%|████▏     | 126/300 [53:37<1:26:55, 29.97s/it]"
     ]
    },
    {
     "name": "stdout",
     "output_type": "stream",
     "text": [
      "running on iteration 4,1,1\n",
      "0.866690243584435 0.78421844528588 0.8279794513231387\n"
     ]
    },
    {
     "name": "stderr",
     "output_type": "stream",
     "text": [
      "\r",
      " 42%|████▏     | 127/300 [53:49<1:10:44, 24.54s/it]"
     ]
    },
    {
     "name": "stdout",
     "output_type": "stream",
     "text": [
      "running on iteration 4,1,2\n",
      "0.8635136381307119 0.7841109699788399 0.8332129153389354\n"
     ]
    },
    {
     "name": "stderr",
     "output_type": "stream",
     "text": [
      "\r",
      " 43%|████▎     | 128/300 [54:26<1:21:50, 28.55s/it]"
     ]
    },
    {
     "name": "stdout",
     "output_type": "stream",
     "text": [
      "running on iteration 4,1,3\n",
      "0.8677887695056776 0.7869254893243497 0.8243313016692694\n"
     ]
    },
    {
     "name": "stderr",
     "output_type": "stream",
     "text": [
      "\r",
      " 43%|████▎     | 129/300 [54:33<1:02:32, 21.94s/it]"
     ]
    },
    {
     "name": "stdout",
     "output_type": "stream",
     "text": [
      "running on iteration 4,2,0\n",
      "0.8295234631434458 0.7619762813203912 0.8217498587117656\n"
     ]
    },
    {
     "name": "stderr",
     "output_type": "stream",
     "text": [
      "\r",
      " 43%|████▎     | 130/300 [55:17<1:20:38, 28.46s/it]"
     ]
    },
    {
     "name": "stdout",
     "output_type": "stream",
     "text": [
      "running on iteration 4,1,4\n",
      "0.875380448669265 0.7871047567773516 0.8226032432268107\n"
     ]
    },
    {
     "name": "stderr",
     "output_type": "stream",
     "text": [
      "\r",
      " 44%|████▎     | 131/300 [55:38<1:14:01, 26.28s/it]"
     ]
    },
    {
     "name": "stdout",
     "output_type": "stream",
     "text": [
      "running on iteration 4,2,1\n",
      "0.8306219369676955 0.762324535245918 0.8214418349815964\n"
     ]
    },
    {
     "name": "stderr",
     "output_type": "stream",
     "text": [
      "\r",
      " 44%|████▍     | 132/300 [56:11<1:19:33, 28.41s/it]"
     ]
    },
    {
     "name": "stdout",
     "output_type": "stream",
     "text": [
      "running on iteration 4,2,2\n",
      "0.8667099177575958 0.7960146346154886 0.8353187370053075\n"
     ]
    },
    {
     "name": "stderr",
     "output_type": "stream",
     "text": [
      "\r",
      " 44%|████▍     | 133/300 [56:43<1:21:58, 29.45s/it]"
     ]
    },
    {
     "name": "stdout",
     "output_type": "stream",
     "text": [
      "running on iteration 4,2,3\n",
      "0.8658783773047074 0.7955483076380315 0.841156170066904\n"
     ]
    },
    {
     "name": "stderr",
     "output_type": "stream",
     "text": [
      "\r",
      " 45%|████▍     | 134/300 [57:13<1:21:37, 29.50s/it]"
     ]
    },
    {
     "name": "stdout",
     "output_type": "stream",
     "text": [
      "running on iteration 4,2,4\n",
      "0.8687112966876215 0.8015582616467629 0.8421995016662127\n"
     ]
    },
    {
     "name": "stderr",
     "output_type": "stream",
     "text": [
      "\r",
      " 45%|████▌     | 135/300 [57:45<1:23:02, 30.20s/it]"
     ]
    },
    {
     "name": "stdout",
     "output_type": "stream",
     "text": [
      "running on iteration 4,3,0\n",
      "0.862068444427209 0.7916885486612381 0.826735449090062\n"
     ]
    },
    {
     "name": "stderr",
     "output_type": "stream",
     "text": [
      "\r",
      " 45%|████▌     | 136/300 [58:28<1:33:43, 34.29s/it]"
     ]
    },
    {
     "name": "stdout",
     "output_type": "stream",
     "text": [
      "running on iteration 4,3,1\n",
      "0.8315333960627201 0.7683906271243758 0.8146564890407897\n"
     ]
    },
    {
     "name": "stderr",
     "output_type": "stream",
     "text": [
      "\r",
      " 46%|████▌     | 137/300 [58:38<1:12:39, 26.74s/it]"
     ]
    },
    {
     "name": "stdout",
     "output_type": "stream",
     "text": [
      "running on iteration 4,3,2\n",
      "0.8424721250174855 0.7826307887964515 0.8185862597030994\n"
     ]
    },
    {
     "name": "stderr",
     "output_type": "stream",
     "text": [
      "\r",
      " 46%|████▌     | 138/300 [59:24<1:27:56, 32.57s/it]"
     ]
    },
    {
     "name": "stdout",
     "output_type": "stream",
     "text": [
      "running on iteration 4,3,3\n",
      "0.8574905902923114 0.7976373963001062 0.8419526965188155\n"
     ]
    },
    {
     "name": "stderr",
     "output_type": "stream",
     "text": [
      "\r",
      " 46%|████▋     | 139/300 [59:50<1:22:13, 30.64s/it]"
     ]
    },
    {
     "name": "stdout",
     "output_type": "stream",
     "text": [
      "running on iteration 4,3,4\n",
      "0.8547067998846495 0.7889793936534846 0.8477598893335163\n"
     ]
    },
    {
     "name": "stderr",
     "output_type": "stream",
     "text": [
      "\r",
      " 47%|████▋     | 140/300 [1:00:21<1:22:07, 30.80s/it]"
     ]
    },
    {
     "name": "stdout",
     "output_type": "stream",
     "text": [
      "running on iteration 4,4,0\n",
      "0.8437389691377689 0.7744862752782151 0.8169915669965951\n"
     ]
    },
    {
     "name": "stderr",
     "output_type": "stream",
     "text": [
      "\r",
      " 47%|████▋     | 141/300 [1:00:31<1:05:17, 24.64s/it]"
     ]
    },
    {
     "name": "stdout",
     "output_type": "stream",
     "text": [
      "running on iteration 4,4,1\n",
      "0.8339802620503124 0.7749458073347906 0.8319990071781149\n"
     ]
    },
    {
     "name": "stderr",
     "output_type": "stream",
     "text": [
      "\r",
      " 47%|████▋     | 142/300 [1:01:08<1:14:25, 28.26s/it]"
     ]
    },
    {
     "name": "stdout",
     "output_type": "stream",
     "text": [
      "running on iteration 4,4,2\n",
      "0.8522249154955683 0.7928481774530504 0.8345135496170004\n"
     ]
    },
    {
     "name": "stderr",
     "output_type": "stream",
     "text": [
      "\r",
      " 48%|████▊     | 143/300 [1:01:43<1:19:14, 30.29s/it]"
     ]
    },
    {
     "name": "stdout",
     "output_type": "stream",
     "text": [
      "running on iteration 4,4,3\n",
      "0.864655231803547 0.7827457725098782 0.817141755602697\n"
     ]
    },
    {
     "name": "stderr",
     "output_type": "stream",
     "text": [
      "\r",
      " 48%|████▊     | 144/300 [1:02:03<1:10:48, 27.23s/it]"
     ]
    },
    {
     "name": "stdout",
     "output_type": "stream",
     "text": [
      "running on iteration 4,4,4\n",
      "0.8471348036544101 0.769325026944115 0.824360626379352\n"
     ]
    },
    {
     "name": "stderr",
     "output_type": "stream",
     "text": [
      "\r",
      " 48%|████▊     | 145/300 [1:02:38<1:16:15, 29.52s/it]"
     ]
    },
    {
     "name": "stdout",
     "output_type": "stream",
     "text": [
      "running on iteration 4,5,0\n",
      "0.8351959644167265 0.7701521410736656 0.8375243031585073\n"
     ]
    },
    {
     "name": "stderr",
     "output_type": "stream",
     "text": [
      "\r",
      " 49%|████▊     | 146/300 [1:03:14<1:20:47, 31.48s/it]"
     ]
    },
    {
     "name": "stdout",
     "output_type": "stream",
     "text": [
      "running on iteration 4,5,1\n",
      "0.8601094029937391 0.7847742265030193 0.8415331893637402\n"
     ]
    },
    {
     "name": "stderr",
     "output_type": "stream",
     "text": [
      "\r",
      " 49%|████▉     | 147/300 [1:04:09<1:37:52, 38.38s/it]"
     ]
    },
    {
     "name": "stdout",
     "output_type": "stream",
     "text": [
      "running on iteration 4,5,2\n",
      "0.8459937027648313 0.7813499432261883 0.8491271305294585\n"
     ]
    },
    {
     "name": "stderr",
     "output_type": "stream",
     "text": [
      "\r",
      " 49%|████▉     | 148/300 [1:04:36<1:28:45, 35.04s/it]"
     ]
    },
    {
     "name": "stdout",
     "output_type": "stream",
     "text": [
      "running on iteration 4,5,3\n",
      "0.8447916583602555 0.7836434852390649 0.8344364352067329\n"
     ]
    },
    {
     "name": "stderr",
     "output_type": "stream",
     "text": [
      "\r",
      " 50%|████▉     | 149/300 [1:05:09<1:27:02, 34.58s/it]"
     ]
    },
    {
     "name": "stdout",
     "output_type": "stream",
     "text": [
      "running on iteration 4,5,4\n",
      "nan nan nan\n"
     ]
    },
    {
     "name": "stderr",
     "output_type": "stream",
     "text": [
      "\r",
      " 50%|█████     | 150/300 [1:05:21<1:09:01, 27.61s/it]"
     ]
    },
    {
     "name": "stdout",
     "output_type": "stream",
     "text": [
      "running on iteration 5,0,0\n",
      "0.8501781699794932 0.7639764842389434 0.821868806025648\n"
     ]
    },
    {
     "name": "stderr",
     "output_type": "stream",
     "text": [
      "\r",
      " 50%|█████     | 151/300 [1:05:59<1:16:22, 30.75s/it]"
     ]
    },
    {
     "name": "stdout",
     "output_type": "stream",
     "text": [
      "running on iteration 5,0,1\n",
      "0.8588685086396315 0.7774403284958753 0.836368304311908\n"
     ]
    },
    {
     "name": "stderr",
     "output_type": "stream",
     "text": [
      "\r",
      " 51%|█████     | 152/300 [1:06:16<1:05:57, 26.74s/it]"
     ]
    },
    {
     "name": "stdout",
     "output_type": "stream",
     "text": [
      "running on iteration 5,0,2\n",
      "0.8633763237818513 0.8022649725485321 0.8580296566383872\n"
     ]
    },
    {
     "name": "stderr",
     "output_type": "stream",
     "text": [
      "\r",
      " 51%|█████     | 153/300 [1:06:48<1:09:06, 28.21s/it]"
     ]
    },
    {
     "name": "stdout",
     "output_type": "stream",
     "text": [
      "running on iteration 5,0,3\n",
      "0.8552518311925326 0.7579183165536775 0.8078701462162265\n"
     ]
    },
    {
     "name": "stderr",
     "output_type": "stream",
     "text": [
      "\r",
      " 51%|█████▏    | 154/300 [1:07:04<1:00:01, 24.66s/it]"
     ]
    },
    {
     "name": "stdout",
     "output_type": "stream",
     "text": [
      "running on iteration 5,0,4\n",
      "0.8682371725098144 0.7853553161467679 0.8342017654069468\n"
     ]
    },
    {
     "name": "stderr",
     "output_type": "stream",
     "text": [
      "\r",
      " 52%|█████▏    | 155/300 [1:07:48<1:13:19, 30.34s/it]"
     ]
    },
    {
     "name": "stdout",
     "output_type": "stream",
     "text": [
      "running on iteration 5,1,0\n",
      "0.8669443287504417 0.7943655481749988 0.8443412593970647\n"
     ]
    },
    {
     "name": "stderr",
     "output_type": "stream",
     "text": [
      "\r",
      " 52%|█████▏    | 156/300 [1:08:21<1:14:48, 31.17s/it]"
     ]
    },
    {
     "name": "stdout",
     "output_type": "stream",
     "text": [
      "running on iteration 5,1,1\n",
      "0.866541456020053 0.7832694587931784 0.8202640995518251\n"
     ]
    },
    {
     "name": "stderr",
     "output_type": "stream",
     "text": [
      "\r",
      " 52%|█████▏    | 157/300 [1:09:00<1:20:05, 33.60s/it]"
     ]
    },
    {
     "name": "stdout",
     "output_type": "stream",
     "text": [
      "running on iteration 5,1,2\n",
      "0.8666980361806237 0.7826590908457796 0.8356951500689022\n"
     ]
    },
    {
     "name": "stderr",
     "output_type": "stream",
     "text": [
      "\r",
      " 53%|█████▎    | 158/300 [1:09:06<59:31, 25.15s/it]  "
     ]
    },
    {
     "name": "stdout",
     "output_type": "stream",
     "text": [
      "running on iteration 5,1,4\n",
      "0.8680907951675234 0.7872643331210071 0.8296915617080918\n"
     ]
    },
    {
     "name": "stderr",
     "output_type": "stream",
     "text": [
      "\r",
      " 53%|█████▎    | 159/300 [1:09:52<1:14:23, 31.66s/it]"
     ]
    },
    {
     "name": "stdout",
     "output_type": "stream",
     "text": [
      "running on iteration 5,1,3\n",
      "0.8714901460199659 0.8028239416417371 0.8441882354362488\n"
     ]
    },
    {
     "name": "stderr",
     "output_type": "stream",
     "text": [
      "\r",
      " 53%|█████▎    | 160/300 [1:09:59<56:21, 24.15s/it]  "
     ]
    },
    {
     "name": "stdout",
     "output_type": "stream",
     "text": [
      "running on iteration 5,2,0\n",
      "0.8591516586262425 0.7790154470167888 0.8266097269221673\n"
     ]
    },
    {
     "name": "stderr",
     "output_type": "stream",
     "text": [
      "\r",
      " 54%|█████▎    | 161/300 [1:10:42<1:09:04, 29.82s/it]"
     ]
    },
    {
     "name": "stdout",
     "output_type": "stream",
     "text": [
      "running on iteration 5,2,1\n",
      "0.8772304305634805 0.7915837838666141 0.8375820464651135\n"
     ]
    },
    {
     "name": "stderr",
     "output_type": "stream",
     "text": [
      "\r",
      " 54%|█████▍    | 162/300 [1:11:10<1:07:21, 29.29s/it]"
     ]
    },
    {
     "name": "stdout",
     "output_type": "stream",
     "text": [
      "running on iteration 5,2,2\n",
      "0.8672584647927486 0.7922804651280614 0.8427162912696895\n"
     ]
    },
    {
     "name": "stderr",
     "output_type": "stream",
     "text": [
      "\r",
      " 54%|█████▍    | 163/300 [1:11:42<1:08:23, 29.95s/it]"
     ]
    },
    {
     "name": "stdout",
     "output_type": "stream",
     "text": [
      "running on iteration 5,2,3\n",
      "0.8679806569044314 0.7774983338915743 0.8458720523805912\n"
     ]
    },
    {
     "name": "stderr",
     "output_type": "stream",
     "text": [
      "\r",
      " 55%|█████▍    | 164/300 [1:12:03<1:01:58, 27.34s/it]"
     ]
    },
    {
     "name": "stdout",
     "output_type": "stream",
     "text": [
      "running on iteration 5,2,4\n",
      "0.866790524642071 0.7888512376241624 0.8364489705700012\n"
     ]
    },
    {
     "name": "stderr",
     "output_type": "stream",
     "text": [
      "\r",
      " 55%|█████▌    | 165/300 [1:12:39<1:07:14, 29.88s/it]"
     ]
    },
    {
     "name": "stdout",
     "output_type": "stream",
     "text": [
      "running on iteration 5,3,0\n",
      "0.867987239838391 0.7945445035020349 0.8350947635711934\n"
     ]
    },
    {
     "name": "stderr",
     "output_type": "stream",
     "text": [
      "\r",
      " 55%|█████▌    | 166/300 [1:13:21<1:15:18, 33.72s/it]"
     ]
    },
    {
     "name": "stdout",
     "output_type": "stream",
     "text": [
      "running on iteration 5,3,1\n",
      "0.8622715885265843 0.7990665793369784 0.8266348065709529\n"
     ]
    },
    {
     "name": "stderr",
     "output_type": "stream",
     "text": [
      "\r",
      " 56%|█████▌    | 167/300 [1:13:48<1:10:20, 31.73s/it]"
     ]
    },
    {
     "name": "stdout",
     "output_type": "stream",
     "text": [
      "running on iteration 5,3,3\n",
      "0.8421493949386961 0.7610655040664275 0.8236146512367905\n"
     ]
    },
    {
     "name": "stderr",
     "output_type": "stream",
     "text": [
      "\r",
      " 56%|█████▌    | 168/300 [1:14:53<1:31:46, 41.71s/it]"
     ]
    },
    {
     "name": "stdout",
     "output_type": "stream",
     "text": [
      "running on iteration 5,3,2\n",
      "0.8705959853287784 0.788790483839423 0.8284304429942333\n"
     ]
    },
    {
     "name": "stderr",
     "output_type": "stream",
     "text": [
      "\r",
      " 56%|█████▋    | 169/300 [1:14:57<1:05:59, 30.23s/it]"
     ]
    },
    {
     "name": "stdout",
     "output_type": "stream",
     "text": [
      "running on iteration 5,4,0\n",
      "0.8669989403701879 0.8004937184835599 0.8296908276434293\n"
     ]
    },
    {
     "name": "stderr",
     "output_type": "stream",
     "text": [
      "\r",
      " 57%|█████▋    | 170/300 [1:15:59<1:26:31, 39.93s/it]"
     ]
    },
    {
     "name": "stdout",
     "output_type": "stream",
     "text": [
      "running on iteration 5,3,4\n",
      "0.8698681859319037 0.7931558974944808 0.8484622600831966\n"
     ]
    },
    {
     "name": "stderr",
     "output_type": "stream",
     "text": [
      "\r",
      " 57%|█████▋    | 171/300 [1:16:16<1:10:54, 32.98s/it]"
     ]
    },
    {
     "name": "stdout",
     "output_type": "stream",
     "text": [
      "running on iteration 5,4,1\n",
      "0.8627622299046015 0.7973186359312342 0.8467968080708187\n"
     ]
    },
    {
     "name": "stderr",
     "output_type": "stream",
     "text": [
      "\r",
      " 57%|█████▋    | 172/300 [1:17:15<1:26:48, 40.69s/it]"
     ]
    },
    {
     "name": "stdout",
     "output_type": "stream",
     "text": [
      "running on iteration 5,4,2\n",
      "0.8572178694812131 0.7815155434113498 0.818661846789069\n"
     ]
    },
    {
     "name": "stderr",
     "output_type": "stream",
     "text": [
      "\r",
      " 58%|█████▊    | 173/300 [1:17:29<1:09:31, 32.85s/it]"
     ]
    },
    {
     "name": "stdout",
     "output_type": "stream",
     "text": [
      "running on iteration 5,4,3\n",
      "0.8685078458159001 0.7917103641803075 0.8188130693498396\n"
     ]
    },
    {
     "name": "stderr",
     "output_type": "stream",
     "text": [
      "\r",
      " 58%|█████▊    | 174/300 [1:18:12<1:15:04, 35.75s/it]"
     ]
    },
    {
     "name": "stdout",
     "output_type": "stream",
     "text": [
      "running on iteration 5,4,4\n",
      "0.8586360925856252 0.7651911776980671 0.8220336540445279\n"
     ]
    },
    {
     "name": "stderr",
     "output_type": "stream",
     "text": [
      "\r",
      " 58%|█████▊    | 175/300 [1:18:58<1:21:09, 38.95s/it]"
     ]
    },
    {
     "name": "stdout",
     "output_type": "stream",
     "text": [
      "running on iteration 5,5,0\n",
      "0.8604665950294237 0.7890100348928956 0.84373986754586\n"
     ]
    },
    {
     "name": "stderr",
     "output_type": "stream",
     "text": [
      "\r",
      " 59%|█████▊    | 176/300 [1:20:18<1:45:52, 51.23s/it]"
     ]
    },
    {
     "name": "stdout",
     "output_type": "stream",
     "text": [
      "running on iteration 5,5,1\n",
      "0.8658854771259457 0.8052529188008511 0.8615770519820569\n"
     ]
    },
    {
     "name": "stderr",
     "output_type": "stream",
     "text": [
      "\r",
      " 59%|█████▉    | 177/300 [1:21:37<2:01:50, 59.44s/it]"
     ]
    },
    {
     "name": "stdout",
     "output_type": "stream",
     "text": [
      "running on iteration 5,5,2\n",
      "0.8641895908032929 0.7827007835300842 0.859462626956317\n"
     ]
    },
    {
     "name": "stderr",
     "output_type": "stream",
     "text": [
      "\r",
      " 59%|█████▉    | 178/300 [1:22:31<1:57:27, 57.77s/it]"
     ]
    },
    {
     "name": "stdout",
     "output_type": "stream",
     "text": [
      "running on iteration 5,5,3\n",
      "0.8614196924148624 0.7810367591063024 0.8326571926929223\n"
     ]
    },
    {
     "name": "stderr",
     "output_type": "stream",
     "text": [
      "\r",
      " 60%|█████▉    | 179/300 [1:23:14<1:47:50, 53.48s/it]"
     ]
    }
   ],
   "source": [
    "train_corr = np.zeros((len(nf),len(kz),len(ds)));train_corr.fill(-1)\n",
    "test1_corr = np.zeros((len(nf),len(kz),len(ds)));test1_corr.fill(-1)\n",
    "test2_corr = np.zeros((len(nf),len(kz),len(ds)));test2_corr.fill(-1)\n",
    "\n",
    "f = open('/home/cccr/supriyo/panini/filtered_data/historical/JGRJD/conv1d/RMM1_models.txt', 'w')\n",
    "\n",
    "ii = range(len(nf))\n",
    "kk = range(len(kz))\n",
    "jj = range(len(ds))\n",
    "          \n",
    "paramlist = list(itertools.product(ii,kk,jj))\n",
    "print(multiprocessing.cpu_count())\n",
    "        \n",
    "pool = multiprocessing.Pool(processes= 2 )\n",
    "\n",
    "for i,k,j,train_corr_,test1_corr_,test2_corr_  in tqdm.tqdm(pool.imap_unordered(models, paramlist), total=len(paramlist)):\n",
    "    train_corr[i,k,j] = train_corr_\n",
    "    test1_corr[i,k,j] = test1_corr_\n",
    "    test2_corr[i,k,j] = test2_corr_ \n",
    "  "
   ]
  },
  {
   "cell_type": "code",
   "execution_count": null,
   "metadata": {},
   "outputs": [],
   "source": [
    "np.save('train_rmm1_login.npy',train_corr)\n",
    "np.save('test1_rmm1_login.npy',test1_corr)\n",
    "np.save('test2_rmm1_login.npy',test2_corr)"
   ]
  },
  {
   "cell_type": "code",
   "execution_count": 2,
   "metadata": {},
   "outputs": [],
   "source": [
    "train_corr = np.load('train_rmm1_login.npy')\n",
    "test1_corr = np.load('test1_rmm1_login.npy')\n",
    "test2_corr = np.load('test2_rmm1_login.npy')\n"
   ]
  },
  {
   "cell_type": "code",
   "execution_count": 6,
   "metadata": {},
   "outputs": [
    {
     "data": {
      "text/plain": [
       "(array([0.88135733]), array([0.81002038]), array([0.86063066]))"
      ]
     },
     "execution_count": 6,
     "metadata": {},
     "output_type": "execute_result"
    }
   ],
   "source": [
    "te = test1_corr+test2_corr\n",
    "i = np.where(te== np.nanmax(te))\n",
    "train_corr[i],test1_corr[i],test2_corr[i]"
   ]
  },
  {
   "cell_type": "code",
   "execution_count": null,
   "metadata": {},
   "outputs": [],
   "source": []
  }
 ],
 "metadata": {
  "kernelspec": {
   "display_name": "Python 3",
   "language": "python",
   "name": "python3"
  },
  "language_info": {
   "codemirror_mode": {
    "name": "ipython",
    "version": 3
   },
   "file_extension": ".py",
   "mimetype": "text/x-python",
   "name": "python",
   "nbconvert_exporter": "python",
   "pygments_lexer": "ipython3",
   "version": "3.7.5"
  }
 },
 "nbformat": 4,
 "nbformat_minor": 2
}
