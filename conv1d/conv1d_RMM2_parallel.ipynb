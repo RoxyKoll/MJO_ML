{
 "cells": [
  {
   "cell_type": "markdown",
   "metadata": {},
   "source": [
    "## Convolution 1-D for RMM2 network for GPU tuning "
   ]
  },
  {
   "cell_type": "markdown",
   "metadata": {},
   "source": [
    "Written by Abirlal Metya, Panini Dasgupta, Manmeet Singh (16/01/2020)"
   ]
  },
  {
   "cell_type": "markdown",
   "metadata": {},
   "source": [
    "import modules"
   ]
  },
  {
   "cell_type": "code",
   "execution_count": 1,
   "metadata": {},
   "outputs": [
    {
     "name": "stderr",
     "output_type": "stream",
     "text": [
      "Using TensorFlow backend.\n"
     ]
    }
   ],
   "source": [
    "import numpy as np\n",
    "from numpy.random import seed\n",
    "seed(7)\n",
    "import random as rn\n",
    "rn.seed(7)\n",
    "import tensorflow\n",
    "tensorflow.random.set_seed(10)\n",
    "import os\n",
    "os.environ[\"PYTHONHASHSEED\"] = '0'\n",
    "\n",
    "import pandas as pd\n",
    "import datetime\n",
    "import hilbert_data1_jgrjd_20CRV3\n",
    "from sklearn.preprocessing import MinMaxScaler\n",
    "import itertools\n",
    "import multiprocessing\n",
    "from IPython.display import clear_output\n",
    "import tqdm\n",
    "\n",
    "import keras \n",
    "from keras.models import Sequential\n",
    "from keras.layers import Input,Dense, Conv1D, Flatten,MaxPooling1D,Dropout, Activation, Flatten,Add\n",
    "from keras.layers import BatchNormalization\n",
    "from keras.callbacks import EarlyStopping"
   ]
  },
  {
   "cell_type": "markdown",
   "metadata": {},
   "source": [
    "### Test and Train Splitter:"
   ]
  },
  {
   "cell_type": "markdown",
   "metadata": {},
   "source": [
    "#### RMM2"
   ]
  },
  {
   "cell_type": "code",
   "execution_count": 2,
   "metadata": {},
   "outputs": [],
   "source": [
    "x_train,_,y_train = hilbert_data1_jgrjd_20CRV3.data_hilbert(datetime.datetime(1979,1,1),datetime.datetime(2008,12,31))\n",
    "x_test,_,y_test = hilbert_data1_jgrjd_20CRV3.data_hilbert(datetime.datetime(1974,6,1),datetime.datetime(1978,3,16))\n",
    "x_test2,_,y_test2 = hilbert_data1_jgrjd_20CRV3.data_hilbert(datetime.datetime(2009,1,1),datetime.datetime(2015,12,31))\n"
   ]
  },
  {
   "cell_type": "markdown",
   "metadata": {},
   "source": [
    "#### Historical pressure"
   ]
  },
  {
   "cell_type": "code",
   "execution_count": 3,
   "metadata": {},
   "outputs": [],
   "source": [
    "x_test3 = hilbert_data1_jgrjd_20CRV3.data_pres(datetime.datetime(1905,1,1),datetime.datetime(2015,12,31))"
   ]
  },
  {
   "cell_type": "markdown",
   "metadata": {},
   "source": [
    "#### scale the data"
   ]
  },
  {
   "cell_type": "code",
   "execution_count": 4,
   "metadata": {},
   "outputs": [],
   "source": [
    "sc3 = MinMaxScaler()\n",
    "sc5 = MinMaxScaler()\n",
    "\n",
    "sc5.fit(x_test3[:])\n",
    "\n",
    "test_x3 =  sc5.transform(x_test3[:])\n",
    "train_x = sc5.transform(x_train[:])\n",
    "test_x  = sc5.transform(x_test[:])\n",
    "test_x2  = sc5.transform(x_test2[:])\n",
    "\n",
    "\n",
    "sc3.fit(y_train[:])\n",
    "\n",
    "train_y = sc3.transform(y_train)\n",
    "test_y  = sc3.transform(y_test)\n",
    "test_y2  = sc3.transform(y_test2)\n",
    "\n",
    "#train_x.max(),test_x.max(),test_x3.max(),test_x2.max(),train_y.max(),test_y.max(),test_y2.max()"
   ]
  },
  {
   "cell_type": "markdown",
   "metadata": {},
   "source": [
    "In RNN we have to choose a window. Here we choose first 120 points as predictor and next RMM value as predicted. That means RMM will be fitted using previous 120 time steps's pressure of every point"
   ]
  },
  {
   "cell_type": "markdown",
   "metadata": {},
   "source": [
    "#### split the sequence data for training"
   ]
  },
  {
   "cell_type": "code",
   "execution_count": 5,
   "metadata": {},
   "outputs": [],
   "source": [
    "def split_sequence(window,x,*args):\n",
    "    xout  = []\n",
    "    for i in range(window,len(x)):\n",
    "        xout.append(x[i-window:i,:])\n",
    "    \n",
    "    xout = np.array(xout)\n",
    "    xout = np.reshape(xout,(xout.shape[0],xout.shape[1],xout.shape[2]))\n",
    "        \n",
    "    if np.any(len(args)):\n",
    "        for y in args:\n",
    "            yout = []\n",
    "            for i in range(window,len(y)):\n",
    "                yout.append(y[i,0])\n",
    "            yout = np.array(yout)\n",
    "            yout = yout.reshape(yout.shape[0])\n",
    "    else:\n",
    "        yout = [] \n",
    "    \n",
    "    return xout,yout"
   ]
  },
  {
   "cell_type": "code",
   "execution_count": 6,
   "metadata": {},
   "outputs": [],
   "source": [
    "window = 120\n",
    "xtrain , ytrain = split_sequence(window,train_x,train_y)\n",
    "xtest , ytest   = split_sequence(window,test_x,test_y)\n",
    "xtest2 , ytest2 = split_sequence(window,test_x2,test_y2)\n",
    "xtest3,_        = split_sequence(window, test_x3)"
   ]
  },
  {
   "cell_type": "markdown",
   "metadata": {},
   "source": [
    "#### Cut the data according to batch size"
   ]
  },
  {
   "cell_type": "code",
   "execution_count": 7,
   "metadata": {},
   "outputs": [],
   "source": [
    "par_b =100 \n",
    "\n",
    "#print(x_test3.shape)\n",
    "te3_lc = ((len(x_test3)-window)//par_b)*par_b\n",
    "\n",
    "xtest3 = xtest3[:te3_lc,:,:]\n",
    "#print(xtest3.shape)\n",
    "\n",
    "#x_test3.iloc[window:window+te3_lc,:].index\n",
    "## THis perid data will be available\n",
    "\n"
   ]
  },
  {
   "cell_type": "code",
   "execution_count": 8,
   "metadata": {},
   "outputs": [],
   "source": [
    "#print(xtrain.shape,ytrain.shape,xtest.shape,ytest.shape)\n",
    "\n",
    "tr_lc = ((len(x_train)-window)//par_b)*par_b\n",
    "te_lc =  ((len(x_test)-window)//par_b)*par_b\n",
    "te_lc2 =  ((len(x_test2)-window)//par_b)*par_b\n",
    "\n",
    "xtrain = xtrain[:tr_lc,:,:]\n",
    "ytrain = ytrain[:tr_lc]\n",
    "xtest = xtest[:te_lc,:,:]\n",
    "ytest = ytest[:te_lc,]\n",
    "xtest2 = xtest2[:te_lc2,:,:]\n",
    "ytest2 = ytest2[:te_lc2,]\n",
    "#print(xtrain.shape,ytrain.shape,xtest.shape,xtest2.shape,ytest.shape,ytest2.shape)"
   ]
  },
  {
   "cell_type": "markdown",
   "metadata": {},
   "source": [
    "### Using Simple Convolution 1D\n",
    "* 1. Basic conv1d\n",
    "* 2. wavenet\n",
    "* 3. ENSO  paper model\n"
   ]
  },
  {
   "cell_type": "code",
   "execution_count": 4,
   "metadata": {},
   "outputs": [],
   "source": [
    "nf=[]\n",
    "for i in range(1,6,1):\n",
    "    nf.append([2**i,2**i,2**i])\n",
    "    nf.append([2**(i+2),2**(i+1),2**i])\n",
    "    #nf.append([2**(2*i+1),2**(i+1),2**(i)])\n",
    "    #nf.append([2**(i+1)+2**i,2**(i+1),2**(i-1)])\n",
    "\n",
    "kz=[]\n",
    "for i in range(1,4,1):\n",
    "    kz.append([2**i,2**i,2**i])\n",
    "    kz.append([2**(i+2),2**(i+1),2**(i)])\n",
    "    #kz.append([2**(i+1)+2**i,2**(i+1),2**(i)]\n",
    "    #kz.append([2**(i+1)+2**i,2**(i+1),2**(i-1)])\n",
    "\n",
    "ds = [10,20,30,40,50]"
   ]
  },
  {
   "cell_type": "code",
   "execution_count": 10,
   "metadata": {},
   "outputs": [],
   "source": [
    "def models(params):\n",
    "    \"\"\"\n",
    "       Random number initializer is needed \n",
    "    \"\"\"\n",
    "    \n",
    "    seed(7)\n",
    "    rn.seed(7)\n",
    "    tensorflow.random.set_seed(10)\n",
    "    os.environ[\"PYTHONHASHSEED\"] = '0'\n",
    "    \n",
    "    \n",
    "    i = params[0]; k = params[1]; j = params[2];  \n",
    "    #print('running on iteration ' + str(i)+','+str(k)+','+str(j))\n",
    "    \n",
    "    model = Sequential()\n",
    "    # Use the Keras Conv1D function to create a 1-dimensional convolutional layer, with kernel size (filter) of 5X5 pixels and a stride of 1 in x and y directions. The Conv2D command automatically creates the activation function for you━here we use ReLu activation.\n",
    "\n",
    "    model.add(Conv1D(nf[i][0] ,kernel_size=kz[k][0], strides=1,kernel_initializer = \"random_uniform\",\n",
    "                     bias_initializer = \"zeros\",activation='relu',\n",
    "                     input_shape=(xtrain.shape[1],xtrain.shape[2])))\n",
    "    # Then use the MaxPooling2D function to add a 2D max pooling layer, with pooling filter sized 2X2 and stride of 2 in x and y directions.\n",
    "\n",
    "    model.add(MaxPooling1D(pool_size=1, strides=1))\n",
    "\n",
    "    \n",
    "    model.add(Conv1D(nf[i][1], kernel_size=kz[k][1], strides=1,\n",
    "                     kernel_initializer = \"random_uniform\",bias_initializer = \"zeros\",activation='relu'))\n",
    "    # Then use the MaxPooling2D function to add a 2D max pooling layer, with pooling filter sized 2X2 and stride of 2 in x and y directions.\n",
    "\n",
    "    model.add(MaxPooling1D(pool_size=1, strides=1))\n",
    "\n",
    "    \n",
    "    model.add(Conv1D(nf[i][2], kernel_size=kz[k][2], strides=1,\n",
    "                     kernel_initializer = \"random_uniform\",bias_initializer = \"zeros\",activation='relu'))\n",
    "\n",
    "    \n",
    "    model.add(Flatten())\n",
    "    model.add(Dense(ds[j], kernel_initializer = \"random_uniform\",\n",
    "                    bias_initializer = \"zeros\",activation='relu'))\n",
    "\n",
    "\n",
    "    model.add(Dense(1, activation='linear'))\n",
    "    opt = keras.optimizers.Adam(learning_rate=0.001, decay=1e-6)\n",
    "    model.compile(loss='mae', optimizer=opt)\n",
    "    es = EarlyStopping(monitor='val_loss', mode='min', verbose=0,min_delta=.01,patience=30)\n",
    "\n",
    "    \n",
    "    model.fit(xtrain, ytrain, validation_data=(xtest, ytest),batch_size=100,callbacks=[es],shuffle= False, epochs= 200,verbose=0)\n",
    "    \n",
    "    train_corr_= np.nan\n",
    "    test1_corr_ = np.nan\n",
    "    test2_corr_ = np.nan\n",
    "    \n",
    "    np.seterr(divide='ignore', invalid='ignore')\n",
    "    \n",
    "    predict1   = model.predict(xtrain)\n",
    "    yy_train   = sc3.inverse_transform(predict1)\n",
    "    yy_train   = yy_train/yy_train.std()\n",
    "    train_corr_ = np.corrcoef(yy_train[:,0],ytrain)[0,1]\n",
    "    \n",
    "\n",
    "    predict1  = model.predict(xtest2)\n",
    "    yy_test1   = sc3.inverse_transform(predict1)\n",
    "    yy_test1   = yy_test1/yy_test1.std()\n",
    "    test1_corr_ = np.corrcoef(yy_test1[:,0],ytest2)[0,1]\n",
    "\n",
    "    predict2  = model.predict(xtest)\n",
    "    yy_test2   = sc3.inverse_transform(predict2)\n",
    "    yy_test2   = yy_test2/yy_test2.std()\n",
    "    test2_corr_ = np.corrcoef(yy_test2[:,0],ytest)[0,1]\n",
    "    \n",
    "    print('running on iteration ' + str(i)+','+str(k)+','+str(j))\n",
    "    print(train_corr_,test1_corr_,test2_corr_)\n",
    "    \n",
    "    return i,k,j,train_corr_,test1_corr_,test2_corr_\n"
   ]
  },
  {
   "cell_type": "code",
   "execution_count": null,
   "metadata": {},
   "outputs": [
    {
     "name": "stdout",
     "output_type": "stream",
     "text": [
      "28\n"
     ]
    },
    {
     "name": "stderr",
     "output_type": "stream",
     "text": [
      "\r",
      "  0%|          | 0/300 [00:00<?, ?it/s]"
     ]
    },
    {
     "name": "stdout",
     "output_type": "stream",
     "text": [
      "running on iteration 0,0,0\n",
      "nan nan nan\n"
     ]
    },
    {
     "name": "stderr",
     "output_type": "stream",
     "text": [
      "\r",
      "  0%|          | 1/300 [00:26<2:12:57, 26.68s/it]"
     ]
    },
    {
     "name": "stdout",
     "output_type": "stream",
     "text": [
      "running on iteration 0,0,1\n",
      "nan nan nan\n"
     ]
    },
    {
     "name": "stderr",
     "output_type": "stream",
     "text": [
      "\r",
      "  1%|          | 2/300 [00:27<1:34:16, 18.98s/it]"
     ]
    },
    {
     "name": "stdout",
     "output_type": "stream",
     "text": [
      "running on iteration 0,0,2\n",
      "nan nan nan\n"
     ]
    },
    {
     "name": "stderr",
     "output_type": "stream",
     "text": [
      "\r",
      "  1%|          | 3/300 [00:54<1:45:12, 21.26s/it]"
     ]
    },
    {
     "name": "stdout",
     "output_type": "stream",
     "text": [
      "running on iteration 0,0,3\n",
      "0.1361744447389226 0.22015104072708658 0.1355116615732143\n"
     ]
    },
    {
     "name": "stderr",
     "output_type": "stream",
     "text": [
      "\r",
      "  1%|▏         | 4/300 [00:55<1:14:53, 15.18s/it]"
     ]
    },
    {
     "name": "stdout",
     "output_type": "stream",
     "text": [
      "running on iteration 0,0,4\n",
      "nan nan nan\n"
     ]
    },
    {
     "name": "stderr",
     "output_type": "stream",
     "text": [
      "\r",
      "  2%|▏         | 5/300 [01:23<1:34:33, 19.23s/it]"
     ]
    },
    {
     "name": "stdout",
     "output_type": "stream",
     "text": [
      "running on iteration 0,1,0\n",
      "0.7956994117339055 0.7656200619186347 0.7031223963120614\n"
     ]
    },
    {
     "name": "stderr",
     "output_type": "stream",
     "text": [
      "\r",
      "  2%|▏         | 6/300 [01:54<1:50:34, 22.56s/it]"
     ]
    },
    {
     "name": "stdout",
     "output_type": "stream",
     "text": [
      "running on iteration 0,1,1\n",
      "nan nan nan\n"
     ]
    },
    {
     "name": "stderr",
     "output_type": "stream",
     "text": [
      "\r",
      "  2%|▏         | 7/300 [01:58<1:23:07, 17.02s/it]"
     ]
    },
    {
     "name": "stdout",
     "output_type": "stream",
     "text": [
      "running on iteration 0,1,2\n",
      "nan nan nan\n"
     ]
    },
    {
     "name": "stderr",
     "output_type": "stream",
     "text": [
      "\r",
      "  3%|▎         | 8/300 [02:27<1:39:48, 20.51s/it]"
     ]
    },
    {
     "name": "stdout",
     "output_type": "stream",
     "text": [
      "running on iteration 0,1,3\n",
      "nan nan nan\n"
     ]
    },
    {
     "name": "stderr",
     "output_type": "stream",
     "text": [
      "\r",
      "  3%|▎         | 9/300 [02:31<1:16:11, 15.71s/it]"
     ]
    },
    {
     "name": "stdout",
     "output_type": "stream",
     "text": [
      "running on iteration 0,1,4\n",
      "nan nan nan\n"
     ]
    },
    {
     "name": "stderr",
     "output_type": "stream",
     "text": [
      "\r",
      "  3%|▎         | 10/300 [02:58<1:31:47, 18.99s/it]"
     ]
    },
    {
     "name": "stdout",
     "output_type": "stream",
     "text": [
      "running on iteration 0,2,0\n",
      "0.7843706059949517 0.7597263085147603 0.6926341350425832\n"
     ]
    },
    {
     "name": "stderr",
     "output_type": "stream",
     "text": [
      "\r",
      "  4%|▎         | 11/300 [03:24<1:42:16, 21.23s/it]"
     ]
    },
    {
     "name": "stdout",
     "output_type": "stream",
     "text": [
      "running on iteration 0,2,1\n",
      "nan nan nan\n"
     ]
    },
    {
     "name": "stderr",
     "output_type": "stream",
     "text": [
      "\r",
      "  4%|▍         | 12/300 [03:25<1:12:09, 15.03s/it]"
     ]
    },
    {
     "name": "stdout",
     "output_type": "stream",
     "text": [
      "running on iteration 0,2,3\n",
      "nan nan nan\n"
     ]
    },
    {
     "name": "stderr",
     "output_type": "stream",
     "text": [
      "\r",
      "  4%|▍         | 13/300 [03:51<1:27:53, 18.38s/it]"
     ]
    },
    {
     "name": "stdout",
     "output_type": "stream",
     "text": [
      "running on iteration 0,2,2\n",
      "nan nan nan\n"
     ]
    },
    {
     "name": "stderr",
     "output_type": "stream",
     "text": [
      "\r",
      "  5%|▍         | 14/300 [03:51<1:01:33, 12.91s/it]"
     ]
    },
    {
     "name": "stdout",
     "output_type": "stream",
     "text": [
      "running on iteration 0,2,4\n",
      "nan nan nan\n"
     ]
    },
    {
     "name": "stderr",
     "output_type": "stream",
     "text": [
      "\r",
      "  5%|▌         | 15/300 [04:19<1:22:36, 17.39s/it]"
     ]
    },
    {
     "name": "stdout",
     "output_type": "stream",
     "text": [
      "running on iteration 0,3,1\n",
      "nan nan nan\n"
     ]
    },
    {
     "name": "stderr",
     "output_type": "stream",
     "text": [
      "\r",
      "  5%|▌         | 16/300 [04:55<1:48:33, 22.94s/it]"
     ]
    },
    {
     "name": "stdout",
     "output_type": "stream",
     "text": [
      "running on iteration 0,3,0\n",
      "0.8347840494395148 0.7840134620477457 0.7409682354357137\n"
     ]
    },
    {
     "name": "stderr",
     "output_type": "stream",
     "text": [
      "\r",
      "  6%|▌         | 17/300 [05:21<1:53:18, 24.02s/it]"
     ]
    },
    {
     "name": "stdout",
     "output_type": "stream",
     "text": [
      "running on iteration 0,3,2\n",
      "nan nan nan\n"
     ]
    },
    {
     "name": "stderr",
     "output_type": "stream",
     "text": [
      "\r",
      "  6%|▌         | 18/300 [05:31<1:32:10, 19.61s/it]"
     ]
    },
    {
     "name": "stdout",
     "output_type": "stream",
     "text": [
      "running on iteration 0,3,4\n",
      "nan nan nan\n"
     ]
    },
    {
     "name": "stderr",
     "output_type": "stream",
     "text": [
      "\r",
      "  6%|▋         | 19/300 [06:05<1:52:35, 24.04s/it]"
     ]
    },
    {
     "name": "stdout",
     "output_type": "stream",
     "text": [
      "running on iteration 0,3,3\n",
      "0.8459444350505878 0.7861980264128182 0.7615484523956967\n"
     ]
    },
    {
     "name": "stderr",
     "output_type": "stream",
     "text": [
      "\r",
      "  7%|▋         | 20/300 [07:04<2:40:35, 34.41s/it]"
     ]
    },
    {
     "name": "stdout",
     "output_type": "stream",
     "text": [
      "running on iteration 0,4,1\n",
      "nan nan nan\n"
     ]
    },
    {
     "name": "stderr",
     "output_type": "stream",
     "text": [
      "\r",
      "  7%|▋         | 21/300 [07:37<2:38:21, 34.06s/it]"
     ]
    },
    {
     "name": "stdout",
     "output_type": "stream",
     "text": [
      "running on iteration 0,4,0\n",
      "0.8356602132601709 0.7981383781624948 0.7543061871506097\n"
     ]
    },
    {
     "name": "stderr",
     "output_type": "stream",
     "text": [
      "\r",
      "  7%|▋         | 22/300 [07:41<1:56:19, 25.11s/it]"
     ]
    },
    {
     "name": "stdout",
     "output_type": "stream",
     "text": [
      "running on iteration 0,4,2\n",
      "nan nan nan\n"
     ]
    },
    {
     "name": "stderr",
     "output_type": "stream",
     "text": [
      "\r",
      "  8%|▊         | 23/300 [08:10<2:00:43, 26.15s/it]"
     ]
    },
    {
     "name": "stdout",
     "output_type": "stream",
     "text": [
      "running on iteration 0,4,4\n",
      "nan nan nan\n"
     ]
    },
    {
     "name": "stderr",
     "output_type": "stream",
     "text": [
      "\r",
      "  8%|▊         | 24/300 [08:45<2:12:47, 28.87s/it]"
     ]
    },
    {
     "name": "stdout",
     "output_type": "stream",
     "text": [
      "running on iteration 0,4,3\n",
      "0.8438233451070092 0.7907494647590689 0.760908459240175\n"
     ]
    },
    {
     "name": "stderr",
     "output_type": "stream",
     "text": [
      "\r",
      "  8%|▊         | 25/300 [09:16<2:15:57, 29.66s/it]"
     ]
    },
    {
     "name": "stdout",
     "output_type": "stream",
     "text": [
      "running on iteration 0,5,0\n",
      "nan nan nan\n"
     ]
    },
    {
     "name": "stderr",
     "output_type": "stream",
     "text": [
      "\r",
      "  9%|▊         | 26/300 [09:35<2:00:35, 26.41s/it]"
     ]
    },
    {
     "name": "stdout",
     "output_type": "stream",
     "text": [
      "running on iteration 0,5,1\n",
      "nan nan nan\n"
     ]
    },
    {
     "name": "stderr",
     "output_type": "stream",
     "text": [
      "\r",
      "  9%|▉         | 27/300 [10:02<2:00:31, 26.49s/it]"
     ]
    },
    {
     "name": "stdout",
     "output_type": "stream",
     "text": [
      "running on iteration 0,5,2\n",
      "nan nan nan\n"
     ]
    },
    {
     "name": "stderr",
     "output_type": "stream",
     "text": [
      "\r",
      "  9%|▉         | 28/300 [10:23<1:52:05, 24.73s/it]"
     ]
    },
    {
     "name": "stdout",
     "output_type": "stream",
     "text": [
      "running on iteration 0,5,3\n",
      "nan nan nan\n"
     ]
    },
    {
     "name": "stderr",
     "output_type": "stream",
     "text": [
      "\r",
      " 10%|▉         | 29/300 [10:40<1:42:28, 22.69s/it]"
     ]
    },
    {
     "name": "stdout",
     "output_type": "stream",
     "text": [
      "running on iteration 0,5,4\n",
      "nan nan nan\n"
     ]
    },
    {
     "name": "stderr",
     "output_type": "stream",
     "text": [
      "\r",
      " 10%|█         | 30/300 [11:01<1:39:46, 22.17s/it]"
     ]
    },
    {
     "name": "stdout",
     "output_type": "stream",
     "text": [
      "running on iteration 1,0,1\n",
      "nan nan nan\n"
     ]
    },
    {
     "name": "stderr",
     "output_type": "stream",
     "text": [
      "\r",
      " 10%|█         | 31/300 [11:31<1:48:44, 24.26s/it]"
     ]
    },
    {
     "name": "stdout",
     "output_type": "stream",
     "text": [
      "running on iteration 1,0,0\n",
      "0.8106471886555252 0.7901308125572366 0.7286479165447451\n"
     ]
    },
    {
     "name": "stderr",
     "output_type": "stream",
     "text": [
      "\r",
      " 11%|█         | 32/300 [11:31<1:16:41, 17.17s/it]"
     ]
    },
    {
     "name": "stdout",
     "output_type": "stream",
     "text": [
      "running on iteration 1,0,3\n",
      "0.8153827087221949 0.7816126106565863 0.7258852706341132\n"
     ]
    },
    {
     "name": "stderr",
     "output_type": "stream",
     "text": [
      "\r",
      " 11%|█         | 33/300 [12:24<2:03:44, 27.81s/it]"
     ]
    },
    {
     "name": "stdout",
     "output_type": "stream",
     "text": [
      "running on iteration 1,0,2\n",
      "0.8234614451084309 0.7975448476589828 0.7376156752803632\n"
     ]
    },
    {
     "name": "stderr",
     "output_type": "stream",
     "text": [
      "\r",
      " 11%|█▏        | 34/300 [12:27<1:30:36, 20.44s/it]"
     ]
    },
    {
     "name": "stdout",
     "output_type": "stream",
     "text": [
      "running on iteration 1,0,4\n",
      "nan nan nan\n"
     ]
    },
    {
     "name": "stderr",
     "output_type": "stream",
     "text": [
      "\r",
      " 12%|█▏        | 35/300 [12:52<1:36:07, 21.76s/it]"
     ]
    },
    {
     "name": "stdout",
     "output_type": "stream",
     "text": [
      "running on iteration 1,1,0\n",
      "0.8114533328294669 0.7785823645006461 0.7148440859608675\n"
     ]
    },
    {
     "name": "stderr",
     "output_type": "stream",
     "text": [
      "\r",
      " 12%|█▏        | 36/300 [13:18<1:40:50, 22.92s/it]"
     ]
    },
    {
     "name": "stdout",
     "output_type": "stream",
     "text": [
      "running on iteration 1,1,1\n",
      "nan nan nan\n"
     ]
    },
    {
     "name": "stderr",
     "output_type": "stream",
     "text": [
      "\r",
      " 12%|█▏        | 37/300 [13:24<1:18:26, 17.89s/it]"
     ]
    },
    {
     "name": "stdout",
     "output_type": "stream",
     "text": [
      "running on iteration 1,1,2\n",
      "0.8229297113239609 0.7916246462146094 0.7351656249521051\n"
     ]
    },
    {
     "name": "stderr",
     "output_type": "stream",
     "text": [
      "\r",
      " 13%|█▎        | 38/300 [14:07<1:50:56, 25.41s/it]"
     ]
    },
    {
     "name": "stdout",
     "output_type": "stream",
     "text": [
      "running on iteration 1,1,4\n",
      "nan nan nan\n"
     ]
    },
    {
     "name": "stderr",
     "output_type": "stream",
     "text": [
      "\r",
      " 13%|█▎        | 39/300 [14:37<1:57:30, 27.01s/it]"
     ]
    },
    {
     "name": "stdout",
     "output_type": "stream",
     "text": [
      "running on iteration 1,1,3\n",
      "0.8456299936159128 0.8041887750175611 0.759935762485116\n"
     ]
    },
    {
     "name": "stderr",
     "output_type": "stream",
     "text": [
      "\r",
      " 13%|█▎        | 40/300 [15:00<1:50:49, 25.57s/it]"
     ]
    },
    {
     "name": "stdout",
     "output_type": "stream",
     "text": [
      "running on iteration 1,2,0\n",
      "nan nan nan\n"
     ]
    },
    {
     "name": "stderr",
     "output_type": "stream",
     "text": [
      "\r",
      " 14%|█▎        | 41/300 [15:05<1:24:54, 19.67s/it]"
     ]
    },
    {
     "name": "stdout",
     "output_type": "stream",
     "text": [
      "running on iteration 1,2,1\n",
      "nan nan nan\n"
     ]
    },
    {
     "name": "stderr",
     "output_type": "stream",
     "text": [
      "\r",
      " 14%|█▍        | 42/300 [15:30<1:30:19, 21.01s/it]"
     ]
    },
    {
     "name": "stdout",
     "output_type": "stream",
     "text": [
      "running on iteration 1,2,2\n",
      "nan nan nan\n"
     ]
    },
    {
     "name": "stderr",
     "output_type": "stream",
     "text": [
      "\r",
      " 14%|█▍        | 43/300 [15:34<1:09:09, 16.15s/it]"
     ]
    },
    {
     "name": "stdout",
     "output_type": "stream",
     "text": [
      "running on iteration 1,2,4\n",
      "nan nan nan\n"
     ]
    },
    {
     "name": "stderr",
     "output_type": "stream",
     "text": [
      "\r",
      " 15%|█▍        | 44/300 [16:05<1:27:08, 20.42s/it]"
     ]
    },
    {
     "name": "stdout",
     "output_type": "stream",
     "text": [
      "running on iteration 1,2,3\n",
      "0.832529075092475 0.7985642063376432 0.7348420595864749\n"
     ]
    },
    {
     "name": "stderr",
     "output_type": "stream",
     "text": [
      "\r",
      " 15%|█▌        | 45/300 [16:20<1:20:37, 18.97s/it]"
     ]
    },
    {
     "name": "stdout",
     "output_type": "stream",
     "text": [
      "running on iteration 1,3,0\n",
      "0.8385472443231609 0.7928116388630562 0.7304642502437771\n"
     ]
    },
    {
     "name": "stderr",
     "output_type": "stream",
     "text": [
      "\r",
      " 15%|█▌        | 46/300 [17:01<1:47:29, 25.39s/it]"
     ]
    },
    {
     "name": "stdout",
     "output_type": "stream",
     "text": [
      "running on iteration 1,3,1\n",
      "0.8478860479602165 0.8037933457180884 0.7595870291080585\n"
     ]
    },
    {
     "name": "stderr",
     "output_type": "stream",
     "text": [
      "\r",
      " 16%|█▌        | 47/300 [18:00<2:29:32, 35.46s/it]"
     ]
    },
    {
     "name": "stdout",
     "output_type": "stream",
     "text": [
      "running on iteration 1,3,2\n",
      "0.8485982558818932 0.8076536143538318 0.761558424488213\n"
     ]
    },
    {
     "name": "stderr",
     "output_type": "stream",
     "text": [
      "\r",
      " 16%|█▌        | 48/300 [18:09<1:55:42, 27.55s/it]"
     ]
    },
    {
     "name": "stdout",
     "output_type": "stream",
     "text": [
      "running on iteration 1,3,4\n",
      "0.8372315895391225 0.7879361879419304 0.7304390807251011\n"
     ]
    },
    {
     "name": "stderr",
     "output_type": "stream",
     "text": [
      "\r",
      " 16%|█▋        | 49/300 [18:59<2:23:17, 34.25s/it]"
     ]
    },
    {
     "name": "stdout",
     "output_type": "stream",
     "text": [
      "running on iteration 1,3,3\n",
      "0.8483528653949225 0.8081108591428189 0.767632910389386\n"
     ]
    },
    {
     "name": "stderr",
     "output_type": "stream",
     "text": [
      "\r",
      " 17%|█▋        | 50/300 [19:25<2:13:10, 31.96s/it]"
     ]
    },
    {
     "name": "stdout",
     "output_type": "stream",
     "text": [
      "running on iteration 1,4,0\n",
      "0.8480510331603102 0.807191681465711 0.7549370516638416\n"
     ]
    },
    {
     "name": "stderr",
     "output_type": "stream",
     "text": [
      "\r",
      " 17%|█▋        | 51/300 [20:06<2:24:02, 34.71s/it]"
     ]
    },
    {
     "name": "stdout",
     "output_type": "stream",
     "text": [
      "running on iteration 1,4,1\n",
      "0.8227618494060599 0.7912552812713957 0.7322306437131667\n"
     ]
    },
    {
     "name": "stderr",
     "output_type": "stream",
     "text": [
      "\r",
      " 17%|█▋        | 52/300 [20:20<1:56:38, 28.22s/it]"
     ]
    },
    {
     "name": "stdout",
     "output_type": "stream",
     "text": [
      "running on iteration 1,4,2\n",
      "0.8218550714642308 0.7888086460569241 0.7184921020984848\n"
     ]
    },
    {
     "name": "stderr",
     "output_type": "stream",
     "text": [
      "\r",
      " 18%|█▊        | 53/300 [20:59<2:09:45, 31.52s/it]"
     ]
    },
    {
     "name": "stdout",
     "output_type": "stream",
     "text": [
      "running on iteration 1,4,3\n",
      "0.8425369593237972 0.7858522475162053 0.7519372891531564\n"
     ]
    },
    {
     "name": "stderr",
     "output_type": "stream",
     "text": [
      "\r",
      " 18%|█▊        | 54/300 [21:43<2:25:20, 35.45s/it]"
     ]
    },
    {
     "name": "stdout",
     "output_type": "stream",
     "text": [
      "running on iteration 1,4,4\n",
      "0.8484458897523268 0.7948119892990622 0.7610086305400631\n"
     ]
    },
    {
     "name": "stderr",
     "output_type": "stream",
     "text": [
      "\r",
      " 18%|█▊        | 55/300 [22:24<2:31:16, 37.05s/it]"
     ]
    },
    {
     "name": "stdout",
     "output_type": "stream",
     "text": [
      "running on iteration 1,5,0\n",
      "0.8457827246703055 0.7895868356714172 0.7602964925418199\n"
     ]
    },
    {
     "name": "stderr",
     "output_type": "stream",
     "text": [
      "\r",
      " 19%|█▊        | 56/300 [23:06<2:35:55, 38.34s/it]"
     ]
    },
    {
     "name": "stdout",
     "output_type": "stream",
     "text": [
      "running on iteration 1,5,1\n",
      "nan nan nan\n"
     ]
    },
    {
     "name": "stderr",
     "output_type": "stream",
     "text": [
      "\r",
      " 19%|█▉        | 57/300 [23:11<1:55:47, 28.59s/it]"
     ]
    },
    {
     "name": "stdout",
     "output_type": "stream",
     "text": [
      "running on iteration 1,5,2\n",
      "0.8401109440470547 0.7805570554641207 0.7385197498040099\n"
     ]
    },
    {
     "name": "stderr",
     "output_type": "stream",
     "text": [
      "\r",
      " 19%|█▉        | 58/300 [24:20<2:44:23, 40.76s/it]"
     ]
    },
    {
     "name": "stdout",
     "output_type": "stream",
     "text": [
      "running on iteration 1,5,3\n",
      "0.8323878343333333 0.7738877295746468 0.7662587929507267\n"
     ]
    },
    {
     "name": "stderr",
     "output_type": "stream",
     "text": [
      "\r",
      " 20%|█▉        | 59/300 [24:26<2:01:08, 30.16s/it]"
     ]
    },
    {
     "name": "stdout",
     "output_type": "stream",
     "text": [
      "running on iteration 1,5,4\n",
      "0.3149603805505174 0.27036593813881943 0.23400108224028107\n"
     ]
    },
    {
     "name": "stderr",
     "output_type": "stream",
     "text": [
      "\r",
      " 20%|██        | 60/300 [24:57<2:01:31, 30.38s/it]"
     ]
    },
    {
     "name": "stdout",
     "output_type": "stream",
     "text": [
      "running on iteration 2,0,0\n",
      "0.8116154567136763 0.7834954047780055 0.7162398969845842\n"
     ]
    },
    {
     "name": "stderr",
     "output_type": "stream",
     "text": [
      "\r",
      " 20%|██        | 61/300 [25:10<1:40:21, 25.20s/it]"
     ]
    },
    {
     "name": "stdout",
     "output_type": "stream",
     "text": [
      "running on iteration 2,0,1\n",
      "nan nan nan\n"
     ]
    },
    {
     "name": "stderr",
     "output_type": "stream",
     "text": [
      "\r",
      " 21%|██        | 62/300 [25:21<1:23:01, 20.93s/it]"
     ]
    },
    {
     "name": "stdout",
     "output_type": "stream",
     "text": [
      "running on iteration 2,0,2\n",
      "0.8261248487259116 0.798351794608075 0.7318149688268595\n"
     ]
    },
    {
     "name": "stderr",
     "output_type": "stream",
     "text": [
      "\r",
      " 21%|██        | 63/300 [25:51<1:33:17, 23.62s/it]"
     ]
    },
    {
     "name": "stdout",
     "output_type": "stream",
     "text": [
      "running on iteration 2,0,3\n",
      "0.8398577963514149 0.8017555790416282 0.7467298511551963\n"
     ]
    },
    {
     "name": "stderr",
     "output_type": "stream",
     "text": [
      "\r",
      " 21%|██▏       | 64/300 [25:59<1:14:53, 19.04s/it]"
     ]
    },
    {
     "name": "stdout",
     "output_type": "stream",
     "text": [
      "running on iteration 2,1,0\n",
      "0.8001987220074348 0.7663618488651672 0.7048535883076538\n"
     ]
    },
    {
     "name": "stderr",
     "output_type": "stream",
     "text": [
      "\r",
      " 22%|██▏       | 65/300 [26:47<1:48:53, 27.80s/it]"
     ]
    },
    {
     "name": "stdout",
     "output_type": "stream",
     "text": [
      "running on iteration 2,0,4\n",
      "0.8371564111224329 0.7935668727969555 0.7541383921314768\n"
     ]
    },
    {
     "name": "stderr",
     "output_type": "stream",
     "text": [
      "\r",
      " 22%|██▏       | 66/300 [26:53<1:22:08, 21.06s/it]"
     ]
    },
    {
     "name": "stdout",
     "output_type": "stream",
     "text": [
      "running on iteration 2,1,1\n",
      "nan nan nan\n"
     ]
    },
    {
     "name": "stderr",
     "output_type": "stream",
     "text": [
      "\r",
      " 22%|██▏       | 67/300 [27:17<1:25:18, 21.97s/it]"
     ]
    },
    {
     "name": "stdout",
     "output_type": "stream",
     "text": [
      "running on iteration 2,1,3\n",
      "nan nan nan\n"
     ]
    },
    {
     "name": "stderr",
     "output_type": "stream",
     "text": [
      "\r",
      " 23%|██▎       | 68/300 [27:46<1:33:36, 24.21s/it]"
     ]
    },
    {
     "name": "stdout",
     "output_type": "stream",
     "text": [
      "running on iteration 2,1,2\n",
      "0.8146894097822694 0.7849560644955236 0.722667171814481\n"
     ]
    },
    {
     "name": "stderr",
     "output_type": "stream",
     "text": [
      "\r",
      " 23%|██▎       | 69/300 [27:47<1:05:33, 17.03s/it]"
     ]
    },
    {
     "name": "stdout",
     "output_type": "stream",
     "text": [
      "running on iteration 2,1,4\n",
      "nan nan nan\n"
     ]
    },
    {
     "name": "stderr",
     "output_type": "stream",
     "text": [
      "\r",
      " 23%|██▎       | 70/300 [28:14<1:17:33, 20.23s/it]"
     ]
    },
    {
     "name": "stdout",
     "output_type": "stream",
     "text": [
      "running on iteration 2,2,0\n",
      "0.7971858872737988 0.7712648313391696 0.6992997115475784\n"
     ]
    },
    {
     "name": "stderr",
     "output_type": "stream",
     "text": [
      "\r",
      " 24%|██▎       | 71/300 [28:28<1:09:35, 18.24s/it]"
     ]
    },
    {
     "name": "stdout",
     "output_type": "stream",
     "text": [
      "running on iteration 2,2,1\n",
      "nan nan nan\n"
     ]
    },
    {
     "name": "stderr",
     "output_type": "stream",
     "text": [
      "\r",
      " 24%|██▍       | 72/300 [28:39<1:01:16, 16.12s/it]"
     ]
    },
    {
     "name": "stdout",
     "output_type": "stream",
     "text": [
      "running on iteration 2,2,2\n",
      "0.8080780006816222 0.7777326917883598 0.7103270085193361\n"
     ]
    },
    {
     "name": "stderr",
     "output_type": "stream",
     "text": [
      "\r",
      " 24%|██▍       | 73/300 [29:18<1:26:49, 22.95s/it]"
     ]
    },
    {
     "name": "stdout",
     "output_type": "stream",
     "text": [
      "running on iteration 2,2,3\n",
      "0.8446734242890211 0.8016872806021085 0.7621807026031374\n"
     ]
    },
    {
     "name": "stderr",
     "output_type": "stream",
     "text": [
      "\r",
      " 25%|██▍       | 74/300 [29:42<1:28:10, 23.41s/it]"
     ]
    },
    {
     "name": "stdout",
     "output_type": "stream",
     "text": [
      "running on iteration 2,2,4\n",
      "0.8359823889670003 0.7913844280839857 0.7476508123921652\n"
     ]
    },
    {
     "name": "stderr",
     "output_type": "stream",
     "text": [
      "\r",
      " 25%|██▌       | 75/300 [30:28<1:52:51, 30.10s/it]"
     ]
    },
    {
     "name": "stdout",
     "output_type": "stream",
     "text": [
      "running on iteration 2,3,0\n",
      "0.809365811010755 0.7700182642341433 0.7168040408377457\n"
     ]
    },
    {
     "name": "stderr",
     "output_type": "stream",
     "text": [
      "\r",
      " 25%|██▌       | 76/300 [30:42<1:34:01, 25.18s/it]"
     ]
    },
    {
     "name": "stdout",
     "output_type": "stream",
     "text": [
      "running on iteration 2,3,2\n",
      "0.8123604429449713 0.7693319983953636 0.7102613763426959\n"
     ]
    },
    {
     "name": "stderr",
     "output_type": "stream",
     "text": [
      "\r",
      " 26%|██▌       | 77/300 [31:42<2:13:01, 35.79s/it]"
     ]
    },
    {
     "name": "stdout",
     "output_type": "stream",
     "text": [
      "running on iteration 2,3,1\n",
      "0.8437170812777148 0.7913517266668735 0.7607903251383304\n"
     ]
    },
    {
     "name": "stderr",
     "output_type": "stream",
     "text": [
      "\r",
      " 26%|██▌       | 78/300 [32:10<2:02:58, 33.24s/it]"
     ]
    },
    {
     "name": "stdout",
     "output_type": "stream",
     "text": [
      "running on iteration 2,3,3\n",
      "0.8493503164110477 0.79319526548346 0.75169184115319\n"
     ]
    },
    {
     "name": "stderr",
     "output_type": "stream",
     "text": [
      "\r",
      " 26%|██▋       | 79/300 [33:10<2:32:24, 41.38s/it]"
     ]
    },
    {
     "name": "stdout",
     "output_type": "stream",
     "text": [
      "running on iteration 2,3,4\n",
      "0.8437224989228068 0.7843197505771192 0.7542101025260388\n"
     ]
    },
    {
     "name": "stderr",
     "output_type": "stream",
     "text": [
      "\r",
      " 27%|██▋       | 80/300 [33:40<2:19:03, 37.92s/it]"
     ]
    },
    {
     "name": "stdout",
     "output_type": "stream",
     "text": [
      "running on iteration 2,4,0\n",
      "0.8072094001914106 0.7710699793063136 0.7053489370286671\n"
     ]
    },
    {
     "name": "stderr",
     "output_type": "stream",
     "text": [
      "\r",
      " 27%|██▋       | 81/300 [34:01<2:00:09, 32.92s/it]"
     ]
    },
    {
     "name": "stdout",
     "output_type": "stream",
     "text": [
      "running on iteration 2,4,1\n",
      "nan nan nan\n"
     ]
    },
    {
     "name": "stderr",
     "output_type": "stream",
     "text": [
      "\r",
      " 27%|██▋       | 82/300 [34:12<1:36:00, 26.43s/it]"
     ]
    },
    {
     "name": "stdout",
     "output_type": "stream",
     "text": [
      "running on iteration 2,4,2\n",
      "0.8296200347838784 0.7805375474841199 0.7353507169791683\n"
     ]
    },
    {
     "name": "stderr",
     "output_type": "stream",
     "text": [
      "\r",
      " 28%|██▊       | 83/300 [35:05<2:03:36, 34.18s/it]"
     ]
    },
    {
     "name": "stdout",
     "output_type": "stream",
     "text": [
      "running on iteration 2,4,3\n",
      "0.8406434811752228 0.7891735183506055 0.752550052796398\n"
     ]
    },
    {
     "name": "stderr",
     "output_type": "stream",
     "text": [
      "\r",
      " 28%|██▊       | 84/300 [35:15<1:36:58, 26.94s/it]"
     ]
    },
    {
     "name": "stdout",
     "output_type": "stream",
     "text": [
      "running on iteration 2,4,4\n",
      "nan nan nan\n"
     ]
    },
    {
     "name": "stderr",
     "output_type": "stream",
     "text": [
      "\r",
      " 28%|██▊       | 85/300 [35:39<1:33:25, 26.07s/it]"
     ]
    },
    {
     "name": "stdout",
     "output_type": "stream",
     "text": [
      "running on iteration 2,5,1\n",
      "nan nan nan\n"
     ]
    },
    {
     "name": "stderr",
     "output_type": "stream",
     "text": [
      "\r",
      " 29%|██▊       | 86/300 [36:25<1:54:06, 31.99s/it]"
     ]
    },
    {
     "name": "stdout",
     "output_type": "stream",
     "text": [
      "running on iteration 2,5,0\n",
      "0.8090492173216858 0.7600054107150007 0.7242244488097475\n"
     ]
    },
    {
     "name": "stderr",
     "output_type": "stream",
     "text": [
      "\r",
      " 29%|██▉       | 87/300 [36:44<1:40:06, 28.20s/it]"
     ]
    },
    {
     "name": "stdout",
     "output_type": "stream",
     "text": [
      "running on iteration 2,5,2\n",
      "0.31442994450437367 0.2678953502491394 0.24162097249878137\n"
     ]
    },
    {
     "name": "stderr",
     "output_type": "stream",
     "text": [
      "\r",
      " 29%|██▉       | 88/300 [37:10<1:37:07, 27.49s/it]"
     ]
    },
    {
     "name": "stdout",
     "output_type": "stream",
     "text": [
      "running on iteration 2,5,3\n",
      "0.12953365101700934 0.15235774885350784 0.030484181419376723\n"
     ]
    },
    {
     "name": "stderr",
     "output_type": "stream",
     "text": [
      "\r",
      " 30%|██▉       | 89/300 [37:29<1:27:35, 24.91s/it]"
     ]
    },
    {
     "name": "stdout",
     "output_type": "stream",
     "text": [
      "running on iteration 2,5,4\n",
      "0.8339373930578615 0.7792426526504294 0.7776155705674622\n"
     ]
    },
    {
     "name": "stderr",
     "output_type": "stream",
     "text": [
      "\r",
      " 30%|███       | 90/300 [38:14<1:48:39, 31.05s/it]"
     ]
    },
    {
     "name": "stdout",
     "output_type": "stream",
     "text": [
      "running on iteration 3,0,0\n",
      "0.8467892477413059 0.8148001345493968 0.7466781740825496\n"
     ]
    },
    {
     "name": "stderr",
     "output_type": "stream",
     "text": [
      "\r",
      " 30%|███       | 91/300 [38:16<1:17:31, 22.25s/it]"
     ]
    },
    {
     "name": "stdout",
     "output_type": "stream",
     "text": [
      "running on iteration 3,0,1\n",
      "nan nan nan\n"
     ]
    },
    {
     "name": "stderr",
     "output_type": "stream",
     "text": [
      "\r",
      " 31%|███       | 92/300 [38:42<1:21:06, 23.40s/it]"
     ]
    },
    {
     "name": "stdout",
     "output_type": "stream",
     "text": [
      "running on iteration 3,0,2\n",
      "nan nan nan\n"
     ]
    },
    {
     "name": "stderr",
     "output_type": "stream",
     "text": [
      "\r",
      " 31%|███       | 93/300 [38:42<56:48, 16.47s/it]  "
     ]
    },
    {
     "name": "stdout",
     "output_type": "stream",
     "text": [
      "running on iteration 3,0,4\n",
      "nan nan nan\n"
     ]
    },
    {
     "name": "stderr",
     "output_type": "stream",
     "text": [
      "\r",
      " 31%|███▏      | 94/300 [39:12<1:09:55, 20.37s/it]"
     ]
    },
    {
     "name": "stdout",
     "output_type": "stream",
     "text": [
      "running on iteration 3,0,3\n",
      "0.8400787223495628 0.8055440568212131 0.7554312313606104\n"
     ]
    },
    {
     "name": "stderr",
     "output_type": "stream",
     "text": [
      "\r",
      " 32%|███▏      | 95/300 [39:23<1:00:55, 17.83s/it]"
     ]
    },
    {
     "name": "stdout",
     "output_type": "stream",
     "text": [
      "running on iteration 3,1,0\n",
      "0.8343570625110214 0.79237827413524 0.7537298077304065\n"
     ]
    },
    {
     "name": "stderr",
     "output_type": "stream",
     "text": [
      "\r",
      " 32%|███▏      | 96/300 [40:07<1:27:12, 25.65s/it]"
     ]
    },
    {
     "name": "stdout",
     "output_type": "stream",
     "text": [
      "running on iteration 3,1,1\n",
      "0.8238181988099296 0.7897585971254342 0.7323510812386302\n"
     ]
    },
    {
     "name": "stderr",
     "output_type": "stream",
     "text": [
      "\r",
      " 32%|███▏      | 97/300 [40:16<1:09:14, 20.46s/it]"
     ]
    },
    {
     "name": "stdout",
     "output_type": "stream",
     "text": [
      "running on iteration 3,1,2\n",
      "0.8416313042825608 0.799192191694717 0.7290868149779158\n"
     ]
    },
    {
     "name": "stderr",
     "output_type": "stream",
     "text": [
      "\r",
      " 33%|███▎      | 98/300 [40:54<1:26:52, 25.80s/it]"
     ]
    },
    {
     "name": "stdout",
     "output_type": "stream",
     "text": [
      "running on iteration 3,1,3\n",
      "0.8495857326916486 0.7996661897131685 0.7359116420548532\n"
     ]
    },
    {
     "name": "stderr",
     "output_type": "stream",
     "text": [
      "\r",
      " 33%|███▎      | 99/300 [41:15<1:21:42, 24.39s/it]"
     ]
    },
    {
     "name": "stdout",
     "output_type": "stream",
     "text": [
      "running on iteration 3,1,4\n",
      "0.8621564467934552 0.8090942623294773 0.7742311987303521\n"
     ]
    },
    {
     "name": "stderr",
     "output_type": "stream",
     "text": [
      "\r",
      " 33%|███▎      | 100/300 [42:02<1:43:45, 31.13s/it]"
     ]
    },
    {
     "name": "stdout",
     "output_type": "stream",
     "text": [
      "running on iteration 3,2,0\n",
      "0.8128561474700224 0.7871887648737586 0.716518302692921\n"
     ]
    },
    {
     "name": "stderr",
     "output_type": "stream",
     "text": [
      "\r",
      " 34%|███▎      | 101/300 [42:04<1:14:28, 22.45s/it]"
     ]
    },
    {
     "name": "stdout",
     "output_type": "stream",
     "text": [
      "running on iteration 3,2,1\n",
      "0.8407704856844599 0.800984375890512 0.7502837112280457\n"
     ]
    },
    {
     "name": "stderr",
     "output_type": "stream",
     "text": [
      "\r",
      " 34%|███▍      | 102/300 [42:52<1:39:21, 30.11s/it]"
     ]
    },
    {
     "name": "stdout",
     "output_type": "stream",
     "text": [
      "running on iteration 3,2,2\n",
      "0.8425259189623041 0.8109183204391716 0.7682539048872128\n"
     ]
    },
    {
     "name": "stderr",
     "output_type": "stream",
     "text": [
      "\r",
      " 34%|███▍      | 103/300 [43:02<1:19:19, 24.16s/it]"
     ]
    },
    {
     "name": "stdout",
     "output_type": "stream",
     "text": [
      "running on iteration 3,2,3\n",
      "0.8512620731304018 0.8185295268775112 0.7449513607827591\n"
     ]
    },
    {
     "name": "stderr",
     "output_type": "stream",
     "text": [
      "\r",
      " 35%|███▍      | 104/300 [43:32<1:24:39, 25.92s/it]"
     ]
    },
    {
     "name": "stdout",
     "output_type": "stream",
     "text": [
      "running on iteration 3,3,0\n",
      "nan nan nan\n"
     ]
    },
    {
     "name": "stderr",
     "output_type": "stream",
     "text": [
      "\r",
      " 35%|███▌      | 105/300 [44:13<1:38:05, 30.18s/it]"
     ]
    },
    {
     "name": "stdout",
     "output_type": "stream",
     "text": [
      "running on iteration 3,2,4\n",
      "0.852219617351827 0.8065182646841296 0.7709887093671249\n"
     ]
    },
    {
     "name": "stderr",
     "output_type": "stream",
     "text": [
      "\r",
      " 35%|███▌      | 106/300 [44:15<1:10:51, 21.91s/it]"
     ]
    },
    {
     "name": "stdout",
     "output_type": "stream",
     "text": [
      "running on iteration 3,3,1\n",
      "nan nan nan\n"
     ]
    },
    {
     "name": "stderr",
     "output_type": "stream",
     "text": [
      "\r",
      " 36%|███▌      | 107/300 [44:52<1:25:08, 26.47s/it]"
     ]
    },
    {
     "name": "stdout",
     "output_type": "stream",
     "text": [
      "running on iteration 3,3,2\n",
      "0.820054486851655 0.7798842641607546 0.7217234176622921\n"
     ]
    },
    {
     "name": "stderr",
     "output_type": "stream",
     "text": [
      "\r",
      " 36%|███▌      | 108/300 [45:15<1:21:27, 25.46s/it]"
     ]
    },
    {
     "name": "stdout",
     "output_type": "stream",
     "text": [
      "running on iteration 3,3,4\n",
      "nan nan nan\n"
     ]
    },
    {
     "name": "stderr",
     "output_type": "stream",
     "text": [
      "\r",
      " 36%|███▋      | 109/300 [45:54<1:33:45, 29.45s/it]"
     ]
    },
    {
     "name": "stdout",
     "output_type": "stream",
     "text": [
      "running on iteration 3,3,3\n",
      "0.8504376700394705 0.7947747769401013 0.7682104985044287\n"
     ]
    },
    {
     "name": "stderr",
     "output_type": "stream",
     "text": [
      "\r",
      " 37%|███▋      | 110/300 [46:16<1:25:47, 27.09s/it]"
     ]
    },
    {
     "name": "stdout",
     "output_type": "stream",
     "text": [
      "running on iteration 3,4,1\n",
      "nan nan nan\n"
     ]
    },
    {
     "name": "stderr",
     "output_type": "stream",
     "text": [
      "\r",
      " 37%|███▋      | 111/300 [46:50<1:32:13, 29.28s/it]"
     ]
    },
    {
     "name": "stdout",
     "output_type": "stream",
     "text": [
      "running on iteration 3,4,0\n",
      "0.8488554854047826 0.8088995925054683 0.7643783423102098\n"
     ]
    },
    {
     "name": "stderr",
     "output_type": "stream",
     "text": [
      "\r",
      " 37%|███▋      | 112/300 [47:15<1:27:26, 27.90s/it]"
     ]
    },
    {
     "name": "stdout",
     "output_type": "stream",
     "text": [
      "running on iteration 3,4,2\n",
      "0.8474153491343985 0.7926990620961412 0.7635479753977081\n"
     ]
    },
    {
     "name": "stderr",
     "output_type": "stream",
     "text": [
      "\r",
      " 38%|███▊      | 113/300 [48:02<1:45:01, 33.70s/it]"
     ]
    },
    {
     "name": "stdout",
     "output_type": "stream",
     "text": [
      "running on iteration 3,4,3\n",
      "0.8377516824878831 0.7954465313447191 0.7692278405306571\n"
     ]
    },
    {
     "name": "stderr",
     "output_type": "stream",
     "text": [
      "\r",
      " 38%|███▊      | 114/300 [48:24<1:33:38, 30.21s/it]"
     ]
    },
    {
     "name": "stdout",
     "output_type": "stream",
     "text": [
      "running on iteration 3,4,4\n",
      "nan nan nan\n"
     ]
    },
    {
     "name": "stderr",
     "output_type": "stream",
     "text": [
      "\r",
      " 38%|███▊      | 115/300 [48:38<1:18:26, 25.44s/it]"
     ]
    },
    {
     "name": "stdout",
     "output_type": "stream",
     "text": [
      "running on iteration 3,5,1\n",
      "nan nan nan\n"
     ]
    },
    {
     "name": "stderr",
     "output_type": "stream",
     "text": [
      "\r",
      " 39%|███▊      | 116/300 [49:32<1:44:07, 33.95s/it]"
     ]
    },
    {
     "name": "stdout",
     "output_type": "stream",
     "text": [
      "running on iteration 3,5,0\n",
      "0.8262199794517544 0.7647384840285953 0.7312749983113936\n"
     ]
    },
    {
     "name": "stderr",
     "output_type": "stream",
     "text": [
      "\r",
      " 39%|███▉      | 117/300 [50:01<1:38:25, 32.27s/it]"
     ]
    },
    {
     "name": "stdout",
     "output_type": "stream",
     "text": [
      "running on iteration 3,5,2\n",
      "nan nan nan\n"
     ]
    },
    {
     "name": "stderr",
     "output_type": "stream",
     "text": [
      "\r",
      " 39%|███▉      | 118/300 [50:24<1:29:58, 29.66s/it]"
     ]
    },
    {
     "name": "stdout",
     "output_type": "stream",
     "text": [
      "running on iteration 3,5,4\n",
      "nan nan nan\n"
     ]
    },
    {
     "name": "stderr",
     "output_type": "stream",
     "text": [
      "\r",
      " 40%|███▉      | 119/300 [51:12<1:46:23, 35.27s/it]"
     ]
    },
    {
     "name": "stdout",
     "output_type": "stream",
     "text": [
      "running on iteration 3,5,3\n",
      "0.8368496201954511 0.7752945200126705 0.7609137570368758\n"
     ]
    },
    {
     "name": "stderr",
     "output_type": "stream",
     "text": [
      "\r",
      " 40%|████      | 120/300 [51:22<1:22:37, 27.54s/it]"
     ]
    },
    {
     "name": "stdout",
     "output_type": "stream",
     "text": [
      "running on iteration 4,0,0\n",
      "0.8096966484942505 0.7842282912614598 0.7218565336071846\n"
     ]
    },
    {
     "name": "stderr",
     "output_type": "stream",
     "text": [
      "\r",
      " 40%|████      | 121/300 [52:02<1:32:56, 31.15s/it]"
     ]
    },
    {
     "name": "stdout",
     "output_type": "stream",
     "text": [
      "running on iteration 4,0,1\n",
      "0.8119776647510126 0.7902378994377265 0.7283877364510686\n"
     ]
    },
    {
     "name": "stderr",
     "output_type": "stream",
     "text": [
      "\r",
      " 41%|████      | 122/300 [52:06<1:08:43, 23.16s/it]"
     ]
    },
    {
     "name": "stdout",
     "output_type": "stream",
     "text": [
      "running on iteration 4,0,3\n",
      "0.8558750925378973 0.8162408115142499 0.7867162143464921\n"
     ]
    },
    {
     "name": "stderr",
     "output_type": "stream",
     "text": [
      "\r",
      " 41%|████      | 123/300 [52:59<1:34:51, 32.15s/it]"
     ]
    },
    {
     "name": "stdout",
     "output_type": "stream",
     "text": [
      "running on iteration 4,0,2\n",
      "0.8506180411449343 0.8121389568176969 0.7801373527020516\n"
     ]
    },
    {
     "name": "stderr",
     "output_type": "stream",
     "text": [
      "\r",
      " 41%|████▏     | 124/300 [53:01<1:07:14, 22.92s/it]"
     ]
    },
    {
     "name": "stdout",
     "output_type": "stream",
     "text": [
      "running on iteration 4,0,4\n",
      "0.8527394554592386 0.8173708427103884 0.7746469136720506\n"
     ]
    },
    {
     "name": "stderr",
     "output_type": "stream",
     "text": [
      "\r",
      " 42%|████▏     | 125/300 [53:38<1:19:55, 27.40s/it]"
     ]
    },
    {
     "name": "stdout",
     "output_type": "stream",
     "text": [
      "running on iteration 4,1,0\n",
      "0.8068863201157225 0.77318147686985 0.7137822931377068\n"
     ]
    },
    {
     "name": "stderr",
     "output_type": "stream",
     "text": [
      "\r",
      " 42%|████▏     | 126/300 [53:50<1:06:00, 22.76s/it]"
     ]
    },
    {
     "name": "stdout",
     "output_type": "stream",
     "text": [
      "running on iteration 4,1,1\n",
      "0.8470955924705031 0.8047741936772332 0.7155190410868321\n"
     ]
    },
    {
     "name": "stderr",
     "output_type": "stream",
     "text": [
      "\r",
      " 42%|████▏     | 127/300 [54:21<1:12:51, 25.27s/it]"
     ]
    },
    {
     "name": "stdout",
     "output_type": "stream",
     "text": [
      "running on iteration 4,1,2\n",
      "0.8500087303757058 0.8111744662554092 0.7399293230089524\n"
     ]
    },
    {
     "name": "stderr",
     "output_type": "stream",
     "text": [
      "\r",
      " 43%|████▎     | 128/300 [54:42<1:08:40, 23.96s/it]"
     ]
    },
    {
     "name": "stdout",
     "output_type": "stream",
     "text": [
      "running on iteration 4,1,3\n",
      "0.8469092441856242 0.8144448966165756 0.7186469070887885\n"
     ]
    },
    {
     "name": "stderr",
     "output_type": "stream",
     "text": [
      "\r",
      " 43%|████▎     | 129/300 [55:08<1:09:18, 24.32s/it]"
     ]
    },
    {
     "name": "stdout",
     "output_type": "stream",
     "text": [
      "running on iteration 4,1,4\n",
      "0.8551659260918869 0.8176120984257269 0.7520819696691647\n"
     ]
    },
    {
     "name": "stderr",
     "output_type": "stream",
     "text": [
      "\r",
      " 43%|████▎     | 130/300 [55:46<1:21:15, 28.68s/it]"
     ]
    },
    {
     "name": "stdout",
     "output_type": "stream",
     "text": [
      "running on iteration 4,2,0\n",
      "0.8308884884236795 0.8008719440294267 0.7485773212255067\n"
     ]
    },
    {
     "name": "stderr",
     "output_type": "stream",
     "text": [
      "\r",
      " 44%|████▎     | 131/300 [55:56<1:04:17, 22.83s/it]"
     ]
    },
    {
     "name": "stdout",
     "output_type": "stream",
     "text": [
      "running on iteration 4,2,1\n",
      "0.808005721437488 0.7834699875790686 0.717590165461972\n"
     ]
    },
    {
     "name": "stderr",
     "output_type": "stream",
     "text": [
      "\r",
      " 44%|████▍     | 132/300 [56:33<1:16:07, 27.19s/it]"
     ]
    },
    {
     "name": "stdout",
     "output_type": "stream",
     "text": [
      "running on iteration 4,2,2\n",
      "0.8249342521660655 0.7907628020480041 0.7411435976973881\n"
     ]
    },
    {
     "name": "stderr",
     "output_type": "stream",
     "text": [
      "\r",
      " 44%|████▍     | 133/300 [56:41<59:59, 21.55s/it]  "
     ]
    },
    {
     "name": "stdout",
     "output_type": "stream",
     "text": [
      "running on iteration 4,2,3\n",
      "0.8554781098308936 0.8031876302784408 0.7587467674769365\n"
     ]
    },
    {
     "name": "stderr",
     "output_type": "stream",
     "text": [
      "\r",
      " 45%|████▍     | 134/300 [57:27<1:19:23, 28.70s/it]"
     ]
    },
    {
     "name": "stdout",
     "output_type": "stream",
     "text": [
      "running on iteration 4,2,4\n",
      "0.8473403153764225 0.8079164527872403 0.7728708799235562\n"
     ]
    },
    {
     "name": "stderr",
     "output_type": "stream",
     "text": [
      "\r",
      " 45%|████▌     | 135/300 [57:42<1:07:29, 24.54s/it]"
     ]
    },
    {
     "name": "stdout",
     "output_type": "stream",
     "text": [
      "running on iteration 4,3,0\n",
      "0.8556840175843364 0.8051639511482873 0.757597439557026\n"
     ]
    },
    {
     "name": "stderr",
     "output_type": "stream",
     "text": [
      "\r",
      " 45%|████▌     | 136/300 [58:56<1:47:37, 39.38s/it]"
     ]
    },
    {
     "name": "stdout",
     "output_type": "stream",
     "text": [
      "running on iteration 4,3,1\n",
      "0.8511092475200607 0.7979438886501642 0.7580584479700487\n"
     ]
    },
    {
     "name": "stderr",
     "output_type": "stream",
     "text": [
      "\r",
      " 46%|████▌     | 137/300 [59:03<1:20:54, 29.78s/it]"
     ]
    },
    {
     "name": "stdout",
     "output_type": "stream",
     "text": [
      "running on iteration 4,3,3\n",
      "0.8330711859065278 0.7665823366675709 0.6924586286983072\n"
     ]
    },
    {
     "name": "stderr",
     "output_type": "stream",
     "text": [
      "\r",
      " 46%|████▌     | 138/300 [59:58<1:41:10, 37.47s/it]"
     ]
    },
    {
     "name": "stdout",
     "output_type": "stream",
     "text": [
      "running on iteration 4,3,2\n",
      "0.8492444680770778 0.7830816901276774 0.750321285868623\n"
     ]
    },
    {
     "name": "stderr",
     "output_type": "stream",
     "text": [
      "\r",
      " 46%|████▋     | 139/300 [1:00:00<1:11:22, 26.60s/it]"
     ]
    },
    {
     "name": "stdout",
     "output_type": "stream",
     "text": [
      "running on iteration 4,3,4\n"
     ]
    },
    {
     "name": "stderr",
     "output_type": "stream",
     "text": [
      "\r",
      " 47%|████▋     | 140/300 [1:01:05<1:42:20, 38.38s/it]"
     ]
    },
    {
     "name": "stdout",
     "output_type": "stream",
     "text": [
      "0.8557268845560086 0.7970436508048768 0.7685559088123018\n",
      "running on iteration 4,4,0\n",
      "0.8585384786256401 0.8142837377349694 0.7457242159119339\n"
     ]
    },
    {
     "name": "stderr",
     "output_type": "stream",
     "text": [
      "\r",
      " 47%|████▋     | 141/300 [1:01:09<1:13:44, 27.83s/it]"
     ]
    },
    {
     "name": "stdout",
     "output_type": "stream",
     "text": [
      "running on iteration 4,4,1\n",
      "0.843500020166644 0.7939001781197248 0.7694584098119058\n"
     ]
    },
    {
     "name": "stderr",
     "output_type": "stream",
     "text": [
      "\r",
      " 47%|████▋     | 142/300 [1:02:09<1:39:13, 37.68s/it]"
     ]
    },
    {
     "name": "stdout",
     "output_type": "stream",
     "text": [
      "running on iteration 4,4,2\n",
      "0.8447143712599599 0.7930750898182568 0.7583804988730999\n"
     ]
    },
    {
     "name": "stderr",
     "output_type": "stream",
     "text": [
      "\r",
      " 48%|████▊     | 143/300 [1:02:15<1:13:12, 27.98s/it]"
     ]
    },
    {
     "name": "stdout",
     "output_type": "stream",
     "text": [
      "running on iteration 4,4,3\n",
      "0.8425171898925174 0.7920888944318829 0.7526969896712209\n"
     ]
    },
    {
     "name": "stderr",
     "output_type": "stream",
     "text": [
      "\r",
      " 48%|████▊     | 144/300 [1:03:09<1:33:18, 35.89s/it]"
     ]
    },
    {
     "name": "stdout",
     "output_type": "stream",
     "text": [
      "running on iteration 4,4,4\n",
      "0.8545075769982442 0.7984763158271732 0.7627328479560089\n"
     ]
    },
    {
     "name": "stderr",
     "output_type": "stream",
     "text": [
      "\r",
      " 48%|████▊     | 145/300 [1:03:16<1:09:55, 27.07s/it]"
     ]
    },
    {
     "name": "stdout",
     "output_type": "stream",
     "text": [
      "running on iteration 4,5,0\n",
      "0.8357010234805217 0.7728459186094498 0.737941362195921\n"
     ]
    },
    {
     "name": "stderr",
     "output_type": "stream",
     "text": [
      "\r",
      " 49%|████▊     | 146/300 [1:04:22<1:39:47, 38.88s/it]"
     ]
    },
    {
     "name": "stdout",
     "output_type": "stream",
     "text": [
      "running on iteration 4,5,1\n",
      "0.7910617138103249 0.7291139875016958 0.7053806378881481\n"
     ]
    },
    {
     "name": "stderr",
     "output_type": "stream",
     "text": [
      "\r",
      " 49%|████▉     | 147/300 [1:04:51<1:31:20, 35.82s/it]"
     ]
    },
    {
     "name": "stdout",
     "output_type": "stream",
     "text": [
      "running on iteration 4,5,3\n",
      "nan nan nan\n"
     ]
    },
    {
     "name": "stderr",
     "output_type": "stream",
     "text": [
      "\r",
      " 49%|████▉     | 148/300 [1:05:36<1:38:17, 38.80s/it]"
     ]
    },
    {
     "name": "stdout",
     "output_type": "stream",
     "text": [
      "running on iteration 4,5,2\n",
      "0.8263859107137446 0.7780806458431823 0.7543656820694846\n"
     ]
    },
    {
     "name": "stderr",
     "output_type": "stream",
     "text": [
      "\r",
      " 50%|████▉     | 149/300 [1:05:39<1:10:35, 28.05s/it]"
     ]
    },
    {
     "name": "stdout",
     "output_type": "stream",
     "text": [
      "running on iteration 4,5,4\n",
      "nan nan nan\n"
     ]
    },
    {
     "name": "stderr",
     "output_type": "stream",
     "text": [
      "\r",
      " 50%|█████     | 150/300 [1:06:20<1:19:53, 31.96s/it]"
     ]
    },
    {
     "name": "stdout",
     "output_type": "stream",
     "text": [
      "running on iteration 5,0,0\n",
      "0.8336976655441491 0.8076546788688368 0.7448546392936103\n"
     ]
    },
    {
     "name": "stderr",
     "output_type": "stream",
     "text": [
      "\r",
      " 50%|█████     | 151/300 [1:06:22<57:05, 22.99s/it]  "
     ]
    },
    {
     "name": "stdout",
     "output_type": "stream",
     "text": [
      "running on iteration 5,0,1\n",
      "0.8393470883507292 0.8109312327599106 0.7505793508756281\n"
     ]
    },
    {
     "name": "stderr",
     "output_type": "stream",
     "text": [
      "\r",
      " 51%|█████     | 152/300 [1:07:00<1:07:23, 27.32s/it]"
     ]
    },
    {
     "name": "stdout",
     "output_type": "stream",
     "text": [
      "running on iteration 5,0,2\n",
      "0.8511445483507148 0.8201968012912887 0.7228286100455205\n"
     ]
    },
    {
     "name": "stderr",
     "output_type": "stream",
     "text": [
      "\r",
      " 51%|█████     | 153/300 [1:07:09<53:19, 21.76s/it]  "
     ]
    },
    {
     "name": "stdout",
     "output_type": "stream",
     "text": [
      "running on iteration 5,0,3\n",
      "0.8657453883084077 0.8145037665992739 0.7653873570517361\n"
     ]
    },
    {
     "name": "stderr",
     "output_type": "stream",
     "text": [
      "\r",
      " 51%|█████▏    | 154/300 [1:07:52<1:08:53, 28.31s/it]"
     ]
    },
    {
     "name": "stdout",
     "output_type": "stream",
     "text": [
      "running on iteration 5,0,4\n",
      "0.8527379214640948 0.8111664777574731 0.7473556248514958\n"
     ]
    },
    {
     "name": "stderr",
     "output_type": "stream",
     "text": [
      "\r",
      " 52%|█████▏    | 155/300 [1:07:54<49:12, 20.36s/it]  "
     ]
    },
    {
     "name": "stdout",
     "output_type": "stream",
     "text": [
      "running on iteration 5,1,1\n",
      "0.855579444334021 0.7919526943446632 0.7156556036732199\n"
     ]
    },
    {
     "name": "stderr",
     "output_type": "stream",
     "text": [
      "\r",
      " 52%|█████▏    | 156/300 [1:09:02<1:23:13, 34.68s/it]"
     ]
    },
    {
     "name": "stdout",
     "output_type": "stream",
     "text": [
      "running on iteration 5,1,0\n",
      "0.8579035679998518 0.8154344594811005 0.7575467136058611\n"
     ]
    },
    {
     "name": "stderr",
     "output_type": "stream",
     "text": [
      "\r",
      " 52%|█████▏    | 157/300 [1:09:11<1:03:49, 26.78s/it]"
     ]
    },
    {
     "name": "stdout",
     "output_type": "stream",
     "text": [
      "running on iteration 5,1,2\n",
      "0.8474318956245628 0.7960437786338992 0.7348704179382474\n"
     ]
    },
    {
     "name": "stderr",
     "output_type": "stream",
     "text": [
      "\r",
      " 53%|█████▎    | 158/300 [1:09:49<1:11:34, 30.24s/it]"
     ]
    },
    {
     "name": "stdout",
     "output_type": "stream",
     "text": [
      "running on iteration 5,1,3\n",
      "0.8488294958835555 0.7910808588388631 0.7638342223304845\n"
     ]
    },
    {
     "name": "stderr",
     "output_type": "stream",
     "text": [
      "\r",
      " 53%|█████▎    | 159/300 [1:10:12<1:06:10, 28.16s/it]"
     ]
    },
    {
     "name": "stdout",
     "output_type": "stream",
     "text": [
      "running on iteration 5,1,4\n",
      "0.8524774246019958 0.7940441331574342 0.7547937032402977\n"
     ]
    },
    {
     "name": "stderr",
     "output_type": "stream",
     "text": [
      "\r",
      " 53%|█████▎    | 160/300 [1:11:16<1:30:58, 38.99s/it]"
     ]
    },
    {
     "name": "stdout",
     "output_type": "stream",
     "text": [
      "running on iteration 5,2,0\n",
      "0.8630553517630023 0.8078217779368734 0.7516641033278211\n"
     ]
    },
    {
     "name": "stderr",
     "output_type": "stream",
     "text": [
      "\r",
      " 54%|█████▎    | 161/300 [1:11:30<1:12:23, 31.25s/it]"
     ]
    },
    {
     "name": "stdout",
     "output_type": "stream",
     "text": [
      "running on iteration 5,2,1\n",
      "0.8624545784813694 0.8150256281843238 0.7781614408291169\n"
     ]
    },
    {
     "name": "stderr",
     "output_type": "stream",
     "text": [
      "\r",
      " 54%|█████▍    | 162/300 [1:12:24<1:27:31, 38.05s/it]"
     ]
    },
    {
     "name": "stdout",
     "output_type": "stream",
     "text": [
      "running on iteration 5,2,2\n",
      "0.8565152793747411 0.7960643211997361 0.7246672905538051\n"
     ]
    },
    {
     "name": "stderr",
     "output_type": "stream",
     "text": [
      "\r",
      " 54%|█████▍    | 163/300 [1:12:38<1:10:47, 31.01s/it]"
     ]
    },
    {
     "name": "stdout",
     "output_type": "stream",
     "text": [
      "running on iteration 5,2,3\n",
      "0.8642381272826201 0.7999081841950479 0.7586752029219143\n"
     ]
    },
    {
     "name": "stderr",
     "output_type": "stream",
     "text": [
      "\r",
      " 55%|█████▍    | 164/300 [1:13:21<1:18:28, 34.62s/it]"
     ]
    },
    {
     "name": "stdout",
     "output_type": "stream",
     "text": [
      "running on iteration 5,2,4\n",
      "0.8576028977114332 0.8054166043838806 0.746753679581918\n"
     ]
    },
    {
     "name": "stderr",
     "output_type": "stream",
     "text": [
      "\r",
      " 55%|█████▌    | 165/300 [1:13:41<1:07:54, 30.18s/it]"
     ]
    },
    {
     "name": "stdout",
     "output_type": "stream",
     "text": [
      "running on iteration 5,3,0\n",
      "0.8595408815373243 0.8178549540925969 0.7581375335866989\n"
     ]
    },
    {
     "name": "stderr",
     "output_type": "stream",
     "text": [
      "\r",
      " 55%|█████▌    | 166/300 [1:14:41<1:27:26, 39.16s/it]"
     ]
    },
    {
     "name": "stdout",
     "output_type": "stream",
     "text": [
      "running on iteration 5,3,1\n",
      "0.8625760589358907 0.8112659747839744 0.7820133389912334\n"
     ]
    },
    {
     "name": "stderr",
     "output_type": "stream",
     "text": [
      "\r",
      " 56%|█████▌    | 167/300 [1:15:14<1:22:26, 37.19s/it]"
     ]
    },
    {
     "name": "stdout",
     "output_type": "stream",
     "text": [
      "running on iteration 5,3,2\n",
      "0.8691638741356075 0.8107071497944034 0.7769239974354076\n"
     ]
    },
    {
     "name": "stderr",
     "output_type": "stream",
     "text": [
      "\r",
      " 56%|█████▌    | 168/300 [1:16:02<1:28:55, 40.42s/it]"
     ]
    },
    {
     "name": "stdout",
     "output_type": "stream",
     "text": [
      "running on iteration 5,3,3\n",
      "0.8542671186176898 0.8002340931558455 0.7521077903035643\n"
     ]
    },
    {
     "name": "stderr",
     "output_type": "stream",
     "text": [
      "\r",
      " 56%|█████▋    | 169/300 [1:16:49<1:32:50, 42.53s/it]"
     ]
    },
    {
     "name": "stdout",
     "output_type": "stream",
     "text": [
      "running on iteration 5,3,4\n",
      "0.8577223714552213 0.811710626186903 0.759824076111967\n"
     ]
    },
    {
     "name": "stderr",
     "output_type": "stream",
     "text": [
      "\r",
      " 57%|█████▋    | 170/300 [1:17:34<1:33:44, 43.27s/it]"
     ]
    },
    {
     "name": "stdout",
     "output_type": "stream",
     "text": [
      "running on iteration 5,4,0\n",
      "0.8614770949836708 0.7974433699821573 0.7851805446083899\n"
     ]
    },
    {
     "name": "stderr",
     "output_type": "stream",
     "text": [
      "\r",
      " 57%|█████▋    | 171/300 [1:18:01<1:22:12, 38.23s/it]"
     ]
    },
    {
     "name": "stdout",
     "output_type": "stream",
     "text": [
      "running on iteration 5,4,1\n",
      "0.8538018948497081 0.8099634875989214 0.7603976271454452\n"
     ]
    },
    {
     "name": "stderr",
     "output_type": "stream",
     "text": [
      "\r",
      " 57%|█████▋    | 172/300 [1:18:43<1:24:13, 39.48s/it]"
     ]
    },
    {
     "name": "stdout",
     "output_type": "stream",
     "text": [
      "running on iteration 5,4,2\n",
      "0.8563766069575569 0.7872203493316455 0.7780745059636168\n"
     ]
    },
    {
     "name": "stderr",
     "output_type": "stream",
     "text": [
      "\r",
      " 58%|█████▊    | 173/300 [1:19:25<1:25:20, 40.32s/it]"
     ]
    },
    {
     "name": "stdout",
     "output_type": "stream",
     "text": [
      "running on iteration 5,4,3\n",
      "0.842763818710164 0.7859534640288393 0.7405283204966934\n"
     ]
    },
    {
     "name": "stderr",
     "output_type": "stream",
     "text": [
      "\r",
      " 58%|█████▊    | 174/300 [1:20:17<1:32:11, 43.90s/it]"
     ]
    },
    {
     "name": "stdout",
     "output_type": "stream",
     "text": [
      "running on iteration 5,4,4\n",
      "0.8415603232507798 0.7857989093435152 0.728583431264956\n"
     ]
    },
    {
     "name": "stderr",
     "output_type": "stream",
     "text": [
      "\r",
      " 58%|█████▊    | 175/300 [1:20:28<1:10:23, 33.79s/it]"
     ]
    },
    {
     "name": "stdout",
     "output_type": "stream",
     "text": [
      "running on iteration 5,5,0\n",
      "0.8413801913495432 0.7871804305185762 0.760636589952093\n"
     ]
    },
    {
     "name": "stderr",
     "output_type": "stream",
     "text": [
      "\r",
      " 59%|█████▊    | 176/300 [1:22:08<1:50:47, 53.60s/it]"
     ]
    },
    {
     "name": "stdout",
     "output_type": "stream",
     "text": [
      "running on iteration 5,5,1\n",
      "0.8380758301326644 0.8058048159483574 0.7609039131796093\n"
     ]
    },
    {
     "name": "stderr",
     "output_type": "stream",
     "text": [
      "\r",
      " 59%|█████▉    | 177/300 [1:22:24<1:26:56, 42.41s/it]"
     ]
    },
    {
     "name": "stdout",
     "output_type": "stream",
     "text": [
      "running on iteration 5,5,2\n",
      "0.8375354598133358 0.7816978024310898 0.7986982312841326\n"
     ]
    },
    {
     "name": "stderr",
     "output_type": "stream",
     "text": [
      "\r",
      " 59%|█████▉    | 178/300 [1:23:50<1:52:47, 55.47s/it]"
     ]
    },
    {
     "name": "stdout",
     "output_type": "stream",
     "text": [
      "running on iteration 5,5,3\n",
      "0.838951540237142 0.7698926527082339 0.7704888515001975\n"
     ]
    },
    {
     "name": "stderr",
     "output_type": "stream",
     "text": [
      "\r",
      " 60%|█████▉    | 179/300 [1:24:21<1:36:57, 48.08s/it]"
     ]
    },
    {
     "name": "stdout",
     "output_type": "stream",
     "text": [
      "running on iteration 6,0,0\n",
      "0.8218268135907718 0.8013622818235626 0.7349161304585416\n"
     ]
    },
    {
     "name": "stderr",
     "output_type": "stream",
     "text": [
      "\r",
      " 60%|██████    | 180/300 [1:25:10<1:36:41, 48.35s/it]"
     ]
    },
    {
     "name": "stdout",
     "output_type": "stream",
     "text": [
      "running on iteration 5,5,4\n",
      "0.8496562113383156 0.7850022285595666 0.7379630423780646\n"
     ]
    },
    {
     "name": "stderr",
     "output_type": "stream",
     "text": [
      "\r",
      " 60%|██████    | 181/300 [1:25:26<1:17:03, 38.86s/it]"
     ]
    }
   ],
   "source": [
    "train_corr = np.zeros((len(nf),len(kz),len(ds)));train_corr.fill(-1)\n",
    "test1_corr = np.zeros((len(nf),len(kz),len(ds)));test1_corr.fill(-1)\n",
    "test2_corr = np.zeros((len(nf),len(kz),len(ds)));test2_corr.fill(-1)\n",
    "\n",
    "f = open('/home/cccr/supriyo/panini/filtered_data/historical/JGRJD/conv1d/RMM1_models.txt', 'w')\n",
    "\n",
    "ii = range(len(nf))\n",
    "kk = range(len(kz))\n",
    "jj = range(len(ds))\n",
    "          \n",
    "paramlist = list(itertools.product(ii,kk,jj))\n",
    "print(multiprocessing.cpu_count())\n",
    "        \n",
    "pool = multiprocessing.Pool(processes = 2 )\n",
    "\n",
    "for i,k,j,train_corr_,test1_corr_,test2_corr_  in tqdm.tqdm(pool.imap_unordered(models, paramlist), total=len(paramlist)):\n",
    "    train_corr[i,k,j] = train_corr_\n",
    "    test1_corr[i,k,j] = test1_corr_\n",
    "    test2_corr[i,k,j] = test2_corr_ \n",
    "  "
   ]
  },
  {
   "cell_type": "code",
   "execution_count": null,
   "metadata": {},
   "outputs": [],
   "source": [
    "np.save('train_rmm2_login.npy',train_corr)\n",
    "np.save('test1_rmm2_login.npy',test1_corr)\n",
    "np.save('test2_rmm2_login.npy',test2_corr)"
   ]
  },
  {
   "cell_type": "code",
   "execution_count": 2,
   "metadata": {},
   "outputs": [],
   "source": [
    "train_corr = np.load('train_rmm2_login.npy')\n",
    "test1_corr = np.load('test1_rmm2_login.npy')\n",
    "test2_corr = np.load('test2_rmm2_login.npy')"
   ]
  },
  {
   "cell_type": "code",
   "execution_count": 6,
   "metadata": {},
   "outputs": [
    {
     "data": {
      "text/plain": [
       "(array([0.85598559]), array([0.8165648]), array([0.78725746]))"
      ]
     },
     "execution_count": 6,
     "metadata": {},
     "output_type": "execute_result"
    }
   ],
   "source": [
    "te = test1_corr+test2_corr\n",
    "i = np.where(te== np.nanmax(te))\n",
    "train_corr[i],test1_corr[i],test2_corr[i]"
   ]
  },
  {
   "cell_type": "code",
   "execution_count": 12,
   "metadata": {},
   "outputs": [
    {
     "data": {
      "text/plain": [
       "(array([0.83753546]), array([0.7816978]), array([0.79869823]))"
      ]
     },
     "execution_count": 12,
     "metadata": {},
     "output_type": "execute_result"
    }
   ],
   "source": [
    "te = test1_corr+test2_corr\n",
    "i = np.where(test2_corr== np.nanmax(test2_corr))\n",
    "train_corr[i],test1_corr[i],test2_corr[i]"
   ]
  },
  {
   "cell_type": "code",
   "execution_count": 14,
   "metadata": {},
   "outputs": [
    {
     "data": {
      "text/plain": [
       "([[2, 2, 2],\n",
       "  [8, 4, 2],\n",
       "  [4, 4, 4],\n",
       "  [16, 8, 4],\n",
       "  [8, 8, 8],\n",
       "  [32, 16, 8],\n",
       "  [16, 16, 16],\n",
       "  [64, 32, 16],\n",
       "  [32, 32, 32],\n",
       "  [128, 64, 32]],\n",
       " [[2, 2, 2], [8, 4, 2], [4, 4, 4], [16, 8, 4], [8, 8, 8], [32, 16, 8]])"
      ]
     },
     "execution_count": 14,
     "metadata": {},
     "output_type": "execute_result"
    }
   ],
   "source": [
    "nf,kz"
   ]
  },
  {
   "cell_type": "code",
   "execution_count": 7,
   "metadata": {},
   "outputs": [
    {
     "data": {
      "text/plain": [
       "(array([7]), array([0]), array([0]))"
      ]
     },
     "execution_count": 7,
     "metadata": {},
     "output_type": "execute_result"
    }
   ],
   "source": [
    "i"
   ]
  },
  {
   "cell_type": "code",
   "execution_count": 8,
   "metadata": {},
   "outputs": [
    {
     "data": {
      "text/plain": [
       "[64, 32, 16]"
      ]
     },
     "execution_count": 8,
     "metadata": {},
     "output_type": "execute_result"
    }
   ],
   "source": [
    "nf[7]"
   ]
  },
  {
   "cell_type": "code",
   "execution_count": 9,
   "metadata": {},
   "outputs": [
    {
     "data": {
      "text/plain": [
       "[2, 2, 2]"
      ]
     },
     "execution_count": 9,
     "metadata": {},
     "output_type": "execute_result"
    }
   ],
   "source": [
    "kz[0]"
   ]
  },
  {
   "cell_type": "code",
   "execution_count": 10,
   "metadata": {},
   "outputs": [
    {
     "data": {
      "text/plain": [
       "10"
      ]
     },
     "execution_count": 10,
     "metadata": {},
     "output_type": "execute_result"
    }
   ],
   "source": [
    "ds[0]"
   ]
  },
  {
   "cell_type": "code",
   "execution_count": 15,
   "metadata": {},
   "outputs": [],
   "source": [
    "nf=[]\n",
    "for i in range(1,8,1):\n",
    "    nf.append([2**i,2**i,2**i])\n",
    "    nf.append([2**(i+2),2**(i+1),2**i])\n",
    "    nf.append([2**(i+1)+2**i,2**(i+1),2**(i)])\n",
    "    nf.append([2**(i+1)+2**i,2**(i+1),2**(i-1)])\n",
    "\n",
    "kz=[]\n",
    "for i in range(1,4,1):\n",
    "    kz.append([2**i,2**i,2**i])\n",
    "    kz.append([2**(i+2),2**(i+1),2**i])\n",
    "    kz.append([2**(i+1)+2**i,2**(i+1),2**(i)])\n",
    "    kz.append([2**(i+1)+2**i,2**(i+1),2**(i-1)])"
   ]
  },
  {
   "cell_type": "code",
   "execution_count": 17,
   "metadata": {},
   "outputs": [
    {
     "data": {
      "text/plain": [
       "([[2, 2, 2],\n",
       "  [8, 4, 2],\n",
       "  [6, 4, 2],\n",
       "  [6, 4, 1],\n",
       "  [4, 4, 4],\n",
       "  [16, 8, 4],\n",
       "  [12, 8, 4],\n",
       "  [12, 8, 2],\n",
       "  [8, 8, 8],\n",
       "  [32, 16, 8],\n",
       "  [24, 16, 8],\n",
       "  [24, 16, 4],\n",
       "  [16, 16, 16],\n",
       "  [64, 32, 16],\n",
       "  [48, 32, 16],\n",
       "  [48, 32, 8],\n",
       "  [32, 32, 32],\n",
       "  [128, 64, 32],\n",
       "  [96, 64, 32],\n",
       "  [96, 64, 16],\n",
       "  [64, 64, 64],\n",
       "  [256, 128, 64],\n",
       "  [192, 128, 64],\n",
       "  [192, 128, 32],\n",
       "  [128, 128, 128],\n",
       "  [512, 256, 128],\n",
       "  [384, 256, 128],\n",
       "  [384, 256, 64]],\n",
       " [[2, 2, 2],\n",
       "  [8, 4, 2],\n",
       "  [6, 4, 2],\n",
       "  [6, 4, 1],\n",
       "  [4, 4, 4],\n",
       "  [16, 8, 4],\n",
       "  [12, 8, 4],\n",
       "  [12, 8, 2],\n",
       "  [8, 8, 8],\n",
       "  [32, 16, 8],\n",
       "  [24, 16, 8],\n",
       "  [24, 16, 4]])"
      ]
     },
     "execution_count": 17,
     "metadata": {},
     "output_type": "execute_result"
    }
   ],
   "source": [
    "nf,kz"
   ]
  },
  {
   "cell_type": "code",
   "execution_count": null,
   "metadata": {},
   "outputs": [],
   "source": []
  }
 ],
 "metadata": {
  "kernelspec": {
   "display_name": "Python 3",
   "language": "python",
   "name": "python3"
  },
  "language_info": {
   "codemirror_mode": {
    "name": "ipython",
    "version": 3
   },
   "file_extension": ".py",
   "mimetype": "text/x-python",
   "name": "python",
   "nbconvert_exporter": "python",
   "pygments_lexer": "ipython3",
   "version": "3.7.5"
  }
 },
 "nbformat": 4,
 "nbformat_minor": 2
}
