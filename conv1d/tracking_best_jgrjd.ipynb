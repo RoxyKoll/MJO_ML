{
 "cells": [
  {
   "cell_type": "code",
   "execution_count": 26,
   "metadata": {},
   "outputs": [],
   "source": [
    "import numpy as np"
   ]
  },
  {
   "cell_type": "code",
   "execution_count": 16,
   "metadata": {},
   "outputs": [],
   "source": [
    "nf=[]\n",
    "for i in range(1,4,1):\n",
    "    nf.append([2**i,2**i,2**i,2**i])\n",
    "    nf.append([2**(i+4),2**(i+3),2**(i+1),2**i])\n",
    "    nf.append([2**(2*i+2),2**(2*i),2**(2*i-1),2**(2*i-2)])\n",
    "    \n",
    "kz=[]\n",
    "for i in range(1,4,1):\n",
    "    kz.append([2**i,2**i,2**i,2*i,2*i])\n",
    "    kz.append([2**(i+3),2**(i+2),2**(i+1),2**i])\n",
    "\n",
    "ds = [10,20,30,40,50]\n",
    "\n",
    "lr = [0.01,0.001,0.005,0.0001]\n",
    "dr = [1e-7,1e-6,1e-5]"
   ]
  },
  {
   "cell_type": "code",
   "execution_count": 20,
   "metadata": {},
   "outputs": [
    {
     "data": {
      "text/plain": [
       "(9, 6, 5, 4, 3)"
      ]
     },
     "execution_count": 20,
     "metadata": {},
     "output_type": "execute_result"
    }
   ],
   "source": [
    "np.zeros((len(nf),len(kz),len(ds),len(lr),len(dr))).shape"
   ]
  },
  {
   "cell_type": "code",
   "execution_count": 27,
   "metadata": {},
   "outputs": [],
   "source": [
    "nf=[]\n",
    "for i in range(1,8,1):\n",
    "    nf.append([2**i,2**i,2**i])\n",
    "    nf.append([2**(i+2),2**(i+1),2**i])\n",
    "    nf.append([2**(i+1)+2**i,2**(i+1),2**(i)])\n",
    "    nf.append([2**(i+1)+2**i,2**(i+1),2**(i-1)])\n",
    "\n",
    "kz=[]\n",
    "for i in range(1,4,1):\n",
    "    kz.append([2**i,2**i,2**i])\n",
    "    kz.append([2**(i+2),2**(i+1),2**i])\n",
    "    kz.append([2**(i+1)+2**i,2**(i+1),2**(i)])\n",
    "    kz.append([2**(i+1)+2**i,2**(i+1),2**(i-1)])\n",
    "\n",
    "ds = [10,20,30,40,50,60,70,80,90,100]\n"
   ]
  },
  {
   "cell_type": "code",
   "execution_count": 25,
   "metadata": {},
   "outputs": [
    {
     "data": {
      "text/plain": [
       "([48, 32, 8], [6, 4, 2], 20)"
      ]
     },
     "execution_count": 25,
     "metadata": {},
     "output_type": "execute_result"
    }
   ],
   "source": [
    "nf[15],kz[2],ds[1]"
   ]
  },
  {
   "cell_type": "code",
   "execution_count": 28,
   "metadata": {},
   "outputs": [
    {
     "data": {
      "text/plain": [
       "([8, 4, 2], [12, 8, 2], 10)"
      ]
     },
     "execution_count": 28,
     "metadata": {},
     "output_type": "execute_result"
    }
   ],
   "source": [
    "nf[1],kz[7],ds[0]"
   ]
  },
  {
   "cell_type": "code",
   "execution_count": 29,
   "metadata": {},
   "outputs": [
    {
     "data": {
      "text/plain": [
       "([48, 32, 16], [16, 8, 4], 20)"
      ]
     },
     "execution_count": 29,
     "metadata": {},
     "output_type": "execute_result"
    }
   ],
   "source": [
    "nf[14],kz[5],ds[1]"
   ]
  },
  {
   "cell_type": "code",
   "execution_count": 53,
   "metadata": {},
   "outputs": [
    {
     "data": {
      "text/plain": [
       "28"
      ]
     },
     "execution_count": 53,
     "metadata": {},
     "output_type": "execute_result"
    }
   ],
   "source": [
    "len(nf)"
   ]
  }
 ],
 "metadata": {
  "kernelspec": {
   "display_name": "Python 3",
   "language": "python",
   "name": "python3"
  },
  "language_info": {
   "codemirror_mode": {
    "name": "ipython",
    "version": 3
   },
   "file_extension": ".py",
   "mimetype": "text/x-python",
   "name": "python",
   "nbconvert_exporter": "python",
   "pygments_lexer": "ipython3",
   "version": "3.7.5"
  }
 },
 "nbformat": 4,
 "nbformat_minor": 2
}
