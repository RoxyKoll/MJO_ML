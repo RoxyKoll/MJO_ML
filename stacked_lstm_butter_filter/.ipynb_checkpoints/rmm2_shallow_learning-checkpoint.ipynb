{
 "cells": [
  {
   "cell_type": "code",
   "execution_count": 1,
   "metadata": {},
   "outputs": [
    {
     "name": "stderr",
     "output_type": "stream",
     "text": [
      "Using TensorFlow backend.\n"
     ]
    }
   ],
   "source": [
    "import pandas as pd\n",
    "import matplotlib.pyplot as plt\n",
    "import numpy as np\n",
    "import keras \n",
    "from keras.models import Sequential\n",
    "from keras.layers import Dropout,LSTM,Dense\n",
    "from keras.layers import LeakyReLU\n",
    "\n",
    "\n",
    "import pandas as pd\n",
    "import matplotlib.pyplot as plt\n",
    "import numpy as np\n",
    "import datetime\n",
    "import hilbert_data1_jgrjd_20CRV3\n"
   ]
  },
  {
   "cell_type": "code",
   "execution_count": 2,
   "metadata": {},
   "outputs": [],
   "source": [
    "import pandas as pd\n",
    "from sklearn.model_selection import train_test_split\n",
    "import matplotlib.pyplot as plt\n",
    "\n",
    "from sklearn.ensemble import RandomForestRegressor\n",
    "from sklearn.model_selection import cross_val_score\n",
    "from sklearn.model_selection import RandomizedSearchCV\n",
    "from xgboost import XGBClassifier, plot_tree, XGBRegressor\n",
    "import numpy as np\n",
    "from sklearn.multioutput import MultiOutputRegressor\n",
    "#import hilbert_data "
   ]
  },
  {
   "cell_type": "code",
   "execution_count": 3,
   "metadata": {},
   "outputs": [
    {
     "name": "stdout",
     "output_type": "stream",
     "text": [
      "/home/cccr/supriyo/panini/filtered_data/historical/JGRJD/stacked_lstm_butter_filter\r\n"
     ]
    }
   ],
   "source": [
    "!pwd"
   ]
  },
  {
   "cell_type": "markdown",
   "metadata": {},
   "source": [
    "### Test and Train Splitter:"
   ]
  },
  {
   "cell_type": "code",
   "execution_count": 4,
   "metadata": {},
   "outputs": [],
   "source": [
    "x_train,_,y_train = hilbert_data1_jgrjd_20CRV3.data_hilbert(datetime.datetime(1979,1,1),datetime.datetime(2008,12,31))\n",
    "x_test,_,y_test = hilbert_data1_jgrjd_20CRV3.data_hilbert(datetime.datetime(1974,6,1),datetime.datetime(1978,3,16))"
   ]
  },
  {
   "cell_type": "code",
   "execution_count": 5,
   "metadata": {},
   "outputs": [
    {
     "name": "stdout",
     "output_type": "stream",
     "text": [
      "(10839, 24) (10839, 1) (1266, 24) (1266, 1)\n"
     ]
    }
   ],
   "source": [
    "print(x_train.shape,y_train.shape,x_test.shape,y_test.shape)\n",
    "#y_train.head()"
   ]
  },
  {
   "cell_type": "code",
   "execution_count": 6,
   "metadata": {},
   "outputs": [
    {
     "data": {
      "text/html": [
       "<div>\n",
       "<style scoped>\n",
       "    .dataframe tbody tr th:only-of-type {\n",
       "        vertical-align: middle;\n",
       "    }\n",
       "\n",
       "    .dataframe tbody tr th {\n",
       "        vertical-align: top;\n",
       "    }\n",
       "\n",
       "    .dataframe thead th {\n",
       "        text-align: right;\n",
       "    }\n",
       "</style>\n",
       "<table border=\"1\" class=\"dataframe\">\n",
       "  <thead>\n",
       "    <tr style=\"text-align: right;\">\n",
       "      <th></th>\n",
       "      <th>0</th>\n",
       "      <th>1</th>\n",
       "      <th>2</th>\n",
       "      <th>3</th>\n",
       "      <th>4</th>\n",
       "      <th>5</th>\n",
       "      <th>6</th>\n",
       "      <th>7</th>\n",
       "      <th>8</th>\n",
       "      <th>9</th>\n",
       "      <th>...</th>\n",
       "      <th>2</th>\n",
       "      <th>3</th>\n",
       "      <th>4</th>\n",
       "      <th>5</th>\n",
       "      <th>6</th>\n",
       "      <th>7</th>\n",
       "      <th>8</th>\n",
       "      <th>9</th>\n",
       "      <th>10</th>\n",
       "      <th>11</th>\n",
       "    </tr>\n",
       "  </thead>\n",
       "  <tbody>\n",
       "    <tr>\n",
       "      <th>count</th>\n",
       "      <td>9573.000000</td>\n",
       "      <td>9573.000000</td>\n",
       "      <td>9573.000000</td>\n",
       "      <td>9573.000000</td>\n",
       "      <td>9573.000000</td>\n",
       "      <td>9573.000000</td>\n",
       "      <td>9573.000000</td>\n",
       "      <td>9573.000000</td>\n",
       "      <td>9573.000000</td>\n",
       "      <td>9573.000000</td>\n",
       "      <td>...</td>\n",
       "      <td>9.573000e+03</td>\n",
       "      <td>9.573000e+03</td>\n",
       "      <td>9.573000e+03</td>\n",
       "      <td>9.573000e+03</td>\n",
       "      <td>9.573000e+03</td>\n",
       "      <td>9.573000e+03</td>\n",
       "      <td>9.573000e+03</td>\n",
       "      <td>9.573000e+03</td>\n",
       "      <td>9.573000e+03</td>\n",
       "      <td>9.573000e+03</td>\n",
       "    </tr>\n",
       "    <tr>\n",
       "      <th>mean</th>\n",
       "      <td>-4.914031</td>\n",
       "      <td>-5.198544</td>\n",
       "      <td>-5.033501</td>\n",
       "      <td>-2.549740</td>\n",
       "      <td>-2.362272</td>\n",
       "      <td>-4.485992</td>\n",
       "      <td>-5.878258</td>\n",
       "      <td>-11.244618</td>\n",
       "      <td>-2.433893</td>\n",
       "      <td>0.198505</td>\n",
       "      <td>...</td>\n",
       "      <td>-1.172219e-15</td>\n",
       "      <td>8.226222e-16</td>\n",
       "      <td>-2.048346e-15</td>\n",
       "      <td>-1.152915e-15</td>\n",
       "      <td>-1.686937e-15</td>\n",
       "      <td>-9.128096e-15</td>\n",
       "      <td>-8.155316e-16</td>\n",
       "      <td>4.217656e-16</td>\n",
       "      <td>-9.772445e-16</td>\n",
       "      <td>1.226735e-16</td>\n",
       "    </tr>\n",
       "    <tr>\n",
       "      <th>std</th>\n",
       "      <td>3.196857</td>\n",
       "      <td>4.476287</td>\n",
       "      <td>6.180118</td>\n",
       "      <td>2.492246</td>\n",
       "      <td>1.215964</td>\n",
       "      <td>-3.703609</td>\n",
       "      <td>-14.983236</td>\n",
       "      <td>-14.056821</td>\n",
       "      <td>7.303989</td>\n",
       "      <td>-5.854388</td>\n",
       "      <td>...</td>\n",
       "      <td>6.180118e+00</td>\n",
       "      <td>2.492325e+00</td>\n",
       "      <td>1.215964e+00</td>\n",
       "      <td>-3.703590e+00</td>\n",
       "      <td>-1.498320e+01</td>\n",
       "      <td>-1.405678e+01</td>\n",
       "      <td>7.304006e+00</td>\n",
       "      <td>-5.854384e+00</td>\n",
       "      <td>7.203336e-02</td>\n",
       "      <td>8.043589e+00</td>\n",
       "    </tr>\n",
       "    <tr>\n",
       "      <th>min</th>\n",
       "      <td>209.659405</td>\n",
       "      <td>238.492940</td>\n",
       "      <td>123.007589</td>\n",
       "      <td>608.361983</td>\n",
       "      <td>151.500730</td>\n",
       "      <td>109.746520</td>\n",
       "      <td>490.271573</td>\n",
       "      <td>136.636144</td>\n",
       "      <td>119.468787</td>\n",
       "      <td>36.906984</td>\n",
       "      <td>...</td>\n",
       "      <td>1.308910e+02</td>\n",
       "      <td>2.599727e+02</td>\n",
       "      <td>5.698100e+01</td>\n",
       "      <td>6.679007e+01</td>\n",
       "      <td>3.546816e+02</td>\n",
       "      <td>9.027031e+01</td>\n",
       "      <td>1.487418e+02</td>\n",
       "      <td>1.179819e+02</td>\n",
       "      <td>3.882528e+01</td>\n",
       "      <td>1.764518e+02</td>\n",
       "    </tr>\n",
       "    <tr>\n",
       "      <th>25%</th>\n",
       "      <td>1.801376</td>\n",
       "      <td>5.381608</td>\n",
       "      <td>10.662282</td>\n",
       "      <td>3.528324</td>\n",
       "      <td>1.845343</td>\n",
       "      <td>-3.801036</td>\n",
       "      <td>-14.750576</td>\n",
       "      <td>1.387998</td>\n",
       "      <td>8.707645</td>\n",
       "      <td>-9.050034</td>\n",
       "      <td>...</td>\n",
       "      <td>1.325089e+00</td>\n",
       "      <td>-1.089901e+01</td>\n",
       "      <td>-1.479941e+00</td>\n",
       "      <td>1.189516e+00</td>\n",
       "      <td>-1.752121e+01</td>\n",
       "      <td>-5.830856e+00</td>\n",
       "      <td>1.496780e+00</td>\n",
       "      <td>-3.773418e+00</td>\n",
       "      <td>-5.278856e+00</td>\n",
       "      <td>-3.609312e+00</td>\n",
       "    </tr>\n",
       "    <tr>\n",
       "      <th>50%</th>\n",
       "      <td>-3.904664</td>\n",
       "      <td>-5.869943</td>\n",
       "      <td>-4.097264</td>\n",
       "      <td>8.237257</td>\n",
       "      <td>-2.808175</td>\n",
       "      <td>-1.250538</td>\n",
       "      <td>-10.688725</td>\n",
       "      <td>-19.128617</td>\n",
       "      <td>0.003286</td>\n",
       "      <td>-0.092108</td>\n",
       "      <td>...</td>\n",
       "      <td>-6.018215e+00</td>\n",
       "      <td>-3.169154e+00</td>\n",
       "      <td>-9.131105e-01</td>\n",
       "      <td>-3.597421e+00</td>\n",
       "      <td>-6.382689e+00</td>\n",
       "      <td>-1.326185e+00</td>\n",
       "      <td>5.719418e-01</td>\n",
       "      <td>1.082845e+00</td>\n",
       "      <td>-1.477513e+00</td>\n",
       "      <td>-1.246335e+00</td>\n",
       "    </tr>\n",
       "    <tr>\n",
       "      <th>75%</th>\n",
       "      <td>-2.927407</td>\n",
       "      <td>-4.799758</td>\n",
       "      <td>-2.662550</td>\n",
       "      <td>8.438723</td>\n",
       "      <td>1.988340</td>\n",
       "      <td>-9.520705</td>\n",
       "      <td>-25.887864</td>\n",
       "      <td>-25.433189</td>\n",
       "      <td>0.834612</td>\n",
       "      <td>-1.920960</td>\n",
       "      <td>...</td>\n",
       "      <td>7.011618e+00</td>\n",
       "      <td>-7.374210e+00</td>\n",
       "      <td>-1.010591e+00</td>\n",
       "      <td>8.517585e-02</td>\n",
       "      <td>-1.481155e+01</td>\n",
       "      <td>-1.301940e+01</td>\n",
       "      <td>8.630063e+00</td>\n",
       "      <td>-2.630960e+00</td>\n",
       "      <td>-1.115704e+00</td>\n",
       "      <td>5.533671e+00</td>\n",
       "    </tr>\n",
       "    <tr>\n",
       "      <th>max</th>\n",
       "      <td>76.830826</td>\n",
       "      <td>38.496369</td>\n",
       "      <td>137.598365</td>\n",
       "      <td>154.381602</td>\n",
       "      <td>100.972507</td>\n",
       "      <td>-4.540059</td>\n",
       "      <td>14.405006</td>\n",
       "      <td>214.398722</td>\n",
       "      <td>98.478799</td>\n",
       "      <td>-49.648344</td>\n",
       "      <td>...</td>\n",
       "      <td>4.253812e+01</td>\n",
       "      <td>2.682348e+02</td>\n",
       "      <td>1.069972e+02</td>\n",
       "      <td>5.903839e+01</td>\n",
       "      <td>2.600386e+01</td>\n",
       "      <td>1.541164e+02</td>\n",
       "      <td>1.830061e+01</td>\n",
       "      <td>-1.495992e+01</td>\n",
       "      <td>6.117708e+01</td>\n",
       "      <td>1.450285e+02</td>\n",
       "    </tr>\n",
       "  </tbody>\n",
       "</table>\n",
       "<p>8 rows × 24 columns</p>\n",
       "</div>"
      ],
      "text/plain": [
       "                0            1            2            3            4   \\\n",
       "count  9573.000000  9573.000000  9573.000000  9573.000000  9573.000000   \n",
       "mean     -4.914031    -5.198544    -5.033501    -2.549740    -2.362272   \n",
       "std       3.196857     4.476287     6.180118     2.492246     1.215964   \n",
       "min     209.659405   238.492940   123.007589   608.361983   151.500730   \n",
       "25%       1.801376     5.381608    10.662282     3.528324     1.845343   \n",
       "50%      -3.904664    -5.869943    -4.097264     8.237257    -2.808175   \n",
       "75%      -2.927407    -4.799758    -2.662550     8.438723     1.988340   \n",
       "max      76.830826    38.496369   137.598365   154.381602   100.972507   \n",
       "\n",
       "                5            6            7            8            9   ...  \\\n",
       "count  9573.000000  9573.000000  9573.000000  9573.000000  9573.000000  ...   \n",
       "mean     -4.485992    -5.878258   -11.244618    -2.433893     0.198505  ...   \n",
       "std      -3.703609   -14.983236   -14.056821     7.303989    -5.854388  ...   \n",
       "min     109.746520   490.271573   136.636144   119.468787    36.906984  ...   \n",
       "25%      -3.801036   -14.750576     1.387998     8.707645    -9.050034  ...   \n",
       "50%      -1.250538   -10.688725   -19.128617     0.003286    -0.092108  ...   \n",
       "75%      -9.520705   -25.887864   -25.433189     0.834612    -1.920960  ...   \n",
       "max      -4.540059    14.405006   214.398722    98.478799   -49.648344  ...   \n",
       "\n",
       "                 2             3             4             5             6   \\\n",
       "count  9.573000e+03  9.573000e+03  9.573000e+03  9.573000e+03  9.573000e+03   \n",
       "mean  -1.172219e-15  8.226222e-16 -2.048346e-15 -1.152915e-15 -1.686937e-15   \n",
       "std    6.180118e+00  2.492325e+00  1.215964e+00 -3.703590e+00 -1.498320e+01   \n",
       "min    1.308910e+02  2.599727e+02  5.698100e+01  6.679007e+01  3.546816e+02   \n",
       "25%    1.325089e+00 -1.089901e+01 -1.479941e+00  1.189516e+00 -1.752121e+01   \n",
       "50%   -6.018215e+00 -3.169154e+00 -9.131105e-01 -3.597421e+00 -6.382689e+00   \n",
       "75%    7.011618e+00 -7.374210e+00 -1.010591e+00  8.517585e-02 -1.481155e+01   \n",
       "max    4.253812e+01  2.682348e+02  1.069972e+02  5.903839e+01  2.600386e+01   \n",
       "\n",
       "                 7             8             9             10            11  \n",
       "count  9.573000e+03  9.573000e+03  9.573000e+03  9.573000e+03  9.573000e+03  \n",
       "mean  -9.128096e-15 -8.155316e-16  4.217656e-16 -9.772445e-16  1.226735e-16  \n",
       "std   -1.405678e+01  7.304006e+00 -5.854384e+00  7.203336e-02  8.043589e+00  \n",
       "min    9.027031e+01  1.487418e+02  1.179819e+02  3.882528e+01  1.764518e+02  \n",
       "25%   -5.830856e+00  1.496780e+00 -3.773418e+00 -5.278856e+00 -3.609312e+00  \n",
       "50%   -1.326185e+00  5.719418e-01  1.082845e+00 -1.477513e+00 -1.246335e+00  \n",
       "75%   -1.301940e+01  8.630063e+00 -2.630960e+00 -1.115704e+00  5.533671e+00  \n",
       "max    1.541164e+02  1.830061e+01 -1.495992e+01  6.117708e+01  1.450285e+02  \n",
       "\n",
       "[8 rows x 24 columns]"
      ]
     },
     "execution_count": 6,
     "metadata": {},
     "output_type": "execute_result"
    }
   ],
   "source": [
    "abs(x_train.describe()) - abs(x_test.describe())"
   ]
  },
  {
   "cell_type": "code",
   "execution_count": 7,
   "metadata": {},
   "outputs": [
    {
     "data": {
      "text/html": [
       "<div>\n",
       "<style scoped>\n",
       "    .dataframe tbody tr th:only-of-type {\n",
       "        vertical-align: middle;\n",
       "    }\n",
       "\n",
       "    .dataframe tbody tr th {\n",
       "        vertical-align: top;\n",
       "    }\n",
       "\n",
       "    .dataframe thead th {\n",
       "        text-align: right;\n",
       "    }\n",
       "</style>\n",
       "<table border=\"1\" class=\"dataframe\">\n",
       "  <thead>\n",
       "    <tr style=\"text-align: right;\">\n",
       "      <th></th>\n",
       "      <th>0</th>\n",
       "      <th>1</th>\n",
       "      <th>2</th>\n",
       "      <th>3</th>\n",
       "      <th>4</th>\n",
       "      <th>5</th>\n",
       "      <th>6</th>\n",
       "      <th>7</th>\n",
       "      <th>8</th>\n",
       "      <th>9</th>\n",
       "      <th>...</th>\n",
       "      <th>2</th>\n",
       "      <th>3</th>\n",
       "      <th>4</th>\n",
       "      <th>5</th>\n",
       "      <th>6</th>\n",
       "      <th>7</th>\n",
       "      <th>8</th>\n",
       "      <th>9</th>\n",
       "      <th>10</th>\n",
       "      <th>11</th>\n",
       "    </tr>\n",
       "  </thead>\n",
       "  <tbody>\n",
       "    <tr>\n",
       "      <th>count</th>\n",
       "      <td>1266.000000</td>\n",
       "      <td>1266.000000</td>\n",
       "      <td>1266.000000</td>\n",
       "      <td>1266.000000</td>\n",
       "      <td>1266.000000</td>\n",
       "      <td>1266.000000</td>\n",
       "      <td>1266.000000</td>\n",
       "      <td>1266.000000</td>\n",
       "      <td>1266.000000</td>\n",
       "      <td>1266.000000</td>\n",
       "      <td>...</td>\n",
       "      <td>1.266000e+03</td>\n",
       "      <td>1.266000e+03</td>\n",
       "      <td>1.266000e+03</td>\n",
       "      <td>1.266000e+03</td>\n",
       "      <td>1.266000e+03</td>\n",
       "      <td>1.266000e+03</td>\n",
       "      <td>1.266000e+03</td>\n",
       "      <td>1.266000e+03</td>\n",
       "      <td>1.266000e+03</td>\n",
       "      <td>1.266000e+03</td>\n",
       "    </tr>\n",
       "    <tr>\n",
       "      <th>mean</th>\n",
       "      <td>5.233608</td>\n",
       "      <td>5.565855</td>\n",
       "      <td>5.135667</td>\n",
       "      <td>2.584039</td>\n",
       "      <td>2.371393</td>\n",
       "      <td>4.790862</td>\n",
       "      <td>6.065351</td>\n",
       "      <td>11.303929</td>\n",
       "      <td>2.563490</td>\n",
       "      <td>-0.271557</td>\n",
       "      <td>...</td>\n",
       "      <td>-1.620610e-15</td>\n",
       "      <td>-3.928751e-15</td>\n",
       "      <td>2.564913e-15</td>\n",
       "      <td>-1.386288e-15</td>\n",
       "      <td>2.559301e-15</td>\n",
       "      <td>-9.358847e-15</td>\n",
       "      <td>-3.398370e-15</td>\n",
       "      <td>2.424601e-15</td>\n",
       "      <td>-1.536422e-15</td>\n",
       "      <td>1.627626e-15</td>\n",
       "    </tr>\n",
       "    <tr>\n",
       "      <th>std</th>\n",
       "      <td>93.817666</td>\n",
       "      <td>99.075077</td>\n",
       "      <td>99.553767</td>\n",
       "      <td>177.867649</td>\n",
       "      <td>93.294836</td>\n",
       "      <td>97.431058</td>\n",
       "      <td>166.592326</td>\n",
       "      <td>167.933574</td>\n",
       "      <td>78.382733</td>\n",
       "      <td>90.698501</td>\n",
       "      <td>...</td>\n",
       "      <td>9.955377e+01</td>\n",
       "      <td>1.778676e+02</td>\n",
       "      <td>9.329484e+01</td>\n",
       "      <td>9.743104e+01</td>\n",
       "      <td>1.665923e+02</td>\n",
       "      <td>1.679335e+02</td>\n",
       "      <td>7.838272e+01</td>\n",
       "      <td>9.069850e+01</td>\n",
       "      <td>8.704797e+01</td>\n",
       "      <td>9.460567e+01</td>\n",
       "    </tr>\n",
       "    <tr>\n",
       "      <th>min</th>\n",
       "      <td>-248.984831</td>\n",
       "      <td>-244.945849</td>\n",
       "      <td>-351.046617</td>\n",
       "      <td>-535.755477</td>\n",
       "      <td>-242.277224</td>\n",
       "      <td>-268.793417</td>\n",
       "      <td>-573.165923</td>\n",
       "      <td>-710.444837</td>\n",
       "      <td>-242.246951</td>\n",
       "      <td>-293.219303</td>\n",
       "      <td>...</td>\n",
       "      <td>-2.874718e+02</td>\n",
       "      <td>-5.434558e+02</td>\n",
       "      <td>-2.617727e+02</td>\n",
       "      <td>-3.088429e+02</td>\n",
       "      <td>-5.166306e+02</td>\n",
       "      <td>-6.448074e+02</td>\n",
       "      <td>-2.035821e+02</td>\n",
       "      <td>-2.204444e+02</td>\n",
       "      <td>-2.572219e+02</td>\n",
       "      <td>-2.336523e+02</td>\n",
       "    </tr>\n",
       "    <tr>\n",
       "      <th>25%</th>\n",
       "      <td>-60.281184</td>\n",
       "      <td>-62.194344</td>\n",
       "      <td>-60.633512</td>\n",
       "      <td>-105.078337</td>\n",
       "      <td>-60.856252</td>\n",
       "      <td>-64.391076</td>\n",
       "      <td>-110.601448</td>\n",
       "      <td>-86.196371</td>\n",
       "      <td>-48.913138</td>\n",
       "      <td>-61.390305</td>\n",
       "      <td>...</td>\n",
       "      <td>-6.759234e+01</td>\n",
       "      <td>-1.199815e+02</td>\n",
       "      <td>-6.516978e+01</td>\n",
       "      <td>-6.218587e+01</td>\n",
       "      <td>-1.136399e+02</td>\n",
       "      <td>-9.913039e+01</td>\n",
       "      <td>-5.342602e+01</td>\n",
       "      <td>-5.804299e+01</td>\n",
       "      <td>-6.381396e+01</td>\n",
       "      <td>-6.912829e+01</td>\n",
       "    </tr>\n",
       "    <tr>\n",
       "      <th>50%</th>\n",
       "      <td>5.841925</td>\n",
       "      <td>8.572286</td>\n",
       "      <td>6.888565</td>\n",
       "      <td>0.993316</td>\n",
       "      <td>5.591551</td>\n",
       "      <td>2.191498</td>\n",
       "      <td>16.076421</td>\n",
       "      <td>22.010643</td>\n",
       "      <td>0.536987</td>\n",
       "      <td>-1.325028</td>\n",
       "      <td>...</td>\n",
       "      <td>-6.194591e+00</td>\n",
       "      <td>3.808596e+00</td>\n",
       "      <td>-2.907473e+00</td>\n",
       "      <td>-4.134077e+00</td>\n",
       "      <td>9.164228e+00</td>\n",
       "      <td>4.108256e+00</td>\n",
       "      <td>-3.677261e-01</td>\n",
       "      <td>5.238533e-01</td>\n",
       "      <td>2.026088e+00</td>\n",
       "      <td>3.229350e+00</td>\n",
       "    </tr>\n",
       "    <tr>\n",
       "      <th>75%</th>\n",
       "      <td>66.518377</td>\n",
       "      <td>72.981061</td>\n",
       "      <td>74.150302</td>\n",
       "      <td>112.819237</td>\n",
       "      <td>63.160489</td>\n",
       "      <td>72.284823</td>\n",
       "      <td>130.820310</td>\n",
       "      <td>118.405427</td>\n",
       "      <td>56.910877</td>\n",
       "      <td>57.570254</td>\n",
       "      <td>...</td>\n",
       "      <td>6.478086e+01</td>\n",
       "      <td>1.222738e+02</td>\n",
       "      <td>6.328367e+01</td>\n",
       "      <td>6.291149e+01</td>\n",
       "      <td>1.167460e+02</td>\n",
       "      <td>1.111878e+02</td>\n",
       "      <td>4.887450e+01</td>\n",
       "      <td>5.840646e+01</td>\n",
       "      <td>6.079454e+01</td>\n",
       "      <td>6.303275e+01</td>\n",
       "    </tr>\n",
       "    <tr>\n",
       "      <th>max</th>\n",
       "      <td>299.354884</td>\n",
       "      <td>310.539262</td>\n",
       "      <td>268.883089</td>\n",
       "      <td>473.643834</td>\n",
       "      <td>250.124226</td>\n",
       "      <td>309.489635</td>\n",
       "      <td>438.181584</td>\n",
       "      <td>428.158544</td>\n",
       "      <td>208.831167</td>\n",
       "      <td>347.456217</td>\n",
       "      <td>...</td>\n",
       "      <td>3.355636e+02</td>\n",
       "      <td>5.356295e+02</td>\n",
       "      <td>2.721898e+02</td>\n",
       "      <td>2.720864e+02</td>\n",
       "      <td>5.617782e+02</td>\n",
       "      <td>5.172955e+02</td>\n",
       "      <td>2.672515e+02</td>\n",
       "      <td>3.546418e+02</td>\n",
       "      <td>2.282709e+02</td>\n",
       "      <td>2.398900e+02</td>\n",
       "    </tr>\n",
       "  </tbody>\n",
       "</table>\n",
       "<p>8 rows × 24 columns</p>\n",
       "</div>"
      ],
      "text/plain": [
       "                0            1            2            3            4   \\\n",
       "count  1266.000000  1266.000000  1266.000000  1266.000000  1266.000000   \n",
       "mean      5.233608     5.565855     5.135667     2.584039     2.371393   \n",
       "std      93.817666    99.075077    99.553767   177.867649    93.294836   \n",
       "min    -248.984831  -244.945849  -351.046617  -535.755477  -242.277224   \n",
       "25%     -60.281184   -62.194344   -60.633512  -105.078337   -60.856252   \n",
       "50%       5.841925     8.572286     6.888565     0.993316     5.591551   \n",
       "75%      66.518377    72.981061    74.150302   112.819237    63.160489   \n",
       "max     299.354884   310.539262   268.883089   473.643834   250.124226   \n",
       "\n",
       "                5            6            7            8            9   ...  \\\n",
       "count  1266.000000  1266.000000  1266.000000  1266.000000  1266.000000  ...   \n",
       "mean      4.790862     6.065351    11.303929     2.563490    -0.271557  ...   \n",
       "std      97.431058   166.592326   167.933574    78.382733    90.698501  ...   \n",
       "min    -268.793417  -573.165923  -710.444837  -242.246951  -293.219303  ...   \n",
       "25%     -64.391076  -110.601448   -86.196371   -48.913138   -61.390305  ...   \n",
       "50%       2.191498    16.076421    22.010643     0.536987    -1.325028  ...   \n",
       "75%      72.284823   130.820310   118.405427    56.910877    57.570254  ...   \n",
       "max     309.489635   438.181584   428.158544   208.831167   347.456217  ...   \n",
       "\n",
       "                 2             3             4             5             6   \\\n",
       "count  1.266000e+03  1.266000e+03  1.266000e+03  1.266000e+03  1.266000e+03   \n",
       "mean  -1.620610e-15 -3.928751e-15  2.564913e-15 -1.386288e-15  2.559301e-15   \n",
       "std    9.955377e+01  1.778676e+02  9.329484e+01  9.743104e+01  1.665923e+02   \n",
       "min   -2.874718e+02 -5.434558e+02 -2.617727e+02 -3.088429e+02 -5.166306e+02   \n",
       "25%   -6.759234e+01 -1.199815e+02 -6.516978e+01 -6.218587e+01 -1.136399e+02   \n",
       "50%   -6.194591e+00  3.808596e+00 -2.907473e+00 -4.134077e+00  9.164228e+00   \n",
       "75%    6.478086e+01  1.222738e+02  6.328367e+01  6.291149e+01  1.167460e+02   \n",
       "max    3.355636e+02  5.356295e+02  2.721898e+02  2.720864e+02  5.617782e+02   \n",
       "\n",
       "                 7             8             9             10            11  \n",
       "count  1.266000e+03  1.266000e+03  1.266000e+03  1.266000e+03  1.266000e+03  \n",
       "mean  -9.358847e-15 -3.398370e-15  2.424601e-15 -1.536422e-15  1.627626e-15  \n",
       "std    1.679335e+02  7.838272e+01  9.069850e+01  8.704797e+01  9.460567e+01  \n",
       "min   -6.448074e+02 -2.035821e+02 -2.204444e+02 -2.572219e+02 -2.336523e+02  \n",
       "25%   -9.913039e+01 -5.342602e+01 -5.804299e+01 -6.381396e+01 -6.912829e+01  \n",
       "50%    4.108256e+00 -3.677261e-01  5.238533e-01  2.026088e+00  3.229350e+00  \n",
       "75%    1.111878e+02  4.887450e+01  5.840646e+01  6.079454e+01  6.303275e+01  \n",
       "max    5.172955e+02  2.672515e+02  3.546418e+02  2.282709e+02  2.398900e+02  \n",
       "\n",
       "[8 rows x 24 columns]"
      ]
     },
     "execution_count": 7,
     "metadata": {},
     "output_type": "execute_result"
    }
   ],
   "source": [
    "x_test.describe()"
   ]
  },
  {
   "cell_type": "code",
   "execution_count": 8,
   "metadata": {},
   "outputs": [],
   "source": [
    "#x_train['doy'] = x_train.index.dayofyear\n",
    "#x_test['doy']  = x_test.index.dayofyear"
   ]
  },
  {
   "cell_type": "code",
   "execution_count": 9,
   "metadata": {},
   "outputs": [],
   "source": [
    "#x_train['max'] = x_train.iloc[:,0:12].max(axis=1)\n",
    "#x_train['min'] = x_train.iloc[:,0:12].min(axis=1)\n",
    "#x_train['std'] = x_train.iloc[:,0:12].std(axis=1)\n",
    "\n",
    "#x_test['max'] = x_test.iloc[:,0:12].max(axis=1)\n",
    "#x_test['min'] = x_test.iloc[:,0:12].min(axis=1)\n",
    "#x_test['std'] = x_test.iloc[:,0:12].std(axis=1)"
   ]
  },
  {
   "cell_type": "markdown",
   "metadata": {},
   "source": [
    "#### Historical pressure"
   ]
  },
  {
   "cell_type": "code",
   "execution_count": 10,
   "metadata": {},
   "outputs": [
    {
     "data": {
      "text/plain": [
       "(40423, 24)"
      ]
     },
     "execution_count": 10,
     "metadata": {},
     "output_type": "execute_result"
    }
   ],
   "source": [
    "x_test3 = hilbert_data1_jgrjd_20CRV3.data_pres(datetime.datetime(1905,1,1),datetime.datetime(2015,12,31))\n",
    "x_test3.shape\n",
    "#x_test3['doy'] = x_test3.index.dayofyear"
   ]
  },
  {
   "cell_type": "code",
   "execution_count": 11,
   "metadata": {},
   "outputs": [
    {
     "data": {
      "text/plain": [
       "(40423, 24)"
      ]
     },
     "execution_count": 11,
     "metadata": {},
     "output_type": "execute_result"
    }
   ],
   "source": [
    "#x_test3['max'] = x_test3.iloc[:,0:12].max(axis=1)\n",
    "#x_test3['min'] = x_test3.iloc[:,0:12].min(axis=1)\n",
    "#x_test3['std'] = x_test3.iloc[:,0:12].std(axis=1)\n",
    "x_test3.shape"
   ]
  },
  {
   "cell_type": "code",
   "execution_count": 12,
   "metadata": {},
   "outputs": [
    {
     "name": "stderr",
     "output_type": "stream",
     "text": [
      "/home/cccr/supriyo/.conda/envs/knp_ai/lib/python3.7/site-packages/pandas/plotting/_matplotlib/converter.py:103: FutureWarning: Using an implicitly registered datetime converter for a matplotlib plotting method. The converter was registered by pandas on import. Future versions of pandas will require you to explicitly register matplotlib converters.\n",
      "\n",
      "To register the converters:\n",
      "\t>>> from pandas.plotting import register_matplotlib_converters\n",
      "\t>>> register_matplotlib_converters()\n",
      "  warnings.warn(msg, FutureWarning)\n"
     ]
    },
    {
     "data": {
      "text/plain": [
       "Text(0, 0.5, 'RMM2')"
      ]
     },
     "execution_count": 12,
     "metadata": {},
     "output_type": "execute_result"
    },
    {
     "data": {
      "image/png": "[encoded data removed]",
      "text/plain": [
       "<Figure size 432x288 with 1 Axes>"
      ]
     },
     "metadata": {
      "needs_background": "light"
     },
     "output_type": "display_data"
    }
   ],
   "source": [
    "plt.plot(x_test3.iloc[:,0],label = 'total _period')\n",
    "plt.plot(x_train.iloc[:,0], label = 'train')\n",
    "plt.plot(x_test.iloc[:,0], label = 'test')\n",
    "plt.legend()\n",
    "plt.ylabel('RMM2')"
   ]
  },
  {
   "cell_type": "markdown",
   "metadata": {},
   "source": [
    "#### scale the data"
   ]
  },
  {
   "cell_type": "code",
   "execution_count": 13,
   "metadata": {},
   "outputs": [
    {
     "data": {
      "text/plain": [
       "(1.0002254305406701,\n",
       " 1.0000000004960428,\n",
       " 1.0000000000000002,\n",
       " 0.9999999999999999,\n",
       " 0.8836939198705787)"
      ]
     },
     "execution_count": 13,
     "metadata": {},
     "output_type": "execute_result"
    }
   ],
   "source": [
    "from sklearn.preprocessing import MinMaxScaler\n",
    "\n",
    "sc3 = MinMaxScaler()\n",
    "sc5 = MinMaxScaler()\n",
    "\n",
    "sc5.fit(x_test3[:])\n",
    "\n",
    "test_x3 =  sc5.transform(x_test3[:])\n",
    "train_x = sc5.transform(x_train[:])\n",
    "test_x  = sc5.transform(x_test[:])\n",
    "\n",
    "\n",
    "sc3.fit(y_train[:])\n",
    "\n",
    "train_y = sc3.transform(y_train)\n",
    "test_y  = sc3.transform(y_test)\n",
    "\n",
    "train_x.max(),test_x.max(),test_x3.max(),train_y.max(),test_y.max()"
   ]
  },
  {
   "cell_type": "code",
   "execution_count": 14,
   "metadata": {},
   "outputs": [
    {
     "data": {
      "text/plain": [
       "(array([ 2.,  5.,  2.,  9.,  8., 12., 15., 30., 23., 60., 57., 67., 78.,\n",
       "        70., 96., 70., 70., 75., 89., 77., 61., 69., 56., 43., 27., 24.,\n",
       "        21.,  8.,  9.,  6.,  8.,  9.,  3.,  4.,  3.]),\n",
       " array([0.14393334, 0.16560254, 0.18727175, 0.20894096, 0.23061017,\n",
       "        0.25227938, 0.27394859, 0.2956178 , 0.317287  , 0.33895621,\n",
       "        0.36062542, 0.38229463, 0.40396384, 0.42563305, 0.44730226,\n",
       "        0.46897147, 0.49064067, 0.51230988, 0.53397909, 0.5556483 ,\n",
       "        0.57731751, 0.59898672, 0.62065593, 0.64232513, 0.66399434,\n",
       "        0.68566355, 0.70733276, 0.72900197, 0.75067118, 0.77234039,\n",
       "        0.7940096 , 0.8156788 , 0.83734801, 0.85901722, 0.88068643,\n",
       "        0.90235564]),\n",
       " <a list of 35 Patch objects>)"
      ]
     },
     "execution_count": 14,
     "metadata": {},
     "output_type": "execute_result"
    },
    {
     "data": {
      "image/png": "[encoded data removed]",
      "text/plain": [
       "<Figure size 432x288 with 1 Axes>"
      ]
     },
     "metadata": {
      "needs_background": "light"
     },
     "output_type": "display_data"
    }
   ],
   "source": [
    "plt.hist(test_x[:,5],bins=35)"
   ]
  },
  {
   "cell_type": "code",
   "execution_count": 15,
   "metadata": {},
   "outputs": [],
   "source": [
    "#model = MultiOutputRegressor(XGBRegressor(objective='reg:squarederror'))\n",
    "model = MultiOutputRegressor(XGBRegressor(objective='reg:squarederror'))"
   ]
  },
  {
   "cell_type": "code",
   "execution_count": 16,
   "metadata": {},
   "outputs": [
    {
     "data": {
      "text/plain": [
       "XGBRegressor(base_score=0.5, booster='gbtree', colsample_bylevel=1,\n",
       "             colsample_bynode=1, colsample_bytree=1, gamma=0,\n",
       "             importance_type='gain', learning_rate=0.1, max_delta_step=0,\n",
       "             max_depth=3, min_child_weight=1, missing=None, n_estimators=100,\n",
       "             n_jobs=1, nthread=None, objective='reg:squarederror',\n",
       "             random_state=0, reg_alpha=0, reg_lambda=1, scale_pos_weight=1,\n",
       "             seed=None, silent=None, subsample=1, verbosity=1)"
      ]
     },
     "execution_count": 16,
     "metadata": {},
     "output_type": "execute_result"
    }
   ],
   "source": [
    "model.estimator"
   ]
  },
  {
   "cell_type": "markdown",
   "metadata": {},
   "source": [
    "#### Predict from XGBOOST for rmm2"
   ]
  },
  {
   "cell_type": "code",
   "execution_count": 17,
   "metadata": {},
   "outputs": [
    {
     "name": "stdout",
     "output_type": "stream",
     "text": [
      "Accuracy of base Xgboost model is , 68.27\n"
     ]
    }
   ],
   "source": [
    "model.fit(train_x, train_y)\n",
    "\n",
    "Y_prediction_rmm1 = model.predict(test_x)\n",
    "\n",
    "acc_xgboost       = round(model.score(test_x, test_y) * 100, 2)\n",
    "\n",
    "print(\"Accuracy of base Xgboost model is ,\",acc_xgboost)"
   ]
  },
  {
   "cell_type": "code",
   "execution_count": 18,
   "metadata": {},
   "outputs": [
    {
     "name": "stdout",
     "output_type": "stream",
     "text": [
      "training shape = \n",
      "(10839, 1)\n"
     ]
    },
    {
     "data": {
      "text/plain": [
       "<matplotlib.legend.Legend at 0x2b210b67c210>"
      ]
     },
     "execution_count": 18,
     "metadata": {},
     "output_type": "execute_result"
    },
    {
     "data": {
      "image/png": "[encoded data removed]",
      "text/plain": [
       "<Figure size 864x288 with 2 Axes>"
      ]
     },
     "metadata": {
      "needs_background": "light"
     },
     "output_type": "display_data"
    }
   ],
   "source": [
    "predict1   = model.predict(train_x)\n",
    "yy_train   = sc3.inverse_transform(predict1)\n",
    "yy_train   = yy_train/yy_train.std()\n",
    "train_corr = np.corrcoef(yy_train[:,0],train_y[:,0])[0,1]\n",
    "\n",
    "print(\"training shape = \");print(predict1.shape)\n",
    "\n",
    "fig,ax = plt.subplots(1,2,figsize = (12,4))\n",
    "\n",
    "ax[0].plot(yy_train[:,0],train_y,'.')\n",
    "\n",
    "ax[0].set_title('corr = %f'%train_corr)\n",
    "\n",
    "bins = np.linspace(-4.0,4.0,41)\n",
    "\n",
    "ax[1].hist(y_train.rmm2,bins,density=True,alpha=0.5,label='observed')\n",
    "ax[1].hist(yy_train,bins,density=True,alpha=0.5,label='modeled');\n",
    "plt.legend()"
   ]
  },
  {
   "cell_type": "code",
   "execution_count": 19,
   "metadata": {},
   "outputs": [
    {
     "name": "stdout",
     "output_type": "stream",
     "text": [
      "test shape = \n",
      "(1266, 1)\n"
     ]
    },
    {
     "data": {
      "text/plain": [
       "<matplotlib.legend.Legend at 0x2b210da84ad0>"
      ]
     },
     "execution_count": 19,
     "metadata": {},
     "output_type": "execute_result"
    },
    {
     "data": {
      "image/png": "[encoded data removed]",
      "text/plain": [
       "<Figure size 864x288 with 2 Axes>"
      ]
     },
     "metadata": {
      "needs_background": "light"
     },
     "output_type": "display_data"
    }
   ],
   "source": [
    "predict2  = model.predict(test_x)\n",
    "yy_test   = sc3.inverse_transform(predict2)\n",
    "yy_test   = yy_test/yy_test.std()\n",
    "test_corr = np.corrcoef(yy_test[:,0],test_y[:,0])[0,1]\n",
    "\n",
    "print(\"test shape = \");print(predict2.shape)\n",
    "\n",
    "fig,ax = plt.subplots(1,2,figsize = (12,4))\n",
    "\n",
    "ax[0].plot(yy_test[:,0],test_y,'.')\n",
    "\n",
    "ax[0].set_title('corr = %f'%test_corr)\n",
    "\n",
    "bins = np.linspace(-4.0,4.0,41)\n",
    "\n",
    "ax[1].hist(y_test.rmm2,bins,density=True,alpha=0.5,label='observed')\n",
    "ax[1].hist(yy_test,bins,density=True,alpha=0.5,label='modeled');\n",
    "plt.legend()"
   ]
  },
  {
   "cell_type": "markdown",
   "metadata": {},
   "source": [
    "## Support vector regressor"
   ]
  },
  {
   "cell_type": "code",
   "execution_count": 20,
   "metadata": {},
   "outputs": [
    {
     "name": "stderr",
     "output_type": "stream",
     "text": [
      "/home/cccr/supriyo/.conda/envs/knp_ai/lib/python3.7/site-packages/sklearn/utils/validation.py:724: DataConversionWarning: A column-vector y was passed when a 1d array was expected. Please change the shape of y to (n_samples, ), for example using ravel().\n",
      "  y = column_or_1d(y, warn=True)\n",
      "/home/cccr/supriyo/.conda/envs/knp_ai/lib/python3.7/site-packages/sklearn/svm/base.py:193: FutureWarning: The default value of gamma will change from 'auto' to 'scale' in version 0.22 to account better for unscaled features. Set gamma explicitly to 'auto' or 'scale' to avoid this warning.\n",
      "  \"avoid this warning.\", FutureWarning)\n"
     ]
    },
    {
     "name": "stdout",
     "output_type": "stream",
     "text": [
      "Accuracy of base SVR model is , 0.8275264346230881\n"
     ]
    }
   ],
   "source": [
    "from sklearn.svm import SVR# most important SVR parameter is Kernel type. It can be #linear,polynomial or gaussian SVR. We have a non-linear condition #so we can select polynomial or gaussian but here we select RBF(a #gaussian type) kernel.regressor = SVR(kernel='rbf')\n",
    "regressor = SVR(kernel='rbf',C=5)\n",
    "\n",
    "regressor.fit(train_x, train_y)\n",
    "\n",
    "Y_prediction_rmm1 = regressor.predict(test_x)\n",
    "\n",
    "acc_svr       = round(regressor.score(test_x, test_y) * 100, 2)\n",
    "\n",
    "print(\"Accuracy of base SVR model is ,\",(acc_svr/100)**0.5)"
   ]
  },
  {
   "cell_type": "code",
   "execution_count": 21,
   "metadata": {},
   "outputs": [
    {
     "name": "stdout",
     "output_type": "stream",
     "text": [
      "training shape = \n",
      "(10839,)\n"
     ]
    },
    {
     "data": {
      "text/plain": [
       "<matplotlib.legend.Legend at 0x2b217b13ac50>"
      ]
     },
     "execution_count": 21,
     "metadata": {},
     "output_type": "execute_result"
    },
    {
     "data": {
      "image/png": "[encoded data removed]",
      "text/plain": [
       "<Figure size 864x288 with 2 Axes>"
      ]
     },
     "metadata": {
      "needs_background": "light"
     },
     "output_type": "display_data"
    }
   ],
   "source": [
    "predict1   = regressor.predict(train_x)\n",
    "yy_train   = sc3.inverse_transform(predict1[:,None])\n",
    "yy_train   = yy_train/yy_train.std()\n",
    "train_corr = np.corrcoef(yy_train[:,0],train_y[:,0])[0,1]\n",
    "\n",
    "print(\"training shape = \");print(predict1.shape)\n",
    "\n",
    "fig,ax = plt.subplots(1,2,figsize = (12,4))\n",
    "\n",
    "ax[0].plot(yy_train[:,0],train_y,'.')\n",
    "\n",
    "ax[0].set_title('corr = %f'%train_corr)\n",
    "\n",
    "bins = np.linspace(-4.0,4.0,41)\n",
    "\n",
    "ax[1].hist(y_train.rmm2,bins,density=True,alpha=0.5,label='observed')\n",
    "ax[1].hist(yy_train,bins,density=True,alpha=0.5,label='modeled');\n",
    "plt.legend()"
   ]
  },
  {
   "cell_type": "code",
   "execution_count": 22,
   "metadata": {},
   "outputs": [
    {
     "name": "stdout",
     "output_type": "stream",
     "text": [
      "test shape = \n",
      "(1266,)\n"
     ]
    },
    {
     "data": {
      "text/plain": [
       "<matplotlib.legend.Legend at 0x2b217b32ccd0>"
      ]
     },
     "execution_count": 22,
     "metadata": {},
     "output_type": "execute_result"
    },
    {
     "data": {
      "image/png": "[encoded data removed]",
      "text/plain": [
       "<Figure size 864x288 with 2 Axes>"
      ]
     },
     "metadata": {
      "needs_background": "light"
     },
     "output_type": "display_data"
    }
   ],
   "source": [
    "predict2  = regressor.predict(test_x)\n",
    "yy_test   = sc3.inverse_transform(predict2[:,None])\n",
    "yy_test   = yy_test/yy_test.std()\n",
    "test_corr = np.corrcoef(yy_test[:,0],test_y[:,0])[0,1]\n",
    "\n",
    "print(\"test shape = \");print(predict2.shape)\n",
    "\n",
    "fig,ax = plt.subplots(1,2,figsize = (12,4))\n",
    "\n",
    "ax[0].plot(yy_test[:,0],test_y,'.')\n",
    "\n",
    "ax[0].set_title('corr = %f'%test_corr)\n",
    "\n",
    "bins = np.linspace(-4.0,4.0,41)\n",
    "\n",
    "ax[1].hist(y_test.rmm2,bins,density=True,alpha=0.5,label='observed')\n",
    "ax[1].hist(yy_test,bins,density=True,alpha=0.5,label='modeled');\n",
    "plt.legend()"
   ]
  },
  {
   "cell_type": "code",
   "execution_count": 23,
   "metadata": {},
   "outputs": [],
   "source": [
    "predict_tot = regressor.predict(test_x3)\n",
    "predict_tot = sc3.inverse_transform(predict_tot[:,None])\n",
    "predict_tot = predict_tot/predict_tot.std()"
   ]
  },
  {
   "cell_type": "code",
   "execution_count": null,
   "metadata": {},
   "outputs": [],
   "source": []
  },
  {
   "cell_type": "markdown",
   "metadata": {},
   "source": [
    "## Neural Network"
   ]
  },
  {
   "cell_type": "raw",
   "metadata": {},
   "source": [
    "from keras.layers.advanced_activations import LeakyReLU\n",
    "from keras.optimizers import adam\n",
    "from keras.wrappers.scikit_learn import KerasRegressor\n",
    "\n",
    "\n",
    "def build_regressor():\n",
    "    regressor = Sequential()\n",
    "    regressor.add(Dense(units=50,  kernel_initializer='random_uniform',\n",
    "                bias_initializer='zeros',input_dim=train_x.shape[1],activation='relu'))\n",
    "    regressor.add(Dense(units=40, kernel_initializer='random_uniform',\n",
    "                bias_initializer='zeros',activation='relu'))\n",
    "    regressor.add(Dense(units=20, kernel_initializer='random_uniform',\n",
    "                bias_initializer='zeros',activation='tanh'))\n",
    "    regressor.add(Dense(units=20, kernel_initializer='random_uniform',\n",
    "                bias_initializer='zeros',activation='sigmoid'))\n",
    "    regressor.add(Dense(units=1, kernel_initializer='random_uniform',\n",
    "                bias_initializer='zeros',activation='linear'))\n",
    "    optimizer = adam(lr=0.001)\n",
    "    regressor.compile(optimizer=optimizer, loss='mae')\n",
    "    return regressor"
   ]
  },
  {
   "cell_type": "raw",
   "metadata": {},
   "source": [
    "from keras.layers.advanced_activations import LeakyReLU\n",
    "from keras.optimizers import adamax\n",
    "from keras.wrappers.scikit_learn import KerasRegressor\n",
    "\n",
    "\n",
    "def build_regressor():\n",
    "    regressor = Sequential()\n",
    "    regressor.add(Dense(units=150,  kernel_initializer='random_uniform',\n",
    "                bias_initializer='zeros',input_dim=train_x.shape[1],activation='relu'))\n",
    "    regressor.add(Dense(units=140, kernel_initializer='random_uniform',\n",
    "                bias_initializer='zeros',activation='relu'))\n",
    "    regressor.add(Dense(units=120, kernel_initializer='random_uniform',\n",
    "                bias_initializer='zeros',activation='relu'))\n",
    "    regressor.add(Dense(units=120, kernel_initializer='random_uniform',\n",
    "                bias_initializer='zeros',activation='relu'))\n",
    "    regressor.add(Dense(units=120, kernel_initializer='random_uniform',\n",
    "                bias_initializer='zeros',activation='relu'))\n",
    "    regressor.add(Dense(units=120, kernel_initializer='random_uniform',\n",
    "                bias_initializer='zeros',activation='relu'))\n",
    "    regressor.add(Dense(units=120, kernel_initializer='random_uniform',\n",
    "                bias_initializer='zeros',activation='relu'))\n",
    "    regressor.add(Dense(units=20, kernel_initializer='random_uniform',\n",
    "                bias_initializer='zeros',activation='relu'))\n",
    "    \n",
    "    regressor.add(Dense(units=1, kernel_initializer='random_uniform',\n",
    "                bias_initializer='zeros',activation='linear'))\n",
    "    optimizer = adamax(lr=0.001)\n",
    "    regressor.compile(optimizer=optimizer, loss='mae')\n",
    "    return regressor"
   ]
  },
  {
   "cell_type": "raw",
   "metadata": {},
   "source": [
    "from keras.layers.advanced_activations import LeakyReLU,PReLU\n",
    "from keras.optimizers import adamax\n",
    "from keras.wrappers.scikit_learn import KerasRegressor\n",
    "\n",
    "\n",
    "def build_regressor():\n",
    "    regressor = Sequential()\n",
    "    regressor.add(Dense(units=256,  kernel_initializer='random_uniform',\n",
    "                bias_initializer='zeros',input_dim=train_x.shape[1],activation='relu'))\n",
    "    regressor.add(Dropout(0.2))\n",
    "    regressor.add(Dense(units=256, kernel_initializer='random_uniform',\n",
    "                bias_initializer='zeros',activation='relu'))\n",
    "    regressor.add(Dropout(0.2))\n",
    "    regressor.add(Dense(units=200, kernel_initializer='random_uniform',\n",
    "                bias_initializer='zeros',activation='relu'))\n",
    "    regressor.add(Dropout(0.2))\n",
    "    regressor.add(Dense(units=256, kernel_initializer='random_uniform',\n",
    "                bias_initializer='zeros',activation='relu'))\n",
    "    regressor.add(Dropout(0.2))\n",
    "    regressor.add(Dense(units=256, kernel_initializer='random_uniform',\n",
    "                bias_initializer='zeros',activation='relu'))\n",
    "    regressor.add(Dropout(0.2))\n",
    "    regressor.add(Dense(units=256, kernel_initializer='random_uniform',\n",
    "                bias_initializer='zeros',activation='relu'))\n",
    "    regressor.add(Dropout(0.2))\n",
    "    regressor.add(Dense(units=30, kernel_initializer='random_uniform',\n",
    "                bias_initializer='zeros',activation='relu'))\n",
    "    regressor.add(Dropout(0.2))\n",
    "    regressor.add(Dense(units=20, kernel_initializer='random_uniform',\n",
    "                bias_initializer='zeros',activation='relu'))\n",
    "    regressor.add(Dropout(0.2))\n",
    "    regressor.add(Dense(units=1, kernel_initializer='random_uniform',\n",
    "                bias_initializer='zeros',activation='relu'))\n",
    "    optimizer = adamax(lr=0.001,decay=0.00001)\n",
    "    regressor.compile(optimizer=optimizer, loss='mae')\n",
    "    return regressor"
   ]
  },
  {
   "cell_type": "code",
   "execution_count": 26,
   "metadata": {},
   "outputs": [],
   "source": [
    "from keras.optimizers import adadelta\n",
    "from keras.layers.advanced_activations import LeakyReLU,PReLU\n",
    "from keras.optimizers import adamax\n",
    "from keras.wrappers.scikit_learn import KerasRegressor\n",
    "def build_regressor():\n",
    "    regressor = Sequential()\n",
    "    regressor.add(Dense(units=1000,  kernel_initializer='random_uniform',\n",
    "                bias_initializer='zeros',input_dim=train_x.shape[1],activation='relu'))\n",
    "    regressor.add(Dropout(0.1))\n",
    "    regressor.add(Dense(units=1000, kernel_initializer='random_uniform',\n",
    "                bias_initializer='zeros',activation='relu'))\n",
    "    regressor.add(Dropout(0.2))\n",
    "    regressor.add(Dense(units=1000, kernel_initializer='random_uniform',\n",
    "                bias_initializer='zeros',activation='relu'))\n",
    "    regressor.add(Dropout(0.3))\n",
    "    regressor.add(Dense(units=1, kernel_initializer='random_uniform',\n",
    "                bias_initializer='zeros',activation='linear'))\n",
    "    optimizer = adadelta(lr=0.1,epsilon=1e-8,rho=0.95)\n",
    "    regressor.compile(optimizer=optimizer, loss='mae')\n",
    "    return regressor"
   ]
  },
  {
   "cell_type": "raw",
   "metadata": {},
   "source": [
    "def build_regressor():\n",
    "    regressor = Sequential()\n",
    "    regressor.add(Dense(units=50,  kernel_initializer='random_uniform',\n",
    "                bias_initializer='zeros',input_dim=train_x.shape[1]))\n",
    "    regressor.add(PReLU(alpha_initializer='zeros', alpha_regularizer=None, alpha_constraint=None, shared_axes=None))\n",
    "    \n",
    "    regressor.add(Dense(units=80, kernel_initializer='random_uniform',\n",
    "                bias_initializer='zeros'))\n",
    "    regressor.add(PReLU(alpha_initializer='zeros', alpha_regularizer=None, alpha_constraint=None, shared_axes=None))\n",
    "    \n",
    "    regressor.add(Dense(units=50, kernel_initializer='random_uniform',\n",
    "                bias_initializer='zeros'))\n",
    "    regressor.add(PReLU(alpha_initializer='zeros', alpha_regularizer=None, alpha_constraint=None, shared_axes=None))\n",
    "    #regressor.add(PReLU(alpha=0.5))\n",
    "    regressor.add(Dense(units=70, kernel_initializer='random_uniform',\n",
    "                bias_initializer='zeros'))\n",
    "    regressor.add(PReLU(alpha_initializer='zeros', alpha_regularizer=None, alpha_constraint=None, shared_axes=None))\n",
    "    \n",
    "    regressor.add(Dense(units=1, kernel_initializer='random_uniform',\n",
    "                bias_initializer='zeros',activation='linear'))\n",
    "    #regressor.add(PReLU(alpha=0.5))\n",
    "    regressor.compile(optimizer='adam', loss='mae')\n",
    "    return regressor"
   ]
  },
  {
   "cell_type": "raw",
   "metadata": {},
   "source": [
    "from keras.layers.advanced_activations import LeakyReLU\n",
    "from keras.optimizers import adam\n",
    "from keras.wrappers.scikit_learn import KerasRegressor\n",
    "\n",
    "def build_regressor():\n",
    "    regressor = Sequential()\n",
    "    regressor.add(Dense(units=50,  kernel_initializer='random_uniform',\n",
    "                bias_initializer='zeros',input_dim=train_x.shape[1]))\n",
    "    regressor.add(LeakyReLU(alpha=0.5))\n",
    "    regressor.add(Dense(units=80, kernel_initializer='random_uniform',\n",
    "                bias_initializer='zeros'))\n",
    "    regressor.add(LeakyReLU(alpha=0.5))\n",
    "    regressor.add(Dense(units=50, kernel_initializer='random_uniform',\n",
    "                bias_initializer='zeros'))\n",
    "    regressor.add(LeakyReLU(alpha=0.5))\n",
    "    regressor.add(Dense(units=70, kernel_initializer='random_uniform',\n",
    "                bias_initializer='zeros'))\n",
    "    regressor.add(LeakyReLU(alpha=0.5))\n",
    "    regressor.add(Dense(units=1, kernel_initializer='random_uniform',\n",
    "                bias_initializer='zeros',activation='linear'))\n",
    "    #regressor.add(LeakyReLU(alpha=0.5))\n",
    "    regressor.compile(optimizer='adam', loss='mae')\n",
    "    return regressor"
   ]
  },
  {
   "cell_type": "raw",
   "metadata": {},
   "source": [
    "from keras.layers.advanced_activations import LeakyReLU\n",
    "from keras.optimizers import adam\n",
    "from keras.wrappers.scikit_learn import KerasRegressor\n",
    "\n",
    "def build_regressor():\n",
    "    regressor = Sequential()\n",
    "    regressor.add(Dense(units=150,  kernel_initializer='random_uniform',\n",
    "                bias_initializer='zeros',input_dim=train_x.shape[1]))\n",
    "    regressor.add(LeakyReLU(alpha=0.5))\n",
    "    regressor.add(Dense(units=180, kernel_initializer='random_uniform',\n",
    "                bias_initializer='zeros'))\n",
    "    regressor.add(LeakyReLU(alpha=0.5))\n",
    "    regressor.add(Dense(units=150, kernel_initializer='random_uniform',\n",
    "                bias_initializer='zeros'))\n",
    "    regressor.add(LeakyReLU(alpha=0.5))\n",
    "    regressor.add(Dense(units=170, kernel_initializer='random_uniform',\n",
    "                bias_initializer='zeros'))\n",
    "    regressor.add(LeakyReLU(alpha=0.5))\n",
    "    regressor.add(Dense(units=1, kernel_initializer='random_uniform',\n",
    "                bias_initializer='zeros',activation='linear'))\n",
    "    #regressor.add(LeakyReLU(alpha=0.5))\n",
    "    regressor.compile(optimizer='adam', loss='mae')\n",
    "    return regressor"
   ]
  },
  {
   "cell_type": "code",
   "execution_count": 27,
   "metadata": {},
   "outputs": [],
   "source": [
    "regressor = KerasRegressor(build_fn=build_regressor, validation_data = (test_x,test_y),batch_size=30,epochs=50)"
   ]
  },
  {
   "cell_type": "code",
   "execution_count": 28,
   "metadata": {},
   "outputs": [
    {
     "name": "stdout",
     "output_type": "stream",
     "text": [
      "Train on 10839 samples, validate on 1266 samples\n",
      "Epoch 1/50\n",
      "10839/10839 [==============================] - 4s 352us/step - loss: 0.1115 - val_loss: 0.0768\n",
      "Epoch 2/50\n",
      "10839/10839 [==============================] - 3s 286us/step - loss: 0.0866 - val_loss: 0.0866\n",
      "Epoch 3/50\n",
      "10839/10839 [==============================] - 3s 277us/step - loss: 0.0804 - val_loss: 0.0728\n",
      "Epoch 4/50\n",
      "10839/10839 [==============================] - 3s 278us/step - loss: 0.0772 - val_loss: 0.0677\n",
      "Epoch 5/50\n",
      "10839/10839 [==============================] - 3s 276us/step - loss: 0.0753 - val_loss: 0.0659\n",
      "Epoch 6/50\n",
      "10839/10839 [==============================] - 3s 283us/step - loss: 0.0735 - val_loss: 0.0789\n",
      "Epoch 7/50\n",
      "10839/10839 [==============================] - 3s 273us/step - loss: 0.0726 - val_loss: 0.0715\n",
      "Epoch 8/50\n",
      "10839/10839 [==============================] - 3s 281us/step - loss: 0.0722 - val_loss: 0.0641\n",
      "Epoch 9/50\n",
      "10839/10839 [==============================] - 3s 274us/step - loss: 0.0710 - val_loss: 0.0689\n",
      "Epoch 10/50\n",
      "10839/10839 [==============================] - 3s 276us/step - loss: 0.0698 - val_loss: 0.0656\n",
      "Epoch 11/50\n",
      "10839/10839 [==============================] - 3s 278us/step - loss: 0.0692 - val_loss: 0.0639\n",
      "Epoch 12/50\n",
      "10839/10839 [==============================] - 3s 277us/step - loss: 0.0687 - val_loss: 0.0669\n",
      "Epoch 13/50\n",
      "10839/10839 [==============================] - 3s 275us/step - loss: 0.0680 - val_loss: 0.0632\n",
      "Epoch 14/50\n",
      "10839/10839 [==============================] - 3s 272us/step - loss: 0.0680 - val_loss: 0.0648\n",
      "Epoch 15/50\n",
      "10839/10839 [==============================] - 3s 284us/step - loss: 0.0675 - val_loss: 0.0632\n",
      "Epoch 16/50\n",
      "10839/10839 [==============================] - 3s 281us/step - loss: 0.0673 - val_loss: 0.0648\n",
      "Epoch 17/50\n",
      "10839/10839 [==============================] - 3s 281us/step - loss: 0.0667 - val_loss: 0.0642\n",
      "Epoch 18/50\n",
      "10839/10839 [==============================] - 3s 277us/step - loss: 0.0664 - val_loss: 0.0723\n",
      "Epoch 19/50\n",
      "10839/10839 [==============================] - 3s 280us/step - loss: 0.0658 - val_loss: 0.0641\n",
      "Epoch 20/50\n",
      "10839/10839 [==============================] - 3s 276us/step - loss: 0.0656 - val_loss: 0.0679\n",
      "Epoch 21/50\n",
      "10839/10839 [==============================] - 3s 273us/step - loss: 0.0650 - val_loss: 0.0640\n",
      "Epoch 22/50\n",
      "10839/10839 [==============================] - 3s 277us/step - loss: 0.0650 - val_loss: 0.0637\n",
      "Epoch 23/50\n",
      "10839/10839 [==============================] - 3s 275us/step - loss: 0.0644 - val_loss: 0.0684\n",
      "Epoch 24/50\n",
      "10839/10839 [==============================] - 3s 275us/step - loss: 0.0648 - val_loss: 0.0665\n",
      "Epoch 25/50\n",
      "10839/10839 [==============================] - 3s 277us/step - loss: 0.0644 - val_loss: 0.0668\n",
      "Epoch 26/50\n",
      "10839/10839 [==============================] - 3s 279us/step - loss: 0.0644 - val_loss: 0.0625\n",
      "Epoch 27/50\n",
      "10839/10839 [==============================] - 3s 276us/step - loss: 0.0640 - val_loss: 0.0672\n",
      "Epoch 28/50\n",
      "10839/10839 [==============================] - 3s 276us/step - loss: 0.0633 - val_loss: 0.0673\n",
      "Epoch 29/50\n",
      "10839/10839 [==============================] - 3s 277us/step - loss: 0.0634 - val_loss: 0.0662\n",
      "Epoch 30/50\n",
      "10839/10839 [==============================] - 3s 280us/step - loss: 0.0635 - val_loss: 0.0638\n",
      "Epoch 31/50\n",
      "10839/10839 [==============================] - 3s 281us/step - loss: 0.0630 - val_loss: 0.0689\n",
      "Epoch 32/50\n",
      "10839/10839 [==============================] - 3s 280us/step - loss: 0.0629 - val_loss: 0.0720\n",
      "Epoch 33/50\n",
      "10839/10839 [==============================] - 3s 285us/step - loss: 0.0627 - val_loss: 0.0651\n",
      "Epoch 34/50\n",
      "10839/10839 [==============================] - 3s 289us/step - loss: 0.0630 - val_loss: 0.0676\n",
      "Epoch 35/50\n",
      "10839/10839 [==============================] - 3s 284us/step - loss: 0.0624 - val_loss: 0.0716\n",
      "Epoch 36/50\n",
      "10839/10839 [==============================] - 3s 276us/step - loss: 0.0617 - val_loss: 0.0644\n",
      "Epoch 37/50\n",
      "10839/10839 [==============================] - 3s 276us/step - loss: 0.0624 - val_loss: 0.0648\n",
      "Epoch 38/50\n",
      "10839/10839 [==============================] - 3s 277us/step - loss: 0.0622 - val_loss: 0.0641\n",
      "Epoch 39/50\n",
      "10839/10839 [==============================] - 3s 277us/step - loss: 0.0620 - val_loss: 0.0655\n",
      "Epoch 40/50\n",
      "10839/10839 [==============================] - 3s 274us/step - loss: 0.0610 - val_loss: 0.0649\n",
      "Epoch 41/50\n",
      "10839/10839 [==============================] - 3s 275us/step - loss: 0.0616 - val_loss: 0.0650\n",
      "Epoch 42/50\n",
      "10839/10839 [==============================] - 3s 279us/step - loss: 0.0612 - val_loss: 0.0647\n",
      "Epoch 43/50\n",
      "10839/10839 [==============================] - 3s 279us/step - loss: 0.0613 - val_loss: 0.0738\n",
      "Epoch 44/50\n",
      "10839/10839 [==============================] - 3s 283us/step - loss: 0.0615 - val_loss: 0.0718\n",
      "Epoch 45/50\n",
      "10839/10839 [==============================] - 3s 280us/step - loss: 0.0609 - val_loss: 0.0702\n",
      "Epoch 46/50\n",
      "10839/10839 [==============================] - 3s 279us/step - loss: 0.0606 - val_loss: 0.0662\n",
      "Epoch 47/50\n",
      "10839/10839 [==============================] - 3s 281us/step - loss: 0.0607 - val_loss: 0.0668\n",
      "Epoch 48/50\n",
      "10839/10839 [==============================] - 3s 274us/step - loss: 0.0606 - val_loss: 0.0637\n",
      "Epoch 49/50\n",
      "10839/10839 [==============================] - 3s 276us/step - loss: 0.0597 - val_loss: 0.0649\n",
      "Epoch 50/50\n",
      "10839/10839 [==============================] - 3s 275us/step - loss: 0.0603 - val_loss: 0.0661\n"
     ]
    }
   ],
   "source": [
    "results = regressor.fit(train_x,train_y,verbose=1)"
   ]
  },
  {
   "cell_type": "code",
   "execution_count": 29,
   "metadata": {},
   "outputs": [
    {
     "data": {
      "text/plain": [
       "[<matplotlib.lines.Line2D at 0x2b22b5bc9750>]"
      ]
     },
     "execution_count": 29,
     "metadata": {},
     "output_type": "execute_result"
    },
    {
     "data": {
      "image/png": "[encoded data removed]",
      "text/plain": [
       "<Figure size 432x288 with 1 Axes>"
      ]
     },
     "metadata": {
      "needs_background": "light"
     },
     "output_type": "display_data"
    }
   ],
   "source": [
    "plt.plot(results.history['loss'])\n",
    "plt.plot(results.history['val_loss'])\n"
   ]
  },
  {
   "cell_type": "code",
   "execution_count": 30,
   "metadata": {},
   "outputs": [
    {
     "name": "stdout",
     "output_type": "stream",
     "text": [
      "training shape = \n",
      "(10839,)\n"
     ]
    },
    {
     "data": {
      "text/plain": [
       "<matplotlib.legend.Legend at 0x2b22b6031ad0>"
      ]
     },
     "execution_count": 30,
     "metadata": {},
     "output_type": "execute_result"
    },
    {
     "data": {
      "image/png": "[encoded data removed]",
      "text/plain": [
       "<Figure size 864x288 with 2 Axes>"
      ]
     },
     "metadata": {
      "needs_background": "light"
     },
     "output_type": "display_data"
    }
   ],
   "source": [
    "predict1   = regressor.predict(train_x)\n",
    "yy_train   = sc3.inverse_transform(predict1.reshape(predict1.shape[0],1))\n",
    "yy_train   = yy_train/yy_train.std()\n",
    "train_corr = np.corrcoef(yy_train[:,0],train_y[:,0])[0,1]\n",
    "\n",
    "print(\"training shape = \");print(predict1.shape)\n",
    "\n",
    "fig,ax = plt.subplots(1,2,figsize = (12,4))\n",
    "\n",
    "ax[0].plot(yy_train[:,0],train_y,'.')\n",
    "\n",
    "ax[0].set_title('corr = %f'%train_corr)\n",
    "\n",
    "bins = np.linspace(-4.0,4.0,41)\n",
    "\n",
    "ax[1].hist(y_train.rmm2,bins,density=True,alpha=0.5,label='observed')\n",
    "ax[1].hist(yy_train,bins,density=True,alpha=0.5,label='modeled');\n",
    "plt.legend()"
   ]
  },
  {
   "cell_type": "code",
   "execution_count": 31,
   "metadata": {},
   "outputs": [
    {
     "name": "stdout",
     "output_type": "stream",
     "text": [
      "test shape = \n",
      "(1266,)\n"
     ]
    },
    {
     "data": {
      "text/plain": [
       "<matplotlib.legend.Legend at 0x2b22b61ac910>"
      ]
     },
     "execution_count": 31,
     "metadata": {},
     "output_type": "execute_result"
    },
    {
     "data": {
      "image/png": "[encoded data removed]",
      "text/plain": [
       "<Figure size 864x288 with 2 Axes>"
      ]
     },
     "metadata": {
      "needs_background": "light"
     },
     "output_type": "display_data"
    }
   ],
   "source": [
    "predict2  = regressor.predict(test_x)\n",
    "yy_test   = sc3.inverse_transform(predict2.reshape(predict2.shape[0],1))\n",
    "yy_test   = yy_test/yy_test.std()\n",
    "test_corr = np.corrcoef(yy_test[:,0],test_y[:,0])[0,1]\n",
    "\n",
    "print(\"test shape = \");print(predict2.shape)\n",
    "\n",
    "fig,ax = plt.subplots(1,2,figsize = (12,4))\n",
    "\n",
    "ax[0].plot(yy_test[:,0],test_y,'.')\n",
    "\n",
    "ax[0].set_title('corr = %f'%test_corr)\n",
    "\n",
    "bins = np.linspace(-4.0,4.0,41)\n",
    "\n",
    "ax[1].hist(y_test.rmm2,bins,density=True,alpha=0.5,label='observed')\n",
    "ax[1].hist(yy_test,bins,density=True,alpha=0.5,label='modeled');\n",
    "plt.legend()"
   ]
  },
  {
   "cell_type": "code",
   "execution_count": null,
   "metadata": {},
   "outputs": [
    {
     "name": "stdout",
     "output_type": "stream",
     "text": [
      "Train on 10839 samples, validate on 1266 samples\n",
      "Epoch 1/300\n",
      "10839/10839 [==============================] - 14s 1ms/step - loss: 0.1351 - val_loss: 0.1147\n",
      "Epoch 2/300\n",
      "10839/10839 [==============================] - 13s 1ms/step - loss: 0.1207 - val_loss: 0.1129\n",
      "Epoch 3/300\n",
      "10839/10839 [==============================] - 13s 1ms/step - loss: 0.1193 - val_loss: 0.1113\n",
      "Epoch 4/300\n",
      "10839/10839 [==============================] - 13s 1ms/step - loss: 0.1177 - val_loss: 0.1093\n",
      "Epoch 5/300\n",
      "10839/10839 [==============================] - 13s 1ms/step - loss: 0.1163 - val_loss: 0.1101\n",
      "Epoch 6/300\n",
      "10839/10839 [==============================] - 13s 1ms/step - loss: 0.1151 - val_loss: 0.1065\n",
      "Epoch 7/300\n",
      "10839/10839 [==============================] - 13s 1ms/step - loss: 0.1140 - val_loss: 0.1051\n",
      "Epoch 8/300\n",
      "10839/10839 [==============================] - 13s 1ms/step - loss: 0.1131 - val_loss: 0.1040\n",
      "Epoch 9/300\n",
      "10839/10839 [==============================] - 13s 1ms/step - loss: 0.1120 - val_loss: 0.1026\n",
      "Epoch 10/300\n",
      "10839/10839 [==============================] - 13s 1ms/step - loss: 0.1108 - val_loss: 0.1026\n",
      "Epoch 11/300\n",
      "10839/10839 [==============================] - 13s 1ms/step - loss: 0.1102 - val_loss: 0.0998\n",
      "Epoch 12/300\n",
      "10839/10839 [==============================] - 13s 1ms/step - loss: 0.1089 - val_loss: 0.0987\n",
      "Epoch 13/300\n",
      "10839/10839 [==============================] - 13s 1ms/step - loss: 0.1076 - val_loss: 0.0963\n",
      "Epoch 14/300\n",
      "10839/10839 [==============================] - 13s 1ms/step - loss: 0.1063 - val_loss: 0.0942\n",
      "Epoch 15/300\n",
      "10839/10839 [==============================] - 13s 1ms/step - loss: 0.1043 - val_loss: 0.0926\n",
      "Epoch 16/300\n",
      "10839/10839 [==============================] - 13s 1ms/step - loss: 0.1019 - val_loss: 0.0889\n",
      "Epoch 17/300\n",
      "10839/10839 [==============================] - 13s 1ms/step - loss: 0.1001 - val_loss: 0.0867\n",
      "Epoch 18/300\n",
      "10839/10839 [==============================] - 13s 1ms/step - loss: 0.0976 - val_loss: 0.0854\n",
      "Epoch 19/300\n",
      "10839/10839 [==============================] - 13s 1ms/step - loss: 0.0956 - val_loss: 0.0825\n",
      "Epoch 20/300\n",
      "10839/10839 [==============================] - 13s 1ms/step - loss: 0.0939 - val_loss: 0.0847\n",
      "Epoch 21/300\n",
      "10839/10839 [==============================] - 13s 1ms/step - loss: 0.0920 - val_loss: 0.0814\n",
      "Epoch 22/300\n",
      "10839/10839 [==============================] - 13s 1ms/step - loss: 0.0905 - val_loss: 0.0784\n",
      "Epoch 23/300\n",
      "10839/10839 [==============================] - 13s 1ms/step - loss: 0.0898 - val_loss: 0.0775\n",
      "Epoch 24/300\n",
      "10839/10839 [==============================] - 13s 1ms/step - loss: 0.0888 - val_loss: 0.0812\n",
      "Epoch 25/300\n",
      "10839/10839 [==============================] - 13s 1ms/step - loss: 0.0886 - val_loss: 0.0767\n",
      "Epoch 26/300\n",
      "10839/10839 [==============================] - 13s 1ms/step - loss: 0.0883 - val_loss: 0.0766\n",
      "Epoch 27/300\n",
      "10839/10839 [==============================] - 13s 1ms/step - loss: 0.0877 - val_loss: 0.0762\n",
      "Epoch 28/300\n",
      "10839/10839 [==============================] - 13s 1ms/step - loss: 0.0880 - val_loss: 0.0762\n",
      "Epoch 29/300\n",
      "10839/10839 [==============================] - 13s 1ms/step - loss: 0.0875 - val_loss: 0.0796\n",
      "Epoch 30/300\n",
      "10839/10839 [==============================] - 13s 1ms/step - loss: 0.0873 - val_loss: 0.0752\n",
      "Epoch 31/300\n",
      "10839/10839 [==============================] - 13s 1ms/step - loss: 0.0869 - val_loss: 0.0804\n",
      "Epoch 32/300\n",
      "10839/10839 [==============================] - 13s 1ms/step - loss: 0.0865 - val_loss: 0.0756\n",
      "Epoch 33/300\n",
      "10839/10839 [==============================] - 13s 1ms/step - loss: 0.0864 - val_loss: 0.0763\n",
      "Epoch 34/300\n",
      "10839/10839 [==============================] - 13s 1ms/step - loss: 0.0863 - val_loss: 0.0760\n",
      "Epoch 35/300\n",
      "10839/10839 [==============================] - 13s 1ms/step - loss: 0.0856 - val_loss: 0.0751\n",
      "Epoch 36/300\n",
      "10839/10839 [==============================] - 13s 1ms/step - loss: 0.0859 - val_loss: 0.0757\n",
      "Epoch 37/300\n",
      "10839/10839 [==============================] - 13s 1ms/step - loss: 0.0853 - val_loss: 0.0757\n",
      "Epoch 38/300\n",
      "10839/10839 [==============================] - 13s 1ms/step - loss: 0.0853 - val_loss: 0.0736\n",
      "Epoch 39/300\n",
      "10839/10839 [==============================] - 13s 1ms/step - loss: 0.0850 - val_loss: 0.0751\n",
      "Epoch 40/300\n",
      "10839/10839 [==============================] - 13s 1ms/step - loss: 0.0844 - val_loss: 0.0741\n",
      "Epoch 41/300\n",
      "10839/10839 [==============================] - 13s 1ms/step - loss: 0.0847 - val_loss: 0.0731\n",
      "Epoch 42/300\n",
      "10839/10839 [==============================] - 13s 1ms/step - loss: 0.0842 - val_loss: 0.0737\n",
      "Epoch 43/300\n",
      "10839/10839 [==============================] - 13s 1ms/step - loss: 0.0840 - val_loss: 0.0756\n",
      "Epoch 44/300\n",
      "10839/10839 [==============================] - 13s 1ms/step - loss: 0.0839 - val_loss: 0.0726\n",
      "Epoch 45/300\n",
      "10839/10839 [==============================] - 13s 1ms/step - loss: 0.0836 - val_loss: 0.0726\n",
      "Epoch 46/300\n",
      "10839/10839 [==============================] - 13s 1ms/step - loss: 0.0836 - val_loss: 0.0756\n",
      "Epoch 47/300\n",
      "10839/10839 [==============================] - 14s 1ms/step - loss: 0.0833 - val_loss: 0.0730\n",
      "Epoch 48/300\n",
      "10839/10839 [==============================] - 14s 1ms/step - loss: 0.0830 - val_loss: 0.0716\n",
      "Epoch 49/300\n",
      "10839/10839 [==============================] - 14s 1ms/step - loss: 0.0829 - val_loss: 0.0735\n",
      "Epoch 50/300\n",
      "10839/10839 [==============================] - 13s 1ms/step - loss: 0.0825 - val_loss: 0.0743\n",
      "Epoch 51/300\n",
      "10839/10839 [==============================] - 13s 1ms/step - loss: 0.0823 - val_loss: 0.0711\n",
      "Epoch 52/300\n",
      "10839/10839 [==============================] - 13s 1ms/step - loss: 0.0820 - val_loss: 0.0750\n",
      "Epoch 53/300\n",
      "10839/10839 [==============================] - 13s 1ms/step - loss: 0.0818 - val_loss: 0.0726\n",
      "Epoch 54/300\n",
      "10839/10839 [==============================] - 13s 1ms/step - loss: 0.0814 - val_loss: 0.0705\n",
      "Epoch 55/300\n",
      "10839/10839 [==============================] - 13s 1ms/step - loss: 0.0814 - val_loss: 0.0708\n",
      "Epoch 56/300\n",
      "10839/10839 [==============================] - 13s 1ms/step - loss: 0.0813 - val_loss: 0.0698\n",
      "Epoch 57/300\n",
      "10839/10839 [==============================] - 13s 1ms/step - loss: 0.0810 - val_loss: 0.0700\n",
      "Epoch 58/300\n",
      "10839/10839 [==============================] - 13s 1ms/step - loss: 0.0807 - val_loss: 0.0699\n",
      "Epoch 59/300\n",
      "10839/10839 [==============================] - 13s 1ms/step - loss: 0.0808 - val_loss: 0.0699\n",
      "Epoch 60/300\n",
      "10839/10839 [==============================] - 13s 1ms/step - loss: 0.0803 - val_loss: 0.0700\n",
      "Epoch 61/300\n",
      "10839/10839 [==============================] - 13s 1ms/step - loss: 0.0801 - val_loss: 0.0694\n",
      "Epoch 62/300\n",
      "10839/10839 [==============================] - 13s 1ms/step - loss: 0.0800 - val_loss: 0.0696\n",
      "Epoch 63/300\n",
      "10839/10839 [==============================] - 13s 1ms/step - loss: 0.0798 - val_loss: 0.0710\n",
      "Epoch 64/300\n",
      "10839/10839 [==============================] - 13s 1ms/step - loss: 0.0795 - val_loss: 0.0692\n",
      "Epoch 65/300\n",
      "10839/10839 [==============================] - 13s 1ms/step - loss: 0.0794 - val_loss: 0.0694\n",
      "Epoch 66/300\n",
      "10839/10839 [==============================] - 13s 1ms/step - loss: 0.0795 - val_loss: 0.0699\n",
      "Epoch 67/300\n",
      "10839/10839 [==============================] - 13s 1ms/step - loss: 0.0795 - val_loss: 0.0688\n",
      "Epoch 68/300\n",
      "10839/10839 [==============================] - 13s 1ms/step - loss: 0.0787 - val_loss: 0.0688\n",
      "Epoch 69/300\n",
      "10839/10839 [==============================] - 13s 1ms/step - loss: 0.0790 - val_loss: 0.0687\n",
      "Epoch 70/300\n",
      "10839/10839 [==============================] - 13s 1ms/step - loss: 0.0789 - val_loss: 0.0684\n",
      "Epoch 71/300\n",
      "10839/10839 [==============================] - 13s 1ms/step - loss: 0.0786 - val_loss: 0.0707\n",
      "Epoch 72/300\n",
      "10839/10839 [==============================] - 13s 1ms/step - loss: 0.0783 - val_loss: 0.0698\n",
      "Epoch 73/300\n",
      " 7840/10839 [====================>.........] - ETA: 3s - loss: 0.0783"
     ]
    }
   ],
   "source": [
    "## LSTM\n",
    "\n",
    "train_x_t = train_x[:,:,None]\n",
    "test_x_t = test_x[:,:,None]\n",
    "\n",
    "from keras.models import Sequential\n",
    "from keras.layers import Dense,LSTM,Bidirectional\n",
    "from keras.optimizers import Adam\n",
    "import keras.backend as K\n",
    "\n",
    "\n",
    "np.random.seed(7)\n",
    "\n",
    "K.clear_session()\n",
    "model = Sequential()\n",
    "\n",
    "model.add(Bidirectional(LSTM(400, input_shape=(24,1))))\n",
    "model.add(Dropout(0.2))\n",
    "model.add(Dense(1))\n",
    "optimizer = adadelta(lr=0.1,epsilon=1e-8,rho=0.95)\n",
    "#model.compile(loss='mae', optimizer=Adam(lr=0.001,decay=0.0001))\n",
    "model.compile(loss='mae', optimizer=optimizer)\n",
    "model.fit(train_x_t, train_y, validation_data=(test_x_t, test_y), epochs=300, verbose=1)"
   ]
  },
  {
   "cell_type": "code",
   "execution_count": null,
   "metadata": {},
   "outputs": [],
   "source": [
    "predict2  = model.predict(test_x_t)\n",
    "yy_test   = sc3.inverse_transform(predict2.reshape(predict2.shape[0],1))\n",
    "yy_test   = yy_test/yy_test.std()\n",
    "test_corr = np.corrcoef(yy_test[:,0],test_y[:,0])[0,1]\n",
    "\n",
    "print(\"test shape = \");print(predict2.shape)\n",
    "\n",
    "fig,ax = plt.subplots(1,2,figsize = (12,4))\n",
    "\n",
    "ax[0].plot(yy_test[:,0],test_y,'.')\n",
    "\n",
    "ax[0].set_title('corr = %f'%test_corr)\n",
    "\n",
    "bins = np.linspace(-4.0,4.0,41)\n",
    "\n",
    "ax[1].hist(y_test.rmm2,bins,density=True,alpha=0.5,label='observed')\n",
    "ax[1].hist(yy_test,bins,density=True,alpha=0.5,label='modeled');\n",
    "plt.legend()"
   ]
  },
  {
   "cell_type": "code",
   "execution_count": 34,
   "metadata": {},
   "outputs": [
    {
     "data": {
      "text/plain": [
       "[<matplotlib.lines.Line2D at 0x2b22f1484710>]"
      ]
     },
     "execution_count": 34,
     "metadata": {},
     "output_type": "execute_result"
    },
    {
     "data": {
      "image/png": "[encoded data removed]",
      "text/plain": [
       "<Figure size 432x288 with 1 Axes>"
      ]
     },
     "metadata": {
      "needs_background": "light"
     },
     "output_type": "display_data"
    }
   ],
   "source": [
    "model.history.history.keys()\n",
    "\n",
    "plt.plot(model.history.history['val_loss'])\n",
    "plt.plot(model.history.history['loss'])"
   ]
  },
  {
   "cell_type": "code",
   "execution_count": null,
   "metadata": {},
   "outputs": [],
   "source": []
  }
 ],
 "metadata": {
  "kernelspec": {
   "display_name": "Python 3",
   "language": "python",
   "name": "python3"
  },
  "language_info": {
   "codemirror_mode": {
    "name": "ipython",
    "version": 3
   },
   "file_extension": ".py",
   "mimetype": "text/x-python",
   "name": "python",
   "nbconvert_exporter": "python",
   "pygments_lexer": "ipython3",
   "version": "3.7.5"
  }
 },
 "nbformat": 4,
 "nbformat_minor": 2
}
