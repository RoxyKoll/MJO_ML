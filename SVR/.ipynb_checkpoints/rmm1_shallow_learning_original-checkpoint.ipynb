{
 "cells": [
  {
   "cell_type": "code",
   "execution_count": 1,
   "metadata": {},
   "outputs": [
    {
     "name": "stderr",
     "output_type": "stream",
     "text": [
      "Using TensorFlow backend.\n"
     ]
    }
   ],
   "source": [
    "import pandas as pd\n",
    "import matplotlib.pyplot as plt\n",
    "import numpy as np\n",
    "import pandas as pd\n",
    "import matplotlib.pyplot as plt\n",
    "import numpy as np\n",
    "import datetime\n",
    "import hilbert_data1_jgrjd_20CRV3_org\n"
   ]
  },
  {
   "cell_type": "code",
   "execution_count": 2,
   "metadata": {},
   "outputs": [],
   "source": [
    "import pandas as pd\n",
    "from sklearn.model_selection import train_test_split\n",
    "import matplotlib.pyplot as plt\n",
    "\n",
    "from sklearn.ensemble import RandomForestRegressor\n",
    "from sklearn.model_selection import cross_val_score\n",
    "from sklearn.model_selection import RandomizedSearchCV\n",
    "from xgboost import XGBClassifier, plot_tree, XGBRegressor\n",
    "import numpy as np\n",
    "from sklearn.multioutput import MultiOutputRegressor\n",
    "#import hilbert_data "
   ]
  },
  {
   "cell_type": "code",
   "execution_count": 3,
   "metadata": {},
   "outputs": [
    {
     "name": "stdout",
     "output_type": "stream",
     "text": [
      "/home/cccr/supriyo/panini/filtered_data/historical/JGRJD/abir_try_SVR_conv\r\n"
     ]
    }
   ],
   "source": [
    "!pwd"
   ]
  },
  {
   "cell_type": "markdown",
   "metadata": {},
   "source": [
    "### Test and Train Splitter:"
   ]
  },
  {
   "cell_type": "code",
   "execution_count": 4,
   "metadata": {},
   "outputs": [],
   "source": [
    "x_train,y_train,_ = hilbert_data1_jgrjd_20CRV3_org.data_hilbert(datetime.datetime(1979,1,1),datetime.datetime(2008,12,31))\n",
    "x_test,y_test,_ = hilbert_data1_jgrjd_20CRV3_org.data_hilbert(datetime.datetime(1974,6,1),datetime.datetime(1978,3,16))\n",
    "#x_test2,y_test2,_ = hilbert_data1_jgrjd_20CRV3.data_hilbert(datetime.datetime(2009,1,1),datetime.datetime(2015,12,31))"
   ]
  },
  {
   "cell_type": "code",
   "execution_count": 5,
   "metadata": {},
   "outputs": [],
   "source": [
    "#x_test = pd.concat([x_test1,x_test2],axis=0)\n",
    "#y_test = pd.concat([y_test1,y_test2],axis=0)"
   ]
  },
  {
   "cell_type": "code",
   "execution_count": 6,
   "metadata": {},
   "outputs": [
    {
     "name": "stdout",
     "output_type": "stream",
     "text": [
      "(10839, 24) (10839, 1) (1266, 24) (1266, 1)\n"
     ]
    }
   ],
   "source": [
    "print(x_train.shape,y_train.shape,x_test.shape,y_test.shape)\n",
    "#y_train.head()"
   ]
  },
  {
   "cell_type": "code",
   "execution_count": 7,
   "metadata": {},
   "outputs": [],
   "source": [
    "x_train[(x_train < -500.0)] = -500.0\n",
    "x_train[(x_train > 500.0)]  = 500.0"
   ]
  },
  {
   "cell_type": "markdown",
   "metadata": {},
   "source": [
    "#### Historical pressure"
   ]
  },
  {
   "cell_type": "code",
   "execution_count": 10,
   "metadata": {},
   "outputs": [
    {
     "data": {
      "text/plain": [
       "(40423, 24)"
      ]
     },
     "execution_count": 10,
     "metadata": {},
     "output_type": "execute_result"
    }
   ],
   "source": [
    "x_test3 = hilbert_data1_jgrjd_20CRV3_org.data_pres(datetime.datetime(1905,1,1),datetime.datetime(2015,12,31))\n",
    "\n",
    "x_test3[(x_test3 < -500.0)] = -500.0\n",
    "x_test3[(x_test3 > 500.0)]  = 500.0\n",
    "#x_test3['doy'] = x_test3.index.dayofyear\n",
    "\n",
    "#x_test3['max'] = x_test3.iloc[:,0:12].max(axis=1)\n",
    "#x_test3['min'] = x_test3.iloc[:,0:12].min(axis=1)\n",
    "#x_test3['std'] = x_test3.iloc[:,0:12].std(axis=1)\n",
    "x_test3.shape"
   ]
  },
  {
   "cell_type": "code",
   "execution_count": 11,
   "metadata": {},
   "outputs": [
    {
     "name": "stderr",
     "output_type": "stream",
     "text": [
      "/home/cccr/supriyo/.conda/envs/knp_ai/lib/python3.7/site-packages/pandas/plotting/_matplotlib/converter.py:103: FutureWarning: Using an implicitly registered datetime converter for a matplotlib plotting method. The converter was registered by pandas on import. Future versions of pandas will require you to explicitly register matplotlib converters.\n",
      "\n",
      "To register the converters:\n",
      "\t>>> from pandas.plotting import register_matplotlib_converters\n",
      "\t>>> register_matplotlib_converters()\n",
      "  warnings.warn(msg, FutureWarning)\n"
     ]
    },
    {
     "data": {
      "text/plain": [
       "Text(0, 0.5, 'RMM2')"
      ]
     },
     "execution_count": 11,
     "metadata": {},
     "output_type": "execute_result"
    },
    {
     "data": {
      "image/png": "[encoded data removed]",
      "text/plain": [
       "<Figure size 432x288 with 1 Axes>"
      ]
     },
     "metadata": {
      "needs_background": "light"
     },
     "output_type": "display_data"
    }
   ],
   "source": [
    "plt.plot(x_test3.iloc[:,0],label = 'total _period')\n",
    "plt.plot(x_train.iloc[:,0], label = 'train')\n",
    "plt.plot(x_test.iloc[:,0], label = 'test')\n",
    "plt.legend()\n",
    "plt.ylabel('RMM2')"
   ]
  },
  {
   "cell_type": "markdown",
   "metadata": {},
   "source": [
    "#### scale the data"
   ]
  },
  {
   "cell_type": "code",
   "execution_count": 12,
   "metadata": {},
   "outputs": [
    {
     "data": {
      "text/plain": [
       "(1.0002254305406701,\n",
       " 1.0617782296692924,\n",
       " 1.0000000000000002,\n",
       " 1.0,\n",
       " 0.7624026824587242)"
      ]
     },
     "execution_count": 12,
     "metadata": {},
     "output_type": "execute_result"
    }
   ],
   "source": [
    "from sklearn.preprocessing import MinMaxScaler\n",
    "\n",
    "sc3 = MinMaxScaler()\n",
    "sc5 = MinMaxScaler()\n",
    "\n",
    "sc5.fit(x_test3[:])\n",
    "\n",
    "test_x3 =  sc5.transform(x_test3[:])\n",
    "train_x = sc5.transform(x_train[:])\n",
    "test_x  = sc5.transform(x_test[:])\n",
    "\n",
    "\n",
    "sc3.fit(y_train[:])\n",
    "\n",
    "train_y = sc3.transform(y_train)\n",
    "test_y  = sc3.transform(y_test)\n",
    "\n",
    "train_x.max(),test_x.max(),test_x3.max(),train_y.max(),test_y.max()"
   ]
  },
  {
   "cell_type": "code",
   "execution_count": 13,
   "metadata": {},
   "outputs": [
    {
     "data": {
      "text/plain": [
       "(array([2.000e+00, 2.000e+00, 4.000e+00, 3.000e+00, 1.100e+01, 1.600e+01,\n",
       "        2.200e+01, 3.500e+01, 3.400e+01, 9.900e+01, 1.430e+02, 2.320e+02,\n",
       "        3.890e+02, 5.590e+02, 9.750e+02, 1.475e+03, 2.049e+03, 2.496e+03,\n",
       "        2.915e+03, 3.114e+03, 3.319e+03, 3.186e+03, 2.699e+03, 2.205e+03,\n",
       "        1.594e+03, 1.071e+03, 7.400e+02, 4.410e+02, 2.600e+02, 1.560e+02,\n",
       "        6.900e+01, 3.800e+01, 2.000e+01, 7.000e+00, 4.000e+00]),\n",
       " array([-0.21044484, -0.17409561, -0.13774638, -0.10139715, -0.06504792,\n",
       "        -0.02869868,  0.00765055,  0.04399978,  0.08034901,  0.11669824,\n",
       "         0.15304747,  0.1893967 ,  0.22574593,  0.26209516,  0.29844439,\n",
       "         0.33479362,  0.37114285,  0.40749208,  0.44384131,  0.48019054,\n",
       "         0.51653977,  0.552889  ,  0.58923823,  0.62558746,  0.66193669,\n",
       "         0.69828592,  0.73463516,  0.77098439,  0.80733362,  0.84368285,\n",
       "         0.88003208,  0.91638131,  0.95273054,  0.98907977,  1.025429  ,\n",
       "         1.06177823]),\n",
       " <a list of 35 Patch objects>)"
      ]
     },
     "execution_count": 13,
     "metadata": {},
     "output_type": "execute_result"
    },
    {
     "data": {
      "image/png": "[encoded data removed]",
      "text/plain": [
       "<Figure size 432x288 with 1 Axes>"
      ]
     },
     "metadata": {
      "needs_background": "light"
     },
     "output_type": "display_data"
    }
   ],
   "source": [
    "plt.hist(test_x.flatten(),bins=35)"
   ]
  },
  {
   "cell_type": "markdown",
   "metadata": {},
   "source": [
    "### XGBOOST"
   ]
  },
  {
   "cell_type": "code",
   "execution_count": 14,
   "metadata": {},
   "outputs": [],
   "source": [
    "#model = MultiOutputRegressor(XGBRegressor(objective='reg:squarederror'))\n",
    "model = MultiOutputRegressor(XGBRegressor(objective='reg:squarederror'))"
   ]
  },
  {
   "cell_type": "code",
   "execution_count": 15,
   "metadata": {},
   "outputs": [
    {
     "data": {
      "text/plain": [
       "XGBRegressor(base_score=0.5, booster='gbtree', colsample_bylevel=1,\n",
       "             colsample_bynode=1, colsample_bytree=1, gamma=0,\n",
       "             importance_type='gain', learning_rate=0.1, max_delta_step=0,\n",
       "             max_depth=3, min_child_weight=1, missing=None, n_estimators=100,\n",
       "             n_jobs=1, nthread=None, objective='reg:squarederror',\n",
       "             random_state=0, reg_alpha=0, reg_lambda=1, scale_pos_weight=1,\n",
       "             seed=None, silent=None, subsample=1, verbosity=1)"
      ]
     },
     "execution_count": 15,
     "metadata": {},
     "output_type": "execute_result"
    }
   ],
   "source": [
    "model.estimator"
   ]
  },
  {
   "cell_type": "code",
   "execution_count": 16,
   "metadata": {},
   "outputs": [
    {
     "data": {
      "text/plain": [
       "(10839, 24)"
      ]
     },
     "execution_count": 16,
     "metadata": {},
     "output_type": "execute_result"
    }
   ],
   "source": [
    "train_x.shape"
   ]
  },
  {
   "cell_type": "markdown",
   "metadata": {},
   "source": [
    "#### Predict XGBOOST forest for rmm1"
   ]
  },
  {
   "cell_type": "code",
   "execution_count": 17,
   "metadata": {},
   "outputs": [
    {
     "name": "stdout",
     "output_type": "stream",
     "text": [
      "Accuracy of base Xgboost model is , 71.44\n"
     ]
    }
   ],
   "source": [
    "model.fit(train_x, train_y)\n",
    "\n",
    "Y_prediction_rmm1 = model.predict(test_x)\n",
    "\n",
    "acc_xgboost       = round(model.score(test_x, test_y) * 100, 2)\n",
    "\n",
    "print(\"Accuracy of base Xgboost model is ,\",acc_xgboost)"
   ]
  },
  {
   "cell_type": "code",
   "execution_count": 18,
   "metadata": {},
   "outputs": [
    {
     "name": "stdout",
     "output_type": "stream",
     "text": [
      "training shape = \n",
      "(10839, 1)\n"
     ]
    },
    {
     "data": {
      "text/plain": [
       "<matplotlib.legend.Legend at 0x2ae0161aa510>"
      ]
     },
     "execution_count": 18,
     "metadata": {},
     "output_type": "execute_result"
    },
    {
     "data": {
      "image/png": "[encoded data removed]",
      "text/plain": [
       "<Figure size 864x288 with 2 Axes>"
      ]
     },
     "metadata": {
      "needs_background": "light"
     },
     "output_type": "display_data"
    }
   ],
   "source": [
    "predict1   = model.predict(train_x)\n",
    "yy_train   = sc3.inverse_transform(predict1)\n",
    "yy_train   = yy_train/yy_train.std()\n",
    "train_corr = np.corrcoef(yy_train[:,0],train_y[:,0])[0,1]\n",
    "\n",
    "print(\"training shape = \");print(predict1.shape)\n",
    "\n",
    "fig,ax = plt.subplots(1,2,figsize = (12,4))\n",
    "\n",
    "ax[0].plot(yy_train[:,0],train_y,'.')\n",
    "\n",
    "ax[0].set_title('corr = %f'%train_corr)\n",
    "\n",
    "bins = np.linspace(-4.0,4.0,41)\n",
    "\n",
    "ax[1].hist(y_train.rmm1,bins,density=True,alpha=0.5,label='observed')\n",
    "ax[1].hist(yy_train,bins,density=True,alpha=0.5,label='modeled');\n",
    "plt.legend()"
   ]
  },
  {
   "cell_type": "code",
   "execution_count": 19,
   "metadata": {},
   "outputs": [
    {
     "name": "stdout",
     "output_type": "stream",
     "text": [
      "test shape = \n",
      "(1266, 1)\n"
     ]
    },
    {
     "data": {
      "text/plain": [
       "<matplotlib.legend.Legend at 0x2ae016364490>"
      ]
     },
     "execution_count": 19,
     "metadata": {},
     "output_type": "execute_result"
    },
    {
     "data": {
      "image/png": "[encoded data removed]",
      "text/plain": [
       "<Figure size 864x288 with 2 Axes>"
      ]
     },
     "metadata": {
      "needs_background": "light"
     },
     "output_type": "display_data"
    }
   ],
   "source": [
    "predict2  = model.predict(test_x)\n",
    "yy_test   = sc3.inverse_transform(predict2)\n",
    "yy_test   = yy_test/yy_test.std()\n",
    "test_corr = np.corrcoef(yy_test[:,0],test_y[:,0])[0,1]\n",
    "\n",
    "print(\"test shape = \");print(predict2.shape)\n",
    "\n",
    "fig,ax = plt.subplots(1,2,figsize = (12,4))\n",
    "\n",
    "ax[0].plot(yy_test[:,0],test_y,'.')\n",
    "\n",
    "ax[0].set_title('corr = %f'%test_corr)\n",
    "\n",
    "bins = np.linspace(-4.0,4.0,41)\n",
    "\n",
    "ax[1].hist(y_test.rmm1,bins,density=True,alpha=0.5,label='observed')\n",
    "ax[1].hist(yy_test,bins,density=True,alpha=0.5,label='modeled');\n",
    "plt.legend()"
   ]
  },
  {
   "cell_type": "markdown",
   "metadata": {},
   "source": [
    "## Support vector regressor"
   ]
  },
  {
   "cell_type": "code",
   "execution_count": 20,
   "metadata": {},
   "outputs": [
    {
     "name": "stderr",
     "output_type": "stream",
     "text": [
      "/home/cccr/supriyo/.conda/envs/knp_ai/lib/python3.7/site-packages/sklearn/utils/validation.py:724: DataConversionWarning: A column-vector y was passed when a 1d array was expected. Please change the shape of y to (n_samples, ), for example using ravel().\n",
      "  y = column_or_1d(y, warn=True)\n"
     ]
    },
    {
     "name": "stdout",
     "output_type": "stream",
     "text": [
      "Accuracy of base SVR model is , 0.8543418519538886\n"
     ]
    }
   ],
   "source": [
    "from sklearn.svm import SVR# most important SVR parameter is Kernel type. It can be #linear,polynomial or gaussian SVR. We have a non-linear condition #so we can select polynomial or gaussian but here we select RBF(a #gaussian type) kernel.regressor = SVR(kernel='rbf')\n",
    "regressor = SVR(kernel='rbf',gamma='auto',C=1)\n",
    "\n",
    "regressor.fit(train_x, train_y)\n",
    "\n",
    "Y_prediction_rmm1 = regressor.predict(test_x)\n",
    "\n",
    "acc_svr       = round(regressor.score(test_x, test_y) * 100, 2)\n",
    "\n",
    "print(\"Accuracy of base SVR model is ,\",(acc_svr/100)**0.5)"
   ]
  },
  {
   "cell_type": "code",
   "execution_count": 21,
   "metadata": {},
   "outputs": [
    {
     "name": "stdout",
     "output_type": "stream",
     "text": [
      "training shape = \n",
      "(10839,)\n"
     ]
    },
    {
     "data": {
      "text/plain": [
       "<matplotlib.legend.Legend at 0x2ae01a596050>"
      ]
     },
     "execution_count": 21,
     "metadata": {},
     "output_type": "execute_result"
    },
    {
     "data": {
      "image/png": "[encoded data removed]",
      "text/plain": [
       "<Figure size 864x288 with 2 Axes>"
      ]
     },
     "metadata": {
      "needs_background": "light"
     },
     "output_type": "display_data"
    }
   ],
   "source": [
    "predict1   = regressor.predict(train_x)\n",
    "yy_train   = sc3.inverse_transform(predict1[:,None])\n",
    "yy_train   = yy_train/yy_train.std()\n",
    "train_corr = np.corrcoef(yy_train[:,0],train_y[:,0])[0,1]\n",
    "\n",
    "print(\"training shape = \");print(predict1.shape)\n",
    "\n",
    "fig,ax = plt.subplots(1,2,figsize = (12,4))\n",
    "\n",
    "ax[0].plot(yy_train[:,0],train_y,'.')\n",
    "\n",
    "ax[0].set_title('corr = %f'%train_corr)\n",
    "\n",
    "bins = np.linspace(-4.0,4.0,41)\n",
    "\n",
    "ax[1].hist(y_train.rmm1,bins,density=True,alpha=0.5,label='observed')\n",
    "ax[1].hist(yy_train,bins,density=True,alpha=0.5,label='modeled');\n",
    "plt.legend()"
   ]
  },
  {
   "cell_type": "code",
   "execution_count": 22,
   "metadata": {},
   "outputs": [
    {
     "name": "stdout",
     "output_type": "stream",
     "text": [
      "test shape = \n",
      "(1266,)\n"
     ]
    },
    {
     "data": {
      "text/plain": [
       "<matplotlib.legend.Legend at 0x2adff7db9450>"
      ]
     },
     "execution_count": 22,
     "metadata": {},
     "output_type": "execute_result"
    },
    {
     "data": {
      "image/png": "[encoded data removed]",
      "text/plain": [
       "<Figure size 864x288 with 2 Axes>"
      ]
     },
     "metadata": {
      "needs_background": "light"
     },
     "output_type": "display_data"
    }
   ],
   "source": [
    "predict2  = regressor.predict(test_x)\n",
    "yy_test   = sc3.inverse_transform(predict2[:,None])\n",
    "yy_test   = yy_test/yy_test.std()\n",
    "test_corr = np.corrcoef(yy_test[:,0],test_y[:,0])[0,1]\n",
    "\n",
    "print(\"test shape = \");print(predict2.shape)\n",
    "\n",
    "fig,ax = plt.subplots(1,2,figsize = (12,4))\n",
    "\n",
    "ax[0].plot(yy_test[:,0],test_y,'.')\n",
    "\n",
    "ax[0].set_title('corr = %f'%test_corr)\n",
    "\n",
    "bins = np.linspace(-4.0,4.0,41)\n",
    "\n",
    "ax[1].hist(y_test.rmm1,bins,density=True,alpha=0.5,label='observed')\n",
    "ax[1].hist(yy_test,bins,density=True,alpha=0.5,label='modeled');\n",
    "plt.legend()"
   ]
  },
  {
   "cell_type": "code",
   "execution_count": 23,
   "metadata": {},
   "outputs": [],
   "source": [
    "predict_tot = regressor.predict(test_x3)\n",
    "predict_tot = sc3.inverse_transform(predict_tot[:,None])\n",
    "predict_tot = predict_tot/predict_tot.std()"
   ]
  },
  {
   "cell_type": "code",
   "execution_count": 24,
   "metadata": {},
   "outputs": [],
   "source": [
    "rmm1_predict = pd.DataFrame(predict_tot,index=x_test3.index)\n",
    "# rmm1_predict.to_csv('rmm1_1905_2015_svr_predict.txt')"
   ]
  },
  {
   "cell_type": "markdown",
   "metadata": {},
   "source": [
    "## LSTM"
   ]
  },
  {
   "cell_type": "raw",
   "metadata": {},
   "source": [
    "train_x_t = train_x[:,:,None]\n",
    "test_x_t = test_x[:,:,None]"
   ]
  },
  {
   "cell_type": "raw",
   "metadata": {},
   "source": [
    "from keras.models import Sequential\n",
    "from keras.layers import Dense,LSTM\n",
    "from keras.optimizers import Adam\n",
    "import keras.backend as K\n",
    "\n",
    "\n",
    "np.random.seed(7)\n",
    "\n",
    "K.clear_session()\n",
    "model = Sequential()\n",
    "\n",
    "model.add(LSTM(200, input_shape=(25,1)))\n",
    "model.add(Dense(1))\n",
    "model.compile(loss='mae', optimizer=Adam(lr=0.001))\n",
    "model.fit(train_x_t, train_y, validation_data=(test_x_t, test_y), epochs=1000, verbose=1)"
   ]
  },
  {
   "cell_type": "raw",
   "metadata": {},
   "source": [
    "predict2  = model.predict(test_x_t)\n",
    "yy_test   = sc3.inverse_transform(predict2.reshape(predict2.shape[0],1))\n",
    "yy_test   = yy_test/yy_test.std()\n",
    "test_corr = np.corrcoef(yy_test[:,0],test_y[:,0])[0,1]\n",
    "\n",
    "print(\"test shape = \");print(predict2.shape)\n",
    "\n",
    "fig,ax = plt.subplots(1,2,figsize = (12,4))\n",
    "\n",
    "ax[0].plot(yy_test[:,0],test_y,'.')\n",
    "\n",
    "ax[0].set_title('corr = %f'%test_corr)\n",
    "\n",
    "bins = np.linspace(-4.0,4.0,41)\n",
    "\n",
    "ax[1].hist(y_test.rmm1,bins,density=True,alpha=0.5,label='observed')\n",
    "ax[1].hist(yy_test,bins,density=True,alpha=0.5,label='modeled');\n",
    "plt.legend()"
   ]
  },
  {
   "cell_type": "raw",
   "metadata": {},
   "source": [
    "model.history.history.keys()"
   ]
  },
  {
   "cell_type": "raw",
   "metadata": {},
   "source": [
    "plt.plot(model.history.history['val_loss'])\n",
    "plt.plot(model.history.history['loss'])"
   ]
  },
  {
   "cell_type": "raw",
   "metadata": {},
   "source": [
    "## Neural Network"
   ]
  },
  {
   "cell_type": "raw",
   "metadata": {},
   "source": [
    "from keras.layers.advanced_activations import LeakyReLU\n",
    "from keras.optimizers import adam\n",
    "from keras.wrappers.scikit_learn import KerasRegressor\n",
    "\n",
    "\n",
    "def build_regressor():\n",
    "    regressor = Sequential()\n",
    "    regressor.add(Dense(units=50,  kernel_initializer='random_uniform',\n",
    "                bias_initializer='zeros',input_dim=train_x.shape[1],activation='relu'))\n",
    "    regressor.add(Dense(units=40, kernel_initializer='random_uniform',\n",
    "                bias_initializer='zeros',activation='relu'))\n",
    "    regressor.add(Dense(units=20, kernel_initializer='random_uniform',\n",
    "                bias_initializer='zeros',activation='tanh'))\n",
    "    regressor.add(Dense(units=20, kernel_initializer='random_uniform',\n",
    "                bias_initializer='zeros',activation='sigmoid'))\n",
    "    regressor.add(Dense(units=1, kernel_initializer='random_uniform',\n",
    "                bias_initializer='zeros',activation='linear'))\n",
    "    optimizer = adam(lr=0.001)\n",
    "    regressor.compile(optimizer=optimizer, loss='mae')\n",
    "    return regressor"
   ]
  },
  {
   "cell_type": "raw",
   "metadata": {},
   "source": [
    "from keras.layers.advanced_activations import LeakyReLU\n",
    "from keras.optimizers import adamax\n",
    "from keras.wrappers.scikit_learn import KerasRegressor\n",
    "\n",
    "\n",
    "def build_regressor():\n",
    "    regressor = Sequential()\n",
    "    regressor.add(Dense(units=150,  kernel_initializer='random_uniform',\n",
    "                bias_initializer='zeros',input_dim=train_x.shape[1],activation='relu'))\n",
    "    regressor.add(Dense(units=140, kernel_initializer='random_uniform',\n",
    "                bias_initializer='zeros',activation='relu'))\n",
    "    regressor.add(Dense(units=120, kernel_initializer='random_uniform',\n",
    "                bias_initializer='zeros',activation='relu'))\n",
    "    regressor.add(Dense(units=120, kernel_initializer='random_uniform',\n",
    "                bias_initializer='zeros',activation='relu'))\n",
    "    regressor.add(Dense(units=120, kernel_initializer='random_uniform',\n",
    "                bias_initializer='zeros',activation='relu'))\n",
    "    regressor.add(Dense(units=120, kernel_initializer='random_uniform',\n",
    "                bias_initializer='zeros',activation='relu'))\n",
    "    regressor.add(Dense(units=120, kernel_initializer='random_uniform',\n",
    "                bias_initializer='zeros',activation='relu'))\n",
    "    regressor.add(Dense(units=20, kernel_initializer='random_uniform',\n",
    "                bias_initializer='zeros',activation='relu'))\n",
    "    \n",
    "    regressor.add(Dense(units=1, kernel_initializer='random_uniform',\n",
    "                bias_initializer='zeros',activation='linear'))\n",
    "    optimizer = adamax(lr=0.001)\n",
    "    regressor.compile(optimizer=optimizer, loss='mae')\n",
    "    return regressor"
   ]
  },
  {
   "cell_type": "raw",
   "metadata": {},
   "source": [
    "from keras.layers.advanced_activations import LeakyReLU,PReLU\n",
    "from keras.optimizers import adamax\n",
    "from keras.wrappers.scikit_learn import KerasRegressor\n",
    "\n",
    "\n",
    "def build_regressor():\n",
    "    regressor = Sequential()\n",
    "    regressor.add(Dense(units=256,  kernel_initializer='random_uniform',\n",
    "                bias_initializer='zeros',input_dim=train_x.shape[1],activation='relu'))\n",
    "    regressor.add(Dropout(0.2))\n",
    "    regressor.add(Dense(units=256, kernel_initializer='random_uniform',\n",
    "                bias_initializer='zeros',activation='relu'))\n",
    "    regressor.add(Dropout(0.2))\n",
    "    regressor.add(Dense(units=200, kernel_initializer='random_uniform',\n",
    "                bias_initializer='zeros',activation='relu'))\n",
    "    regressor.add(Dropout(0.2))\n",
    "    regressor.add(Dense(units=256, kernel_initializer='random_uniform',\n",
    "                bias_initializer='zeros',activation='relu'))\n",
    "    regressor.add(Dropout(0.2))\n",
    "    regressor.add(Dense(units=256, kernel_initializer='random_uniform',\n",
    "                bias_initializer='zeros',activation='relu'))\n",
    "    regressor.add(Dropout(0.2))\n",
    "    regressor.add(Dense(units=256, kernel_initializer='random_uniform',\n",
    "                bias_initializer='zeros',activation='relu'))\n",
    "    regressor.add(Dropout(0.2))\n",
    "    regressor.add(Dense(units=30, kernel_initializer='random_uniform',\n",
    "                bias_initializer='zeros',activation='relu'))\n",
    "    regressor.add(Dropout(0.2))\n",
    "    regressor.add(Dense(units=20, kernel_initializer='random_uniform',\n",
    "                bias_initializer='zeros',activation='relu'))\n",
    "    regressor.add(Dropout(0.2))\n",
    "    regressor.add(Dense(units=1, kernel_initializer='random_uniform',\n",
    "                bias_initializer='zeros',activation='linear'))\n",
    "    optimizer = adamax(lr=0.001)\n",
    "    regressor.compile(optimizer=optimizer, loss='mae')\n",
    "    return regressor"
   ]
  },
  {
   "cell_type": "raw",
   "metadata": {},
   "source": [
    "def build_regressor():\n",
    "    regressor = Sequential()\n",
    "    regressor.add(Dense(units=50,  kernel_initializer='random_uniform',\n",
    "                bias_initializer='zeros',input_dim=train_x.shape[1]))\n",
    "    regressor.add(PReLU(alpha_initializer='zeros', alpha_regularizer=None, alpha_constraint=None, shared_axes=None))\n",
    "    \n",
    "    regressor.add(Dense(units=80, kernel_initializer='random_uniform',\n",
    "                bias_initializer='zeros'))\n",
    "    regressor.add(PReLU(alpha_initializer='zeros', alpha_regularizer=None, alpha_constraint=None, shared_axes=None))\n",
    "    \n",
    "    regressor.add(Dense(units=50, kernel_initializer='random_uniform',\n",
    "                bias_initializer='zeros'))\n",
    "    regressor.add(PReLU(alpha_initializer='zeros', alpha_regularizer=None, alpha_constraint=None, shared_axes=None))\n",
    "    #regressor.add(PReLU(alpha=0.5))\n",
    "    regressor.add(Dense(units=70, kernel_initializer='random_uniform',\n",
    "                bias_initializer='zeros'))\n",
    "    regressor.add(PReLU(alpha_initializer='zeros', alpha_regularizer=None, alpha_constraint=None, shared_axes=None))\n",
    "    \n",
    "    regressor.add(Dense(units=1, kernel_initializer='random_uniform',\n",
    "                bias_initializer='zeros',activation='linear'))\n",
    "    #regressor.add(PReLU(alpha=0.5))\n",
    "    regressor.compile(optimizer='adam', loss='mae')\n",
    "    return regressor"
   ]
  },
  {
   "cell_type": "raw",
   "metadata": {},
   "source": [
    "def build_regressor():\n",
    "    regressor = Sequential()\n",
    "    regressor.add(Dense(units=50,  kernel_initializer='random_uniform',\n",
    "                bias_initializer='zeros',input_dim=train_x.shape[1]))\n",
    "    regressor.add(LeakyReLU(alpha=0.5))\n",
    "    regressor.add(Dense(units=80, kernel_initializer='random_uniform',\n",
    "                bias_initializer='zeros'))\n",
    "    regressor.add(LeakyReLU(alpha=0.5))\n",
    "    regressor.add(Dense(units=50, kernel_initializer='random_uniform',\n",
    "                bias_initializer='zeros'))\n",
    "    regressor.add(LeakyReLU(alpha=0.5))\n",
    "    regressor.add(Dense(units=70, kernel_initializer='random_uniform',\n",
    "                bias_initializer='zeros'))\n",
    "    regressor.add(LeakyReLU(alpha=0.5))\n",
    "    regressor.add(Dense(units=1, kernel_initializer='random_uniform',\n",
    "                bias_initializer='zeros',activation='linear'))\n",
    "    #regressor.add(LeakyReLU(alpha=0.5))\n",
    "    regressor.compile(optimizer='adam', loss='mae')\n",
    "    return regressor"
   ]
  },
  {
   "cell_type": "raw",
   "metadata": {},
   "source": [
    "regressor = KerasRegressor(build_fn=build_regressor, validation_data = (test_x,test_y),batch_size=30,epochs=30)"
   ]
  },
  {
   "cell_type": "raw",
   "metadata": {},
   "source": [
    "results = regressor.fit(train_x,train_y,verbose=1)"
   ]
  },
  {
   "cell_type": "raw",
   "metadata": {},
   "source": [
    "predict1.shape"
   ]
  },
  {
   "cell_type": "raw",
   "metadata": {},
   "source": [
    "predict1   = regressor.predict(train_x)\n",
    "yy_train   = sc3.inverse_transform(predict1.reshape(predict1.shape[0],1))\n",
    "yy_train   = yy_train/yy_train.std()\n",
    "train_corr = np.corrcoef(yy_train[:,0],train_y[:,0])[0,1]\n",
    "\n",
    "print(\"training shape = \");print(predict1.shape)\n",
    "\n",
    "fig,ax = plt.subplots(1,2,figsize = (12,4))\n",
    "\n",
    "ax[0].plot(yy_train[:,0],train_y,'.')\n",
    "\n",
    "ax[0].set_title('corr = %f'%train_corr)\n",
    "\n",
    "bins = np.linspace(-4.0,4.0,41)\n",
    "\n",
    "ax[1].hist(y_train.rmm1,bins,density=True,alpha=0.5,label='observed')\n",
    "ax[1].hist(yy_train,bins,density=True,alpha=0.5,label='modeled');\n",
    "plt.legend()"
   ]
  },
  {
   "cell_type": "raw",
   "metadata": {},
   "source": [
    "predict2  = regressor.predict(test_x)\n",
    "yy_test   = sc3.inverse_transform(predict2.reshape(predict2.shape[0],1))\n",
    "yy_test   = yy_test/yy_test.std()\n",
    "test_corr = np.corrcoef(yy_test[:,0],test_y[:,0])[0,1]\n",
    "\n",
    "print(\"test shape = \");print(predict2.shape)\n",
    "\n",
    "fig,ax = plt.subplots(1,2,figsize = (12,4))\n",
    "\n",
    "ax[0].plot(yy_test[:,0],test_y,'.')\n",
    "\n",
    "ax[0].set_title('corr = %f'%test_corr)\n",
    "\n",
    "bins = np.linspace(-4.0,4.0,41)\n",
    "\n",
    "ax[1].hist(y_test.rmm1,bins,density=True,alpha=0.5,label='observed')\n",
    "ax[1].hist(yy_test,bins,density=True,alpha=0.5,label='modeled');\n",
    "plt.legend()"
   ]
  },
  {
   "cell_type": "code",
   "execution_count": null,
   "metadata": {},
   "outputs": [],
   "source": []
  },
  {
   "cell_type": "code",
   "execution_count": null,
   "metadata": {},
   "outputs": [],
   "source": []
  },
  {
   "cell_type": "code",
   "execution_count": null,
   "metadata": {},
   "outputs": [],
   "source": []
  }
 ],
 "metadata": {
  "kernelspec": {
   "display_name": "Python 3",
   "language": "python",
   "name": "python3"
  },
  "language_info": {
   "codemirror_mode": {
    "name": "ipython",
    "version": 3
   },
   "file_extension": ".py",
   "mimetype": "text/x-python",
   "name": "python",
   "nbconvert_exporter": "python",
   "pygments_lexer": "ipython3",
   "version": "3.7.5"
  }
 },
 "nbformat": 4,
 "nbformat_minor": 2
}
