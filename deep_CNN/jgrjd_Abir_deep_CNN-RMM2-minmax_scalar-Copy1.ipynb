{
 "cells": [
  {
   "cell_type": "markdown",
   "metadata": {},
   "source": [
    "## RMM2"
   ]
  },
  {
   "cell_type": "code",
   "execution_count": 1,
   "metadata": {},
   "outputs": [
    {
     "name": "stdout",
     "output_type": "stream",
     "text": [
      "/home/cccr/supriyo/panini/filtered_data/historical/JGRJD/deep_CNN\r\n"
     ]
    }
   ],
   "source": [
    "!pwd"
   ]
  },
  {
   "cell_type": "code",
   "execution_count": 2,
   "metadata": {},
   "outputs": [],
   "source": [
    "import numpy as np\n",
    "import pandas as pd"
   ]
  },
  {
   "cell_type": "code",
   "execution_count": 3,
   "metadata": {},
   "outputs": [],
   "source": [
    "import xarray as xr\n",
    "import hilbert_data1_jgrjd_20CRV3\n",
    "import datetime\n",
    "import matplotlib.pyplot as plt"
   ]
  },
  {
   "cell_type": "code",
   "execution_count": 4,
   "metadata": {},
   "outputs": [],
   "source": [
    "df = xr.open_dataset('trop_sfc.ano_1905-2015_filtered_rm_mean120.2deg.nc')\n"
   ]
  },
  {
   "cell_type": "code",
   "execution_count": 5,
   "metadata": {},
   "outputs": [],
   "source": [
    "# !ncdump -h trop_sfc.ano_1905-2015_filtered_rm_mean120.2deg.nc"
   ]
  },
  {
   "cell_type": "code",
   "execution_count": 6,
   "metadata": {},
   "outputs": [
    {
     "data": {
      "text/html": [
       "<pre>&lt;xarray.Dataset&gt;\n",
       "Dimensions:   (lat: 30, lon: 180, time: 40422)\n",
       "Coordinates:\n",
       "  * time      (time) datetime64[ns] 1905-05-01 1905-05-02 ... 2015-12-31\n",
       "  * lon       (lon) float64 0.0 2.0 4.0 6.0 8.0 ... 352.0 354.0 356.0 358.0\n",
       "  * lat       (lat) float64 -29.0 -27.0 -25.0 -23.0 ... 23.0 25.0 27.0 29.0\n",
       "Data variables:\n",
       "    pres_ano  (time, lat, lon) float32 ...\n",
       "Attributes:\n",
       "    CDI:          Climate Data Interface version 1.9.7.1 (http://mpimet.mpg.d...\n",
       "    Conventions:  CF-1.6\n",
       "    history:      Mon Jan 20 23:20:30 2020: cdo -O -sellonlatbox,0,360,-30,30...\n",
       "    CDO:          Climate Data Operators version 1.9.7.1 (http://mpimet.mpg.d...</pre>"
      ],
      "text/plain": [
       "<xarray.Dataset>\n",
       "Dimensions:   (lat: 30, lon: 180, time: 40422)\n",
       "Coordinates:\n",
       "  * time      (time) datetime64[ns] 1905-05-01 1905-05-02 ... 2015-12-31\n",
       "  * lon       (lon) float64 0.0 2.0 4.0 6.0 8.0 ... 352.0 354.0 356.0 358.0\n",
       "  * lat       (lat) float64 -29.0 -27.0 -25.0 -23.0 ... 23.0 25.0 27.0 29.0\n",
       "Data variables:\n",
       "    pres_ano  (time, lat, lon) float32 ...\n",
       "Attributes:\n",
       "    CDI:          Climate Data Interface version 1.9.7.1 (http://mpimet.mpg.d...\n",
       "    Conventions:  CF-1.6\n",
       "    history:      Mon Jan 20 23:20:30 2020: cdo -O -sellonlatbox,0,360,-30,30...\n",
       "    CDO:          Climate Data Operators version 1.9.7.1 (http://mpimet.mpg.d..."
      ]
     },
     "execution_count": 6,
     "metadata": {},
     "output_type": "execute_result"
    }
   ],
   "source": [
    "df"
   ]
  },
  {
   "cell_type": "code",
   "execution_count": 7,
   "metadata": {},
   "outputs": [],
   "source": [
    "_,_,y_train = hilbert_data1_jgrjd_20CRV3.data_hilbert(datetime.datetime(1979,1,1),datetime.datetime(2008,12,31))\n",
    "_,_,y_test = hilbert_data1_jgrjd_20CRV3.data_hilbert(datetime.datetime(1974,6,1),datetime.datetime(1978,3,16))"
   ]
  },
  {
   "cell_type": "code",
   "execution_count": 8,
   "metadata": {},
   "outputs": [
    {
     "data": {
      "text/plain": [
       "(Timestamp('1974-09-28 00:00:00'), Timestamp('2008-12-31 00:00:00'))"
      ]
     },
     "execution_count": 8,
     "metadata": {},
     "output_type": "execute_result"
    }
   ],
   "source": [
    "y_test.index[0],y_train.index[-1]"
   ]
  },
  {
   "cell_type": "code",
   "execution_count": 9,
   "metadata": {},
   "outputs": [],
   "source": [
    "df_train = df.sel(time=slice(str(y_train.index[0]),str(y_train.index[-1])),lat=slice(-25,25))\n",
    "df_test = df.sel(time=slice(str(y_test.index[0]),str(y_test.index[-1])),lat=slice(-25,25))\n",
    "df_test3 = df.sel(lat=slice(-25,25))\n"
   ]
  },
  {
   "cell_type": "code",
   "execution_count": 10,
   "metadata": {},
   "outputs": [],
   "source": [
    "x_train = df_train.pres_ano.values[:,:,:]\n",
    "x_test  = df_test.pres_ano.values[:,:,:]\n",
    "x_test3 = df_test3.pres_ano.values[:,:,:]"
   ]
  },
  {
   "cell_type": "code",
   "execution_count": 11,
   "metadata": {},
   "outputs": [],
   "source": [
    "ff = x_train.flatten()"
   ]
  },
  {
   "cell_type": "code",
   "execution_count": 12,
   "metadata": {},
   "outputs": [
    {
     "data": {
      "text/plain": [
       "(array([2.0000000e+00, 1.0000000e+00, 4.0000000e+00, 4.0000000e+00,\n",
       "        1.5000000e+01, 2.1000000e+01, 2.6000000e+01, 3.2000000e+01,\n",
       "        6.7000000e+01, 1.4000000e+02, 2.2500000e+02, 3.7100000e+02,\n",
       "        6.8200000e+02, 1.1500000e+03, 2.0940000e+03, 4.0830000e+03,\n",
       "        8.5180000e+03, 1.8280000e+04, 4.3857000e+04, 1.1518500e+05,\n",
       "        3.4013600e+05, 1.1805730e+06, 5.6656560e+06, 2.0502651e+07,\n",
       "        1.7715220e+07, 4.1380890e+06, 7.8104800e+05, 1.6396800e+05,\n",
       "        3.4470000e+04, 7.3640000e+03, 1.6850000e+03, 5.6100000e+02,\n",
       "        2.3800000e+02, 8.9000000e+01, 1.5000000e+01]),\n",
       " array([-3403.639   , -3261.1016  , -3118.5642  , -2976.0269  ,\n",
       "        -2833.4893  , -2690.952   , -2548.4146  , -2405.8772  ,\n",
       "        -2263.3398  , -2120.8025  , -1978.265   , -1835.7277  ,\n",
       "        -1693.1903  , -1550.653   , -1408.1155  , -1265.5781  ,\n",
       "        -1123.0408  ,  -980.50336 ,  -837.966   ,  -695.4286  ,\n",
       "         -552.89124 ,  -410.35382 ,  -267.81644 ,  -125.27906 ,\n",
       "           17.258322,   159.7957  ,   302.3331  ,   444.87048 ,\n",
       "          587.40784 ,   729.94525 ,   872.4826  ,  1015.02    ,\n",
       "         1157.5574  ,  1300.0947  ,  1442.6322  ,  1585.1696  ],\n",
       "       dtype=float32),\n",
       " <a list of 35 Patch objects>)"
      ]
     },
     "execution_count": 12,
     "metadata": {},
     "output_type": "execute_result"
    },
    {
     "data": {
      "image/png": "[encoded data removed]",
      "text/plain": [
       "<Figure size 432x288 with 1 Axes>"
      ]
     },
     "metadata": {
      "needs_background": "light"
     },
     "output_type": "display_data"
    }
   ],
   "source": [
    "plt.hist(ff,bins=35)"
   ]
  },
  {
   "cell_type": "raw",
   "metadata": {},
   "source": [
    "from sklearn.preprocessing import MinMaxScaler\n",
    "\n",
    "sc3 = MinMaxScaler()\n",
    "sc5 = MinMaxScaler()\n",
    "\n",
    "#sc5.fit(xtest[:])\n",
    "\n",
    "#test_x3 =  sc5.transform(x_test3[:])\n",
    "#train_x = sc5.transform(xtrain[:])\n",
    "#test_x  = sc5.transform(xtest[:])\n",
    "\n",
    "\n",
    "sc3.fit(y_train[:])\n",
    "\n",
    "train_y = sc3.transform(y_train)\n",
    "test_y  = sc3.transform(y_test)\n",
    "\n",
    "#train_x.max(),test_x.max(),test_x3.max(),train_y.max(),test_y.max()"
   ]
  },
  {
   "cell_type": "code",
   "execution_count": 13,
   "metadata": {},
   "outputs": [
    {
     "data": {
      "text/html": [
       "<pre>&lt;xarray.Dataset&gt;\n",
       "Dimensions:   (lat: 30, lon: 180, time: 40422)\n",
       "Coordinates:\n",
       "  * time      (time) datetime64[ns] 1905-05-01 1905-05-02 ... 2015-12-31\n",
       "  * lon       (lon) float64 0.0 2.0 4.0 6.0 8.0 ... 352.0 354.0 356.0 358.0\n",
       "  * lat       (lat) float64 -29.0 -27.0 -25.0 -23.0 ... 23.0 25.0 27.0 29.0\n",
       "Data variables:\n",
       "    pres_ano  (time, lat, lon) float32 ...\n",
       "Attributes:\n",
       "    CDI:          Climate Data Interface version 1.9.7.1 (http://mpimet.mpg.d...\n",
       "    Conventions:  CF-1.6\n",
       "    history:      Mon Jan 20 23:20:30 2020: cdo -O -sellonlatbox,0,360,-30,30...\n",
       "    CDO:          Climate Data Operators version 1.9.7.1 (http://mpimet.mpg.d...</pre>"
      ],
      "text/plain": [
       "<xarray.Dataset>\n",
       "Dimensions:   (lat: 30, lon: 180, time: 40422)\n",
       "Coordinates:\n",
       "  * time      (time) datetime64[ns] 1905-05-01 1905-05-02 ... 2015-12-31\n",
       "  * lon       (lon) float64 0.0 2.0 4.0 6.0 8.0 ... 352.0 354.0 356.0 358.0\n",
       "  * lat       (lat) float64 -29.0 -27.0 -25.0 -23.0 ... 23.0 25.0 27.0 29.0\n",
       "Data variables:\n",
       "    pres_ano  (time, lat, lon) float32 ...\n",
       "Attributes:\n",
       "    CDI:          Climate Data Interface version 1.9.7.1 (http://mpimet.mpg.d...\n",
       "    Conventions:  CF-1.6\n",
       "    history:      Mon Jan 20 23:20:30 2020: cdo -O -sellonlatbox,0,360,-30,30...\n",
       "    CDO:          Climate Data Operators version 1.9.7.1 (http://mpimet.mpg.d..."
      ]
     },
     "execution_count": 13,
     "metadata": {},
     "output_type": "execute_result"
    }
   ],
   "source": [
    "df"
   ]
  },
  {
   "cell_type": "code",
   "execution_count": 14,
   "metadata": {},
   "outputs": [
    {
     "data": {
      "text/plain": [
       "(Timestamp('1979-04-30 00:00:00'), Timestamp('2008-12-31 00:00:00'))"
      ]
     },
     "execution_count": 14,
     "metadata": {},
     "output_type": "execute_result"
    }
   ],
   "source": [
    "y_train.index[0],y_train.index[-1]"
   ]
  },
  {
   "cell_type": "code",
   "execution_count": 15,
   "metadata": {},
   "outputs": [
    {
     "data": {
      "text/plain": [
       "(<xarray.DataArray 'pres_ano' ()>\n",
       " array(-314.896912)\n",
       " Coordinates:\n",
       "     time     datetime64[ns] 1979-04-30\n",
       "     lon      float64 20.0\n",
       "     lat      float64 -27.0\n",
       " Attributes:\n",
       "     standard_name:     air_pressure\n",
       "     long_name:         daily mean 3-hourly Pressure at Surface\n",
       "     units:             Pa\n",
       "     GRIB_name:         PRES\n",
       "     var_desc:          Pressure\n",
       "     level_desc:        Surface\n",
       "     statistic:         Mean\n",
       "     parent_stat:       Individual Obs\n",
       "     statistic_method:  Ensemble mean is calculated by averaging over all 80 e...\n",
       "     GridType:          Cylindrical Equidistant Projection Grid\n",
       "     datum:             wgs84\n",
       "     dataset:           NOAA/CIRES/DOE 20th Century Reanalysis version 3si Dai...\n",
       "     actual_range:      [ 51448.953 104290.52 ],\n",
       " <xarray.DataArray 'pres_ano' ()>\n",
       " array(-210.264709)\n",
       " Coordinates:\n",
       "     time     datetime64[ns] 2008-12-31\n",
       "     lon      float64 20.0\n",
       "     lat      float64 -27.0\n",
       " Attributes:\n",
       "     standard_name:     air_pressure\n",
       "     long_name:         daily mean 3-hourly Pressure at Surface\n",
       "     units:             Pa\n",
       "     GRIB_name:         PRES\n",
       "     var_desc:          Pressure\n",
       "     level_desc:        Surface\n",
       "     statistic:         Mean\n",
       "     parent_stat:       Individual Obs\n",
       "     statistic_method:  Ensemble mean is calculated by averaging over all 80 e...\n",
       "     GridType:          Cylindrical Equidistant Projection Grid\n",
       "     datum:             wgs84\n",
       "     dataset:           NOAA/CIRES/DOE 20th Century Reanalysis version 3si Dai...\n",
       "     actual_range:      [ 51448.953 104290.52 ])"
      ]
     },
     "execution_count": 15,
     "metadata": {},
     "output_type": "execute_result"
    }
   ],
   "source": [
    "df.pres_ano[27027,1,10],df.pres_ano[37865,1,10]"
   ]
  },
  {
   "cell_type": "code",
   "execution_count": 16,
   "metadata": {},
   "outputs": [
    {
     "data": {
      "text/plain": [
       "(Timestamp('1974-09-28 00:00:00'), Timestamp('1978-03-16 00:00:00'))"
      ]
     },
     "execution_count": 16,
     "metadata": {},
     "output_type": "execute_result"
    }
   ],
   "source": [
    "y_test.index[0],y_test.index[-1]"
   ]
  },
  {
   "cell_type": "code",
   "execution_count": 17,
   "metadata": {},
   "outputs": [
    {
     "data": {
      "text/plain": [
       "(<xarray.DataArray 'pres_ano' ()>\n",
       " array(-77.605286)\n",
       " Coordinates:\n",
       "     time     datetime64[ns] 1974-09-28\n",
       "     lon      float64 20.0\n",
       "     lat      float64 -27.0\n",
       " Attributes:\n",
       "     standard_name:     air_pressure\n",
       "     long_name:         daily mean 3-hourly Pressure at Surface\n",
       "     units:             Pa\n",
       "     GRIB_name:         PRES\n",
       "     var_desc:          Pressure\n",
       "     level_desc:        Surface\n",
       "     statistic:         Mean\n",
       "     parent_stat:       Individual Obs\n",
       "     statistic_method:  Ensemble mean is calculated by averaging over all 80 e...\n",
       "     GridType:          Cylindrical Equidistant Projection Grid\n",
       "     datum:             wgs84\n",
       "     dataset:           NOAA/CIRES/DOE 20th Century Reanalysis version 3si Dai...\n",
       "     actual_range:      [ 51448.953 104290.52 ],\n",
       " <xarray.DataArray 'pres_ano' ()>\n",
       " array(74.887344)\n",
       " Coordinates:\n",
       "     time     datetime64[ns] 1978-03-16\n",
       "     lon      float64 20.0\n",
       "     lat      float64 -27.0\n",
       " Attributes:\n",
       "     standard_name:     air_pressure\n",
       "     long_name:         daily mean 3-hourly Pressure at Surface\n",
       "     units:             Pa\n",
       "     GRIB_name:         PRES\n",
       "     var_desc:          Pressure\n",
       "     level_desc:        Surface\n",
       "     statistic:         Mean\n",
       "     parent_stat:       Individual Obs\n",
       "     statistic_method:  Ensemble mean is calculated by averaging over all 80 e...\n",
       "     GridType:          Cylindrical Equidistant Projection Grid\n",
       "     datum:             wgs84\n",
       "     dataset:           NOAA/CIRES/DOE 20th Century Reanalysis version 3si Dai...\n",
       "     actual_range:      [ 51448.953 104290.52 ])"
      ]
     },
     "execution_count": 17,
     "metadata": {},
     "output_type": "execute_result"
    }
   ],
   "source": [
    "df.pres_ano[25352,1,10],df.pres_ano[26617,1,10]"
   ]
  },
  {
   "cell_type": "code",
   "execution_count": 18,
   "metadata": {},
   "outputs": [
    {
     "data": {
      "text/plain": [
       "((10839, 26, 180), (40422, 26, 180), (1266, 26, 180))"
      ]
     },
     "execution_count": 18,
     "metadata": {},
     "output_type": "execute_result"
    }
   ],
   "source": [
    "x_train.shape,x_test3.shape,x_test.shape"
   ]
  },
  {
   "cell_type": "code",
   "execution_count": 19,
   "metadata": {},
   "outputs": [],
   "source": [
    "x_test3_ = x_test3.copy()\n",
    "x_test3_ = x_test3_.reshape(x_test3_.shape[0],x_test3_.shape[1]*x_test3_.shape[2])"
   ]
  },
  {
   "cell_type": "code",
   "execution_count": 20,
   "metadata": {},
   "outputs": [],
   "source": [
    "from sklearn.preprocessing import MinMaxScaler\n",
    "xtest3 = x_test3.copy()\n",
    "#xtrain  = \n",
    "scalers = {}\n",
    "for i in range(xtest3.shape[0]):\n",
    "    scalers = MinMaxScaler()\n",
    "    ff = xtest3[i,:,:].reshape(26*180,1)\n",
    "    scalers.fit(ff)\n",
    "    xtest3[i,:,:] = np.reshape(scalers.transform(ff),(26,180))\n",
    "    #xtrain[i,:,:] = scalers[i].fit_transform(xtrain[:, i, :]) \n",
    "\n",
    "#for i in range(xtest.shape[1]):\n",
    "#    xtest[:, i, :] = scalers[i].transform(xtest[:, i, :]) "
   ]
  },
  {
   "cell_type": "code",
   "execution_count": 21,
   "metadata": {},
   "outputs": [
    {
     "data": {
      "text/plain": [
       "(array([  137516.,   122466.,   171443.,   245845.,   352165.,   503740.,\n",
       "          723067.,  1054778.,  1512104.,  2132549.,  2947665.,  3915622.,\n",
       "         5122327.,  6530521.,  8013879.,  9551170., 11021248., 12408771.,\n",
       "        13389579., 13919640., 14031313., 13714353., 12917899., 11751742.,\n",
       "        10353884.,  8811229.,  7173612.,  5545222.,  4103894.,  2853788.,\n",
       "         1836091.,  1100394.,   609390.,   340220.,   255834.]),\n",
       " array([0.        , 0.02857143, 0.05714286, 0.0857143 , 0.11428573,\n",
       "        0.14285716, 0.17142859, 0.20000002, 0.22857146, 0.2571429 ,\n",
       "        0.28571433, 0.31428576, 0.34285718, 0.3714286 , 0.40000004,\n",
       "        0.4285715 , 0.45714292, 0.48571435, 0.5142858 , 0.5428572 ,\n",
       "        0.57142866, 0.6000001 , 0.6285715 , 0.65714294, 0.68571436,\n",
       "        0.7142858 , 0.7428572 , 0.77142864, 0.8000001 , 0.8285715 ,\n",
       "        0.857143  , 0.8857144 , 0.91428584, 0.94285727, 0.9714287 ,\n",
       "        1.0000001 ], dtype=float32),\n",
       " <a list of 35 Patch objects>)"
      ]
     },
     "execution_count": 21,
     "metadata": {},
     "output_type": "execute_result"
    },
    {
     "data": {
      "image/png": "[encoded data removed]",
      "text/plain": [
       "<Figure size 432x288 with 1 Axes>"
      ]
     },
     "metadata": {
      "needs_background": "light"
     },
     "output_type": "display_data"
    }
   ],
   "source": [
    "plt.hist(xtest3.flatten(),bins=35)"
   ]
  },
  {
   "cell_type": "code",
   "execution_count": 22,
   "metadata": {},
   "outputs": [],
   "source": [
    "xtrain = xtest3[27027:37866,:,:,None]\n",
    "xtest  = xtest3[25352:26618,:,:,None]\n",
    "xtest3 = xtest3[:,:,:,None]"
   ]
  },
  {
   "cell_type": "code",
   "execution_count": 23,
   "metadata": {},
   "outputs": [
    {
     "data": {
      "text/plain": [
       "((10839, 26, 180, 1), (1266, 26, 180, 1), (10839, 1), (1266, 1))"
      ]
     },
     "execution_count": 23,
     "metadata": {},
     "output_type": "execute_result"
    }
   ],
   "source": [
    "xtrain.shape,xtest.shape,y_train.shape,y_test.shape"
   ]
  },
  {
   "cell_type": "code",
   "execution_count": 24,
   "metadata": {},
   "outputs": [],
   "source": [
    "sc3 = MinMaxScaler()\n",
    "\n",
    "sc3.fit(y_train[:])\n",
    "\n",
    "train_y = sc3.transform(y_train)\n",
    "test_y  = sc3.transform(y_test)"
   ]
  },
  {
   "cell_type": "markdown",
   "metadata": {},
   "source": [
    "from keras.models import Sequential\n",
    "from keras.layers import Dense, Conv2D, Flatten,MaxPooling2D,AveragePooling2D\n",
    "\n",
    "model = Sequential()\n",
    "\n",
    "model.add(Conv2D(filters=15, kernel_size=(3, 3), activation='relu', input_shape=(xtrain.shape[1],xtrain.shape[2],1)))\n",
    "model.add(AveragePooling2D())\n",
    "\n",
    "model.add(Conv2D(filters=12, kernel_size=(3, 3), activation='relu'))\n",
    "model.add(AveragePooling2D())\n",
    "\n",
    "model.add(Flatten())\n",
    "\n",
    "model.add(Dense(units=120, activation='relu'))\n",
    "\n",
    "model.add(Dense(units=84, activation='relu'))\n",
    "\n",
    "model.add(Dense(units=1, activation = 'linear'))"
   ]
  },
  {
   "cell_type": "raw",
   "metadata": {},
   "source": [
    "from keras.models import Sequential\n",
    "from keras.layers import Dense, Conv2D, Flatten,MaxPooling2D\n",
    "\n",
    "model = Sequential()#add model layers\n",
    "model.add(Conv2D(156, kernel_size=3, activation='relu',input_shape=(xtrain.shape[1],xtrain.shape[2],1)))\n",
    "model.add(MaxPooling2D(pool_size=(2,2)))\n",
    "model.add(Conv2D(128, kernel_size=2, activation='relu'))\n",
    "model.add(MaxPooling2D(pool_size=(2,2)))\n",
    "model.add(Conv2D(4, kernel_size=3, activation='relu'))\n",
    "model.add(Flatten())\n",
    "model.add(Dense(1, activation='linear'))"
   ]
  },
  {
   "cell_type": "markdown",
   "metadata": {},
   "source": [
    "xtrain.shape,y_train.shape"
   ]
  },
  {
   "cell_type": "markdown",
   "metadata": {},
   "source": [
    "#compile model using accuracy to measure model performance\n",
    "model.compile(optimizer='adam', loss='mae')\n",
    "\n",
    "history = model.fit(xtrain, y_train.values, validation_data=(xtest, y_test.values), epochs=3)"
   ]
  },
  {
   "cell_type": "code",
   "execution_count": 25,
   "metadata": {},
   "outputs": [],
   "source": [
    "batch_size = 100\n",
    "#num_classes = 10\n",
    "epochs = 60\n",
    "data_augmentation = True"
   ]
  },
  {
   "cell_type": "raw",
   "metadata": {},
   "source": [
    "import keras\n",
    "#from keras.datasets import cifar10\n",
    "from keras.preprocessing.image import ImageDataGenerator\n",
    "from keras.models import Sequential\n",
    "from keras.layers import Dense, Dropout, Activation, Flatten\n",
    "from keras.layers import Conv2D, MaxPooling2D\n",
    "import os\n",
    "\n",
    "\n",
    "model = Sequential()\n",
    "model.add(Conv2D(64*2, (3, 3), padding='same',\n",
    "                 input_shape=xtrain.shape[1:]))\n",
    "model.add(Activation('relu'))\n",
    "model.add(Conv2D(64*2, (3, 3)))\n",
    "model.add(Activation('relu'))\n",
    "model.add(MaxPooling2D(pool_size=(2, 2)))\n",
    "model.add(Dropout(0.25))\n",
    "\n",
    "model.add(Conv2D(64*2, (3, 3), padding='same'))\n",
    "model.add(Activation('relu'))\n",
    "model.add(Conv2D(64*2, (3, 3)))\n",
    "model.add(Activation('relu'))\n",
    "model.add(MaxPooling2D(pool_size=(2, 2)))\n",
    "model.add(Dropout(0.25))\n",
    "\n",
    "model.add(Flatten())\n",
    "model.add(Dense(512))\n",
    "model.add(Activation('relu'))\n",
    "model.add(Dropout(0.5))\n",
    "model.add(Dense(1))\n",
    "model.add(Activation('linear'))\n",
    "\n",
    "# initiate Adam optimizer\n",
    "opt = keras.optimizers.Adam(learning_rate=0.001, decay=1e-6)\n",
    "\n",
    "# Let's train the model using RMSprop\n",
    "model.compile(loss='mae',optimizer=opt)"
   ]
  },
  {
   "cell_type": "code",
   "execution_count": 26,
   "metadata": {},
   "outputs": [
    {
     "name": "stderr",
     "output_type": "stream",
     "text": [
      "Using TensorFlow backend.\n"
     ]
    }
   ],
   "source": [
    "import keras\n",
    "#from keras.datasets import cifar10\n",
    "from keras.preprocessing.image import ImageDataGenerator\n",
    "from keras.models import Sequential\n",
    "from keras.layers import Dense, Dropout, Activation, Flatten\n",
    "from keras.layers import Conv2D, MaxPooling2D\n",
    "import os\n",
    "\n",
    "\n",
    "model = Sequential()\n",
    "model.add(Conv2D(64*2, (3, 3), padding='same',\n",
    "                 input_shape=xtrain.shape[1:]))\n",
    "model.add(Activation('relu'))\n",
    "model.add(Conv2D(64*2, (3, 3)))\n",
    "model.add(Activation('relu'))\n",
    "model.add(Conv2D(64*2, (3, 3)))\n",
    "model.add(Activation('relu'))\n",
    "model.add(Conv2D(64*2, (3, 3)))\n",
    "model.add(Activation('relu'))\n",
    "model.add(MaxPooling2D(pool_size=(2, 2)))\n",
    "model.add(Dropout(0.25))\n",
    "\n",
    "model.add(Conv2D(64*2, (3, 3), padding='same'))\n",
    "model.add(Activation('relu'))\n",
    "model.add(Conv2D(64*2, (3, 3)))\n",
    "model.add(Activation('relu'))\n",
    "model.add(MaxPooling2D(pool_size=(2, 2)))\n",
    "model.add(Dropout(0.25))\n",
    "\n",
    "model.add(Flatten())\n",
    "model.add(Dense(512))\n",
    "model.add(Activation('relu'))\n",
    "model.add(Dropout(0.5))\n",
    "model.add(Dense(1))\n",
    "model.add(Activation('linear'))\n",
    "\n",
    "# initiate Adam optimizer\n",
    "opt = keras.optimizers.Adam(learning_rate=0.0001, decay=1e-6)\n",
    "\n",
    "# Let's train the model using RMSprop\n",
    "model.compile(loss='mae',optimizer=opt)"
   ]
  },
  {
   "cell_type": "code",
   "execution_count": 27,
   "metadata": {},
   "outputs": [
    {
     "name": "stdout",
     "output_type": "stream",
     "text": [
      "Model: \"sequential_1\"\n",
      "_________________________________________________________________\n",
      "Layer (type)                 Output Shape              Param #   \n",
      "=================================================================\n",
      "conv2d_1 (Conv2D)            (None, 26, 180, 128)      1280      \n",
      "_________________________________________________________________\n",
      "activation_1 (Activation)    (None, 26, 180, 128)      0         \n",
      "_________________________________________________________________\n",
      "conv2d_2 (Conv2D)            (None, 24, 178, 128)      147584    \n",
      "_________________________________________________________________\n",
      "activation_2 (Activation)    (None, 24, 178, 128)      0         \n",
      "_________________________________________________________________\n",
      "conv2d_3 (Conv2D)            (None, 22, 176, 128)      147584    \n",
      "_________________________________________________________________\n",
      "activation_3 (Activation)    (None, 22, 176, 128)      0         \n",
      "_________________________________________________________________\n",
      "conv2d_4 (Conv2D)            (None, 20, 174, 128)      147584    \n",
      "_________________________________________________________________\n",
      "activation_4 (Activation)    (None, 20, 174, 128)      0         \n",
      "_________________________________________________________________\n",
      "max_pooling2d_1 (MaxPooling2 (None, 10, 87, 128)       0         \n",
      "_________________________________________________________________\n",
      "dropout_1 (Dropout)          (None, 10, 87, 128)       0         \n",
      "_________________________________________________________________\n",
      "conv2d_5 (Conv2D)            (None, 10, 87, 128)       147584    \n",
      "_________________________________________________________________\n",
      "activation_5 (Activation)    (None, 10, 87, 128)       0         \n",
      "_________________________________________________________________\n",
      "conv2d_6 (Conv2D)            (None, 8, 85, 128)        147584    \n",
      "_________________________________________________________________\n",
      "activation_6 (Activation)    (None, 8, 85, 128)        0         \n",
      "_________________________________________________________________\n",
      "max_pooling2d_2 (MaxPooling2 (None, 4, 42, 128)        0         \n",
      "_________________________________________________________________\n",
      "dropout_2 (Dropout)          (None, 4, 42, 128)        0         \n",
      "_________________________________________________________________\n",
      "flatten_1 (Flatten)          (None, 21504)             0         \n",
      "_________________________________________________________________\n",
      "dense_1 (Dense)              (None, 512)               11010560  \n",
      "_________________________________________________________________\n",
      "activation_7 (Activation)    (None, 512)               0         \n",
      "_________________________________________________________________\n",
      "dropout_3 (Dropout)          (None, 512)               0         \n",
      "_________________________________________________________________\n",
      "dense_2 (Dense)              (None, 1)                 513       \n",
      "_________________________________________________________________\n",
      "activation_8 (Activation)    (None, 1)                 0         \n",
      "=================================================================\n",
      "Total params: 11,750,273\n",
      "Trainable params: 11,750,273\n",
      "Non-trainable params: 0\n",
      "_________________________________________________________________\n"
     ]
    }
   ],
   "source": [
    "model.summary()"
   ]
  },
  {
   "cell_type": "code",
   "execution_count": 29,
   "metadata": {},
   "outputs": [],
   "source": [
    "xtrain1 = xtrain.astype('float32')\n",
    "xtest1 = xtest.astype('float32')\n",
    "xtest3 = xtest3.astype('float32')\n",
    "\n",
    "ytrain1 = train_y.astype('float32')\n",
    "ytest1  = test_y.astype('float32')"
   ]
  },
  {
   "cell_type": "code",
   "execution_count": 30,
   "metadata": {},
   "outputs": [
    {
     "name": "stdout",
     "output_type": "stream",
     "text": [
      "Using real-time data augmentation.\n",
      "Epoch 1/60\n",
      "109/109 [==============================] - 561s 5s/step - loss: 0.1318 - val_loss: 0.1897\n",
      "Epoch 2/60\n",
      "109/109 [==============================] - 587s 5s/step - loss: 0.1103 - val_loss: 0.1507\n",
      "Epoch 3/60\n",
      "109/109 [==============================] - 583s 5s/step - loss: 0.0981 - val_loss: 0.1217\n",
      "Epoch 4/60\n",
      "109/109 [==============================] - 577s 5s/step - loss: 0.0966 - val_loss: 0.0858\n",
      "Epoch 5/60\n",
      "109/109 [==============================] - 582s 5s/step - loss: 0.0955 - val_loss: 0.1291\n",
      "Epoch 6/60\n",
      "109/109 [==============================] - 574s 5s/step - loss: 0.0955 - val_loss: 0.1317\n",
      "Epoch 7/60\n",
      "109/109 [==============================] - 577s 5s/step - loss: 0.0949 - val_loss: 0.1105\n",
      "Epoch 8/60\n",
      "109/109 [==============================] - 578s 5s/step - loss: 0.0947 - val_loss: 0.1032\n",
      "Epoch 9/60\n",
      "109/109 [==============================] - 577s 5s/step - loss: 0.0931 - val_loss: 0.1034\n",
      "Epoch 10/60\n",
      "109/109 [==============================] - 575s 5s/step - loss: 0.0912 - val_loss: 0.1269\n",
      "Epoch 11/60\n",
      "109/109 [==============================] - 580s 5s/step - loss: 0.0919 - val_loss: 0.0812\n",
      "Epoch 12/60\n",
      "109/109 [==============================] - 578s 5s/step - loss: 0.0920 - val_loss: 0.1024\n",
      "Epoch 13/60\n",
      "109/109 [==============================] - 579s 5s/step - loss: 0.0911 - val_loss: 0.0885\n",
      "Epoch 14/60\n",
      "109/109 [==============================] - 535s 5s/step - loss: 0.0907 - val_loss: 0.0926\n",
      "Epoch 15/60\n",
      "109/109 [==============================] - 463s 4s/step - loss: 0.0901 - val_loss: 0.0933\n",
      "Epoch 16/60\n",
      "109/109 [==============================] - 475s 4s/step - loss: 0.0891 - val_loss: 0.0927\n",
      "Epoch 17/60\n",
      "109/109 [==============================] - 478s 4s/step - loss: 0.0893 - val_loss: 0.0836\n",
      "Epoch 18/60\n",
      "109/109 [==============================] - 482s 4s/step - loss: 0.0889 - val_loss: 0.0871\n",
      "Epoch 19/60\n",
      "109/109 [==============================] - 478s 4s/step - loss: 0.0884 - val_loss: 0.0865\n",
      "Epoch 20/60\n",
      "109/109 [==============================] - 479s 4s/step - loss: 0.0884 - val_loss: 0.0787\n",
      "Epoch 21/60\n",
      "109/109 [==============================] - 478s 4s/step - loss: 0.0869 - val_loss: 0.0776\n",
      "Epoch 22/60\n",
      "109/109 [==============================] - 478s 4s/step - loss: 0.0880 - val_loss: 0.0828\n",
      "Epoch 23/60\n",
      "109/109 [==============================] - 480s 4s/step - loss: 0.0879 - val_loss: 0.0805\n",
      "Epoch 24/60\n",
      "109/109 [==============================] - 479s 4s/step - loss: 0.0865 - val_loss: 0.0849\n",
      "Epoch 25/60\n",
      "109/109 [==============================] - 478s 4s/step - loss: 0.0873 - val_loss: 0.0946\n",
      "Epoch 26/60\n",
      "109/109 [==============================] - 482s 4s/step - loss: 0.0869 - val_loss: 0.0799\n",
      "Epoch 27/60\n",
      "109/109 [==============================] - 481s 4s/step - loss: 0.0838 - val_loss: 0.0827\n",
      "Epoch 28/60\n",
      "109/109 [==============================] - 479s 4s/step - loss: 0.0838 - val_loss: 0.0839\n",
      "Epoch 29/60\n",
      "109/109 [==============================] - 477s 4s/step - loss: 0.0843 - val_loss: 0.0783\n",
      "Epoch 30/60\n",
      "109/109 [==============================] - 400s 4s/step - loss: 0.0839 - val_loss: 0.0769\n",
      "Epoch 31/60\n",
      "109/109 [==============================] - 293s 3s/step - loss: 0.0840 - val_loss: 0.0742\n",
      "Epoch 32/60\n",
      "109/109 [==============================] - 241s 2s/step - loss: 0.0834 - val_loss: 0.0750\n",
      "Epoch 33/60\n",
      "109/109 [==============================] - 241s 2s/step - loss: 0.0806 - val_loss: 0.0796\n",
      "Epoch 34/60\n",
      "109/109 [==============================] - 243s 2s/step - loss: 0.0825 - val_loss: 0.0757\n",
      "Epoch 35/60\n",
      "109/109 [==============================] - 245s 2s/step - loss: 0.0821 - val_loss: 0.0726\n",
      "Epoch 36/60\n",
      "109/109 [==============================] - 243s 2s/step - loss: 0.0804 - val_loss: 0.0731\n",
      "Epoch 37/60\n",
      "109/109 [==============================] - 242s 2s/step - loss: 0.0801 - val_loss: 0.0690\n",
      "Epoch 38/60\n",
      "109/109 [==============================] - 242s 2s/step - loss: 0.0790 - val_loss: 0.0770\n",
      "Epoch 39/60\n",
      "109/109 [==============================] - 248s 2s/step - loss: 0.0793 - val_loss: 0.0761\n",
      "Epoch 40/60\n",
      "109/109 [==============================] - 250s 2s/step - loss: 0.0785 - val_loss: 0.0791\n",
      "Epoch 41/60\n",
      "109/109 [==============================] - 242s 2s/step - loss: 0.0797 - val_loss: 0.0808\n",
      "Epoch 42/60\n",
      "109/109 [==============================] - 242s 2s/step - loss: 0.0779 - val_loss: 0.0747\n",
      "Epoch 43/60\n",
      "109/109 [==============================] - 243s 2s/step - loss: 0.0765 - val_loss: 0.0695\n",
      "Epoch 44/60\n",
      "109/109 [==============================] - 243s 2s/step - loss: 0.0762 - val_loss: 0.0726\n",
      "Epoch 45/60\n",
      "109/109 [==============================] - 242s 2s/step - loss: 0.0752 - val_loss: 0.0693\n",
      "Epoch 46/60\n",
      "109/109 [==============================] - 244s 2s/step - loss: 0.0764 - val_loss: 0.0691\n",
      "Epoch 47/60\n",
      "109/109 [==============================] - 242s 2s/step - loss: 0.0749 - val_loss: 0.0688\n",
      "Epoch 48/60\n",
      "109/109 [==============================] - 246s 2s/step - loss: 0.0749 - val_loss: 0.0690\n",
      "Epoch 49/60\n",
      "109/109 [==============================] - 242s 2s/step - loss: 0.0740 - val_loss: 0.0673\n",
      "Epoch 50/60\n",
      "109/109 [==============================] - 243s 2s/step - loss: 0.0736 - val_loss: 0.0644\n",
      "Epoch 51/60\n",
      "109/109 [==============================] - 244s 2s/step - loss: 0.0734 - val_loss: 0.0641\n",
      "Epoch 52/60\n",
      "109/109 [==============================] - 243s 2s/step - loss: 0.0722 - val_loss: 0.0677\n",
      "Epoch 53/60\n",
      "109/109 [==============================] - 246s 2s/step - loss: 0.0727 - val_loss: 0.0695\n",
      "Epoch 54/60\n",
      "109/109 [==============================] - 244s 2s/step - loss: 0.0730 - val_loss: 0.0671\n",
      "Epoch 55/60\n",
      "109/109 [==============================] - 243s 2s/step - loss: 0.0716 - val_loss: 0.0625\n",
      "Epoch 56/60\n",
      "109/109 [==============================] - 247s 2s/step - loss: 0.0700 - val_loss: 0.0635\n",
      "Epoch 57/60\n",
      "109/109 [==============================] - 249s 2s/step - loss: 0.0700 - val_loss: 0.0628\n",
      "Epoch 58/60\n",
      "109/109 [==============================] - 242s 2s/step - loss: 0.0695 - val_loss: 0.0617\n",
      "Epoch 59/60\n",
      "109/109 [==============================] - 244s 2s/step - loss: 0.0685 - val_loss: 0.0632\n",
      "Epoch 60/60\n",
      "109/109 [==============================] - 246s 2s/step - loss: 0.0682 - val_loss: 0.0617\n"
     ]
    }
   ],
   "source": [
    "if not data_augmentation:\n",
    "    print('Not using data augmentation.')\n",
    "    model.fit(xtrain1, ytrain1,\n",
    "              batch_size=batch_size,\n",
    "              epochs=epochs,\n",
    "              validation_data=(xtest1, ytest1),\n",
    "              shuffle=False)\n",
    "else:\n",
    "    print('Using real-time data augmentation.')\n",
    "    # This will do preprocessing and realtime data augmentation:\n",
    "    datagen = ImageDataGenerator(\n",
    "        featurewise_center=False,  # set input mean to 0 over the dataset\n",
    "        samplewise_center=False,  # set each sample mean to 0\n",
    "        featurewise_std_normalization=False,  # divide inputs by std of the dataset\n",
    "        samplewise_std_normalization=False,  # divide each input by its std\n",
    "        zca_whitening=False,  # apply ZCA whitening\n",
    "        zca_epsilon=1e-06,  # epsilon for ZCA whitening\n",
    "        rotation_range=0,  # randomly rotate images in the range (degrees, 0 to 180)\n",
    "        # randomly shift images horizontally (fraction of total width)\n",
    "        width_shift_range=0.1,\n",
    "        # randomly shift images vertically (fraction of total height)\n",
    "        height_shift_range=0.1,\n",
    "        shear_range=0.,  # set range for random shear\n",
    "        zoom_range=0.,  # set range for random zoom\n",
    "        channel_shift_range=0.,  # set range for random channel shifts\n",
    "        # set mode for filling points outside the input boundaries\n",
    "        fill_mode='nearest',\n",
    "        cval=0.,  # value used for fill_mode = \"constant\"\n",
    "        horizontal_flip=True,  # randomly flip images\n",
    "        vertical_flip=False,  # randomly flip images\n",
    "        # set rescaling factor (applied before any other transformation)\n",
    "        rescale=None,\n",
    "        # set function that will be applied on each input\n",
    "        preprocessing_function=None,\n",
    "        # image data format, either \"channels_first\" or \"channels_last\"\n",
    "        data_format=None,\n",
    "        # fraction of images reserved for validation (strictly between 0 and 1)\n",
    "        validation_split=0.0)\n",
    "\n",
    "    # Compute quantities required for feature-wise normalization\n",
    "    # (std, mean, and principal components if ZCA whitening is applied).\n",
    "    datagen.fit(xtrain1)\n",
    "\n",
    "    # Fit the model on the batches generated by datagen.flow().\n",
    "    model.fit_generator(datagen.flow(xtrain1, ytrain1,\n",
    "                                     batch_size=batch_size),\n",
    "                        epochs=epochs,\n",
    "                        validation_data=(xtest1, ytest1),\n",
    "                        workers=4)"
   ]
  },
  {
   "cell_type": "code",
   "execution_count": 31,
   "metadata": {},
   "outputs": [
    {
     "data": {
      "text/plain": [
       "<matplotlib.legend.Legend at 0x2b4f83eca950>"
      ]
     },
     "execution_count": 31,
     "metadata": {},
     "output_type": "execute_result"
    },
    {
     "data": {
      "image/png": "[encoded data removed]",
      "text/plain": [
       "<Figure size 432x288 with 1 Axes>"
      ]
     },
     "metadata": {
      "needs_background": "light"
     },
     "output_type": "display_data"
    }
   ],
   "source": [
    "#model.history.keys()\n",
    "\n",
    "plt.plot(model.history.history['loss'],'-*',label ='train')\n",
    "plt.plot(model.history.history['val_loss'],'-*',label ='test')\n",
    "plt.ylabel('MAE')\n",
    "plt.xlabel('No of Epochs')\n",
    "plt.legend()\n",
    "# plt.savefig('RMM2_history.png')"
   ]
  },
  {
   "cell_type": "markdown",
   "metadata": {},
   "source": [
    "## Correlation"
   ]
  },
  {
   "cell_type": "code",
   "execution_count": 32,
   "metadata": {},
   "outputs": [],
   "source": [
    "yy_test = model.predict(xtest)"
   ]
  },
  {
   "cell_type": "code",
   "execution_count": 33,
   "metadata": {},
   "outputs": [
    {
     "data": {
      "text/plain": [
       "((1266, 1), (1266, 1))"
      ]
     },
     "execution_count": 33,
     "metadata": {},
     "output_type": "execute_result"
    }
   ],
   "source": [
    "yy_test.shape,y_test.shape"
   ]
  },
  {
   "cell_type": "code",
   "execution_count": 34,
   "metadata": {},
   "outputs": [
    {
     "data": {
      "text/plain": [
       "[<matplotlib.lines.Line2D at 0x2b5050085890>]"
      ]
     },
     "execution_count": 34,
     "metadata": {},
     "output_type": "execute_result"
    },
    {
     "data": {
      "image/png": "[encoded data removed]",
      "text/plain": [
       "<Figure size 432x288 with 1 Axes>"
      ]
     },
     "metadata": {
      "needs_background": "light"
     },
     "output_type": "display_data"
    }
   ],
   "source": [
    "plt.plot(yy_test,y_test,'+')"
   ]
  },
  {
   "cell_type": "code",
   "execution_count": 42,
   "metadata": {},
   "outputs": [
    {
     "data": {
      "text/plain": [
       "<matplotlib.legend.Legend at 0x2b5050690b50>"
      ]
     },
     "execution_count": 42,
     "metadata": {},
     "output_type": "execute_result"
    },
    {
     "data": {
      "image/png": "[encoded data removed]",
      "text/plain": [
       "<Figure size 864x288 with 2 Axes>"
      ]
     },
     "metadata": {
      "needs_background": "light"
     },
     "output_type": "display_data"
    }
   ],
   "source": [
    "yy_test = model.predict(xtest)\n",
    "yy_test   = sc3.inverse_transform(yy_test)\n",
    "\n",
    "test_corr = np.corrcoef(yy_test[:,0],y_test.values[:,0])[0,1]\n",
    "yy_test   = yy_test[:,0]/yy_test[:,0].std()\n",
    "\n",
    "# print(\"test shape = \");print(predict2.shape)\n",
    "\n",
    "fig,ax = plt.subplots(1,2,figsize = (12,4))\n",
    "\n",
    "ax[0].plot(yy_test,y_test.values[:,0],'.')\n",
    "\n",
    "ax[0].set_title('corr = %f'%test_corr)\n",
    "\n",
    "bins = np.linspace(-4.0,4.0,41)\n",
    "\n",
    "ax[1].hist(y_test.values[:,0],bins,density=True,alpha=0.5,label='observed')\n",
    "ax[1].hist(yy_test,bins,density=True,alpha=0.5,label='modeled');\n",
    "plt.legend()"
   ]
  },
  {
   "cell_type": "code",
   "execution_count": 43,
   "metadata": {},
   "outputs": [
    {
     "data": {
      "text/plain": [
       "<matplotlib.legend.Legend at 0x2b505086db10>"
      ]
     },
     "execution_count": 43,
     "metadata": {},
     "output_type": "execute_result"
    },
    {
     "data": {
      "image/png": "[encoded data removed]",
      "text/plain": [
       "<Figure size 864x288 with 2 Axes>"
      ]
     },
     "metadata": {
      "needs_background": "light"
     },
     "output_type": "display_data"
    }
   ],
   "source": [
    "yy_train = model.predict(xtrain)\n",
    "yy_train   = sc3.inverse_transform(yy_train)\n",
    "\n",
    "train_corr = np.corrcoef(yy_train[:,0],y_train.values[:,0])[0,1]\n",
    "yy_train   = yy_train[:,0]/yy_train[:,0].std()\n",
    "\n",
    "# print(\"train shape = \");print(predict2.shape)\n",
    "\n",
    "fig,ax = plt.subplots(1,2,figsize = (12,4))\n",
    "\n",
    "ax[0].plot(yy_train,y_train.values[:,0],'.')\n",
    "\n",
    "ax[0].set_title('corr = %f'%train_corr)\n",
    "\n",
    "bins = np.linspace(-4.0,4.0,41)\n",
    "\n",
    "ax[1].hist(y_train.values[:,0],bins,density=True,alpha=0.5,label='observed')\n",
    "ax[1].hist(yy_train,bins,density=True,alpha=0.5,label='modeled');\n",
    "plt.legend()"
   ]
  },
  {
   "cell_type": "code",
   "execution_count": 44,
   "metadata": {},
   "outputs": [],
   "source": [
    "rmm2 = model.predict(xtest3)\n",
    "rmm2   = sc3.inverse_transform(rmm2)\n"
   ]
  },
  {
   "cell_type": "code",
   "execution_count": 45,
   "metadata": {},
   "outputs": [],
   "source": [
    "rmm2 = pd.DataFrame(rmm2,index=pd.to_datetime(df_test3.time[:].values),columns=['rmm2'])"
   ]
  },
  {
   "cell_type": "code",
   "execution_count": 46,
   "metadata": {},
   "outputs": [
    {
     "data": {
      "text/plain": [
       "(array([9.000e+00, 1.200e+01, 4.100e+01, 7.500e+01, 1.220e+02, 2.250e+02,\n",
       "        3.530e+02, 5.410e+02, 8.200e+02, 1.263e+03, 1.714e+03, 2.096e+03,\n",
       "        2.639e+03, 2.929e+03, 3.213e+03, 3.402e+03, 3.361e+03, 3.171e+03,\n",
       "        2.770e+03, 2.501e+03, 2.196e+03, 1.769e+03, 1.408e+03, 1.202e+03,\n",
       "        8.780e+02, 6.330e+02, 4.360e+02, 2.670e+02, 1.800e+02, 9.100e+01,\n",
       "        5.500e+01, 3.600e+01, 7.000e+00, 6.000e+00, 1.000e+00]),\n",
       " array([-2.9170318 , -2.7399313 , -2.562831  , -2.3857305 , -2.20863   ,\n",
       "        -2.0315297 , -1.8544292 , -1.6773288 , -1.5002284 , -1.323128  ,\n",
       "        -1.1460276 , -0.96892715, -0.7918267 , -0.6147263 , -0.43762589,\n",
       "        -0.26052547, -0.08342505,  0.09367537,  0.2707758 ,  0.44787621,\n",
       "         0.62497663,  0.80207705,  0.9791775 ,  1.1562779 ,  1.3333783 ,\n",
       "         1.5104787 ,  1.6875792 ,  1.8646796 ,  2.04178   ,  2.2188804 ,\n",
       "         2.3959808 ,  2.5730813 ,  2.7501817 ,  2.927282  ,  3.1043825 ,\n",
       "         3.281483  ], dtype=float32),\n",
       " <a list of 35 Patch objects>)"
      ]
     },
     "execution_count": 46,
     "metadata": {},
     "output_type": "execute_result"
    },
    {
     "data": {
      "image/png": "[encoded data removed]",
      "text/plain": [
       "<Figure size 432x288 with 1 Axes>"
      ]
     },
     "metadata": {
      "needs_background": "light"
     },
     "output_type": "display_data"
    }
   ],
   "source": [
    "plt.hist(rmm2.rmm2,bins=35)"
   ]
  },
  {
   "cell_type": "code",
   "execution_count": 49,
   "metadata": {},
   "outputs": [],
   "source": [
    "rmm2.to_csv('deep_CNN_rmm2_minmaxscalar_batchsize_100_withymnmx.csv')"
   ]
  },
  {
   "cell_type": "code",
   "execution_count": 47,
   "metadata": {},
   "outputs": [
    {
     "data": {
      "text/plain": [
       "<matplotlib.lines.Line2D at 0x2b5050af9510>"
      ]
     },
     "execution_count": 47,
     "metadata": {},
     "output_type": "execute_result"
    },
    {
     "data": {
      "image/png": "[encoded data removed]",
      "text/plain": [
       "<Figure size 432x288 with 1 Axes>"
      ]
     },
     "metadata": {
      "needs_background": "light"
     },
     "output_type": "display_data"
    }
   ],
   "source": [
    "plt.plot(rmm2.rmm2)\n",
    "plt.axhline(3)\n",
    "plt.axhline(-3)"
   ]
  },
  {
   "cell_type": "code",
   "execution_count": 48,
   "metadata": {},
   "outputs": [
    {
     "name": "stdout",
     "output_type": "stream",
     "text": [
      "Saved model to disk\n"
     ]
    }
   ],
   "source": [
    "model.save(\"deep_CNN_rmm2_minmaxscalar_batchsize_100_withymnmx.h5\")\n",
    "print(\"Saved model to disk\")"
   ]
  },
  {
   "cell_type": "code",
   "execution_count": null,
   "metadata": {},
   "outputs": [],
   "source": []
  }
 ],
 "metadata": {
  "kernelspec": {
   "display_name": "Python 3",
   "language": "python",
   "name": "python3"
  },
  "language_info": {
   "codemirror_mode": {
    "name": "ipython",
    "version": 3
   },
   "file_extension": ".py",
   "mimetype": "text/x-python",
   "name": "python",
   "nbconvert_exporter": "python",
   "pygments_lexer": "ipython3",
   "version": "3.7.5"
  }
 },
 "nbformat": 4,
 "nbformat_minor": 2
}
