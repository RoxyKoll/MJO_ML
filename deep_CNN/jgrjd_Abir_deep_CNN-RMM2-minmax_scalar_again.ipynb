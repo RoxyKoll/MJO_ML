{
 "cells": [
  {
   "cell_type": "markdown",
   "metadata": {},
   "source": [
    "## RMM2"
   ]
  },
  {
   "cell_type": "code",
   "execution_count": 1,
   "metadata": {},
   "outputs": [
    {
     "name": "stdout",
     "output_type": "stream",
     "text": [
      "/home/cccr/supriyo/panini/filtered_data/historical/JGRJD/deep_CNN\r\n"
     ]
    }
   ],
   "source": [
    "!pwd"
   ]
  },
  {
   "cell_type": "code",
   "execution_count": 2,
   "metadata": {},
   "outputs": [],
   "source": [
    "import numpy as np\n",
    "import pandas as pd\n",
    "import xarray as xr\n",
    "import hilbert_data1_jgrjd_20CRV3\n",
    "import datetime\n",
    "import matplotlib.pyplot as plt"
   ]
  },
  {
   "cell_type": "code",
   "execution_count": 3,
   "metadata": {},
   "outputs": [],
   "source": [
    "def lowpass_scipy_butter(signal1,wn,lt):\n",
    "    from scipy import signal\n",
    "    w = 2/lt # Normalize the frequency\n",
    "    b, a = signal.butter(wn, w, 'low')\n",
    "    lowpass_signal = signal.filtfilt(b, a, signal1)\n",
    "\n",
    "    return lowpass_signal\n",
    "\n",
    "\n",
    "def data_y(st,en):\n",
    "\n",
    "    df2       = pd.read_csv('full_data_nn_20CR_V3.txt',index_col='date')\n",
    "    df2.index = pd.to_datetime(df2.index)\n",
    "    df2=df2[(df2.index>=st) & (df2.index<=en)]    \n",
    "    \n",
    "    ################ RMM1 #########################\n",
    "    y = df2.iloc[:,12:13]\n",
    "    lf = 10;wn = 3\n",
    "#    ### 10 days lowpass #############\n",
    "    y1 = y.copy()\n",
    "    for i in range(y.shape[1]):\n",
    "        signal = y.iloc[:,i].values\n",
    "        temp = lowpass_scipy_butter(signal,wn,lf)\n",
    "        y1.iloc[:,i] = np.real(temp)\n",
    "        \n",
    "    RMM1 = y1.iloc[119:]\n",
    "    del y,y1 \n",
    "\n",
    "    ###################################    \n",
    "    \n",
    "     ################ RMM2 #########################\n",
    "    y = df2.iloc[:,13:14]\n",
    "\n",
    "#     ### 10 days lowpass #############\n",
    "    y1 = y.copy()\n",
    "    for i in range(y.shape[1]):\n",
    "        signal = y.iloc[:,i].values\n",
    "        temp = lowpass_scipy_butter(signal,wn,lf)\n",
    "        y1.iloc[:,i] = np.real(temp)\n",
    "    RMM2 = y1.iloc[119:]\n",
    "    del y,y1 \n",
    "#     ###################################    \n",
    "       \n",
    "\n",
    "    return RMM1,RMM2"
   ]
  },
  {
   "cell_type": "code",
   "execution_count": 4,
   "metadata": {},
   "outputs": [],
   "source": [
    "df = xr.open_dataset('/home/cccr/roxy/panini/JGRJD_PHD_PART_I/JGRJD_DESKTOP/MJO_reconstruct_jgrjd/20CR_V3/CNN_maps_20CRV3/trop_sfc.ano_1905-2015_filtered_rm_mean120.4deg.nc')\n"
   ]
  },
  {
   "cell_type": "code",
   "execution_count": 5,
   "metadata": {},
   "outputs": [],
   "source": [
    "_,y_train = data_y(datetime.datetime(1979,1,1),datetime.datetime(2008,12,31))\n",
    "_,y_test = data_y(datetime.datetime(1974,6,1),datetime.datetime(1978,3,16))\n",
    "_,y_test2 = data_y(datetime.datetime(2009,1,1),datetime.datetime(2015,12,31))"
   ]
  },
  {
   "cell_type": "code",
   "execution_count": 6,
   "metadata": {},
   "outputs": [],
   "source": [
    "from sklearn.preprocessing import MinMaxScaler\n",
    "\n",
    "sc3 = MinMaxScaler()\n",
    "\n",
    "sc3.fit(y_train[:])\n",
    "\n",
    "train_y = sc3.transform(y_train)\n",
    "test_y  = sc3.transform(y_test)\n",
    "test_y2  = sc3.transform(y_test2)"
   ]
  },
  {
   "cell_type": "code",
   "execution_count": 7,
   "metadata": {},
   "outputs": [],
   "source": [
    "df_test3 = df.sel(lat=slice(-25,25))"
   ]
  },
  {
   "cell_type": "code",
   "execution_count": 8,
   "metadata": {},
   "outputs": [],
   "source": [
    "from sklearn.preprocessing import MinMaxScaler\n",
    "xtest3 = df_test3.pres_ano.values[:,:,:].copy()\n",
    "scalers = {}\n",
    "for i in range(xtest3.shape[0]):\n",
    "    scalers = MinMaxScaler()\n",
    "    num= df_test3.pres_ano.shape[1]*df_test3.pres_ano.shape[2]\n",
    "    ff = xtest3[i,:,:].reshape(num,1)\n",
    "    scalers.fit(ff)\n",
    "    xtest3[i,:,:] = np.reshape(scalers.fit_transform(ff),(df_test3.pres_ano.shape[1],df_test3.pres_ano.shape[2]))\n",
    "\n",
    "df_test3.pres_ano.values = xtest3"
   ]
  },
  {
   "cell_type": "code",
   "execution_count": 9,
   "metadata": {},
   "outputs": [],
   "source": [
    "df_train = df_test3.sel(time=slice(str(y_train.index[0]),str(y_train.index[-1])),lat=slice(-25,25))\n",
    "df_test = df_test3.sel(time=slice(str(y_test.index[0]),str(y_test.index[-1])),lat=slice(-25,25))\n",
    "df_test2 = df_test3.sel(time=slice(str(y_test2.index[0]),str(y_test2.index[-1])),lat=slice(-25,25))"
   ]
  },
  {
   "cell_type": "code",
   "execution_count": 10,
   "metadata": {},
   "outputs": [
    {
     "data": {
      "text/plain": [
       "(array([  74591.,   44148.,   57687.,   77589.,  106691.,  148678.,\n",
       "         212110.,  302398.,  425219.,  586347.,  794552., 1045029.,\n",
       "        1344688., 1687650., 2052317., 2428715., 2790961., 3110623.,\n",
       "        3338008., 3455591., 3460455., 3353842., 3147850., 2857038.,\n",
       "        2503508., 2114656., 1704231., 1311135.,  962793.,  675383.,\n",
       "         445767.,  279033.,  170266.,  107873.,  116318.]),\n",
       " array([0.        , 0.02857143, 0.05714286, 0.0857143 , 0.11428573,\n",
       "        0.14285716, 0.17142859, 0.20000002, 0.22857146, 0.2571429 ,\n",
       "        0.28571433, 0.31428576, 0.34285718, 0.3714286 , 0.40000004,\n",
       "        0.4285715 , 0.45714292, 0.48571435, 0.5142858 , 0.5428572 ,\n",
       "        0.57142866, 0.6000001 , 0.6285715 , 0.65714294, 0.68571436,\n",
       "        0.7142858 , 0.7428572 , 0.77142864, 0.8000001 , 0.8285715 ,\n",
       "        0.857143  , 0.8857144 , 0.91428584, 0.94285727, 0.9714287 ,\n",
       "        1.0000001 ], dtype=float32),\n",
       " <a list of 35 Patch objects>)"
      ]
     },
     "execution_count": 10,
     "metadata": {},
     "output_type": "execute_result"
    },
    {
     "data": {
      "image/png": "[encoded data removed]",
      "text/plain": [
       "<Figure size 432x288 with 1 Axes>"
      ]
     },
     "metadata": {
      "needs_background": "light"
     },
     "output_type": "display_data"
    }
   ],
   "source": [
    "plt.hist(xtest3.flatten(),bins=35)"
   ]
  },
  {
   "cell_type": "code",
   "execution_count": 11,
   "metadata": {},
   "outputs": [],
   "source": [
    "xtrain = df_train.pres_ano.values[:,:,:,None]\n",
    "xtest  = df_test.pres_ano.values[:,:,:,None]\n",
    "xtest2  = df_test2.pres_ano.values[:,:,:,None]\n",
    "xtest3 = df_test3.pres_ano.values[:,:,:,None]"
   ]
  },
  {
   "cell_type": "code",
   "execution_count": 12,
   "metadata": {},
   "outputs": [
    {
     "data": {
      "text/plain": [
       "((10839, 13, 90, 1), (1266, 13, 90, 1), (10839, 1), (1266, 1))"
      ]
     },
     "execution_count": 12,
     "metadata": {},
     "output_type": "execute_result"
    }
   ],
   "source": [
    "xtrain.shape,xtest.shape,y_train.shape,y_test.shape"
   ]
  },
  {
   "cell_type": "code",
   "execution_count": 13,
   "metadata": {},
   "outputs": [],
   "source": [
    "batch_size = 100\n",
    "#num_classes = 10\n",
    "epochs = 60\n",
    "data_augmentation = True"
   ]
  },
  {
   "cell_type": "code",
   "execution_count": 14,
   "metadata": {},
   "outputs": [
    {
     "name": "stderr",
     "output_type": "stream",
     "text": [
      "Using TensorFlow backend.\n"
     ]
    }
   ],
   "source": [
    "import keras\n",
    "#from keras.datasets import cifar10\n",
    "from keras.preprocessing.image import ImageDataGenerator\n",
    "from keras.models import Sequential\n",
    "from keras.layers import Dense, Dropout, Activation, Flatten\n",
    "from keras.layers import Conv2D, MaxPooling2D\n",
    "import os\n",
    "\n",
    "\n",
    "model = Sequential()\n",
    "model.add(Conv2D(64*2, (2, 2), padding='same',\n",
    "                 input_shape=xtrain.shape[1:]))\n",
    "model.add(Activation('relu'))\n",
    "model.add(Conv2D(64*2, (2, 2)))\n",
    "model.add(Activation('relu'))\n",
    "model.add(Conv2D(64*2, (2, 2)))\n",
    "model.add(Activation('relu'))\n",
    "model.add(Conv2D(64*2, (2, 2)))\n",
    "model.add(Activation('relu'))\n",
    "model.add(MaxPooling2D(pool_size=(1, 1)))\n",
    "model.add(Dropout(0.25))\n",
    "\n",
    "model.add(Conv2D(64*2, (2, 2), padding='same'))\n",
    "model.add(Activation('relu'))\n",
    "model.add(Conv2D(64*2, (2, 2)))\n",
    "model.add(Activation('relu'))\n",
    "model.add(MaxPooling2D(pool_size=(1, 1)))\n",
    "model.add(Dropout(0.25))\n",
    "\n",
    "model.add(Flatten())\n",
    "model.add(Dense(512))\n",
    "model.add(Activation('relu'))\n",
    "model.add(Dropout(0.5))\n",
    "model.add(Dense(1))\n",
    "model.add(Activation('linear'))\n",
    "\n",
    "# initiate Adam optimizer\n",
    "opt = keras.optimizers.Adam(learning_rate=0.0001, decay=1e-6)\n",
    "\n",
    "# Let's train the model using RMSprop\n",
    "model.compile(loss='mae',optimizer=opt)"
   ]
  },
  {
   "cell_type": "code",
   "execution_count": 15,
   "metadata": {},
   "outputs": [
    {
     "name": "stdout",
     "output_type": "stream",
     "text": [
      "Model: \"sequential_1\"\n",
      "_________________________________________________________________\n",
      "Layer (type)                 Output Shape              Param #   \n",
      "=================================================================\n",
      "conv2d_1 (Conv2D)            (None, 13, 90, 128)       640       \n",
      "_________________________________________________________________\n",
      "activation_1 (Activation)    (None, 13, 90, 128)       0         \n",
      "_________________________________________________________________\n",
      "conv2d_2 (Conv2D)            (None, 12, 89, 128)       65664     \n",
      "_________________________________________________________________\n",
      "activation_2 (Activation)    (None, 12, 89, 128)       0         \n",
      "_________________________________________________________________\n",
      "conv2d_3 (Conv2D)            (None, 11, 88, 128)       65664     \n",
      "_________________________________________________________________\n",
      "activation_3 (Activation)    (None, 11, 88, 128)       0         \n",
      "_________________________________________________________________\n",
      "conv2d_4 (Conv2D)            (None, 10, 87, 128)       65664     \n",
      "_________________________________________________________________\n",
      "activation_4 (Activation)    (None, 10, 87, 128)       0         \n",
      "_________________________________________________________________\n",
      "max_pooling2d_1 (MaxPooling2 (None, 10, 87, 128)       0         \n",
      "_________________________________________________________________\n",
      "dropout_1 (Dropout)          (None, 10, 87, 128)       0         \n",
      "_________________________________________________________________\n",
      "conv2d_5 (Conv2D)            (None, 10, 87, 128)       65664     \n",
      "_________________________________________________________________\n",
      "activation_5 (Activation)    (None, 10, 87, 128)       0         \n",
      "_________________________________________________________________\n",
      "conv2d_6 (Conv2D)            (None, 9, 86, 128)        65664     \n",
      "_________________________________________________________________\n",
      "activation_6 (Activation)    (None, 9, 86, 128)        0         \n",
      "_________________________________________________________________\n",
      "max_pooling2d_2 (MaxPooling2 (None, 9, 86, 128)        0         \n",
      "_________________________________________________________________\n",
      "dropout_2 (Dropout)          (None, 9, 86, 128)        0         \n",
      "_________________________________________________________________\n",
      "flatten_1 (Flatten)          (None, 99072)             0         \n",
      "_________________________________________________________________\n",
      "dense_1 (Dense)              (None, 512)               50725376  \n",
      "_________________________________________________________________\n",
      "activation_7 (Activation)    (None, 512)               0         \n",
      "_________________________________________________________________\n",
      "dropout_3 (Dropout)          (None, 512)               0         \n",
      "_________________________________________________________________\n",
      "dense_2 (Dense)              (None, 1)                 513       \n",
      "_________________________________________________________________\n",
      "activation_8 (Activation)    (None, 1)                 0         \n",
      "=================================================================\n",
      "Total params: 51,054,849\n",
      "Trainable params: 51,054,849\n",
      "Non-trainable params: 0\n",
      "_________________________________________________________________\n"
     ]
    }
   ],
   "source": [
    "model.summary()"
   ]
  },
  {
   "cell_type": "code",
   "execution_count": 16,
   "metadata": {},
   "outputs": [],
   "source": [
    "xtrain1 = xtrain *1 #xtrain.astype('float32')\n",
    "xtest1 = xtest *1 #xtest.astype('float32')\n",
    "xtest2 = xtest2*1 #.astype('float32')\n",
    "\n",
    "xtest3 = xtest3*1 #.astype('float32')\n",
    "\n",
    "ytrain1 = train_y *1#y_train.values.astype('float32')\n",
    "ytest1  = test_y *1 #y_test.values.astype('float32')\n",
    "ytest2  = test_y2*1  #y_test2.values.astype('float32')"
   ]
  },
  {
   "cell_type": "code",
   "execution_count": 17,
   "metadata": {},
   "outputs": [
    {
     "name": "stdout",
     "output_type": "stream",
     "text": [
      "Using real-time data augmentation.\n",
      "Epoch 1/60\n",
      "109/109 [==============================] - 77s 702ms/step - loss: 0.1374 - val_loss: 0.1207\n",
      "Epoch 2/60\n",
      "109/109 [==============================] - 99s 912ms/step - loss: 0.1048 - val_loss: 0.1035\n",
      "Epoch 3/60\n",
      "109/109 [==============================] - 100s 920ms/step - loss: 0.0966 - val_loss: 0.0804\n",
      "Epoch 4/60\n",
      "109/109 [==============================] - 100s 917ms/step - loss: 0.0948 - val_loss: 0.0805\n",
      "Epoch 5/60\n",
      "109/109 [==============================] - 101s 924ms/step - loss: 0.0935 - val_loss: 0.0895\n",
      "Epoch 6/60\n",
      "109/109 [==============================] - 100s 919ms/step - loss: 0.0939 - val_loss: 0.0914\n",
      "Epoch 7/60\n",
      "109/109 [==============================] - 99s 908ms/step - loss: 0.0922 - val_loss: 0.0772\n",
      "Epoch 8/60\n",
      "109/109 [==============================] - 98s 902ms/step - loss: 0.0911 - val_loss: 0.0750\n",
      "Epoch 9/60\n",
      "109/109 [==============================] - 98s 897ms/step - loss: 0.0909 - val_loss: 0.0737\n",
      "Epoch 10/60\n",
      "109/109 [==============================] - 98s 899ms/step - loss: 0.0911 - val_loss: 0.0796\n",
      "Epoch 11/60\n",
      "109/109 [==============================] - 98s 900ms/step - loss: 0.0919 - val_loss: 0.0777\n",
      "Epoch 12/60\n",
      "109/109 [==============================] - 99s 910ms/step - loss: 0.0906 - val_loss: 0.0810\n",
      "Epoch 13/60\n",
      "109/109 [==============================] - 100s 919ms/step - loss: 0.0909 - val_loss: 0.0777\n",
      "Epoch 14/60\n",
      "109/109 [==============================] - 99s 911ms/step - loss: 0.0894 - val_loss: 0.0768\n",
      "Epoch 15/60\n",
      "109/109 [==============================] - 100s 917ms/step - loss: 0.0887 - val_loss: 0.0725\n",
      "Epoch 16/60\n",
      "109/109 [==============================] - 99s 912ms/step - loss: 0.0895 - val_loss: 0.0761\n",
      "Epoch 17/60\n",
      "109/109 [==============================] - 100s 916ms/step - loss: 0.0883 - val_loss: 0.0759\n",
      "Epoch 18/60\n",
      "109/109 [==============================] - 99s 909ms/step - loss: 0.0875 - val_loss: 0.0779\n",
      "Epoch 19/60\n",
      "109/109 [==============================] - 99s 904ms/step - loss: 0.0864 - val_loss: 0.0782\n",
      "Epoch 20/60\n",
      "109/109 [==============================] - 99s 906ms/step - loss: 0.0861 - val_loss: 0.0749\n",
      "Epoch 21/60\n",
      "109/109 [==============================] - 100s 914ms/step - loss: 0.0864 - val_loss: 0.0765\n",
      "Epoch 22/60\n",
      "109/109 [==============================] - 99s 908ms/step - loss: 0.0860 - val_loss: 0.0820\n",
      "Epoch 23/60\n",
      "109/109 [==============================] - 100s 915ms/step - loss: 0.0860 - val_loss: 0.0726\n",
      "Epoch 24/60\n",
      "109/109 [==============================] - 100s 918ms/step - loss: 0.0861 - val_loss: 0.0766\n",
      "Epoch 25/60\n",
      "109/109 [==============================] - 99s 907ms/step - loss: 0.0856 - val_loss: 0.0761\n",
      "Epoch 26/60\n",
      "109/109 [==============================] - 99s 905ms/step - loss: 0.0840 - val_loss: 0.0759\n",
      "Epoch 27/60\n",
      "109/109 [==============================] - 100s 916ms/step - loss: 0.0845 - val_loss: 0.0701\n",
      "Epoch 28/60\n",
      "109/109 [==============================] - 99s 910ms/step - loss: 0.0838 - val_loss: 0.0775\n",
      "Epoch 29/60\n",
      "109/109 [==============================] - 98s 902ms/step - loss: 0.0845 - val_loss: 0.0735\n",
      "Epoch 30/60\n",
      "109/109 [==============================] - 99s 905ms/step - loss: 0.0836 - val_loss: 0.0838\n",
      "Epoch 31/60\n",
      "109/109 [==============================] - 99s 909ms/step - loss: 0.0825 - val_loss: 0.0767\n",
      "Epoch 32/60\n",
      "109/109 [==============================] - 100s 918ms/step - loss: 0.0818 - val_loss: 0.0731\n",
      "Epoch 33/60\n",
      "109/109 [==============================] - 98s 903ms/step - loss: 0.0819 - val_loss: 0.0769\n",
      "Epoch 34/60\n",
      "109/109 [==============================] - 99s 907ms/step - loss: 0.0817 - val_loss: 0.0736\n",
      "Epoch 35/60\n",
      "109/109 [==============================] - 100s 915ms/step - loss: 0.0812 - val_loss: 0.0736\n",
      "Epoch 36/60\n",
      "109/109 [==============================] - 100s 915ms/step - loss: 0.0794 - val_loss: 0.0745\n",
      "Epoch 37/60\n",
      "109/109 [==============================] - 100s 915ms/step - loss: 0.0803 - val_loss: 0.0743\n",
      "Epoch 38/60\n",
      "109/109 [==============================] - 98s 902ms/step - loss: 0.0792 - val_loss: 0.0768\n",
      "Epoch 39/60\n",
      "109/109 [==============================] - 100s 914ms/step - loss: 0.0790 - val_loss: 0.0715\n",
      "Epoch 40/60\n",
      "109/109 [==============================] - 99s 906ms/step - loss: 0.0797 - val_loss: 0.0721\n",
      "Epoch 41/60\n",
      "109/109 [==============================] - 99s 908ms/step - loss: 0.0784 - val_loss: 0.0792\n",
      "Epoch 42/60\n",
      "109/109 [==============================] - 99s 911ms/step - loss: 0.0780 - val_loss: 0.0720\n",
      "Epoch 43/60\n",
      "109/109 [==============================] - 99s 905ms/step - loss: 0.0775 - val_loss: 0.0739\n",
      "Epoch 44/60\n",
      "109/109 [==============================] - 99s 912ms/step - loss: 0.0775 - val_loss: 0.0738\n",
      "Epoch 45/60\n",
      "109/109 [==============================] - 98s 902ms/step - loss: 0.0770 - val_loss: 0.0706\n",
      "Epoch 46/60\n",
      "109/109 [==============================] - 99s 909ms/step - loss: 0.0792 - val_loss: 0.0749\n",
      "Epoch 47/60\n",
      "109/109 [==============================] - 99s 904ms/step - loss: 0.0760 - val_loss: 0.0708\n",
      "Epoch 48/60\n",
      "109/109 [==============================] - 99s 913ms/step - loss: 0.0764 - val_loss: 0.0754\n",
      "Epoch 49/60\n",
      "109/109 [==============================] - 99s 907ms/step - loss: 0.0762 - val_loss: 0.0694\n",
      "Epoch 50/60\n",
      "109/109 [==============================] - 99s 907ms/step - loss: 0.0748 - val_loss: 0.0692\n",
      "Epoch 51/60\n",
      "109/109 [==============================] - 99s 908ms/step - loss: 0.0747 - val_loss: 0.0700\n",
      "Epoch 52/60\n",
      "109/109 [==============================] - 99s 906ms/step - loss: 0.0755 - val_loss: 0.0691\n",
      "Epoch 53/60\n",
      "109/109 [==============================] - 98s 903ms/step - loss: 0.0747 - val_loss: 0.0702\n",
      "Epoch 54/60\n",
      "109/109 [==============================] - 100s 914ms/step - loss: 0.0740 - val_loss: 0.0755\n",
      "Epoch 55/60\n",
      "109/109 [==============================] - 99s 909ms/step - loss: 0.0737 - val_loss: 0.0712\n",
      "Epoch 56/60\n",
      "109/109 [==============================] - 100s 917ms/step - loss: 0.0724 - val_loss: 0.0699\n",
      "Epoch 57/60\n",
      "109/109 [==============================] - 70s 640ms/step - loss: 0.0721 - val_loss: 0.0702\n",
      "Epoch 58/60\n",
      "109/109 [==============================] - 63s 582ms/step - loss: 0.0721 - val_loss: 0.0682\n",
      "Epoch 59/60\n",
      "109/109 [==============================] - 63s 580ms/step - loss: 0.0711 - val_loss: 0.0673\n",
      "Epoch 60/60\n",
      "109/109 [==============================] - 64s 587ms/step - loss: 0.0721 - val_loss: 0.0621\n"
     ]
    }
   ],
   "source": [
    "if not data_augmentation:\n",
    "    print('Not using data augmentation.')\n",
    "    model.fit(xtrain1, ytrain1,\n",
    "              batch_size=batch_size,\n",
    "              epochs=epochs,\n",
    "              validation_data=(xtest1, ytest1),\n",
    "              shuffle=False)\n",
    "else:\n",
    "    print('Using real-time data augmentation.')\n",
    "    # This will do preprocessing and realtime data augmentation:\n",
    "    datagen = ImageDataGenerator(\n",
    "        featurewise_center=False,  # set input mean to 0 over the dataset\n",
    "        samplewise_center=False,  # set each sample mean to 0\n",
    "        featurewise_std_normalization=False,  # divide inputs by std of the dataset\n",
    "        samplewise_std_normalization=False,  # divide each input by its std\n",
    "        zca_whitening=False,  # apply ZCA whitening\n",
    "        zca_epsilon=1e-06,  # epsilon for ZCA whitening\n",
    "        rotation_range=0,  # randomly rotate images in the range (degrees, 0 to 180)\n",
    "        # randomly shift images horizontally (fraction of total width)\n",
    "        width_shift_range=0.1,\n",
    "        # randomly shift images vertically (fraction of total height)\n",
    "        height_shift_range=0.1,\n",
    "        shear_range=0.,  # set range for random shear\n",
    "        zoom_range=0.,  # set range for random zoom\n",
    "        channel_shift_range=0.,  # set range for random channel shifts\n",
    "        # set mode for filling points outside the input boundaries\n",
    "        fill_mode='nearest',\n",
    "        cval=0.,  # value used for fill_mode = \"constant\"\n",
    "        horizontal_flip=True,  # randomly flip images\n",
    "        vertical_flip=False,  # randomly flip images\n",
    "        # set rescaling factor (applied before any other transformation)\n",
    "        rescale=None,\n",
    "        # set function that will be applied on each input\n",
    "        preprocessing_function=None,\n",
    "        # image data format, either \"channels_first\" or \"channels_last\"\n",
    "        data_format=None,\n",
    "        # fraction of images reserved for validation (strictly between 0 and 1)\n",
    "        validation_split=0.0)\n",
    "\n",
    "    # Compute quantities required for feature-wise normalization\n",
    "    # (std, mean, and principal components if ZCA whitening is applied).\n",
    "    datagen.fit(xtrain1)\n",
    "\n",
    "    # Fit the model on the batches generated by datagen.flow().\n",
    "    model.fit_generator(datagen.flow(xtrain1, ytrain1,\n",
    "                                     batch_size=batch_size),\n",
    "                        epochs=epochs,\n",
    "                        validation_data=(xtest1, ytest1),\n",
    "                        workers=4)"
   ]
  },
  {
   "cell_type": "code",
   "execution_count": 18,
   "metadata": {},
   "outputs": [
    {
     "data": {
      "text/plain": [
       "<matplotlib.legend.Legend at 0x2abbaa596710>"
      ]
     },
     "execution_count": 18,
     "metadata": {},
     "output_type": "execute_result"
    },
    {
     "data": {
      "image/png": "[encoded data removed]",
      "text/plain": [
       "<Figure size 432x288 with 1 Axes>"
      ]
     },
     "metadata": {
      "needs_background": "light"
     },
     "output_type": "display_data"
    }
   ],
   "source": [
    "#model.history.keys()\n",
    "\n",
    "plt.plot(model.history.history['loss'],'-*',label ='train')\n",
    "plt.plot(model.history.history['val_loss'],'-*',label ='test')\n",
    "plt.ylabel('MAE')\n",
    "plt.xlabel('No of Epochs')\n",
    "plt.legend()\n",
    "# plt.savefig('RMM2_history.png')"
   ]
  },
  {
   "cell_type": "markdown",
   "metadata": {},
   "source": [
    "## Correlation"
   ]
  },
  {
   "cell_type": "code",
   "execution_count": 22,
   "metadata": {},
   "outputs": [
    {
     "data": {
      "text/plain": [
       "<matplotlib.legend.Legend at 0x2abbf79a3910>"
      ]
     },
     "execution_count": 22,
     "metadata": {},
     "output_type": "execute_result"
    },
    {
     "data": {
      "image/png": "[encoded data removed]",
      "text/plain": [
       "<Figure size 864x288 with 2 Axes>"
      ]
     },
     "metadata": {
      "needs_background": "light"
     },
     "output_type": "display_data"
    }
   ],
   "source": [
    "yy_test = model.predict(xtest)\n",
    "yy_test = sc3.inverse_transform(yy_test)\n",
    "\n",
    "test_corr = np.corrcoef(yy_test[:,0],y_test.values[:,0])[0,1]\n",
    "yy_test   = yy_test[:,0]/yy_test[:,0].std()\n",
    "\n",
    "# print(\"test shape = \");print(predict2.shape)\n",
    "\n",
    "fig,ax = plt.subplots(1,2,figsize = (12,4))\n",
    "\n",
    "ax[0].plot(yy_test,y_test.values[:,0],'.')\n",
    "\n",
    "ax[0].set_title('corr = %f'%test_corr)\n",
    "\n",
    "bins = np.linspace(-4.0,4.0,41)\n",
    "\n",
    "ax[1].hist(y_test.values[:,0],bins,density=True,alpha=0.5,label='observed')\n",
    "ax[1].hist(yy_test,bins,density=True,alpha=0.5,label='modeled');\n",
    "plt.legend()"
   ]
  },
  {
   "cell_type": "code",
   "execution_count": 23,
   "metadata": {},
   "outputs": [
    {
     "data": {
      "text/plain": [
       "<matplotlib.legend.Legend at 0x2abbf7b69410>"
      ]
     },
     "execution_count": 23,
     "metadata": {},
     "output_type": "execute_result"
    },
    {
     "data": {
      "image/png": "[encoded data removed]",
      "text/plain": [
       "<Figure size 864x288 with 2 Axes>"
      ]
     },
     "metadata": {
      "needs_background": "light"
     },
     "output_type": "display_data"
    }
   ],
   "source": [
    "yy_test2 = model.predict(xtest2)\n",
    "yy_test2 = sc3.inverse_transform(yy_test2)\n",
    "\n",
    "test_corr2 = np.corrcoef(yy_test2[:,0],y_test2.values[:,0])[0,1]\n",
    "yy_test2   = yy_test2[:,0]/yy_test2[:,0].std()\n",
    "\n",
    "# print(\"test shape = \");print(predict2.shape)\n",
    "\n",
    "fig,ax = plt.subplots(1,2,figsize = (12,4))\n",
    "\n",
    "ax[0].plot(yy_test2,y_test2.values[:,0],'.')\n",
    "\n",
    "ax[0].set_title('corr = %f'%test_corr2)\n",
    "\n",
    "bins = np.linspace(-4.0,4.0,41)\n",
    "\n",
    "ax[1].hist(y_test2.values[:,0],bins,density=True,alpha=0.5,label='observed')\n",
    "ax[1].hist(yy_test2,bins,density=True,alpha=0.5,label='modeled');\n",
    "plt.legend()"
   ]
  },
  {
   "cell_type": "code",
   "execution_count": 24,
   "metadata": {},
   "outputs": [
    {
     "data": {
      "text/plain": [
       "<matplotlib.legend.Legend at 0x2abbf7d2f490>"
      ]
     },
     "execution_count": 24,
     "metadata": {},
     "output_type": "execute_result"
    },
    {
     "data": {
      "image/png": "[encoded data removed]",
      "text/plain": [
       "<Figure size 864x288 with 2 Axes>"
      ]
     },
     "metadata": {
      "needs_background": "light"
     },
     "output_type": "display_data"
    }
   ],
   "source": [
    "yy_train = model.predict(xtrain)\n",
    "yy_train = sc3.inverse_transform(yy_train)\n",
    "\n",
    "train_corr = np.corrcoef(yy_train[:,0],y_train.values[:,0])[0,1]\n",
    "yy_train   = yy_train[:,0]/yy_train[:,0].std()\n",
    "\n",
    "# print(\"train shape = \");print(predict2.shape)\n",
    "\n",
    "fig,ax = plt.subplots(1,2,figsize = (12,4))\n",
    "\n",
    "ax[0].plot(yy_train,y_train.values[:,0],'.')\n",
    "\n",
    "ax[0].set_title('corr = %f'%train_corr)\n",
    "\n",
    "bins = np.linspace(-4.0,4.0,41)\n",
    "\n",
    "ax[1].hist(y_train.values[:,0],bins,density=True,alpha=0.5,label='observed')\n",
    "ax[1].hist(yy_train,bins,density=True,alpha=0.5,label='modeled');\n",
    "plt.legend()"
   ]
  },
  {
   "cell_type": "code",
   "execution_count": 25,
   "metadata": {},
   "outputs": [],
   "source": [
    "rmm2 = model.predict(xtest3)\n",
    "rmm2   = sc3.inverse_transform(rmm2)"
   ]
  },
  {
   "cell_type": "code",
   "execution_count": 26,
   "metadata": {},
   "outputs": [],
   "source": [
    "rmm2 = pd.DataFrame(rmm2,index=pd.to_datetime(df_test3.time[:].values),columns=['rmm2'])"
   ]
  },
  {
   "cell_type": "code",
   "execution_count": 27,
   "metadata": {},
   "outputs": [
    {
     "data": {
      "text/plain": [
       "(array([1.400e+01, 2.400e+01, 9.400e+01, 1.420e+02, 2.680e+02, 4.160e+02,\n",
       "        7.090e+02, 1.106e+03, 1.477e+03, 2.170e+03, 2.565e+03, 2.951e+03,\n",
       "        3.141e+03, 3.399e+03, 3.525e+03, 3.179e+03, 2.868e+03, 2.548e+03,\n",
       "        2.216e+03, 1.798e+03, 1.514e+03, 1.257e+03, 9.380e+02, 7.680e+02,\n",
       "        5.090e+02, 3.120e+02, 2.000e+02, 1.460e+02, 7.700e+01, 3.800e+01,\n",
       "        2.600e+01, 1.300e+01, 8.000e+00, 2.000e+00, 4.000e+00]),\n",
       " array([-2.4653902 , -2.2983773 , -2.1313646 , -1.9643517 , -1.7973388 ,\n",
       "        -1.6303259 , -1.4633131 , -1.2963002 , -1.1292874 , -0.9622745 ,\n",
       "        -0.7952617 , -0.6282488 , -0.46123594, -0.2942231 , -0.12721023,\n",
       "         0.03980262,  0.20681548,  0.37382832,  0.54084116,  0.70785403,\n",
       "         0.8748669 ,  1.0418798 ,  1.2088926 ,  1.3759055 ,  1.5429183 ,\n",
       "         1.7099311 ,  1.8769441 ,  2.043957  ,  2.2109697 ,  2.3779826 ,\n",
       "         2.5449955 ,  2.7120082 ,  2.8790212 ,  3.046034  ,  3.2130468 ,\n",
       "         3.3800597 ], dtype=float32),\n",
       " <a list of 35 Patch objects>)"
      ]
     },
     "execution_count": 27,
     "metadata": {},
     "output_type": "execute_result"
    },
    {
     "data": {
      "image/png": "[encoded data removed]",
      "text/plain": [
       "<Figure size 432x288 with 1 Axes>"
      ]
     },
     "metadata": {
      "needs_background": "light"
     },
     "output_type": "display_data"
    }
   ],
   "source": [
    "plt.hist(rmm2.rmm2,bins=35)"
   ]
  },
  {
   "cell_type": "code",
   "execution_count": 28,
   "metadata": {},
   "outputs": [],
   "source": [
    "rmm2.to_csv('test_rmm2.csv')"
   ]
  },
  {
   "cell_type": "code",
   "execution_count": null,
   "metadata": {},
   "outputs": [],
   "source": [
    "plt.plot(rmm2.rmm2)\n",
    "plt.axhline(3)\n",
    "plt.axhline(-3)"
   ]
  },
  {
   "cell_type": "code",
   "execution_count": null,
   "metadata": {},
   "outputs": [],
   "source": [
    "# model.save(\"deep_CNN_rmm2_minmaxscalar_batchsize_100_woymnmx.h5\")\n",
    "# print(\"Saved model to disk\")"
   ]
  },
  {
   "cell_type": "code",
   "execution_count": null,
   "metadata": {},
   "outputs": [],
   "source": [
    "rmm2"
   ]
  },
  {
   "cell_type": "code",
   "execution_count": null,
   "metadata": {},
   "outputs": [],
   "source": []
  }
 ],
 "metadata": {
  "kernelspec": {
   "display_name": "Python 3",
   "language": "python",
   "name": "python3"
  },
  "language_info": {
   "codemirror_mode": {
    "name": "ipython",
    "version": 3
   },
   "file_extension": ".py",
   "mimetype": "text/x-python",
   "name": "python",
   "nbconvert_exporter": "python",
   "pygments_lexer": "ipython3",
   "version": "3.7.5"
  }
 },
 "nbformat": 4,
 "nbformat_minor": 2
}
