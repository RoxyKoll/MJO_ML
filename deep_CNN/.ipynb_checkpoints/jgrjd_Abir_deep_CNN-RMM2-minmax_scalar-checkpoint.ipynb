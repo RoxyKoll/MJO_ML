{
 "cells": [
  {
   "cell_type": "markdown",
   "metadata": {},
   "source": [
    "## RMM2"
   ]
  },
  {
   "cell_type": "code",
   "execution_count": 1,
   "metadata": {},
   "outputs": [
    {
     "name": "stdout",
     "output_type": "stream",
     "text": [
      "/home/cccr/supriyo/panini/filtered_data/historical/JGRJD/deep_CNN\r\n"
     ]
    }
   ],
   "source": [
    "!pwd"
   ]
  },
  {
   "cell_type": "code",
   "execution_count": 2,
   "metadata": {},
   "outputs": [],
   "source": [
    "import numpy as np\n",
    "import pandas as pd"
   ]
  },
  {
   "cell_type": "code",
   "execution_count": 3,
   "metadata": {},
   "outputs": [],
   "source": [
    "import xarray as xr\n",
    "import hilbert_data1_jgrjd_20CRV3\n",
    "import datetime\n",
    "import matplotlib.pyplot as plt"
   ]
  },
  {
   "cell_type": "code",
   "execution_count": 4,
   "metadata": {},
   "outputs": [],
   "source": [
    "df = xr.open_dataset('trop_sfc.ano_1905-2015_filtered_rm_mean120.2deg.nc')\n"
   ]
  },
  {
   "cell_type": "code",
   "execution_count": 7,
   "metadata": {},
   "outputs": [],
   "source": [
    "# !ncdump -h trop_sfc.ano_1905-2015_filtered_rm_mean120.2deg.nc"
   ]
  },
  {
   "cell_type": "code",
   "execution_count": 8,
   "metadata": {},
   "outputs": [
    {
     "data": {
      "text/html": [
       "<pre>&lt;xarray.Dataset&gt;\n",
       "Dimensions:   (lat: 30, lon: 180, time: 40422)\n",
       "Coordinates:\n",
       "  * time      (time) datetime64[ns] 1905-05-01 1905-05-02 ... 2015-12-31\n",
       "  * lon       (lon) float64 0.0 2.0 4.0 6.0 8.0 ... 352.0 354.0 356.0 358.0\n",
       "  * lat       (lat) float64 -29.0 -27.0 -25.0 -23.0 ... 23.0 25.0 27.0 29.0\n",
       "Data variables:\n",
       "    pres_ano  (time, lat, lon) float32 ...\n",
       "Attributes:\n",
       "    CDI:          Climate Data Interface version 1.9.7.1 (http://mpimet.mpg.d...\n",
       "    Conventions:  CF-1.6\n",
       "    history:      Mon Jan 20 23:20:30 2020: cdo -O -sellonlatbox,0,360,-30,30...\n",
       "    CDO:          Climate Data Operators version 1.9.7.1 (http://mpimet.mpg.d...</pre>"
      ],
      "text/plain": [
       "<xarray.Dataset>\n",
       "Dimensions:   (lat: 30, lon: 180, time: 40422)\n",
       "Coordinates:\n",
       "  * time      (time) datetime64[ns] 1905-05-01 1905-05-02 ... 2015-12-31\n",
       "  * lon       (lon) float64 0.0 2.0 4.0 6.0 8.0 ... 352.0 354.0 356.0 358.0\n",
       "  * lat       (lat) float64 -29.0 -27.0 -25.0 -23.0 ... 23.0 25.0 27.0 29.0\n",
       "Data variables:\n",
       "    pres_ano  (time, lat, lon) float32 ...\n",
       "Attributes:\n",
       "    CDI:          Climate Data Interface version 1.9.7.1 (http://mpimet.mpg.d...\n",
       "    Conventions:  CF-1.6\n",
       "    history:      Mon Jan 20 23:20:30 2020: cdo -O -sellonlatbox,0,360,-30,30...\n",
       "    CDO:          Climate Data Operators version 1.9.7.1 (http://mpimet.mpg.d..."
      ]
     },
     "execution_count": 8,
     "metadata": {},
     "output_type": "execute_result"
    }
   ],
   "source": [
    "df"
   ]
  },
  {
   "cell_type": "code",
   "execution_count": 9,
   "metadata": {},
   "outputs": [],
   "source": [
    "_,_,y_train = hilbert_data1_jgrjd_20CRV3.data_hilbert(datetime.datetime(1979,1,1),datetime.datetime(2008,12,31))\n",
    "_,_,y_test = hilbert_data1_jgrjd_20CRV3.data_hilbert(datetime.datetime(1974,6,1),datetime.datetime(1978,3,16))"
   ]
  },
  {
   "cell_type": "code",
   "execution_count": 10,
   "metadata": {},
   "outputs": [
    {
     "data": {
      "text/plain": [
       "(Timestamp('1974-09-28 00:00:00'), Timestamp('2008-12-31 00:00:00'))"
      ]
     },
     "execution_count": 10,
     "metadata": {},
     "output_type": "execute_result"
    }
   ],
   "source": [
    "y_test.index[0],y_train.index[-1]"
   ]
  },
  {
   "cell_type": "code",
   "execution_count": 11,
   "metadata": {},
   "outputs": [],
   "source": [
    "df_train = df.sel(time=slice(str(y_train.index[0]),str(y_train.index[-1])),lat=slice(-25,25))\n",
    "df_test = df.sel(time=slice(str(y_test.index[0]),str(y_test.index[-1])),lat=slice(-25,25))\n",
    "df_test3 = df.sel(lat=slice(-25,25))\n"
   ]
  },
  {
   "cell_type": "code",
   "execution_count": 12,
   "metadata": {},
   "outputs": [],
   "source": [
    "x_train = df_train.pres_ano.values[:,:,:]\n",
    "x_test  = df_test.pres_ano.values[:,:,:]\n",
    "x_test3 = df_test3.pres_ano.values[:,:,:]"
   ]
  },
  {
   "cell_type": "code",
   "execution_count": 13,
   "metadata": {},
   "outputs": [],
   "source": [
    "ff = x_train.flatten()"
   ]
  },
  {
   "cell_type": "code",
   "execution_count": 14,
   "metadata": {},
   "outputs": [
    {
     "data": {
      "text/plain": [
       "(array([2.0000000e+00, 1.0000000e+00, 4.0000000e+00, 4.0000000e+00,\n",
       "        1.5000000e+01, 2.1000000e+01, 2.6000000e+01, 3.2000000e+01,\n",
       "        6.7000000e+01, 1.4000000e+02, 2.2500000e+02, 3.7100000e+02,\n",
       "        6.8200000e+02, 1.1500000e+03, 2.0940000e+03, 4.0830000e+03,\n",
       "        8.5180000e+03, 1.8280000e+04, 4.3857000e+04, 1.1518500e+05,\n",
       "        3.4013600e+05, 1.1805730e+06, 5.6656560e+06, 2.0502651e+07,\n",
       "        1.7715220e+07, 4.1380890e+06, 7.8104800e+05, 1.6396800e+05,\n",
       "        3.4470000e+04, 7.3640000e+03, 1.6850000e+03, 5.6100000e+02,\n",
       "        2.3800000e+02, 8.9000000e+01, 1.5000000e+01]),\n",
       " array([-3403.639   , -3261.1016  , -3118.5642  , -2976.0269  ,\n",
       "        -2833.4893  , -2690.952   , -2548.4146  , -2405.8772  ,\n",
       "        -2263.3398  , -2120.8025  , -1978.265   , -1835.7277  ,\n",
       "        -1693.1903  , -1550.653   , -1408.1155  , -1265.5781  ,\n",
       "        -1123.0408  ,  -980.50336 ,  -837.966   ,  -695.4286  ,\n",
       "         -552.89124 ,  -410.35382 ,  -267.81644 ,  -125.27906 ,\n",
       "           17.258322,   159.7957  ,   302.3331  ,   444.87048 ,\n",
       "          587.40784 ,   729.94525 ,   872.4826  ,  1015.02    ,\n",
       "         1157.5574  ,  1300.0947  ,  1442.6322  ,  1585.1696  ],\n",
       "       dtype=float32),\n",
       " <a list of 35 Patch objects>)"
      ]
     },
     "execution_count": 14,
     "metadata": {},
     "output_type": "execute_result"
    },
    {
     "data": {
      "image/png": "[encoded data removed]",
      "text/plain": [
       "<Figure size 432x288 with 1 Axes>"
      ]
     },
     "metadata": {
      "needs_background": "light"
     },
     "output_type": "display_data"
    }
   ],
   "source": [
    "plt.hist(ff,bins=35)"
   ]
  },
  {
   "cell_type": "raw",
   "metadata": {},
   "source": [
    "from sklearn.preprocessing import MinMaxScaler\n",
    "\n",
    "sc3 = MinMaxScaler()\n",
    "sc5 = MinMaxScaler()\n",
    "\n",
    "#sc5.fit(xtest[:])\n",
    "\n",
    "#test_x3 =  sc5.transform(x_test3[:])\n",
    "#train_x = sc5.transform(xtrain[:])\n",
    "#test_x  = sc5.transform(xtest[:])\n",
    "\n",
    "\n",
    "sc3.fit(y_train[:])\n",
    "\n",
    "train_y = sc3.transform(y_train)\n",
    "test_y  = sc3.transform(y_test)\n",
    "\n",
    "#train_x.max(),test_x.max(),test_x3.max(),train_y.max(),test_y.max()"
   ]
  },
  {
   "cell_type": "code",
   "execution_count": 15,
   "metadata": {},
   "outputs": [
    {
     "data": {
      "text/html": [
       "<pre>&lt;xarray.Dataset&gt;\n",
       "Dimensions:   (lat: 30, lon: 180, time: 40422)\n",
       "Coordinates:\n",
       "  * time      (time) datetime64[ns] 1905-05-01 1905-05-02 ... 2015-12-31\n",
       "  * lon       (lon) float64 0.0 2.0 4.0 6.0 8.0 ... 352.0 354.0 356.0 358.0\n",
       "  * lat       (lat) float64 -29.0 -27.0 -25.0 -23.0 ... 23.0 25.0 27.0 29.0\n",
       "Data variables:\n",
       "    pres_ano  (time, lat, lon) float32 ...\n",
       "Attributes:\n",
       "    CDI:          Climate Data Interface version 1.9.7.1 (http://mpimet.mpg.d...\n",
       "    Conventions:  CF-1.6\n",
       "    history:      Mon Jan 20 23:20:30 2020: cdo -O -sellonlatbox,0,360,-30,30...\n",
       "    CDO:          Climate Data Operators version 1.9.7.1 (http://mpimet.mpg.d...</pre>"
      ],
      "text/plain": [
       "<xarray.Dataset>\n",
       "Dimensions:   (lat: 30, lon: 180, time: 40422)\n",
       "Coordinates:\n",
       "  * time      (time) datetime64[ns] 1905-05-01 1905-05-02 ... 2015-12-31\n",
       "  * lon       (lon) float64 0.0 2.0 4.0 6.0 8.0 ... 352.0 354.0 356.0 358.0\n",
       "  * lat       (lat) float64 -29.0 -27.0 -25.0 -23.0 ... 23.0 25.0 27.0 29.0\n",
       "Data variables:\n",
       "    pres_ano  (time, lat, lon) float32 ...\n",
       "Attributes:\n",
       "    CDI:          Climate Data Interface version 1.9.7.1 (http://mpimet.mpg.d...\n",
       "    Conventions:  CF-1.6\n",
       "    history:      Mon Jan 20 23:20:30 2020: cdo -O -sellonlatbox,0,360,-30,30...\n",
       "    CDO:          Climate Data Operators version 1.9.7.1 (http://mpimet.mpg.d..."
      ]
     },
     "execution_count": 15,
     "metadata": {},
     "output_type": "execute_result"
    }
   ],
   "source": [
    "df"
   ]
  },
  {
   "cell_type": "code",
   "execution_count": 16,
   "metadata": {},
   "outputs": [
    {
     "data": {
      "text/plain": [
       "(Timestamp('1979-04-30 00:00:00'), Timestamp('2008-12-31 00:00:00'))"
      ]
     },
     "execution_count": 16,
     "metadata": {},
     "output_type": "execute_result"
    }
   ],
   "source": [
    "y_train.index[0],y_train.index[-1]"
   ]
  },
  {
   "cell_type": "code",
   "execution_count": 17,
   "metadata": {},
   "outputs": [
    {
     "data": {
      "text/plain": [
       "(<xarray.DataArray 'pres_ano' ()>\n",
       " array(-314.896912)\n",
       " Coordinates:\n",
       "     time     datetime64[ns] 1979-04-30\n",
       "     lon      float64 20.0\n",
       "     lat      float64 -27.0\n",
       " Attributes:\n",
       "     standard_name:     air_pressure\n",
       "     long_name:         daily mean 3-hourly Pressure at Surface\n",
       "     units:             Pa\n",
       "     GRIB_name:         PRES\n",
       "     var_desc:          Pressure\n",
       "     level_desc:        Surface\n",
       "     statistic:         Mean\n",
       "     parent_stat:       Individual Obs\n",
       "     statistic_method:  Ensemble mean is calculated by averaging over all 80 e...\n",
       "     GridType:          Cylindrical Equidistant Projection Grid\n",
       "     datum:             wgs84\n",
       "     dataset:           NOAA/CIRES/DOE 20th Century Reanalysis version 3si Dai...\n",
       "     actual_range:      [ 51448.953 104290.52 ],\n",
       " <xarray.DataArray 'pres_ano' ()>\n",
       " array(-210.264709)\n",
       " Coordinates:\n",
       "     time     datetime64[ns] 2008-12-31\n",
       "     lon      float64 20.0\n",
       "     lat      float64 -27.0\n",
       " Attributes:\n",
       "     standard_name:     air_pressure\n",
       "     long_name:         daily mean 3-hourly Pressure at Surface\n",
       "     units:             Pa\n",
       "     GRIB_name:         PRES\n",
       "     var_desc:          Pressure\n",
       "     level_desc:        Surface\n",
       "     statistic:         Mean\n",
       "     parent_stat:       Individual Obs\n",
       "     statistic_method:  Ensemble mean is calculated by averaging over all 80 e...\n",
       "     GridType:          Cylindrical Equidistant Projection Grid\n",
       "     datum:             wgs84\n",
       "     dataset:           NOAA/CIRES/DOE 20th Century Reanalysis version 3si Dai...\n",
       "     actual_range:      [ 51448.953 104290.52 ])"
      ]
     },
     "execution_count": 17,
     "metadata": {},
     "output_type": "execute_result"
    }
   ],
   "source": [
    "df.pres_ano[27027,1,10],df.pres_ano[37865,1,10]"
   ]
  },
  {
   "cell_type": "code",
   "execution_count": 18,
   "metadata": {},
   "outputs": [
    {
     "data": {
      "text/plain": [
       "(Timestamp('1974-09-28 00:00:00'), Timestamp('1978-03-16 00:00:00'))"
      ]
     },
     "execution_count": 18,
     "metadata": {},
     "output_type": "execute_result"
    }
   ],
   "source": [
    "y_test.index[0],y_test.index[-1]"
   ]
  },
  {
   "cell_type": "code",
   "execution_count": 19,
   "metadata": {},
   "outputs": [
    {
     "data": {
      "text/plain": [
       "(<xarray.DataArray 'pres_ano' ()>\n",
       " array(-77.605286)\n",
       " Coordinates:\n",
       "     time     datetime64[ns] 1974-09-28\n",
       "     lon      float64 20.0\n",
       "     lat      float64 -27.0\n",
       " Attributes:\n",
       "     standard_name:     air_pressure\n",
       "     long_name:         daily mean 3-hourly Pressure at Surface\n",
       "     units:             Pa\n",
       "     GRIB_name:         PRES\n",
       "     var_desc:          Pressure\n",
       "     level_desc:        Surface\n",
       "     statistic:         Mean\n",
       "     parent_stat:       Individual Obs\n",
       "     statistic_method:  Ensemble mean is calculated by averaging over all 80 e...\n",
       "     GridType:          Cylindrical Equidistant Projection Grid\n",
       "     datum:             wgs84\n",
       "     dataset:           NOAA/CIRES/DOE 20th Century Reanalysis version 3si Dai...\n",
       "     actual_range:      [ 51448.953 104290.52 ],\n",
       " <xarray.DataArray 'pres_ano' ()>\n",
       " array(74.887344)\n",
       " Coordinates:\n",
       "     time     datetime64[ns] 1978-03-16\n",
       "     lon      float64 20.0\n",
       "     lat      float64 -27.0\n",
       " Attributes:\n",
       "     standard_name:     air_pressure\n",
       "     long_name:         daily mean 3-hourly Pressure at Surface\n",
       "     units:             Pa\n",
       "     GRIB_name:         PRES\n",
       "     var_desc:          Pressure\n",
       "     level_desc:        Surface\n",
       "     statistic:         Mean\n",
       "     parent_stat:       Individual Obs\n",
       "     statistic_method:  Ensemble mean is calculated by averaging over all 80 e...\n",
       "     GridType:          Cylindrical Equidistant Projection Grid\n",
       "     datum:             wgs84\n",
       "     dataset:           NOAA/CIRES/DOE 20th Century Reanalysis version 3si Dai...\n",
       "     actual_range:      [ 51448.953 104290.52 ])"
      ]
     },
     "execution_count": 19,
     "metadata": {},
     "output_type": "execute_result"
    }
   ],
   "source": [
    "df.pres_ano[25352,1,10],df.pres_ano[26617,1,10]"
   ]
  },
  {
   "cell_type": "code",
   "execution_count": 20,
   "metadata": {},
   "outputs": [
    {
     "data": {
      "text/plain": [
       "((10839, 26, 180), (40422, 26, 180), (1266, 26, 180))"
      ]
     },
     "execution_count": 20,
     "metadata": {},
     "output_type": "execute_result"
    }
   ],
   "source": [
    "x_train.shape,x_test3.shape,x_test.shape"
   ]
  },
  {
   "cell_type": "code",
   "execution_count": 21,
   "metadata": {},
   "outputs": [],
   "source": [
    "x_test3_ = x_test3.copy()\n",
    "x_test3_ = x_test3_.reshape(x_test3_.shape[0],x_test3_.shape[1]*x_test3_.shape[2])"
   ]
  },
  {
   "cell_type": "code",
   "execution_count": 22,
   "metadata": {},
   "outputs": [],
   "source": [
    "from sklearn.preprocessing import MinMaxScaler\n",
    "xtest3 = x_test3.copy()\n",
    "#xtrain  = \n",
    "scalers = {}\n",
    "for i in range(xtest3.shape[0]):\n",
    "    scalers = MinMaxScaler()\n",
    "    ff = xtest3[i,:,:].reshape(26*180,1)\n",
    "    scalers.fit(ff)\n",
    "    xtest3[i,:,:] = np.reshape(scalers.fit_transform(ff),(26,180))\n",
    "    #xtrain[i,:,:] = scalers[i].fit_transform(xtrain[:, i, :]) \n",
    "\n",
    "#for i in range(xtest.shape[1]):\n",
    "#    xtest[:, i, :] = scalers[i].transform(xtest[:, i, :]) "
   ]
  },
  {
   "cell_type": "code",
   "execution_count": 23,
   "metadata": {},
   "outputs": [
    {
     "data": {
      "text/plain": [
       "(array([  137516.,   122466.,   171443.,   245845.,   352165.,   503740.,\n",
       "          723067.,  1054778.,  1512104.,  2132549.,  2947665.,  3915622.,\n",
       "         5122327.,  6530521.,  8013879.,  9551170., 11021248., 12408771.,\n",
       "        13389579., 13919640., 14031313., 13714353., 12917899., 11751742.,\n",
       "        10353884.,  8811229.,  7173612.,  5545222.,  4103894.,  2853788.,\n",
       "         1836091.,  1100394.,   609390.,   340220.,   255834.]),\n",
       " array([0.        , 0.02857143, 0.05714286, 0.0857143 , 0.11428573,\n",
       "        0.14285716, 0.17142859, 0.20000002, 0.22857146, 0.2571429 ,\n",
       "        0.28571433, 0.31428576, 0.34285718, 0.3714286 , 0.40000004,\n",
       "        0.4285715 , 0.45714292, 0.48571435, 0.5142858 , 0.5428572 ,\n",
       "        0.57142866, 0.6000001 , 0.6285715 , 0.65714294, 0.68571436,\n",
       "        0.7142858 , 0.7428572 , 0.77142864, 0.8000001 , 0.8285715 ,\n",
       "        0.857143  , 0.8857144 , 0.91428584, 0.94285727, 0.9714287 ,\n",
       "        1.0000001 ], dtype=float32),\n",
       " <a list of 35 Patch objects>)"
      ]
     },
     "execution_count": 23,
     "metadata": {},
     "output_type": "execute_result"
    },
    {
     "data": {
      "image/png": "[encoded data removed]",
      "text/plain": [
       "<Figure size 432x288 with 1 Axes>"
      ]
     },
     "metadata": {
      "needs_background": "light"
     },
     "output_type": "display_data"
    }
   ],
   "source": [
    "plt.hist(xtest3.flatten(),bins=35)"
   ]
  },
  {
   "cell_type": "code",
   "execution_count": 24,
   "metadata": {},
   "outputs": [],
   "source": [
    "xtrain = xtest3[27027:37866,:,:,None]\n",
    "xtest  = xtest3[25352:26618,:,:,None]\n",
    "xtest3 = xtest3[:,:,:,None]"
   ]
  },
  {
   "cell_type": "code",
   "execution_count": 25,
   "metadata": {},
   "outputs": [
    {
     "data": {
      "text/plain": [
       "((10839, 26, 180, 1), (1266, 26, 180, 1), (10839, 1), (1266, 1))"
      ]
     },
     "execution_count": 25,
     "metadata": {},
     "output_type": "execute_result"
    }
   ],
   "source": [
    "xtrain.shape,xtest.shape,y_train.shape,y_test.shape"
   ]
  },
  {
   "cell_type": "markdown",
   "metadata": {},
   "source": [
    "from keras.models import Sequential\n",
    "from keras.layers import Dense, Conv2D, Flatten,MaxPooling2D,AveragePooling2D\n",
    "\n",
    "model = Sequential()\n",
    "\n",
    "model.add(Conv2D(filters=15, kernel_size=(3, 3), activation='relu', input_shape=(xtrain.shape[1],xtrain.shape[2],1)))\n",
    "model.add(AveragePooling2D())\n",
    "\n",
    "model.add(Conv2D(filters=12, kernel_size=(3, 3), activation='relu'))\n",
    "model.add(AveragePooling2D())\n",
    "\n",
    "model.add(Flatten())\n",
    "\n",
    "model.add(Dense(units=120, activation='relu'))\n",
    "\n",
    "model.add(Dense(units=84, activation='relu'))\n",
    "\n",
    "model.add(Dense(units=1, activation = 'linear'))"
   ]
  },
  {
   "cell_type": "raw",
   "metadata": {},
   "source": [
    "from keras.models import Sequential\n",
    "from keras.layers import Dense, Conv2D, Flatten,MaxPooling2D\n",
    "\n",
    "model = Sequential()#add model layers\n",
    "model.add(Conv2D(156, kernel_size=3, activation='relu',input_shape=(xtrain.shape[1],xtrain.shape[2],1)))\n",
    "model.add(MaxPooling2D(pool_size=(2,2)))\n",
    "model.add(Conv2D(128, kernel_size=2, activation='relu'))\n",
    "model.add(MaxPooling2D(pool_size=(2,2)))\n",
    "model.add(Conv2D(4, kernel_size=3, activation='relu'))\n",
    "model.add(Flatten())\n",
    "model.add(Dense(1, activation='linear'))"
   ]
  },
  {
   "cell_type": "markdown",
   "metadata": {},
   "source": [
    "xtrain.shape,y_train.shape"
   ]
  },
  {
   "cell_type": "markdown",
   "metadata": {},
   "source": [
    "#compile model using accuracy to measure model performance\n",
    "model.compile(optimizer='adam', loss='mae')\n",
    "\n",
    "history = model.fit(xtrain, y_train.values, validation_data=(xtest, y_test.values), epochs=3)"
   ]
  },
  {
   "cell_type": "code",
   "execution_count": 31,
   "metadata": {},
   "outputs": [],
   "source": [
    "batch_size = 100\n",
    "#num_classes = 10\n",
    "epochs = 60\n",
    "data_augmentation = True"
   ]
  },
  {
   "cell_type": "raw",
   "metadata": {},
   "source": [
    "import keras\n",
    "#from keras.datasets import cifar10\n",
    "from keras.preprocessing.image import ImageDataGenerator\n",
    "from keras.models import Sequential\n",
    "from keras.layers import Dense, Dropout, Activation, Flatten\n",
    "from keras.layers import Conv2D, MaxPooling2D\n",
    "import os\n",
    "\n",
    "\n",
    "model = Sequential()\n",
    "model.add(Conv2D(64*2, (3, 3), padding='same',\n",
    "                 input_shape=xtrain.shape[1:]))\n",
    "model.add(Activation('relu'))\n",
    "model.add(Conv2D(64*2, (3, 3)))\n",
    "model.add(Activation('relu'))\n",
    "model.add(MaxPooling2D(pool_size=(2, 2)))\n",
    "model.add(Dropout(0.25))\n",
    "\n",
    "model.add(Conv2D(64*2, (3, 3), padding='same'))\n",
    "model.add(Activation('relu'))\n",
    "model.add(Conv2D(64*2, (3, 3)))\n",
    "model.add(Activation('relu'))\n",
    "model.add(MaxPooling2D(pool_size=(2, 2)))\n",
    "model.add(Dropout(0.25))\n",
    "\n",
    "model.add(Flatten())\n",
    "model.add(Dense(512))\n",
    "model.add(Activation('relu'))\n",
    "model.add(Dropout(0.5))\n",
    "model.add(Dense(1))\n",
    "model.add(Activation('linear'))\n",
    "\n",
    "# initiate Adam optimizer\n",
    "opt = keras.optimizers.Adam(learning_rate=0.001, decay=1e-6)\n",
    "\n",
    "# Let's train the model using RMSprop\n",
    "model.compile(loss='mae',optimizer=opt)"
   ]
  },
  {
   "cell_type": "code",
   "execution_count": 32,
   "metadata": {},
   "outputs": [],
   "source": [
    "import keras\n",
    "#from keras.datasets import cifar10\n",
    "from keras.preprocessing.image import ImageDataGenerator\n",
    "from keras.models import Sequential\n",
    "from keras.layers import Dense, Dropout, Activation, Flatten\n",
    "from keras.layers import Conv2D, MaxPooling2D\n",
    "import os\n",
    "\n",
    "\n",
    "model = Sequential()\n",
    "model.add(Conv2D(64*2, (3, 3), padding='same',\n",
    "                 input_shape=xtrain.shape[1:]))\n",
    "model.add(Activation('relu'))\n",
    "model.add(Conv2D(64*2, (3, 3)))\n",
    "model.add(Activation('relu'))\n",
    "model.add(Conv2D(64*2, (3, 3)))\n",
    "model.add(Activation('relu'))\n",
    "model.add(Conv2D(64*2, (3, 3)))\n",
    "model.add(Activation('relu'))\n",
    "model.add(MaxPooling2D(pool_size=(2, 2)))\n",
    "model.add(Dropout(0.25))\n",
    "\n",
    "model.add(Conv2D(64*2, (3, 3), padding='same'))\n",
    "model.add(Activation('relu'))\n",
    "model.add(Conv2D(64*2, (3, 3)))\n",
    "model.add(Activation('relu'))\n",
    "model.add(MaxPooling2D(pool_size=(2, 2)))\n",
    "model.add(Dropout(0.25))\n",
    "\n",
    "model.add(Flatten())\n",
    "model.add(Dense(512))\n",
    "model.add(Activation('relu'))\n",
    "model.add(Dropout(0.5))\n",
    "model.add(Dense(1))\n",
    "model.add(Activation('linear'))\n",
    "\n",
    "# initiate Adam optimizer\n",
    "opt = keras.optimizers.Adam(learning_rate=0.0001, decay=1e-6)\n",
    "\n",
    "# Let's train the model using RMSprop\n",
    "model.compile(loss='mae',optimizer=opt)"
   ]
  },
  {
   "cell_type": "code",
   "execution_count": 33,
   "metadata": {},
   "outputs": [
    {
     "name": "stdout",
     "output_type": "stream",
     "text": [
      "Model: \"sequential_2\"\n",
      "_________________________________________________________________\n",
      "Layer (type)                 Output Shape              Param #   \n",
      "=================================================================\n",
      "conv2d_7 (Conv2D)            (None, 26, 180, 128)      1280      \n",
      "_________________________________________________________________\n",
      "activation_9 (Activation)    (None, 26, 180, 128)      0         \n",
      "_________________________________________________________________\n",
      "conv2d_8 (Conv2D)            (None, 24, 178, 128)      147584    \n",
      "_________________________________________________________________\n",
      "activation_10 (Activation)   (None, 24, 178, 128)      0         \n",
      "_________________________________________________________________\n",
      "conv2d_9 (Conv2D)            (None, 22, 176, 128)      147584    \n",
      "_________________________________________________________________\n",
      "activation_11 (Activation)   (None, 22, 176, 128)      0         \n",
      "_________________________________________________________________\n",
      "conv2d_10 (Conv2D)           (None, 20, 174, 128)      147584    \n",
      "_________________________________________________________________\n",
      "activation_12 (Activation)   (None, 20, 174, 128)      0         \n",
      "_________________________________________________________________\n",
      "max_pooling2d_3 (MaxPooling2 (None, 10, 87, 128)       0         \n",
      "_________________________________________________________________\n",
      "dropout_4 (Dropout)          (None, 10, 87, 128)       0         \n",
      "_________________________________________________________________\n",
      "conv2d_11 (Conv2D)           (None, 10, 87, 128)       147584    \n",
      "_________________________________________________________________\n",
      "activation_13 (Activation)   (None, 10, 87, 128)       0         \n",
      "_________________________________________________________________\n",
      "conv2d_12 (Conv2D)           (None, 8, 85, 128)        147584    \n",
      "_________________________________________________________________\n",
      "activation_14 (Activation)   (None, 8, 85, 128)        0         \n",
      "_________________________________________________________________\n",
      "max_pooling2d_4 (MaxPooling2 (None, 4, 42, 128)        0         \n",
      "_________________________________________________________________\n",
      "dropout_5 (Dropout)          (None, 4, 42, 128)        0         \n",
      "_________________________________________________________________\n",
      "flatten_2 (Flatten)          (None, 21504)             0         \n",
      "_________________________________________________________________\n",
      "dense_3 (Dense)              (None, 512)               11010560  \n",
      "_________________________________________________________________\n",
      "activation_15 (Activation)   (None, 512)               0         \n",
      "_________________________________________________________________\n",
      "dropout_6 (Dropout)          (None, 512)               0         \n",
      "_________________________________________________________________\n",
      "dense_4 (Dense)              (None, 1)                 513       \n",
      "_________________________________________________________________\n",
      "activation_16 (Activation)   (None, 1)                 0         \n",
      "=================================================================\n",
      "Total params: 11,750,273\n",
      "Trainable params: 11,750,273\n",
      "Non-trainable params: 0\n",
      "_________________________________________________________________\n"
     ]
    }
   ],
   "source": [
    "model.summary()"
   ]
  },
  {
   "cell_type": "code",
   "execution_count": 34,
   "metadata": {},
   "outputs": [],
   "source": [
    "xtrain1 = xtrain.astype('float32')\n",
    "xtest1 = xtest.astype('float32')\n",
    "xtest3 = xtest3.astype('float32')\n",
    "\n",
    "ytrain1 = y_train.values.astype('float32')\n",
    "ytest1  = y_test.values.astype('float32')"
   ]
  },
  {
   "cell_type": "code",
   "execution_count": 35,
   "metadata": {},
   "outputs": [
    {
     "name": "stdout",
     "output_type": "stream",
     "text": [
      "Using real-time data augmentation.\n",
      "Epoch 1/60\n",
      "109/109 [==============================] - 247s 2s/step - loss: 0.7578 - val_loss: 0.6211\n",
      "Epoch 2/60\n",
      "109/109 [==============================] - 244s 2s/step - loss: 0.6422 - val_loss: 0.6102\n",
      "Epoch 3/60\n",
      "109/109 [==============================] - 243s 2s/step - loss: 0.6181 - val_loss: 0.5420\n",
      "Epoch 4/60\n",
      "109/109 [==============================] - 244s 2s/step - loss: 0.6075 - val_loss: 0.5322\n",
      "Epoch 5/60\n",
      "109/109 [==============================] - 248s 2s/step - loss: 0.6032 - val_loss: 0.5161\n",
      "Epoch 6/60\n",
      "109/109 [==============================] - 247s 2s/step - loss: 0.6013 - val_loss: 0.5069\n",
      "Epoch 7/60\n",
      "109/109 [==============================] - 248s 2s/step - loss: 0.5855 - val_loss: 0.5134\n",
      "Epoch 8/60\n",
      "109/109 [==============================] - 245s 2s/step - loss: 0.5760 - val_loss: 0.5015\n",
      "Epoch 9/60\n",
      "109/109 [==============================] - 243s 2s/step - loss: 0.5744 - val_loss: 0.5210\n",
      "Epoch 10/60\n",
      "109/109 [==============================] - 243s 2s/step - loss: 0.5579 - val_loss: 0.4926\n",
      "Epoch 11/60\n",
      "109/109 [==============================] - 243s 2s/step - loss: 0.5566 - val_loss: 0.4937\n",
      "Epoch 12/60\n",
      "109/109 [==============================] - 246s 2s/step - loss: 0.5536 - val_loss: 0.4930\n",
      "Epoch 13/60\n",
      "109/109 [==============================] - 245s 2s/step - loss: 0.5453 - val_loss: 0.4842\n",
      "Epoch 14/60\n",
      "109/109 [==============================] - 247s 2s/step - loss: 0.5369 - val_loss: 0.4984\n",
      "Epoch 15/60\n",
      "109/109 [==============================] - 299s 3s/step - loss: 0.5287 - val_loss: 0.4749\n",
      "Epoch 16/60\n",
      "109/109 [==============================] - 344s 3s/step - loss: 0.5238 - val_loss: 0.4776\n",
      "Epoch 17/60\n",
      "109/109 [==============================] - 348s 3s/step - loss: 0.5069 - val_loss: 0.4807\n",
      "Epoch 18/60\n",
      "109/109 [==============================] - 349s 3s/step - loss: 0.5035 - val_loss: 0.4577\n",
      "Epoch 19/60\n",
      "109/109 [==============================] - 426s 4s/step - loss: 0.4947 - val_loss: 0.4679\n",
      "Epoch 20/60\n",
      "109/109 [==============================] - 415s 4s/step - loss: 0.4885 - val_loss: 0.4736\n",
      "Epoch 21/60\n",
      "109/109 [==============================] - 421s 4s/step - loss: 0.4881 - val_loss: 0.4664\n",
      "Epoch 22/60\n",
      "109/109 [==============================] - 398s 4s/step - loss: 0.4773 - val_loss: 0.4516\n",
      "Epoch 23/60\n",
      "109/109 [==============================] - 345s 3s/step - loss: 0.4798 - val_loss: 0.4489\n",
      "Epoch 24/60\n",
      "109/109 [==============================] - 345s 3s/step - loss: 0.4757 - val_loss: 0.4506\n",
      "Epoch 25/60\n",
      "109/109 [==============================] - 346s 3s/step - loss: 0.4632 - val_loss: 0.4483\n",
      "Epoch 26/60\n",
      "109/109 [==============================] - 344s 3s/step - loss: 0.4660 - val_loss: 0.4512\n",
      "Epoch 27/60\n",
      "109/109 [==============================] - 344s 3s/step - loss: 0.4622 - val_loss: 0.4390\n",
      "Epoch 28/60\n",
      "109/109 [==============================] - 346s 3s/step - loss: 0.4545 - val_loss: 0.4399\n",
      "Epoch 29/60\n",
      "109/109 [==============================] - 346s 3s/step - loss: 0.4531 - val_loss: 0.4584\n",
      "Epoch 30/60\n",
      "109/109 [==============================] - 348s 3s/step - loss: 0.4516 - val_loss: 0.4475\n",
      "Epoch 31/60\n",
      "109/109 [==============================] - 353s 3s/step - loss: 0.4407 - val_loss: 0.4513\n",
      "Epoch 32/60\n",
      "109/109 [==============================] - 550s 5s/step - loss: 0.4396 - val_loss: 0.4360\n",
      "Epoch 33/60\n",
      "109/109 [==============================] - 601s 6s/step - loss: 0.4371 - val_loss: 0.4576\n",
      "Epoch 34/60\n",
      "109/109 [==============================] - 596s 5s/step - loss: 0.4383 - val_loss: 0.4336\n",
      "Epoch 35/60\n",
      "109/109 [==============================] - 597s 5s/step - loss: 0.4333 - val_loss: 0.4209\n",
      "Epoch 36/60\n",
      "109/109 [==============================] - 591s 5s/step - loss: 0.4267 - val_loss: 0.4375\n",
      "Epoch 37/60\n",
      "109/109 [==============================] - 598s 5s/step - loss: 0.4252 - val_loss: 0.4244\n",
      "Epoch 38/60\n",
      "109/109 [==============================] - 599s 5s/step - loss: 0.4218 - val_loss: 0.4283\n",
      "Epoch 39/60\n",
      "109/109 [==============================] - 595s 5s/step - loss: 0.4165 - val_loss: 0.4266\n",
      "Epoch 40/60\n",
      "109/109 [==============================] - 595s 5s/step - loss: 0.4082 - val_loss: 0.4171\n",
      "Epoch 41/60\n",
      "109/109 [==============================] - 597s 5s/step - loss: 0.4094 - val_loss: 0.4328\n",
      "Epoch 42/60\n",
      "109/109 [==============================] - 596s 5s/step - loss: 0.4098 - val_loss: 0.4440\n",
      "Epoch 43/60\n",
      "109/109 [==============================] - 600s 6s/step - loss: 0.4069 - val_loss: 0.4135\n",
      "Epoch 44/60\n",
      "109/109 [==============================] - 595s 5s/step - loss: 0.4021 - val_loss: 0.4053\n",
      "Epoch 45/60\n",
      "109/109 [==============================] - 521s 5s/step - loss: 0.3983 - val_loss: 0.4222\n",
      "Epoch 46/60\n",
      "109/109 [==============================] - 478s 4s/step - loss: 0.3940 - val_loss: 0.4302\n",
      "Epoch 47/60\n",
      "109/109 [==============================] - 475s 4s/step - loss: 0.3931 - val_loss: 0.4268\n",
      "Epoch 48/60\n",
      "109/109 [==============================] - 480s 4s/step - loss: 0.3893 - val_loss: 0.4257\n",
      "Epoch 49/60\n",
      "109/109 [==============================] - 476s 4s/step - loss: 0.3905 - val_loss: 0.3991\n",
      "Epoch 50/60\n",
      "109/109 [==============================] - 478s 4s/step - loss: 0.3839 - val_loss: 0.3971\n",
      "Epoch 51/60\n",
      "109/109 [==============================] - 477s 4s/step - loss: 0.3810 - val_loss: 0.3984\n",
      "Epoch 52/60\n",
      "109/109 [==============================] - 479s 4s/step - loss: 0.3832 - val_loss: 0.4233\n",
      "Epoch 53/60\n",
      "109/109 [==============================] - 484s 4s/step - loss: 0.3756 - val_loss: 0.4034\n",
      "Epoch 54/60\n",
      "109/109 [==============================] - 479s 4s/step - loss: 0.3767 - val_loss: 0.3973\n",
      "Epoch 55/60\n",
      "109/109 [==============================] - 481s 4s/step - loss: 0.3755 - val_loss: 0.3990\n",
      "Epoch 56/60\n",
      "109/109 [==============================] - 478s 4s/step - loss: 0.3706 - val_loss: 0.4069\n",
      "Epoch 57/60\n",
      "109/109 [==============================] - 478s 4s/step - loss: 0.3717 - val_loss: 0.4023\n",
      "Epoch 58/60\n",
      "109/109 [==============================] - 477s 4s/step - loss: 0.3674 - val_loss: 0.4089\n",
      "Epoch 59/60\n",
      "109/109 [==============================] - 478s 4s/step - loss: 0.3624 - val_loss: 0.3956\n",
      "Epoch 60/60\n",
      "109/109 [==============================] - 481s 4s/step - loss: 0.3666 - val_loss: 0.3982\n"
     ]
    }
   ],
   "source": [
    "if not data_augmentation:\n",
    "    print('Not using data augmentation.')\n",
    "    model.fit(xtrain1, ytrain1,\n",
    "              batch_size=batch_size,\n",
    "              epochs=epochs,\n",
    "              validation_data=(xtest1, ytest1),\n",
    "              shuffle=False)\n",
    "else:\n",
    "    print('Using real-time data augmentation.')\n",
    "    # This will do preprocessing and realtime data augmentation:\n",
    "    datagen = ImageDataGenerator(\n",
    "        featurewise_center=False,  # set input mean to 0 over the dataset\n",
    "        samplewise_center=False,  # set each sample mean to 0\n",
    "        featurewise_std_normalization=False,  # divide inputs by std of the dataset\n",
    "        samplewise_std_normalization=False,  # divide each input by its std\n",
    "        zca_whitening=False,  # apply ZCA whitening\n",
    "        zca_epsilon=1e-06,  # epsilon for ZCA whitening\n",
    "        rotation_range=0,  # randomly rotate images in the range (degrees, 0 to 180)\n",
    "        # randomly shift images horizontally (fraction of total width)\n",
    "        width_shift_range=0.1,\n",
    "        # randomly shift images vertically (fraction of total height)\n",
    "        height_shift_range=0.1,\n",
    "        shear_range=0.,  # set range for random shear\n",
    "        zoom_range=0.,  # set range for random zoom\n",
    "        channel_shift_range=0.,  # set range for random channel shifts\n",
    "        # set mode for filling points outside the input boundaries\n",
    "        fill_mode='nearest',\n",
    "        cval=0.,  # value used for fill_mode = \"constant\"\n",
    "        horizontal_flip=True,  # randomly flip images\n",
    "        vertical_flip=False,  # randomly flip images\n",
    "        # set rescaling factor (applied before any other transformation)\n",
    "        rescale=None,\n",
    "        # set function that will be applied on each input\n",
    "        preprocessing_function=None,\n",
    "        # image data format, either \"channels_first\" or \"channels_last\"\n",
    "        data_format=None,\n",
    "        # fraction of images reserved for validation (strictly between 0 and 1)\n",
    "        validation_split=0.0)\n",
    "\n",
    "    # Compute quantities required for feature-wise normalization\n",
    "    # (std, mean, and principal components if ZCA whitening is applied).\n",
    "    datagen.fit(xtrain1)\n",
    "\n",
    "    # Fit the model on the batches generated by datagen.flow().\n",
    "    model.fit_generator(datagen.flow(xtrain1, ytrain1,\n",
    "                                     batch_size=batch_size),\n",
    "                        epochs=epochs,\n",
    "                        validation_data=(xtest1, ytest1),\n",
    "                        workers=4)"
   ]
  },
  {
   "cell_type": "code",
   "execution_count": 42,
   "metadata": {},
   "outputs": [
    {
     "data": {
      "text/plain": [
       "<matplotlib.legend.Legend at 0x2b04aa3b3dd0>"
      ]
     },
     "execution_count": 42,
     "metadata": {},
     "output_type": "execute_result"
    },
    {
     "data": {
      "image/png": "[encoded data removed]",
      "text/plain": [
       "<Figure size 432x288 with 1 Axes>"
      ]
     },
     "metadata": {
      "needs_background": "light"
     },
     "output_type": "display_data"
    }
   ],
   "source": [
    "#model.history.keys()\n",
    "\n",
    "plt.plot(model.history.history['loss'],'-*',label ='train')\n",
    "plt.plot(model.history.history['val_loss'],'-*',label ='test')\n",
    "plt.ylabel('MAE')\n",
    "plt.xlabel('No of Epochs')\n",
    "plt.legend()\n",
    "# plt.savefig('RMM2_history.png')"
   ]
  },
  {
   "cell_type": "markdown",
   "metadata": {},
   "source": [
    "## Correlation"
   ]
  },
  {
   "cell_type": "code",
   "execution_count": 43,
   "metadata": {},
   "outputs": [],
   "source": [
    "yy_test = model.predict(xtest)"
   ]
  },
  {
   "cell_type": "code",
   "execution_count": 44,
   "metadata": {},
   "outputs": [
    {
     "data": {
      "text/plain": [
       "((1266, 1), (1266, 1))"
      ]
     },
     "execution_count": 44,
     "metadata": {},
     "output_type": "execute_result"
    }
   ],
   "source": [
    "yy_test.shape,y_test.shape"
   ]
  },
  {
   "cell_type": "code",
   "execution_count": 45,
   "metadata": {},
   "outputs": [
    {
     "data": {
      "text/plain": [
       "[<matplotlib.lines.Line2D at 0x2b04aa20e890>]"
      ]
     },
     "execution_count": 45,
     "metadata": {},
     "output_type": "execute_result"
    },
    {
     "data": {
      "image/png": "[encoded data removed]",
      "text/plain": [
       "<Figure size 432x288 with 1 Axes>"
      ]
     },
     "metadata": {
      "needs_background": "light"
     },
     "output_type": "display_data"
    }
   ],
   "source": [
    "plt.plot(yy_test,y_test,'+')"
   ]
  },
  {
   "cell_type": "code",
   "execution_count": 46,
   "metadata": {},
   "outputs": [
    {
     "data": {
      "text/plain": [
       "<matplotlib.legend.Legend at 0x2b04aa175d10>"
      ]
     },
     "execution_count": 46,
     "metadata": {},
     "output_type": "execute_result"
    },
    {
     "data": {
      "image/png": "[encoded data removed]",
      "text/plain": [
       "<Figure size 864x288 with 2 Axes>"
      ]
     },
     "metadata": {
      "needs_background": "light"
     },
     "output_type": "display_data"
    }
   ],
   "source": [
    "yy_test = model.predict(xtest)\n",
    "test_corr = np.corrcoef(yy_test[:,0],y_test.values[:,0])[0,1]\n",
    "yy_test   = yy_test[:,0]/yy_test[:,0].std()\n",
    "\n",
    "# print(\"test shape = \");print(predict2.shape)\n",
    "\n",
    "fig,ax = plt.subplots(1,2,figsize = (12,4))\n",
    "\n",
    "ax[0].plot(yy_test,y_test.values[:,0],'.')\n",
    "\n",
    "ax[0].set_title('corr = %f'%test_corr)\n",
    "\n",
    "bins = np.linspace(-4.0,4.0,41)\n",
    "\n",
    "ax[1].hist(y_test.values[:,0],bins,density=True,alpha=0.5,label='observed')\n",
    "ax[1].hist(yy_test,bins,density=True,alpha=0.5,label='modeled');\n",
    "plt.legend()"
   ]
  },
  {
   "cell_type": "code",
   "execution_count": 47,
   "metadata": {},
   "outputs": [
    {
     "data": {
      "text/plain": [
       "<matplotlib.legend.Legend at 0x2b04aa049ed0>"
      ]
     },
     "execution_count": 47,
     "metadata": {},
     "output_type": "execute_result"
    },
    {
     "data": {
      "image/png": "[encoded data removed]",
      "text/plain": [
       "<Figure size 864x288 with 2 Axes>"
      ]
     },
     "metadata": {
      "needs_background": "light"
     },
     "output_type": "display_data"
    }
   ],
   "source": [
    "yy_train = model.predict(xtrain)\n",
    "train_corr = np.corrcoef(yy_train[:,0],y_train.values[:,0])[0,1]\n",
    "yy_train   = yy_train[:,0]/yy_train[:,0].std()\n",
    "\n",
    "# print(\"train shape = \");print(predict2.shape)\n",
    "\n",
    "fig,ax = plt.subplots(1,2,figsize = (12,4))\n",
    "\n",
    "ax[0].plot(yy_train,y_train.values[:,0],'.')\n",
    "\n",
    "ax[0].set_title('corr = %f'%train_corr)\n",
    "\n",
    "bins = np.linspace(-4.0,4.0,41)\n",
    "\n",
    "ax[1].hist(y_train.values[:,0],bins,density=True,alpha=0.5,label='observed')\n",
    "ax[1].hist(yy_train,bins,density=True,alpha=0.5,label='modeled');\n",
    "plt.legend()"
   ]
  },
  {
   "cell_type": "code",
   "execution_count": 40,
   "metadata": {},
   "outputs": [],
   "source": [
    "rmm2 = model.predict(xtest3)"
   ]
  },
  {
   "cell_type": "code",
   "execution_count": 48,
   "metadata": {},
   "outputs": [],
   "source": [
    "rmm2 = pd.DataFrame(rmm2,index=pd.to_datetime(df_test3.time[:].values),columns=['rmm2'])"
   ]
  },
  {
   "cell_type": "code",
   "execution_count": 49,
   "metadata": {},
   "outputs": [
    {
     "data": {
      "text/plain": [
       "(array([4.000e+00, 2.000e+00, 7.000e+00, 1.100e+01, 2.700e+01, 3.600e+01,\n",
       "        7.900e+01, 1.210e+02, 1.730e+02, 3.210e+02, 4.570e+02, 7.670e+02,\n",
       "        1.155e+03, 1.884e+03, 2.778e+03, 3.786e+03, 4.451e+03, 4.922e+03,\n",
       "        4.481e+03, 4.043e+03, 3.161e+03, 2.436e+03, 1.764e+03, 1.319e+03,\n",
       "        9.280e+02, 5.260e+02, 3.980e+02, 1.780e+02, 9.000e+01, 5.100e+01,\n",
       "        3.800e+01, 2.000e+01, 3.000e+00, 1.000e+00, 4.000e+00]),\n",
       " array([-3.687303  , -3.484634  , -3.2819648 , -3.0792956 , -2.8766265 ,\n",
       "        -2.6739573 , -2.4712882 , -2.268619  , -2.06595   , -1.8632809 ,\n",
       "        -1.6606117 , -1.4579426 , -1.2552735 , -1.0526043 , -0.84993523,\n",
       "        -0.6472661 , -0.44459698, -0.24192786, -0.03925873,  0.16341041,\n",
       "         0.36607954,  0.56874865,  0.7714178 ,  0.97408694,  1.176756  ,\n",
       "         1.3794252 ,  1.5820943 ,  1.7847635 ,  1.9874326 ,  2.1901016 ,\n",
       "         2.3927708 ,  2.59544   ,  2.798109  ,  3.0007782 ,  3.2034473 ,\n",
       "         3.4061165 ], dtype=float32),\n",
       " <a list of 35 Patch objects>)"
      ]
     },
     "execution_count": 49,
     "metadata": {},
     "output_type": "execute_result"
    },
    {
     "data": {
      "image/png": "[encoded data removed]",
      "text/plain": [
       "<Figure size 432x288 with 1 Axes>"
      ]
     },
     "metadata": {
      "needs_background": "light"
     },
     "output_type": "display_data"
    }
   ],
   "source": [
    "plt.hist(rmm2.rmm2,bins=35)"
   ]
  },
  {
   "cell_type": "code",
   "execution_count": 50,
   "metadata": {},
   "outputs": [],
   "source": [
    "rmm2.to_csv('deep_CNN_rmm2_minmaxscalar_batchsize_100_woymnmx.csv')"
   ]
  },
  {
   "cell_type": "code",
   "execution_count": 51,
   "metadata": {},
   "outputs": [
    {
     "name": "stderr",
     "output_type": "stream",
     "text": [
      "/home/cccr/supriyo/.conda/envs/knp_ai/lib/python3.7/site-packages/pandas/plotting/_matplotlib/converter.py:103: FutureWarning: Using an implicitly registered datetime converter for a matplotlib plotting method. The converter was registered by pandas on import. Future versions of pandas will require you to explicitly register matplotlib converters.\n",
      "\n",
      "To register the converters:\n",
      "\t>>> from pandas.plotting import register_matplotlib_converters\n",
      "\t>>> register_matplotlib_converters()\n",
      "  warnings.warn(msg, FutureWarning)\n"
     ]
    },
    {
     "data": {
      "text/plain": [
       "<matplotlib.lines.Line2D at 0x2b052c2a2c10>"
      ]
     },
     "execution_count": 51,
     "metadata": {},
     "output_type": "execute_result"
    },
    {
     "data": {
      "image/png": "[encoded data removed]",
      "text/plain": [
       "<Figure size 432x288 with 1 Axes>"
      ]
     },
     "metadata": {
      "needs_background": "light"
     },
     "output_type": "display_data"
    }
   ],
   "source": [
    "plt.plot(rmm2.rmm2)\n",
    "plt.axhline(3)\n",
    "plt.axhline(-3)"
   ]
  },
  {
   "cell_type": "code",
   "execution_count": 52,
   "metadata": {},
   "outputs": [
    {
     "name": "stdout",
     "output_type": "stream",
     "text": [
      "Saved model to disk\n"
     ]
    }
   ],
   "source": [
    "model.save(\"deep_CNN_rmm2_minmaxscalar_batchsize_100_woymnmx.h5\")\n",
    "print(\"Saved model to disk\")"
   ]
  },
  {
   "cell_type": "code",
   "execution_count": 53,
   "metadata": {},
   "outputs": [
    {
     "data": {
      "text/html": [
       "<div>\n",
       "<style scoped>\n",
       "    .dataframe tbody tr th:only-of-type {\n",
       "        vertical-align: middle;\n",
       "    }\n",
       "\n",
       "    .dataframe tbody tr th {\n",
       "        vertical-align: top;\n",
       "    }\n",
       "\n",
       "    .dataframe thead th {\n",
       "        text-align: right;\n",
       "    }\n",
       "</style>\n",
       "<table border=\"1\" class=\"dataframe\">\n",
       "  <thead>\n",
       "    <tr style=\"text-align: right;\">\n",
       "      <th></th>\n",
       "      <th>rmm2</th>\n",
       "    </tr>\n",
       "  </thead>\n",
       "  <tbody>\n",
       "    <tr>\n",
       "      <th>1905-05-01</th>\n",
       "      <td>-1.044973</td>\n",
       "    </tr>\n",
       "    <tr>\n",
       "      <th>1905-05-02</th>\n",
       "      <td>-0.850964</td>\n",
       "    </tr>\n",
       "    <tr>\n",
       "      <th>1905-05-03</th>\n",
       "      <td>-0.650637</td>\n",
       "    </tr>\n",
       "    <tr>\n",
       "      <th>1905-05-04</th>\n",
       "      <td>-0.469574</td>\n",
       "    </tr>\n",
       "    <tr>\n",
       "      <th>1905-05-05</th>\n",
       "      <td>-0.340354</td>\n",
       "    </tr>\n",
       "    <tr>\n",
       "      <th>...</th>\n",
       "      <td>...</td>\n",
       "    </tr>\n",
       "    <tr>\n",
       "      <th>2015-12-27</th>\n",
       "      <td>1.363819</td>\n",
       "    </tr>\n",
       "    <tr>\n",
       "      <th>2015-12-28</th>\n",
       "      <td>1.316350</td>\n",
       "    </tr>\n",
       "    <tr>\n",
       "      <th>2015-12-29</th>\n",
       "      <td>1.131709</td>\n",
       "    </tr>\n",
       "    <tr>\n",
       "      <th>2015-12-30</th>\n",
       "      <td>0.783738</td>\n",
       "    </tr>\n",
       "    <tr>\n",
       "      <th>2015-12-31</th>\n",
       "      <td>0.426577</td>\n",
       "    </tr>\n",
       "  </tbody>\n",
       "</table>\n",
       "<p>40422 rows × 1 columns</p>\n",
       "</div>"
      ],
      "text/plain": [
       "                rmm2\n",
       "1905-05-01 -1.044973\n",
       "1905-05-02 -0.850964\n",
       "1905-05-03 -0.650637\n",
       "1905-05-04 -0.469574\n",
       "1905-05-05 -0.340354\n",
       "...              ...\n",
       "2015-12-27  1.363819\n",
       "2015-12-28  1.316350\n",
       "2015-12-29  1.131709\n",
       "2015-12-30  0.783738\n",
       "2015-12-31  0.426577\n",
       "\n",
       "[40422 rows x 1 columns]"
      ]
     },
     "execution_count": 53,
     "metadata": {},
     "output_type": "execute_result"
    }
   ],
   "source": [
    "rmm2"
   ]
  },
  {
   "cell_type": "code",
   "execution_count": null,
   "metadata": {},
   "outputs": [],
   "source": []
  }
 ],
 "metadata": {
  "kernelspec": {
   "display_name": "Python 3",
   "language": "python",
   "name": "python3"
  },
  "language_info": {
   "codemirror_mode": {
    "name": "ipython",
    "version": 3
   },
   "file_extension": ".py",
   "mimetype": "text/x-python",
   "name": "python",
   "nbconvert_exporter": "python",
   "pygments_lexer": "ipython3",
   "version": "3.7.5"
  }
 },
 "nbformat": 4,
 "nbformat_minor": 2
}
