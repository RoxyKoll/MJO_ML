{
 "cells": [
  {
   "cell_type": "markdown",
   "metadata": {},
   "source": [
    "## HADISST"
   ]
  },
  {
   "cell_type": "code",
   "execution_count": null,
   "metadata": {},
   "outputs": [],
   "source": [
    "%%bash\n",
    "file='/home/cccr/roxy/panini/JGRJD_PHD_PART_I/DATA/sst/HADISST/HadISST_sst.nc'\n",
    "\n",
    "cdo remapbil,r360X180 ${file} had.nc\n",
    "cdo sellonlatbox,0,360,-60,60 -selname,sst had.nc hadisst.nc\n",
    "cdo ymonmean -selyear,1905/2015 hadisst.nc clim_sst.nc\n",
    "cdo sub hadisst.nc clim_sst.nc sst_mon_anomalies_1870-2019.nc\n",
    "\n",
    "rm hadisst.nc clim_sst.nc  had.nc\n",
    "\n",
    "\n",
    "for i in $(seq 1905 1 2014)\n",
    "do\n",
    "l=$((i + 1)) \n",
    "cdo selmon,11,12 -selyear,$i sst_mon_anomalies_1870-2019.nc tempx1.nc\n",
    "cdo selmon,1,2,3,4 -selyear,$l sst_mon_anomalies_1870-2019.nc tempy1.nc\n",
    "    \n",
    "\n",
    "cdo mergetime tempx1.nc tempy1.nc jgr1.nc\n",
    "\n",
    "cdo timmean jgr1.nc mean1_$l.nc\n",
    "\n",
    "# cdo mergetime mean*.nc mjo_mean$l.nc\n",
    "\n",
    "rm temp*.nc\n",
    "rm jgr*.nc\n",
    "\n",
    "echo $NUM  \n",
    "\n",
    "done\n",
    "\n",
    "cdo mergetime mean1*.nc sst_raw_nov_apr_1905-2015_hadisst.nc\n",
    "\n",
    "rm mean*.nc\n",
    "rm sst_mon_anomalies_1870-2019.nc"
   ]
  },
  {
   "cell_type": "markdown",
   "metadata": {},
   "source": [
    "## ERSSTV5"
   ]
  },
  {
   "cell_type": "code",
   "execution_count": 1,
   "metadata": {},
   "outputs": [
    {
     "name": "stdout",
     "output_type": "stream",
     "text": [
      "   File format : NetCDF4 classic zip\n",
      "    -1 : Institut Source   T Steptype Levels Num    Points Num Dtype : Parameter ID\n",
      "     1 : unknown  In situ  v instant       1   1         2   1  F64  : -1            \n",
      "     2 : unknown  In situ  v instant       1   1     16020   2  F32z : -2            \n",
      "   Grid coordinates :\n",
      "     1 : generic                  : points=2\n",
      "     2 : lonlat                   : points=16020 (180x89)\n",
      "                              lon : 0 to 358 by 2 degrees_east  circular\n",
      "                              lat : 88 to -88 by -2 degrees_north\n",
      "   Vertical coordinates :\n",
      "     1 : surface                  : levels=1\n",
      "   Time coordinate :  1981 steps\n",
      "     RefTime =  1800-01-01 00:00:00  Units = days  Calendar = standard\n",
      "  YYYY-MM-DD hh:mm:ss  YYYY-MM-DD hh:mm:ss  YYYY-MM-DD hh:mm:ss  YYYY-MM-DD hh:mm:ss\n",
      "  1854-01-01 00:00:00  1854-02-01 00:00:00  1854-03-01 00:00:00  1854-04-01 00:00:00\n",
      "  1854-05-01 00:00:00  1854-06-01 00:00:00  1854-07-01 00:00:00  1854-08-01 00:00:00\n",
      "  1854-09-01 00:00:00  1854-10-01 00:00:00  1854-11-01 00:00:00  1854-12-01 00:00:00\n",
      "  1855-01-01 00:00:00  1855-02-01 00:00:00  1855-03-01 00:00:00  1855-04-01 00:00:00\n",
      "  1855-05-01 00:00:00  1855-06-01 00:00:00  1855-07-01 00:00:00  1855-08-01 00:00:00\n",
      "  1855-09-01 00:00:00  1855-10-01 00:00:00  1855-11-01 00:00:00  1855-12-01 00:00:00\n",
      "  1856-01-01 00:00:00  1856-02-01 00:00:00  1856-03-01 00:00:00  1856-04-01 00:00:00\n",
      "  1856-05-01 00:00:00  1856-06-01 00:00:00  1856-07-01 00:00:00  1856-08-01 00:00:00\n",
      "  1856-09-01 00:00:00  1856-10-01 00:00:00  1856-11-01 00:00:00  1856-12-01 00:00:00\n",
      "  1857-01-01 00:00:00  1857-02-01 00:00:00  1857-03-01 00:00:00  1857-04-01 00:00:00\n",
      "  1857-05-01 00:00:00  1857-06-01 00:00:00  1857-07-01 00:00:00  1857-08-01 00:00:00\n",
      "  1857-09-01 00:00:00  1857-10-01 00:00:00  1857-11-01 00:00:00  1857-12-01 00:00:00\n",
      "  1858-01-01 00:00:00  1858-02-01 00:00:00  1858-03-01 00:00:00  1858-04-01 00:00:00\n",
      "  1858-05-01 00:00:00  1858-06-01 00:00:00  1858-07-01 00:00:00  1858-08-01 00:00:00\n",
      "  1858-09-01 00:00:00  1858-10-01 00:00:00  1858-11-01 00:00:00  1858-12-01 00:00:00\n",
      "   ................................................................................\n",
      "   ................................................................................\n",
      "   ..........\n",
      "  2014-05-01 00:00:00  2014-06-01 00:00:00  2014-07-01 00:00:00  2014-08-01 00:00:00\n",
      "  2014-09-01 00:00:00  2014-10-01 00:00:00  2014-11-01 00:00:00  2014-12-01 00:00:00\n",
      "  2015-01-01 00:00:00  2015-02-01 00:00:00  2015-03-01 00:00:00  2015-04-01 00:00:00\n",
      "  2015-05-01 00:00:00  2015-06-01 00:00:00  2015-07-01 00:00:00  2015-08-01 00:00:00\n",
      "  2015-09-01 00:00:00  2015-10-01 00:00:00  2015-11-01 00:00:00  2015-12-01 00:00:00\n",
      "  2016-01-01 00:00:00  2016-02-01 00:00:00  2016-03-01 00:00:00  2016-04-01 00:00:00\n",
      "  2016-05-01 00:00:00  2016-06-01 00:00:00  2016-07-01 00:00:00  2016-08-01 00:00:00\n",
      "  2016-09-01 00:00:00  2016-10-01 00:00:00  2016-11-01 00:00:00  2016-12-01 00:00:00\n",
      "  2017-01-01 00:00:00  2017-02-01 00:00:00  2017-03-01 00:00:00  2017-04-01 00:00:00\n",
      "  2017-05-01 00:00:00  2017-06-01 00:00:00  2017-07-01 00:00:00  2017-08-01 00:00:00\n",
      "  2017-09-01 00:00:00  2017-10-01 00:00:00  2017-11-01 00:00:00  2017-12-01 00:00:00\n",
      "  2018-01-01 00:00:00  2018-02-01 00:00:00  2018-03-01 00:00:00  2018-04-01 00:00:00\n",
      "  2018-05-01 00:00:00  2018-06-01 00:00:00  2018-07-01 00:00:00  2018-08-01 00:00:00\n",
      "  2018-09-01 00:00:00  2018-10-01 00:00:00  2018-11-01 00:00:00  2018-12-01 00:00:00\n",
      "  2019-01-01 00:00:00\n",
      "cdo sinfo: Processed 2 variables over 1981 timesteps [0.07s 73MB]\n"
     ]
    }
   ],
   "source": [
    "%%bash\n",
    "file='/home/cccr/roxy/panini/JGRJD_PHD_PART_I/DATA/sst/ERSST/ERSSTV5.sst.monmean.nc'\n",
    "\n",
    "cdo sellonlatbox,0,360,-60,60 -selname,sst ${file} ersst.nc\n",
    "cdo ymonmean -selyear,1905/2015 ersst.nc clim_sst.nc\n",
    "cdo sub ersst.nc clim_sst.nc sst_mon_anomalies_1870-2019.nc\n",
    "\n",
    "rm ersst.nc clim_sst.nc\n",
    "\n",
    "\n",
    "for i in $(seq 1905 1 2014)\n",
    "do\n",
    "l=$((i + 1)) \n",
    "cdo selmon,11,12 -selyear,$i sst_mon_anomalies_1870-2019.nc tempx1.nc\n",
    "cdo selmon,1,2,3,4 -selyear,$l sst_mon_anomalies_1870-2019.nc tempy1.nc\n",
    "    \n",
    "\n",
    "cdo mergetime tempx1.nc tempy1.nc jgr1.nc\n",
    "\n",
    "cdo timmean jgr1.nc mean1_$l.nc\n",
    "\n",
    "# cdo mergetime mean*.nc mjo_mean$l.nc\n",
    "\n",
    "rm temp*.nc\n",
    "rm jgr*.nc\n",
    "\n",
    "echo $NUM  \n",
    "\n",
    "done\n",
    "\n",
    "cdo mergetime mean1*.nc sst_raw_nov_apr_1905-2015_ersst5.nc\n",
    "\n",
    "rm mean*.nc\n",
    "rm sst_mon_anomalies_1870-2019.nc"
   ]
  },
  {
   "cell_type": "code",
   "execution_count": null,
   "metadata": {},
   "outputs": [],
   "source": []
  }
 ],
 "metadata": {
  "kernelspec": {
   "display_name": "Python 3",
   "language": "python",
   "name": "python3"
  },
  "language_info": {
   "codemirror_mode": {
    "name": "ipython",
    "version": 3
   },
   "file_extension": ".py",
   "mimetype": "text/x-python",
   "name": "python",
   "nbconvert_exporter": "python",
   "pygments_lexer": "ipython3",
   "version": "3.7.5"
  }
 },
 "nbformat": 4,
 "nbformat_minor": 2
}
