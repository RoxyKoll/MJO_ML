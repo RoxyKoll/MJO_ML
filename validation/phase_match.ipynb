{
 "cells": [
  {
   "cell_type": "markdown",
   "metadata": {},
   "source": [
    "## Phase Match"
   ]
  },
  {
   "cell_type": "code",
   "execution_count": 1,
   "metadata": {},
   "outputs": [],
   "source": [
    "import numpy as np\n",
    "import scipy as sc\n",
    "import xarray as xr\n",
    "import pandas as pd\n",
    "import matplotlib.pyplot as plt\n",
    "import datetime\n",
    "from scipy import stats"
   ]
  },
  {
   "cell_type": "code",
   "execution_count": 2,
   "metadata": {},
   "outputs": [],
   "source": [
    "def theta1_cal( pc1, pc2 ):\n",
    "    theta1           =  np.zeros(pc2.size)\n",
    "    angle180         =  np.arctan2(-pc2, -pc1) * 180 / np.pi\n",
    "    indNeg           =  np.where(angle180<0)[0]\n",
    "    angle360         = angle180\n",
    "    angle360[indNeg] = angle180[indNeg] + 360\n",
    "    theta1           = np.around( ( angle360 + 22.5 ) * 8 / 360 )\n",
    "    return theta1\n",
    "\n",
    "def seas_separate(theta1_rmm,amp1_rmm,s_year,e_year):\n",
    "    ph1=theta1_rmm.loc[str(s_year)+'-11-01':str(e_year)+'-04-30']\n",
    "    a1=amp1_rmm.loc[str(s_year)+'-11-01':str(e_year)+'-04-30']\n",
    "    return ph1,a1\n",
    "\n",
    "\n",
    "def phase_freq_cal(theta1_rmm,amp1_rmm,threshold,s_year,n):\n",
    "    t123 = np.zeros((n,))\n",
    "    t567 = np.zeros((n,))\n",
    "    \n",
    "    n1   = s_year\n",
    "    \n",
    "    for i in np.arange(n):\n",
    "        a=[];p=[];\n",
    "        p,a  = seas_separate(theta1_rmm,amp1_rmm,n1,n1+1)\n",
    "        k    = np.where(a<threshold)[0]\n",
    "        p[k] = 0  \n",
    "        t123[i] = np.size(np.where(p==1)[0])+np.size(np.where(p==2)[0])+np.size(np.where(p==3)[0])\n",
    "        t567[i] = np.size(np.where(p==4)[0])+np.size(np.where(p==5)[0])+np.size(np.where(p==6)[0])\n",
    "        n1 = n1+1\n",
    "        \n",
    "    return t123,t567\n",
    "\n",
    "\n",
    "def lowpass_scipy(signal,sample_freq,time_period,keep_mean):\n",
    "    import numpy as np\n",
    "    import scipy as sc\n",
    "    from scipy import fftpack\n",
    "    \n",
    "    lowpass_signal=np.zeros(signal.shape)\n",
    "    if any(np.isnan(signal)):\n",
    "        raise ValueError('There is NaN in the signal')\n",
    "    else:\n",
    "        hf = 1./time_period\n",
    "\n",
    "        temp_fft = sc.fftpack.fft(signal)\n",
    "\n",
    "        fftfreq = np.fft.fftfreq(len(signal),sample_freq) ### daily data it is 1./365 ## monthly data 1./12 ## yearly data=1\n",
    "          \n",
    "        i1 = np.abs(fftfreq) >= hf  \n",
    "        \n",
    "        temp_fft[i1] = 0\n",
    "        if not(keep_mean):\n",
    "            temp_fft[0]=0\n",
    "        lowpass_signal= np.real_if_close(sc.fftpack.ifft(temp_fft))\n",
    "    \n",
    "    return lowpass_signal"
   ]
  },
  {
   "cell_type": "code",
   "execution_count": 3,
   "metadata": {},
   "outputs": [],
   "source": [
    "st = 1979 ; en = 2014 ; n = en-st\n",
    "n\n",
    "factor = 1.5"
   ]
  },
  {
   "cell_type": "markdown",
   "metadata": {},
   "source": [
    "## WH04 RMM index"
   ]
  },
  {
   "cell_type": "code",
   "execution_count": 4,
   "metadata": {},
   "outputs": [],
   "source": [
    "rmm = xr.open_dataset('RMM_WH04_index_new.nc')\n",
    "rmm1 = rmm['PC1'].loc[str(st)+'-01-01':str(en)+'-12-31']\n",
    "rmm2 = rmm['PC2'].loc[str(st)+'-01-01':str(en)+'-12-31']\n",
    "\n",
    "amp1_wh04 = rmm['MJO_INDEX'].loc[str(st)+'-01-01':str(en)+'-12-31']\n",
    "phase1_wh04 = theta1_cal( rmm1, rmm2 )\n",
    "\n"
   ]
  },
  {
   "cell_type": "code",
   "execution_count": 5,
   "metadata": {},
   "outputs": [],
   "source": [
    "rm11 = np.real(lowpass_scipy(rmm1.values,sample_freq=1,time_period=10,keep_mean=1))\n",
    "rmm11 = pd.Series(rm11,index  = rmm1.time.values)\n",
    "\n",
    "rm22 = np.real(lowpass_scipy(rmm2.values,sample_freq=1,time_period=10,keep_mean=1))\n",
    "rmm22 = pd.Series(rm22,index  = rmm2.time.values)\n",
    "\n",
    "\n",
    "amp1_wh04_filt = (rmm11**2+rmm22**2)**0.5\n",
    "phase1_wh04_filt = theta1_cal( rmm11, rmm22 )"
   ]
  },
  {
   "cell_type": "code",
   "execution_count": 6,
   "metadata": {},
   "outputs": [
    {
     "data": {
      "text/plain": [
       "1979-01-01    6.0\n",
       "1979-01-02    6.0\n",
       "1979-01-03    7.0\n",
       "1979-01-04    7.0\n",
       "1979-01-05    7.0\n",
       "1979-01-06    7.0\n",
       "1979-01-07    7.0\n",
       "1979-01-08    6.0\n",
       "1979-01-09    6.0\n",
       "1979-01-10    6.0\n",
       "1979-01-11    7.0\n",
       "1979-01-12    7.0\n",
       "1979-01-13    7.0\n",
       "1979-01-14    7.0\n",
       "1979-01-15    7.0\n",
       "1979-01-16    7.0\n",
       "1979-01-17    7.0\n",
       "1979-01-18    7.0\n",
       "1979-01-19    7.0\n",
       "1979-01-20    8.0\n",
       "1979-01-21    8.0\n",
       "1979-01-22    8.0\n",
       "1979-01-23    8.0\n",
       "1979-01-24    8.0\n",
       "1979-01-25    1.0\n",
       "1979-01-26    1.0\n",
       "1979-01-27    1.0\n",
       "1979-01-28    1.0\n",
       "1979-01-29    2.0\n",
       "1979-01-30    3.0\n",
       "             ... \n",
       "2014-12-02    5.0\n",
       "2014-12-03    5.0\n",
       "2014-12-04    5.0\n",
       "2014-12-05    5.0\n",
       "2014-12-06    6.0\n",
       "2014-12-07    6.0\n",
       "2014-12-08    6.0\n",
       "2014-12-09    6.0\n",
       "2014-12-10    7.0\n",
       "2014-12-11    7.0\n",
       "2014-12-12    7.0\n",
       "2014-12-13    7.0\n",
       "2014-12-14    7.0\n",
       "2014-12-15    7.0\n",
       "2014-12-16    4.0\n",
       "2014-12-17    4.0\n",
       "2014-12-18    3.0\n",
       "2014-12-19    3.0\n",
       "2014-12-20    3.0\n",
       "2014-12-21    3.0\n",
       "2014-12-22    3.0\n",
       "2014-12-23    3.0\n",
       "2014-12-24    3.0\n",
       "2014-12-25    3.0\n",
       "2014-12-26    4.0\n",
       "2014-12-27    4.0\n",
       "2014-12-28    4.0\n",
       "2014-12-29    4.0\n",
       "2014-12-30    5.0\n",
       "2014-12-31    5.0\n",
       "Length: 13149, dtype: float64"
      ]
     },
     "execution_count": 6,
     "metadata": {},
     "output_type": "execute_result"
    }
   ],
   "source": [
    "phase1_wh04_filt"
   ]
  },
  {
   "cell_type": "code",
   "execution_count": 7,
   "metadata": {},
   "outputs": [
    {
     "data": {
      "text/plain": [
       "8150"
      ]
     },
     "execution_count": 7,
     "metadata": {},
     "output_type": "execute_result"
    }
   ],
   "source": [
    "aa =np.where(amp1_wh04_filt>=factor*np.std(amp1_wh04_filt.loc['1979-01-01':'2008-12-31']))[0];\n",
    "p_wh4 = phase1_wh04_filt[aa]\n",
    "len(aa)"
   ]
  },
  {
   "cell_type": "markdown",
   "metadata": {},
   "source": [
    "## JRA55 ##"
   ]
  },
  {
   "cell_type": "code",
   "execution_count": 8,
   "metadata": {},
   "outputs": [
    {
     "name": "stdout",
     "output_type": "stream",
     "text": [
      "1.2455938945040654 0.9810366845541796 0.9883845054715712\n"
     ]
    }
   ],
   "source": [
    "df_jra55 = pd.read_excel('/home/cccr/supriyo/panini/filtered_data/data/jra55_mjo_index.xlsx')\n",
    "df_jra55['Datetime'] = df_jra55.year.map(str) + '-' + df_jra55.month.map(str) + '-'+df_jra55.day.map(str) \n",
    "df_jra55.index = pd.to_datetime(df_jra55.Datetime)\n",
    "df_jra55 = df_jra55.drop('Datetime',axis=1)\n",
    "\n",
    "df_jra55['rmm1'] = df_jra55[['rmm1']]/df_jra55['rmm1'].loc['1979-01-01':'2008-12-31'].std()\n",
    "df_jra55['rmm2'] = df_jra55[['rmm2']]/df_jra55['rmm2'].loc['1979-01-01':'2008-12-31'].std()\n",
    "\n",
    "\n",
    "d1_jra55 = df_jra55['rmm1'][(df_jra55.index >= datetime.datetime(st,1,1)) & (df_jra55.index  <= datetime.datetime(en,12,31))]\n",
    "d2_jra55 = df_jra55['rmm2'][(df_jra55.index >= datetime.datetime(st,1,1)) & (df_jra55.index  <= datetime.datetime(en,12,31))]\n",
    "\n",
    "mjo_ind_jra = (d1_jra55**2+d2_jra55**2)**0.5\n",
    "\n",
    "\n",
    "phase1_jra = theta1_cal( d1_jra55, d2_jra55 )\n",
    "amp1_jra = mjo_ind_jra.loc[str(st)+'-01-01':str(en)+'-12-31']\n",
    "\n",
    "print(np.mean(amp1_jra),np.std(mjo_ind_jra)*factor, np.std(amp1_jra.loc['1979-01-01':'2008-12-31'])*factor)"
   ]
  },
  {
   "cell_type": "code",
   "execution_count": 9,
   "metadata": {},
   "outputs": [],
   "source": [
    "len(phase1_jra)\n",
    "p_jra = phase1_jra[aa]"
   ]
  },
  {
   "cell_type": "code",
   "execution_count": 10,
   "metadata": {},
   "outputs": [
    {
     "name": "stdout",
     "output_type": "stream",
     "text": [
      "7564\n",
      "5616\n"
     ]
    }
   ],
   "source": [
    "print(len(np.where(phase1_wh04_filt==phase1_jra)[0]))\n",
    "print(len(np.where(p_jra == p_wh4)[0]))\n"
   ]
  },
  {
   "cell_type": "markdown",
   "metadata": {},
   "source": [
    "## Oliver Index"
   ]
  },
  {
   "cell_type": "code",
   "execution_count": 11,
   "metadata": {},
   "outputs": [
    {
     "data": {
      "text/plain": [
       "(1.1158180346667133,\n",
       " 0.7438786897778088,\n",
       " 1.0800699805908072,\n",
       " 1.0856177484650396)"
      ]
     },
     "execution_count": 11,
     "metadata": {},
     "output_type": "execute_result"
    }
   ],
   "source": [
    "df2 = pd.read_csv('rmm_oliver_20CRv3.csv')\n",
    "df2['Datetime'] = df2.year.map(str) + '-' + df2.month.map(str) + '-'+df2.day.map(str) \n",
    "df2.index = pd.to_datetime(df2.Datetime)\n",
    "df2 = df2.drop('Datetime',axis=1)\n",
    "\n",
    "\n",
    "\n",
    "d1_ol = df2['IHR1'][(df2.index >= datetime.datetime(st,1,1)) & (df2.index  <= datetime.datetime(en,12,31))]\n",
    "d2_ol = df2['IHR2'][(df2.index >= datetime.datetime(st,1,1)) & (df2.index  <= datetime.datetime(en,12,31))]\n",
    "\n",
    "mjo_ind_ol = (d1_ol**2+d2_ol**2)**0.5\n",
    "\n",
    "\n",
    "phase1_ol = theta1_cal( d1_ol, d2_ol )\n",
    "amp1_ol = mjo_ind_ol.loc[str(st)+'-01-01':str(en)+'-12-31']\n",
    "\n",
    "factor*np.std(amp1_ol),np.std(amp1_ol),np.std(d1_ol),np.std(d2_ol)"
   ]
  },
  {
   "cell_type": "code",
   "execution_count": 12,
   "metadata": {},
   "outputs": [],
   "source": [
    "len(phase1_ol);\n",
    "p_ol = phase1_ol[aa]"
   ]
  },
  {
   "cell_type": "code",
   "execution_count": 13,
   "metadata": {},
   "outputs": [
    {
     "name": "stdout",
     "output_type": "stream",
     "text": [
      "6022\n",
      "4567\n"
     ]
    }
   ],
   "source": [
    "print(len(np.where(phase1_wh04_filt==phase1_ol)[0]))\n",
    "print(len(np.where(p_ol == p_wh4)[0]))\n"
   ]
  },
  {
   "cell_type": "code",
   "execution_count": 14,
   "metadata": {},
   "outputs": [],
   "source": [
    "# t123_ol, t567_ol = phase_freq_cal(phase1_ol,amp1_ol,threshold,st,n)\n",
    "# plt.figure (figsize=(15,5))\n",
    "# plt.plot(t567_ol)"
   ]
  },
  {
   "cell_type": "markdown",
   "metadata": {},
   "source": [
    "## CONV index "
   ]
  },
  {
   "cell_type": "code",
   "execution_count": 15,
   "metadata": {},
   "outputs": [
    {
     "data": {
      "text/plain": [
       "(0.9719977472634631, 0.647998498175642, 0.9863055197217344, 0.993563975994345)"
      ]
     },
     "execution_count": 15,
     "metadata": {},
     "output_type": "execute_result"
    }
   ],
   "source": [
    "#df1 = pd.read_csv('rmm1_1905_2015_svr_predict.txt')\n",
    "df1 = pd.read_csv('/home/cccr/supriyo/panini/filtered_data/historical/JGRJD/conv1d/ensamble4/ensamble_conv1d_jgrjd_rmm1_p1.csv')\n",
    "df1.columns = ['Datetime','rmm1']\n",
    "df1.index = pd.to_datetime(df1.Datetime)\n",
    "df1 = df1.drop('Datetime',axis=1)\n",
    "\n",
    "\n",
    "df2 = pd.read_csv('/home/cccr/supriyo/panini/filtered_data/historical/JGRJD/conv1d/ensamble4/ensamble_conv1d_jgrjd_rmm2.csv')\n",
    "df2.columns = ['Datetime','rmm2']\n",
    "df2.index = pd.to_datetime(df2.Datetime)\n",
    "df2 = df2.drop('Datetime',axis=1)\n",
    "\n",
    "df1.columns =['rmm1']\n",
    "df2.columns =['rmm2']\n",
    "\n",
    "\n",
    "d1_conv = df1['rmm1'][(df1.index >= datetime.datetime(st,1,1)) & (df1.index  <= datetime.datetime(en,12,31))]\n",
    "d2_conv = df2['rmm2'][(df2.index >= datetime.datetime(st,1,1)) & (df2.index  <= datetime.datetime(en,12,31))]\n",
    "\n",
    "mjo_ind_conv = (d1_conv**2+d2_conv**2)**0.5\n",
    "\n",
    "phase1_conv = theta1_cal( d1_conv, d2_conv )\n",
    "amp1_conv = mjo_ind_conv*1#.loc[str(st)+'-01-01':str(en)+'-12-31']\n",
    "\n",
    "factor*np.std(amp1_conv),np.std(amp1_conv),np.std(d1_conv),np.std(d2_conv)"
   ]
  },
  {
   "cell_type": "code",
   "execution_count": 16,
   "metadata": {},
   "outputs": [],
   "source": [
    "len(phase1_conv);\n",
    "p_conv = phase1_conv[aa]"
   ]
  },
  {
   "cell_type": "code",
   "execution_count": 17,
   "metadata": {},
   "outputs": [
    {
     "name": "stdout",
     "output_type": "stream",
     "text": [
      "6795\n",
      "5057\n"
     ]
    }
   ],
   "source": [
    "print(len(np.where(phase1_wh04_filt==phase1_conv)[0]));\n",
    "print(len(np.where(p_wh4==p_conv)[0]))"
   ]
  },
  {
   "cell_type": "markdown",
   "metadata": {},
   "source": [
    "## CONV2D "
   ]
  },
  {
   "cell_type": "code",
   "execution_count": 18,
   "metadata": {},
   "outputs": [
    {
     "name": "stdout",
     "output_type": "stream",
     "text": [
      "1.2149624322445833 1.027684416932979 1.0350414032616615\n"
     ]
    }
   ],
   "source": [
    "df11 = pd.read_csv('/home/cccr/supriyo/panini/filtered_data/historical/JGRJD/deep_CNN/rmm1_conv_minmaxscale_1905_2015.csv')\n",
    "\n",
    "df11.columns = ['Datetime','rmm1']\n",
    "df11.index = pd.to_datetime(df11.Datetime)\n",
    "df11_c2d = df11.drop('Datetime',axis=1)\n",
    "\n",
    "\n",
    "\n",
    "df22 = pd.read_csv('/home/cccr/supriyo/panini/filtered_data/historical/JGRJD/deep_CNN/rmm2_conv_minmaxscale_1905_2015.csv')\n",
    "\n",
    "df22.columns = ['Datetime','rmm2']\n",
    "df22.index = pd.to_datetime(df22.Datetime)\n",
    "df22_c2d = df22.drop('Datetime',axis=1)\n",
    "\n",
    "\n",
    "df11_c2d = df11_c2d[['rmm1']]/df11_c2d['rmm1'].loc['1979-01-01':'2008-12-31'].std()\n",
    "df22_c2d = df22_c2d[['rmm2']]/df22_c2d['rmm2'].loc['1979-01-01':'2008-12-31'].std()\n",
    "\n",
    "\n",
    "d1_c2d = df11_c2d['rmm1'][(df11_c2d.index >= datetime.datetime(st,1,1)) & (df11_c2d.index  <= datetime.datetime(en,12,31))]\n",
    "d2_c2d = df22_c2d['rmm2'][(df22_c2d.index >= datetime.datetime(st,1,1)) & (df22_c2d.index  <= datetime.datetime(en,12,31))]\n",
    "\n",
    "mjo_ind_c2d = (d1_c2d**2+d2_c2d**2)**0.5\n",
    "\n",
    "phase1_c2d = theta1_cal( d1_c2d, d2_c2d )\n",
    "amp1_c2d = mjo_ind_c2d.loc[str(st)+'-01-01':str(en)+'-12-31']\n",
    "\n",
    "print(np.mean(amp1_c2d),np.std(amp1_c2d)*factor,np.std(amp1_c2d.loc['1979-01-01':'2008-12-31'])*factor)"
   ]
  },
  {
   "cell_type": "code",
   "execution_count": 19,
   "metadata": {},
   "outputs": [],
   "source": [
    "len(phase1_c2d);\n",
    "p_c2d = phase1_c2d[aa]"
   ]
  },
  {
   "cell_type": "code",
   "execution_count": 20,
   "metadata": {},
   "outputs": [
    {
     "name": "stdout",
     "output_type": "stream",
     "text": [
      "8307\n",
      "5983\n"
     ]
    }
   ],
   "source": [
    "print(len(np.where(phase1_wh04_filt==phase1_c2d)[0]))\n",
    "print(len(np.where(p_c2d == p_wh4)[0]))\n"
   ]
  },
  {
   "cell_type": "markdown",
   "metadata": {},
   "source": [
    "## MLR"
   ]
  },
  {
   "cell_type": "code",
   "execution_count": 21,
   "metadata": {},
   "outputs": [
    {
     "data": {
      "text/plain": [
       "(1.0216843987558852,\n",
       " 0.6811229325039234,\n",
       " 0.9909226766162313,\n",
       " 0.9958432109646992)"
      ]
     },
     "execution_count": 21,
     "metadata": {},
     "output_type": "execute_result"
    }
   ],
   "source": [
    "df1 = pd.read_csv('/home/cccr/supriyo/panini/filtered_data/historical/JGRJD/multiple_regression/rmm1_MLR_org.txt')\n",
    "df1.columns = ['Datetime','rmm1']\n",
    "df1.index = pd.to_datetime(df1.Datetime)\n",
    "df1 = df1.drop('Datetime',axis=1)\n",
    "df1 = df1[['rmm1']]/df1['rmm1'].loc['1979-01-01':'2008-12-31'].std()\n",
    "\n",
    "\n",
    "df2 = pd.read_csv('/home/cccr/supriyo/panini/filtered_data/historical/JGRJD/multiple_regression/rmm2_MLR_org.txt')\n",
    "df2.columns = ['Datetime','rmm2']\n",
    "df2.index = pd.to_datetime(df2.Datetime)\n",
    "df2 = df2.drop('Datetime',axis=1)\n",
    "df2 = df2[['rmm2']]/df2['rmm2'].loc['1979-01-01':'2008-12-31'].std()\n",
    "\n",
    "df1.columns =['rmm1']\n",
    "df2.columns =['rmm2']\n",
    "\n",
    "\n",
    "d1_mlr = df1['rmm1'][(df1.index >= datetime.datetime(st,1,1)) & (df1.index  <= datetime.datetime(en,12,31))]\n",
    "d2_mlr = df2['rmm2'][(df2.index >= datetime.datetime(st,1,1)) & (df2.index  <= datetime.datetime(en,12,31))]\n",
    "\n",
    "mjo_ind_mlr = (d1_mlr**2+d2_mlr**2)**0.5\n",
    "\n",
    "phase1_mlr = theta1_cal( d1_mlr, d2_mlr )\n",
    "amp1_mlr = mjo_ind_mlr.loc[str(st)+'-01-01':str(en)+'-12-31']\n",
    "1.5*np.std(amp1_mlr),np.std(amp1_mlr),np.std(d1_mlr),np.std(d2_mlr)"
   ]
  },
  {
   "cell_type": "code",
   "execution_count": 22,
   "metadata": {},
   "outputs": [],
   "source": [
    "len(phase1_mlr);\n",
    "p_mlr = phase1_mlr[aa]"
   ]
  },
  {
   "cell_type": "code",
   "execution_count": 23,
   "metadata": {},
   "outputs": [
    {
     "name": "stdout",
     "output_type": "stream",
     "text": [
      "6108\n",
      "4643\n"
     ]
    }
   ],
   "source": [
    "print(len(np.where(phase1_wh04_filt==phase1_mlr)[0]));\n",
    "print(len(np.where(p_wh4==p_mlr)[0]))"
   ]
  },
  {
   "cell_type": "markdown",
   "metadata": {},
   "source": [
    "## SVR"
   ]
  },
  {
   "cell_type": "code",
   "execution_count": 24,
   "metadata": {},
   "outputs": [
    {
     "data": {
      "text/plain": [
       "(1.014446162996592, 0.676297441997728, 0.9911516945771639, 0.994560017298072)"
      ]
     },
     "execution_count": 24,
     "metadata": {},
     "output_type": "execute_result"
    }
   ],
   "source": [
    "df_svr11 = pd.read_csv('/home/cccr/supriyo/panini/filtered_data/historical/JGRJD/SVR/rmm1_1905_2015_svr_org_new.txt')\n",
    "\n",
    "df_svr11.columns = ['Datetime','rmm1']\n",
    "df_svr11.index = pd.to_datetime(df_svr11.Datetime)\n",
    "df_svr11 = df_svr11.drop('Datetime',axis=1)\n",
    "df_svr11 = df_svr11[['rmm1']]/df_svr11['rmm1'].loc['1979-01-01':'2008-12-31'].std()\n",
    "\n",
    "\n",
    "df_svr22 = pd.read_csv('/home/cccr/supriyo/panini/filtered_data/historical/JGRJD/SVR/rmm2_1905_2015_svr_org_new.txt')\n",
    "df_svr22.columns = ['Datetime','rmm2']\n",
    "df_svr22.index = pd.to_datetime(df_svr22.Datetime)\n",
    "df_svr22 = df_svr22.drop('Datetime',axis=1)\n",
    "df_svr22 = df_svr22[['rmm2']]/df_svr22['rmm2'].loc['1979-01-01':'2008-12-31'].std()\n",
    "\n",
    "d1_svr = df_svr11['rmm1'][(df_svr11.index >= datetime.datetime(st,1,1)) & (df_svr11.index  <= datetime.datetime(en,12,31))]\n",
    "d2_svr = df_svr22['rmm2'][(df_svr22.index >= datetime.datetime(st,1,1)) & (df_svr22.index  <= datetime.datetime(en,12,31))]\n",
    "\n",
    "mjo_ind_svr = (d1_svr**2+d2_svr**2)**0.5\n",
    "\n",
    "phase1_svr = theta1_cal( d1_svr,d2_svr)\n",
    "amp1_svr = mjo_ind_svr.loc[str(st)+'-01-01':str(en)+'-12-31']\n",
    "1.5*np.std(amp1_svr),np.std(amp1_svr),np.std(d1_svr),np.std(d2_svr)"
   ]
  },
  {
   "cell_type": "code",
   "execution_count": 25,
   "metadata": {},
   "outputs": [],
   "source": [
    "len(phase1_svr);\n",
    "p_svr = phase1_svr[aa]"
   ]
  },
  {
   "cell_type": "code",
   "execution_count": 26,
   "metadata": {},
   "outputs": [
    {
     "name": "stdout",
     "output_type": "stream",
     "text": [
      "6066\n",
      "4578\n"
     ]
    }
   ],
   "source": [
    "print(len(np.where(phase1_wh04_filt==phase1_svr)[0]));\n",
    "print(len(np.where(p_wh4==p_svr)[0]))"
   ]
  },
  {
   "cell_type": "markdown",
   "metadata": {},
   "source": [
    "## Each phase match"
   ]
  },
  {
   "cell_type": "code",
   "execution_count": 27,
   "metadata": {},
   "outputs": [],
   "source": [
    "def match_ind(phase1,amp1):\n",
    "    ind1 = np.zeros((8,),dtype=object)\n",
    "    for i in range(8):\n",
    "        ind1[i] = np.intersect1d( np.where(amp1>factor*np.std(amp1.loc['1979-01-01':'2014-12-31']))[0], np.where(phase1==i+1)[0] )\n",
    "    return ind1"
   ]
  },
  {
   "cell_type": "code",
   "execution_count": 28,
   "metadata": {},
   "outputs": [],
   "source": [
    "ind1_wh04 = match_ind(phase1_wh04_filt,amp1_wh04_filt)\n",
    "ind1_ol = match_ind(phase1_ol,amp1_ol)\n",
    "ind1_mlr = match_ind(phase1_mlr,amp1_mlr)\n",
    "ind1_conv = match_ind(phase1_conv,amp1_conv)\n",
    "ind1_c2d = match_ind(phase1_c2d,amp1_c2d)\n",
    "ind1_jra = match_ind(phase1_jra,amp1_jra)\n",
    "ind1_svr = match_ind(phase1_svr,amp1_svr)\n"
   ]
  },
  {
   "cell_type": "code",
   "execution_count": 29,
   "metadata": {},
   "outputs": [],
   "source": [
    "# # len(np.intersect1d(ind1_wh04[2][:500],ind1_conv[2][:500]))\n",
    "# plt.plot(ind1_wh04[3][:20])\n",
    "# plt.plot(ind1_conv[3][:20])\n",
    "# plt.plot(ind1_ol[3][:20])\n",
    "# np.intersect1d(ind1_wh04[3][:20],ind1_conv[3][:20])\n",
    "\n",
    "# ind1_wh04[3][:20],ind1_conv[3][:20]"
   ]
  },
  {
   "cell_type": "code",
   "execution_count": 30,
   "metadata": {},
   "outputs": [
    {
     "data": {
      "text/plain": [
       "array([1])"
      ]
     },
     "execution_count": 30,
     "metadata": {},
     "output_type": "execute_result"
    }
   ],
   "source": [
    "A = np.array([1,2,3])\n",
    "B = np.array([1,4,5])\n",
    "np.intersect1d(A,B)"
   ]
  },
  {
   "cell_type": "code",
   "execution_count": 31,
   "metadata": {},
   "outputs": [
    {
     "data": {
      "text/plain": [
       "<matplotlib.legend.Legend at 0x2b32e759b6a0>"
      ]
     },
     "execution_count": 31,
     "metadata": {},
     "output_type": "execute_result"
    },
    {
     "data": {
      "image/png": "[encoded data removed]",
      "text/plain": [
       "<Figure size 432x288 with 1 Axes>"
      ]
     },
     "metadata": {
      "needs_background": "light"
     },
     "output_type": "display_data"
    }
   ],
   "source": [
    "convmatch =np.zeros(8,)\n",
    "olmatch =np.zeros(8,)\n",
    "svrmatch = np.zeros(8,)\n",
    "mlrmatch = np.zeros(8,)\n",
    "jramatch =np.zeros(8,)\n",
    "c2dmatch = np.zeros(8,)\n",
    "\n",
    "\n",
    "rat_conv= np.zeros(8,)\n",
    "rat_ol = np.zeros(8,)\n",
    "rat_svr = np.zeros(8,)\n",
    "rat_mlr = np.zeros(8,)\n",
    "rat_jra = np.zeros(8,)\n",
    "rat_c2d = np.zeros(8,)\n",
    "\n",
    "wh04_occ = np.zeros(8,)\n",
    "\n",
    "for i in range(8):\n",
    "    convmatch[i] = len(np.intersect1d(ind1_wh04[i],ind1_conv[i]))\n",
    "    olmatch[i]   = len(np.intersect1d(ind1_wh04[i],ind1_ol[i]))\n",
    "    svrmatch[i]   = len(np.intersect1d(ind1_wh04[i],ind1_svr[i]))\n",
    "    mlrmatch[i]   = len(np.intersect1d(ind1_wh04[i],ind1_mlr[i]))\n",
    "    jramatch[i]   = len(np.intersect1d(ind1_wh04[i],ind1_jra[i]))\n",
    "    c2dmatch[i]   = len(np.intersect1d(ind1_wh04[i],ind1_c2d[i]))\n",
    "\n",
    "    \n",
    "    rat_conv[i]  =  convmatch[i]/len(ind1_conv[i])\n",
    "    rat_ol[i]    =  olmatch[i]/len(ind1_ol[i])\n",
    "    rat_svr[i]    =  svrmatch[i]/len(ind1_svr[i])\n",
    "    rat_mlr[i]    =  mlrmatch[i]/len(ind1_mlr[i])\n",
    "    rat_jra[i]    =  jramatch[i]/len(ind1_jra[i])\n",
    "    rat_c2d[i]    =  c2dmatch[i]/len(ind1_c2d[i])\n",
    "\n",
    "    wh04_occ[i]  =  len(ind1_wh04[i])\n",
    "\n",
    "plt.plot(np.arange(1,9,1),convmatch/wh04_occ,'-o',label ='cnn-1d')\n",
    "plt.plot(np.arange(1,9,1),olmatch/wh04_occ,'-o',label='OT12')\n",
    "plt.plot(np.arange(1,9,1),svrmatch/wh04_occ,'-o',label='svr')\n",
    "plt.plot(np.arange(1,9,1),mlrmatch/wh04_occ,'-o',label='mlr')\n",
    "plt.plot(np.arange(1,9,1),jramatch/wh04_occ,'-o',label='jra')\n",
    "plt.plot(np.arange(1,9,1),c2dmatch/wh04_occ,'-o',label='c2d')\n",
    "\n",
    "plt.legend()\n",
    "# plt.plot(np.arange(1,9,1),wh04_occ,'-o')\n",
    "\n",
    "# convmatch/wh04_occ-olmatch/wh04_occ,svrmatch/wh04_occ-olmatch/wh04_occ"
   ]
  },
  {
   "cell_type": "code",
   "execution_count": 32,
   "metadata": {},
   "outputs": [
    {
     "data": {
      "text/plain": [
       "<matplotlib.legend.Legend at 0x2b32e74565f8>"
      ]
     },
     "execution_count": 32,
     "metadata": {},
     "output_type": "execute_result"
    },
    {
     "data": {
      "image/png": "[encoded data removed]",
      "text/plain": [
       "<Figure size 1080x360 with 2 Axes>"
      ]
     },
     "metadata": {
      "needs_background": "light"
     },
     "output_type": "display_data"
    }
   ],
   "source": [
    "fig,ax= plt.subplots(1,2,figsize=(15,5))\n",
    "plt.rcParams['font.weight'] = 'normal'\n",
    "plt.rcParams['font.size'] = 15\n",
    "plt.rcParams['image.cmap'] = 'seismic'\n",
    "\n",
    "\n",
    "\n",
    "ax[0].plot(np.arange(1,9,1),convmatch/wh04_occ,'-o',label='conv')\n",
    "ax[0].plot(np.arange(1,9,1),olmatch/wh04_occ,'-o',label='oliver')\n",
    "ax[0].plot(np.arange(1,9,1),mlrmatch/wh04_occ,'-o',label='mlr')\n",
    "ax[0].plot(np.arange(1,9,1),svrmatch/wh04_occ,'-o',label='svr')\n",
    "ax[0].plot(np.arange(1,9,1),jramatch/wh04_occ,'-o',label='jra')\n",
    "ax[0].set_ylim([0.35,0.7])\n",
    "# ax[0].plot(np.arange(1,9,1),c2dmatch/wh04_occ,'-o',label='c2d')\n",
    "\n",
    "ax[1].plot(np.arange(1,9,1),rat_conv,'-o',label='conv')\n",
    "ax[1].plot(np.arange(1,9,1),rat_ol,'-o',label='ol')\n",
    "ax[1].plot(np.arange(1,9,1),rat_mlr,'-o',label='mlr')\n",
    "ax[1].plot(np.arange(1,9,1),rat_svr,'-o',label='svr')\n",
    "ax[1].plot(np.arange(1,9,1),rat_jra,'-o',label='jra')\n",
    "# ax[1].plot(np.arange(1,9,1),rat_c2d,'-o',label='c2d')\n",
    "ax[1].set_ylim([0.35,0.7])\n",
    "\n",
    "fig.text(0.5, -0.03, 'MJO Phases', ha='center',fontsize=22)\n",
    "fig.text(0.05, 0.5, 'Percentage (%)', va='center', rotation='vertical',fontsize=22)\n",
    "rat_conv,rat_ol\n",
    "plt.legend(bbox_to_anchor=(1.3,0.5),loc=\"right\",ncol=1)\n",
    "# fig.savefig('/home/cccr/supriyo/panini/jgrjd_figure/modified/jgrjd_supplementary_figure2.png',dpi=300,bbox_inches='tight')"
   ]
  },
  {
   "cell_type": "code",
   "execution_count": 47,
   "metadata": {},
   "outputs": [
    {
     "data": {
      "image/png": "[encoded data removed]",
      "text/plain": [
       "<Figure size 576x576 with 1 Axes>"
      ]
     },
     "metadata": {
      "needs_background": "light"
     },
     "output_type": "display_data"
    }
   ],
   "source": [
    "fig,ax= plt.subplots(1,1,figsize=(8,8))\n",
    "plt.rcParams['font.weight'] = 'normal'\n",
    "plt.rcParams['font.size'] = 15\n",
    "plt.rcParams['image.cmap'] = 'seismic'\n",
    "\n",
    "\n",
    "\n",
    "ax.plot(np.arange(1,9,1),convmatch/wh04_occ,'-o',label='CNN-1D')\n",
    "ax.plot(np.arange(1,9,1),olmatch/wh04_occ,'-o',label='OT12')\n",
    "ax.plot(np.arange(1,9,1),mlrmatch/wh04_occ,'-o',label='MLR')\n",
    "ax.plot(np.arange(1,9,1),svrmatch/wh04_occ,'-o',label='SVR')\n",
    "ax.plot(np.arange(1,9,1),jramatch/wh04_occ,'-o',label='JRA55')\n",
    "ax.set_ylim([0.35,0.7])\n",
    "# ax.plot(np.arange(1,9,1),c2dmatch/wh04_occ,'-o',label='c2d')\n",
    "\n",
    "ax.set_xlabel( 'MJO Phases')\n",
    "ax.set_ylabel( 'Percentage (%)')\n",
    "rat_conv,rat_ol\n",
    "plt.legend(bbox_to_anchor=(1.3,0.5),loc=\"right\",ncol=1)\n",
    "fig.savefig('/home/cccr/supriyo/panini/jgrjd_figure/modified_revision/jgrjd_supplementary_figure2.jpg',dpi=300,bbox_inches='tight')"
   ]
  },
  {
   "cell_type": "code",
   "execution_count": 33,
   "metadata": {},
   "outputs": [],
   "source": [
    "# t123_lstm, t567_lstm = phase_freq_cal(phase1_lstm,amp1_lstm,threshold,st,n)\n",
    "# plt.figure (figsize=(15,5))\n",
    "# plt.plot(t567_lstm)"
   ]
  },
  {
   "cell_type": "code",
   "execution_count": 34,
   "metadata": {},
   "outputs": [],
   "source": [
    "# plt.figure (figsize=(15,5))\n",
    "# plt.plot(t567_wh04,'k+--',label = 'Wh04')\n",
    "# m_wh04,c_wh04,r_wh04,p_wh04,_ = stats.linregress(np.arange(1,len(t567_wh04)+1),t567_wh04)\n",
    "# plt.plot(m_wh04*np.arange(1,len(t567_wh04)+1)+c_wh04)\n",
    "# # plt.plot(t567_ol,'r',label ='ol')\n",
    "# plt.plot(t567_lstm,'bo:',label = 'lstm')\n",
    "# m_lstm,c_lstm,r_lstm,p_lstm,_ = stats.linregress(np.arange(1,len(t567_lstm)+1),t567_lstm)\n",
    "# plt.plot(m_lstm*np.arange(1,len(t567_lstm)+1)+c_lstm)\n",
    "\n",
    "# plt.legend()\n",
    "# m_wh04,m_lstm,p_wh04,p_lstm,r_wh04,r_lstm"
   ]
  },
  {
   "cell_type": "code",
   "execution_count": 35,
   "metadata": {},
   "outputs": [],
   "source": [
    "# plt.figure (figsize=(15,5))\n",
    "# plt.plot(t123_wh04,'k+--',label = 'Wh04')\n",
    "# m_wh04,c_wh04,_,p_wh04,_ = stats.linregress(np.arange(1,len(t123_wh04)+1),t123_wh04)\n",
    "# plt.plot(m_wh04*np.arange(1,len(t123_wh04)+1)+c_wh04)\n",
    "# # plt.plot(t123_ol,'r',label ='ol')\n",
    "# plt.plot(t123_lstm,'bo:',label = 'lstm')\n",
    "# m_lstm,c_lstm,_,p_lstm,_ = stats.linregress(np.arange(1,len(t123_lstm)+1),t123_lstm)\n",
    "# plt.plot(m_lstm*np.arange(1,len(t123_lstm)+1)+c_lstm)\n",
    "\n",
    "# plt.legend()\n",
    "# m_wh04,m_lstm,p_wh04,p_lstm"
   ]
  },
  {
   "cell_type": "code",
   "execution_count": 36,
   "metadata": {},
   "outputs": [],
   "source": [
    "# m,c,r,p,std = stats.linregress(np.arange(1,len(t567_wh04)+1),t567_wh04)"
   ]
  },
  {
   "cell_type": "code",
   "execution_count": 37,
   "metadata": {},
   "outputs": [],
   "source": [
    "# np.corrcoef(t567_lstm,t567_wh04)[0,1],np.corrcoef(t123_lstm,t123_wh04)[0,1]"
   ]
  },
  {
   "cell_type": "code",
   "execution_count": 38,
   "metadata": {},
   "outputs": [],
   "source": [
    "# np.corrcoef(t567_ol,t567_wh04)[0,1],np.corrcoef(t123_ol,t123_wh04)[0,1]"
   ]
  },
  {
   "cell_type": "code",
   "execution_count": null,
   "metadata": {},
   "outputs": [],
   "source": []
  }
 ],
 "metadata": {
  "kernelspec": {
   "display_name": "Python 3",
   "language": "python",
   "name": "python3"
  },
  "language_info": {
   "codemirror_mode": {
    "name": "ipython",
    "version": 3
   },
   "file_extension": ".py",
   "mimetype": "text/x-python",
   "name": "python",
   "nbconvert_exporter": "python",
   "pygments_lexer": "ipython3",
   "version": "3.7.3"
  }
 },
 "nbformat": 4,
 "nbformat_minor": 2
}
