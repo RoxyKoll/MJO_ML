{
 "cells": [
  {
   "cell_type": "code",
   "execution_count": 1,
   "metadata": {},
   "outputs": [],
   "source": [
    "import numpy as np\n",
    "import pandas as pd\n",
    "import datetime\n"
   ]
  },
  {
   "cell_type": "code",
   "execution_count": 2,
   "metadata": {},
   "outputs": [],
   "source": [
    "def runing_mean(ddt,window=5):\n",
    "\n",
    "        run  = pd.DataFrame([])\n",
    "        st   = ddt.index[0]\n",
    "        #print(ddt.index[-1])\n",
    "        for i in range(1,100000):\n",
    "            if (st <= ddt.index[-window]):\n",
    "\n",
    "                dt   = ddt[(ddt.index >= st) & (ddt.index  < st+datetime.timedelta(days=window-1))]\n",
    "\n",
    "                dtt  = pd.DataFrame(dt.mean()).T\n",
    "                #dtt['Datetime'] = st+datetime.timedelta(days=np.round(window/2,0)) \n",
    "                dtt['Datetime'] = st+datetime.timedelta(days= int(window/2.0))\n",
    "                dtt.set_index('Datetime', inplace=True)\n",
    "                run  = run.append(dtt)\n",
    "                st   = st + datetime.timedelta(days=1)\n",
    "                #print(i,st)\n",
    "        return run\n",
    "    \n",
    "def lowpass_scipy(signal,sample_freq,time_period,keep_mean):\n",
    "    import numpy as np\n",
    "    import scipy as sc\n",
    "    from scipy import fftpack\n",
    "    \n",
    "    lowpass_signal=np.zeros(signal.shape)\n",
    "    if any(np.isnan(signal)):\n",
    "        raise ValueError('There is NaN in the signal')\n",
    "    else:\n",
    "        hf = 1./time_period\n",
    "\n",
    "        temp_fft = sc.fftpack.fft(signal)\n",
    "\n",
    "        fftfreq = np.fft.fftfreq(len(signal),sample_freq) ### daily data it is 1./365 ## monthly data 1./12 ## yearly data=1\n",
    "          \n",
    "        i1 = np.abs(fftfreq) >= hf  \n",
    "        \n",
    "        temp_fft[i1] = 0\n",
    "        if not(keep_mean):\n",
    "            temp_fft[0]=0\n",
    "        lowpass_signal= np.real_if_close(sc.fftpack.ifft(temp_fft))\n",
    "    \n",
    "    return lowpass_signal\n"
   ]
  },
  {
   "cell_type": "markdown",
   "metadata": {},
   "source": [
    "## CONV"
   ]
  },
  {
   "cell_type": "code",
   "execution_count": 3,
   "metadata": {},
   "outputs": [],
   "source": [
    "# df1 = pd.read_csv('/home/cccr/supriyo/panini/filtered_data/historical/JGRJD/deep_CNN/rmm1_conv_minmaxscale_1905_2015.csv')\n",
    "\n",
    "df1 = pd.read_csv('/home/cccr/supriyo/panini/filtered_data/historical/JGRJD/deep_CNN/deep_CNN_rmm1_minmaxscalar_batchsize_100_woymnmx.csv')\n",
    "df1.columns = ['Datetime','rmm1']\n",
    "df1.columns = ['Datetime','rmm1']\n",
    "df1.index = pd.to_datetime(df1.Datetime)\n",
    "df1 = df1.drop('Datetime',axis=1)\n",
    "# df1 = df1[['rmm1']] - .00216041\n",
    "df1 = df1[['rmm1']]/df1['rmm1'].loc['1979-01-01':'2008-12-31'].std()\n",
    "# df11_conv[['rmm1']]/df11_conv['rmm1'].loc['1979-01-01':'2008-12-31'].std()\n",
    "\n",
    "df2 = pd.read_csv('/home/cccr/supriyo/panini/filtered_data/historical/JGRJD/deep_CNN/deep_CNN_rmm2_minmaxscalar_batchsize_100_woymnmx.csv')\n",
    "df2.columns = ['Datetime','rmm1']\n",
    "\n",
    "df2.columns = ['Datetime','rmm2']\n",
    "df2.index = pd.to_datetime(df2.Datetime)\n",
    "df2 = df2.drop('Datetime',axis=1)\n",
    "# df2 = df2[['rmm2']] + 0.00576935\n",
    "\n",
    "df2 = df2[['rmm2']]/df2['rmm2'].loc['1979-01-01':'2008-12-31'].std()\n",
    "\n",
    "\n",
    "st = 1906\n",
    "en = 2014\n",
    "\n",
    "d1_conv = df1['rmm1'][(df1.index >= datetime.datetime(st,1,1)) & (df1.index  <= datetime.datetime(en,12,31))]\n",
    "d2_conv = df2['rmm2'][(df2.index >= datetime.datetime(st,1,1)) & (df2.index  <= datetime.datetime(en,12,31))]\n",
    "\n",
    "mjo_ind_conv = (d1_conv**2+d2_conv**2)**0.5\n",
    "\n",
    "mjo_ind_conv_3yr = runing_mean(pd.DataFrame(mjo_ind_conv),window=365*10)"
   ]
  },
  {
   "cell_type": "code",
   "execution_count": 4,
   "metadata": {},
   "outputs": [
    {
     "data": {
      "text/plain": [
       "(0.9141466774663957, 0.9131589327333147)"
      ]
     },
     "execution_count": 4,
     "metadata": {},
     "output_type": "execute_result"
    }
   ],
   "source": [
    "d1_conv.std(),d2_conv.std()"
   ]
  },
  {
   "cell_type": "code",
   "execution_count": 5,
   "metadata": {},
   "outputs": [
    {
     "name": "stderr",
     "output_type": "stream",
     "text": [
      "/home/cccr/supriyo/.conda/envs/knp_ai/lib/python3.7/site-packages/pandas/plotting/_matplotlib/converter.py:103: FutureWarning: Using an implicitly registered datetime converter for a matplotlib plotting method. The converter was registered by pandas on import. Future versions of pandas will require you to explicitly register matplotlib converters.\n",
      "\n",
      "To register the converters:\n",
      "\t>>> from pandas.plotting import register_matplotlib_converters\n",
      "\t>>> register_matplotlib_converters()\n",
      "  warnings.warn(msg, FutureWarning)\n"
     ]
    },
    {
     "data": {
      "text/plain": [
       "[<matplotlib.lines.Line2D at 0x2aeb1fdaded0>]"
      ]
     },
     "execution_count": 5,
     "metadata": {},
     "output_type": "execute_result"
    },
    {
     "data": {
      "image/png": "[encoded data removed]",
      "text/plain": [
       "<Figure size 432x288 with 1 Axes>"
      ]
     },
     "metadata": {
      "needs_background": "light"
     },
     "output_type": "display_data"
    }
   ],
   "source": [
    "import matplotlib.pyplot as plt\n",
    "#plt.plot(d2_lstm)\n",
    "plt.plot(d1_conv)\n",
    "\n",
    "#plt.plot(d1_ol)"
   ]
  },
  {
   "cell_type": "markdown",
   "metadata": {},
   "source": [
    "## MLR"
   ]
  },
  {
   "cell_type": "code",
   "execution_count": 6,
   "metadata": {},
   "outputs": [],
   "source": [
    "df1 = pd.read_csv('/home/cccr/supriyo/panini/filtered_data/historical/JGRJD/multiple_regression/rmm1_MLR_org.txt')\n",
    "df1.columns = ['Datetime','rmm1']\n",
    "df1.index = pd.to_datetime(df1.Datetime)\n",
    "df1 = df1.drop('Datetime',axis=1)\n",
    "# df1 = df1[['rmm1']] - .00216041\n",
    "df1 = df1[['rmm1']]/df1['rmm1'].loc['1979-01-01':'2008-12-31'].std()\n",
    "\n",
    "\n",
    "df2 = pd.read_csv('/home/cccr/supriyo/panini/filtered_data/historical/JGRJD/multiple_regression/rmm2_MLR_org.txt')\n",
    "df2.columns = ['Datetime','rmm2']\n",
    "df2.index = pd.to_datetime(df2.Datetime)\n",
    "df2 = df2.drop('Datetime',axis=1)\n",
    "# df2 = df2[['rmm2']] + 0.00576935\n",
    "\n",
    "df2 = df2[['rmm2']]/df2['rmm2'].loc['1979-01-01':'2008-12-31'].std()\n",
    "\n",
    "\n",
    "st = 1906\n",
    "en = 2014\n",
    "\n",
    "d1_mlr = df1['rmm1'][(df1.index >= datetime.datetime(st,1,1)) & (df1.index  <= datetime.datetime(en,12,31))]\n",
    "d2_mlr = df2['rmm2'][(df2.index >= datetime.datetime(st,1,1)) & (df2.index  <= datetime.datetime(en,12,31))]\n",
    "\n",
    "mjo_ind_mlr = (d1_mlr**2+d2_mlr**2)**0.5\n",
    "\n",
    "mjo_ind_mlr_3yr = runing_mean(pd.DataFrame(mjo_ind_mlr),window=365*10)"
   ]
  },
  {
   "cell_type": "code",
   "execution_count": 7,
   "metadata": {},
   "outputs": [
    {
     "data": {
      "text/plain": [
       "(0.9211847665533914, 0.9176555601678564)"
      ]
     },
     "execution_count": 7,
     "metadata": {},
     "output_type": "execute_result"
    }
   ],
   "source": [
    "d1_mlr.std(),d2_mlr.std()"
   ]
  },
  {
   "cell_type": "code",
   "execution_count": 8,
   "metadata": {},
   "outputs": [
    {
     "data": {
      "text/html": [
       "<div>\n",
       "<style scoped>\n",
       "    .dataframe tbody tr th:only-of-type {\n",
       "        vertical-align: middle;\n",
       "    }\n",
       "\n",
       "    .dataframe tbody tr th {\n",
       "        vertical-align: top;\n",
       "    }\n",
       "\n",
       "    .dataframe thead th {\n",
       "        text-align: right;\n",
       "    }\n",
       "</style>\n",
       "<table border=\"1\" class=\"dataframe\">\n",
       "  <thead>\n",
       "    <tr style=\"text-align: right;\">\n",
       "      <th></th>\n",
       "      <th>0</th>\n",
       "    </tr>\n",
       "    <tr>\n",
       "      <th>Datetime</th>\n",
       "      <th></th>\n",
       "    </tr>\n",
       "  </thead>\n",
       "  <tbody>\n",
       "    <tr>\n",
       "      <th>1910-12-31</th>\n",
       "      <td>0.989900</td>\n",
       "    </tr>\n",
       "    <tr>\n",
       "      <th>1911-01-01</th>\n",
       "      <td>0.989836</td>\n",
       "    </tr>\n",
       "    <tr>\n",
       "      <th>1911-01-02</th>\n",
       "      <td>0.989637</td>\n",
       "    </tr>\n",
       "    <tr>\n",
       "      <th>1911-01-03</th>\n",
       "      <td>0.989330</td>\n",
       "    </tr>\n",
       "    <tr>\n",
       "      <th>1911-01-04</th>\n",
       "      <td>0.988959</td>\n",
       "    </tr>\n",
       "    <tr>\n",
       "      <th>...</th>\n",
       "      <td>...</td>\n",
       "    </tr>\n",
       "    <tr>\n",
       "      <th>2009-12-29</th>\n",
       "      <td>1.217159</td>\n",
       "    </tr>\n",
       "    <tr>\n",
       "      <th>2009-12-30</th>\n",
       "      <td>1.217425</td>\n",
       "    </tr>\n",
       "    <tr>\n",
       "      <th>2009-12-31</th>\n",
       "      <td>1.217662</td>\n",
       "    </tr>\n",
       "    <tr>\n",
       "      <th>2010-01-01</th>\n",
       "      <td>1.217867</td>\n",
       "    </tr>\n",
       "    <tr>\n",
       "      <th>2010-01-02</th>\n",
       "      <td>1.218033</td>\n",
       "    </tr>\n",
       "  </tbody>\n",
       "</table>\n",
       "<p>36163 rows × 1 columns</p>\n",
       "</div>"
      ],
      "text/plain": [
       "                   0\n",
       "Datetime            \n",
       "1910-12-31  0.989900\n",
       "1911-01-01  0.989836\n",
       "1911-01-02  0.989637\n",
       "1911-01-03  0.989330\n",
       "1911-01-04  0.988959\n",
       "...              ...\n",
       "2009-12-29  1.217159\n",
       "2009-12-30  1.217425\n",
       "2009-12-31  1.217662\n",
       "2010-01-01  1.217867\n",
       "2010-01-02  1.218033\n",
       "\n",
       "[36163 rows x 1 columns]"
      ]
     },
     "execution_count": 8,
     "metadata": {},
     "output_type": "execute_result"
    }
   ],
   "source": [
    "mjo_ind_mlr_3yr"
   ]
  },
  {
   "cell_type": "markdown",
   "metadata": {},
   "source": [
    "## oliver"
   ]
  },
  {
   "cell_type": "code",
   "execution_count": 9,
   "metadata": {},
   "outputs": [],
   "source": [
    "df2 = pd.read_csv('/home/cccr/supriyo/panini/data/rmm_oliver_V3.csv')\n",
    "df2['Datetime'] = df2.year.map(str) + '-' + df2.month.map(str) + '-'+df2.day.map(str) \n",
    "df2.index = pd.to_datetime(df2.Datetime)\n",
    "df2 = df2.drop('Datetime',axis=1)\n",
    "\n",
    "\n",
    "d1_ol = df2['IHR1'][(df2.index >= datetime.datetime(st,1,1)) & (df2.index  <= datetime.datetime(en,12,31))]\n",
    "d2_ol = df2['IHR2'][(df2.index >= datetime.datetime(st,1,1)) & (df2.index  <= datetime.datetime(en,12,31))]\n",
    "\n",
    "mjo_ind_ol = (d1_ol**2+d2_ol**2)**0.5\n",
    "mjo_ind_ol_3yr = runing_mean(pd.DataFrame(mjo_ind_ol),window=365*10)"
   ]
  },
  {
   "cell_type": "code",
   "execution_count": 10,
   "metadata": {},
   "outputs": [
    {
     "data": {
      "text/html": [
       "<div>\n",
       "<style scoped>\n",
       "    .dataframe tbody tr th:only-of-type {\n",
       "        vertical-align: middle;\n",
       "    }\n",
       "\n",
       "    .dataframe tbody tr th {\n",
       "        vertical-align: top;\n",
       "    }\n",
       "\n",
       "    .dataframe thead th {\n",
       "        text-align: right;\n",
       "    }\n",
       "</style>\n",
       "<table border=\"1\" class=\"dataframe\">\n",
       "  <thead>\n",
       "    <tr style=\"text-align: right;\">\n",
       "      <th></th>\n",
       "      <th>year</th>\n",
       "      <th>month</th>\n",
       "      <th>day</th>\n",
       "      <th>IHR1</th>\n",
       "      <th>IHR2</th>\n",
       "      <th>amplitude</th>\n",
       "      <th>phase</th>\n",
       "    </tr>\n",
       "    <tr>\n",
       "      <th>Datetime</th>\n",
       "      <th></th>\n",
       "      <th></th>\n",
       "      <th></th>\n",
       "      <th></th>\n",
       "      <th></th>\n",
       "      <th></th>\n",
       "      <th></th>\n",
       "    </tr>\n",
       "  </thead>\n",
       "  <tbody>\n",
       "    <tr>\n",
       "      <th>1905-01-01</th>\n",
       "      <td>1905</td>\n",
       "      <td>1</td>\n",
       "      <td>1</td>\n",
       "      <td>-0.31630</td>\n",
       "      <td>0.92124</td>\n",
       "      <td>0.97402</td>\n",
       "      <td>7</td>\n",
       "    </tr>\n",
       "    <tr>\n",
       "      <th>1905-01-02</th>\n",
       "      <td>1905</td>\n",
       "      <td>1</td>\n",
       "      <td>2</td>\n",
       "      <td>-0.25250</td>\n",
       "      <td>1.03970</td>\n",
       "      <td>1.06990</td>\n",
       "      <td>7</td>\n",
       "    </tr>\n",
       "    <tr>\n",
       "      <th>1905-01-03</th>\n",
       "      <td>1905</td>\n",
       "      <td>1</td>\n",
       "      <td>3</td>\n",
       "      <td>-0.22799</td>\n",
       "      <td>1.17100</td>\n",
       "      <td>1.19300</td>\n",
       "      <td>7</td>\n",
       "    </tr>\n",
       "    <tr>\n",
       "      <th>1905-01-04</th>\n",
       "      <td>1905</td>\n",
       "      <td>1</td>\n",
       "      <td>4</td>\n",
       "      <td>-0.24878</td>\n",
       "      <td>1.26160</td>\n",
       "      <td>1.28590</td>\n",
       "      <td>7</td>\n",
       "    </tr>\n",
       "    <tr>\n",
       "      <th>1905-01-05</th>\n",
       "      <td>1905</td>\n",
       "      <td>1</td>\n",
       "      <td>5</td>\n",
       "      <td>-0.28857</td>\n",
       "      <td>1.27590</td>\n",
       "      <td>1.30820</td>\n",
       "      <td>7</td>\n",
       "    </tr>\n",
       "    <tr>\n",
       "      <th>...</th>\n",
       "      <td>...</td>\n",
       "      <td>...</td>\n",
       "      <td>...</td>\n",
       "      <td>...</td>\n",
       "      <td>...</td>\n",
       "      <td>...</td>\n",
       "      <td>...</td>\n",
       "    </tr>\n",
       "    <tr>\n",
       "      <th>2015-12-27</th>\n",
       "      <td>2015</td>\n",
       "      <td>12</td>\n",
       "      <td>27</td>\n",
       "      <td>-0.18839</td>\n",
       "      <td>2.92390</td>\n",
       "      <td>2.93000</td>\n",
       "      <td>7</td>\n",
       "    </tr>\n",
       "    <tr>\n",
       "      <th>2015-12-28</th>\n",
       "      <td>2015</td>\n",
       "      <td>12</td>\n",
       "      <td>28</td>\n",
       "      <td>-0.67331</td>\n",
       "      <td>2.84920</td>\n",
       "      <td>2.92770</td>\n",
       "      <td>7</td>\n",
       "    </tr>\n",
       "    <tr>\n",
       "      <th>2015-12-29</th>\n",
       "      <td>2015</td>\n",
       "      <td>12</td>\n",
       "      <td>29</td>\n",
       "      <td>-1.24320</td>\n",
       "      <td>2.43040</td>\n",
       "      <td>2.72990</td>\n",
       "      <td>7</td>\n",
       "    </tr>\n",
       "    <tr>\n",
       "      <th>2015-12-30</th>\n",
       "      <td>2015</td>\n",
       "      <td>12</td>\n",
       "      <td>30</td>\n",
       "      <td>-1.74790</td>\n",
       "      <td>1.83300</td>\n",
       "      <td>2.53280</td>\n",
       "      <td>7</td>\n",
       "    </tr>\n",
       "    <tr>\n",
       "      <th>2015-12-31</th>\n",
       "      <td>2015</td>\n",
       "      <td>12</td>\n",
       "      <td>31</td>\n",
       "      <td>-2.25990</td>\n",
       "      <td>0.74776</td>\n",
       "      <td>2.38040</td>\n",
       "      <td>8</td>\n",
       "    </tr>\n",
       "  </tbody>\n",
       "</table>\n",
       "<p>40542 rows × 7 columns</p>\n",
       "</div>"
      ],
      "text/plain": [
       "            year  month  day     IHR1     IHR2  amplitude  phase\n",
       "Datetime                                                        \n",
       "1905-01-01  1905      1    1 -0.31630  0.92124    0.97402      7\n",
       "1905-01-02  1905      1    2 -0.25250  1.03970    1.06990      7\n",
       "1905-01-03  1905      1    3 -0.22799  1.17100    1.19300      7\n",
       "1905-01-04  1905      1    4 -0.24878  1.26160    1.28590      7\n",
       "1905-01-05  1905      1    5 -0.28857  1.27590    1.30820      7\n",
       "...          ...    ...  ...      ...      ...        ...    ...\n",
       "2015-12-27  2015     12   27 -0.18839  2.92390    2.93000      7\n",
       "2015-12-28  2015     12   28 -0.67331  2.84920    2.92770      7\n",
       "2015-12-29  2015     12   29 -1.24320  2.43040    2.72990      7\n",
       "2015-12-30  2015     12   30 -1.74790  1.83300    2.53280      7\n",
       "2015-12-31  2015     12   31 -2.25990  0.74776    2.38040      8\n",
       "\n",
       "[40542 rows x 7 columns]"
      ]
     },
     "execution_count": 10,
     "metadata": {},
     "output_type": "execute_result"
    }
   ],
   "source": [
    "df2"
   ]
  },
  {
   "cell_type": "code",
   "execution_count": 11,
   "metadata": {},
   "outputs": [
    {
     "data": {
      "text/plain": [
       "1.0017612705888617"
      ]
     },
     "execution_count": 11,
     "metadata": {},
     "output_type": "execute_result"
    },
    {
     "data": {
      "image/png": "[encoded data removed]",
      "text/plain": [
       "<Figure size 432x288 with 1 Axes>"
      ]
     },
     "metadata": {
      "needs_background": "light"
     },
     "output_type": "display_data"
    }
   ],
   "source": [
    "plt.plot(d1_ol)\n",
    "d1_ol.std()"
   ]
  },
  {
   "cell_type": "markdown",
   "metadata": {},
   "source": [
    "## WH04 RMM "
   ]
  },
  {
   "cell_type": "code",
   "execution_count": 12,
   "metadata": {},
   "outputs": [
    {
     "name": "stderr",
     "output_type": "stream",
     "text": [
      "/home/cccr/supriyo/.conda/envs/knp_ai/lib/python3.7/site-packages/scipy/fft/_pocketfft/helper.py:95: FutureWarning: Series.flags is deprecated and will be removed in a future version\n",
      "  return np.array(x, copy=not x.flags['ALIGNED'])\n"
     ]
    }
   ],
   "source": [
    "rmm         = pd.read_csv('/home/cccr/supriyo/panini/filtered_data/historical/20CRV2_analysis/rmm_index.csv')\n",
    "rmm.columns = ['date','rmm1','rmm2']\n",
    "\n",
    "rmm.index   = pd.to_datetime(rmm.date)\n",
    "rmm = rmm.drop('date',axis=1)\n",
    "\n",
    "st =1979 ;en =2015\n",
    "\n",
    "d1_wh04 = rmm['rmm1'].loc[str(st)+'-01-01':str(en)+'-12-31']\n",
    "d2_wh04 = rmm['rmm2'].loc[str(st)+'-01-01':str(en)+'-12-31']\n",
    "d11=lowpass_scipy(d1_wh04,1,10,1)\n",
    "d11 = pd.Series(d11,index=d1_wh04.index)\n",
    "\n",
    "d22=lowpass_scipy(d2_wh04,1,10,1)\n",
    "d22 = pd.Series(d22,index=d2_wh04.index)\n",
    "\n",
    "mjo_ind_wh04 = (d11**2+d22**2)**0.5\n",
    "mjo_ind_wh04_3yr = runing_mean(pd.DataFrame(mjo_ind_wh04),window=365*10)"
   ]
  },
  {
   "cell_type": "code",
   "execution_count": 13,
   "metadata": {},
   "outputs": [
    {
     "data": {
      "text/html": [
       "<div>\n",
       "<style scoped>\n",
       "    .dataframe tbody tr th:only-of-type {\n",
       "        vertical-align: middle;\n",
       "    }\n",
       "\n",
       "    .dataframe tbody tr th {\n",
       "        vertical-align: top;\n",
       "    }\n",
       "\n",
       "    .dataframe thead th {\n",
       "        text-align: right;\n",
       "    }\n",
       "</style>\n",
       "<table border=\"1\" class=\"dataframe\">\n",
       "  <thead>\n",
       "    <tr style=\"text-align: right;\">\n",
       "      <th></th>\n",
       "      <th>0</th>\n",
       "    </tr>\n",
       "    <tr>\n",
       "      <th>Datetime</th>\n",
       "      <th></th>\n",
       "    </tr>\n",
       "  </thead>\n",
       "  <tbody>\n",
       "    <tr>\n",
       "      <th>1983-12-31</th>\n",
       "      <td>1.256546</td>\n",
       "    </tr>\n",
       "    <tr>\n",
       "      <th>1984-01-01</th>\n",
       "      <td>1.256405</td>\n",
       "    </tr>\n",
       "    <tr>\n",
       "      <th>1984-01-02</th>\n",
       "      <td>1.256391</td>\n",
       "    </tr>\n",
       "    <tr>\n",
       "      <th>1984-01-03</th>\n",
       "      <td>1.256475</td>\n",
       "    </tr>\n",
       "    <tr>\n",
       "      <th>1984-01-04</th>\n",
       "      <td>1.256616</td>\n",
       "    </tr>\n",
       "    <tr>\n",
       "      <th>...</th>\n",
       "      <td>...</td>\n",
       "    </tr>\n",
       "    <tr>\n",
       "      <th>2010-12-29</th>\n",
       "      <td>1.239667</td>\n",
       "    </tr>\n",
       "    <tr>\n",
       "      <th>2010-12-30</th>\n",
       "      <td>1.240089</td>\n",
       "    </tr>\n",
       "    <tr>\n",
       "      <th>2010-12-31</th>\n",
       "      <td>1.240474</td>\n",
       "    </tr>\n",
       "    <tr>\n",
       "      <th>2011-01-01</th>\n",
       "      <td>1.240813</td>\n",
       "    </tr>\n",
       "    <tr>\n",
       "      <th>2011-01-02</th>\n",
       "      <td>1.241095</td>\n",
       "    </tr>\n",
       "  </tbody>\n",
       "</table>\n",
       "<p>9865 rows × 1 columns</p>\n",
       "</div>"
      ],
      "text/plain": [
       "                   0\n",
       "Datetime            \n",
       "1983-12-31  1.256546\n",
       "1984-01-01  1.256405\n",
       "1984-01-02  1.256391\n",
       "1984-01-03  1.256475\n",
       "1984-01-04  1.256616\n",
       "...              ...\n",
       "2010-12-29  1.239667\n",
       "2010-12-30  1.240089\n",
       "2010-12-31  1.240474\n",
       "2011-01-01  1.240813\n",
       "2011-01-02  1.241095\n",
       "\n",
       "[9865 rows x 1 columns]"
      ]
     },
     "execution_count": 13,
     "metadata": {},
     "output_type": "execute_result"
    }
   ],
   "source": [
    "mjo_ind_wh04_3yr"
   ]
  },
  {
   "cell_type": "code",
   "execution_count": 14,
   "metadata": {},
   "outputs": [],
   "source": [
    "dff=pd.concat([mjo_ind_conv_3yr,mjo_ind_ol_3yr,mjo_ind_wh04_3yr,mjo_ind_mlr_3yr],axis=1)\n",
    "# dff1=pd.concat([mjo_ind_conv_3yr,mjo_ind_wh04_3yr],axis=1)"
   ]
  },
  {
   "cell_type": "code",
   "execution_count": 15,
   "metadata": {},
   "outputs": [
    {
     "data": {
      "text/plain": [
       "(0.6, 1.75)"
      ]
     },
     "execution_count": 15,
     "metadata": {},
     "output_type": "execute_result"
    },
    {
     "data": {
      "image/png": "[encoded data removed]",
      "text/plain": [
       "<Figure size 1440x576 with 1 Axes>"
      ]
     },
     "metadata": {
      "needs_background": "light"
     },
     "output_type": "display_data"
    }
   ],
   "source": [
    "import matplotlib.pyplot as plt\n",
    "fig,ax=plt.subplots(1,1,figsize=(20,8))\n",
    "ax.plot(dff.iloc[:,0],label='lstm')\n",
    "ax.plot(dff.iloc[:,1],label='oliver')\n",
    "# ax.plot(dff.iloc[:,3],label='mlr')\n",
    "\n",
    "ax.plot(dff.iloc[:,2],'k',label='wh04')\n",
    "ax.set_ylim([0.5,1.75])\n",
    "plt.legend()\n",
    "\n",
    "ax.set_ylim([0.6,1.75])\n",
    "# ax.set_xlim(['1979-01-01','2015-01-01'])"
   ]
  },
  {
   "cell_type": "code",
   "execution_count": 16,
   "metadata": {},
   "outputs": [
    {
     "data": {
      "text/plain": [
       "(7.0163217664079984e-06,\n",
       " 1.234922665847116e-136,\n",
       " 8.130926683669989e-06,\n",
       " 1.173287983972576e-161)"
      ]
     },
     "execution_count": 16,
     "metadata": {},
     "output_type": "execute_result"
    }
   ],
   "source": [
    "from scipy import stats\n",
    "cc = mjo_ind_conv.values.squeeze()*1\n",
    "m_conv,_,_,p_conv,_ = stats.linregress(np.arange(1,len(cc)+1),cc)\n",
    "oo = mjo_ind_ol.values.squeeze()*1\n",
    "m_ol,_,_,p_ol,_ = stats.linregress(np.arange(1,len(oo)+1),oo)\n",
    "m_conv,p_conv,m_ol,p_ol"
   ]
  },
  {
   "cell_type": "code",
   "execution_count": 17,
   "metadata": {},
   "outputs": [
    {
     "data": {
      "text/plain": [
       "array([[nan, nan],\n",
       "       [nan, nan]])"
      ]
     },
     "execution_count": 17,
     "metadata": {},
     "output_type": "execute_result"
    }
   ],
   "source": [
    "np.corrcoef(dff.iloc[:,0].loc['1982-01-01':'2012-12-31'],dff.iloc[:,2].loc['1982-01-01':'2012-12-31'])"
   ]
  },
  {
   "cell_type": "code",
   "execution_count": 18,
   "metadata": {},
   "outputs": [
    {
     "data": {
      "text/plain": [
       "array([[nan, nan],\n",
       "       [nan, nan]])"
      ]
     },
     "execution_count": 18,
     "metadata": {},
     "output_type": "execute_result"
    }
   ],
   "source": [
    "np.corrcoef(dff.iloc[:,1].loc['1982-01-01':'2012-12-31'],dff.iloc[:,2].loc['1982-01-01':'2012-12-31'])"
   ]
  },
  {
   "cell_type": "code",
   "execution_count": 19,
   "metadata": {},
   "outputs": [
    {
     "data": {
      "text/plain": [
       "Datetime\n",
       "1979-01-01         NaN\n",
       "1979-01-02         NaN\n",
       "1979-01-03         NaN\n",
       "1979-01-04         NaN\n",
       "1979-01-05         NaN\n",
       "                ...   \n",
       "2008-12-27    1.254104\n",
       "2008-12-28    1.253654\n",
       "2008-12-29    1.253279\n",
       "2008-12-30    1.252984\n",
       "2008-12-31    1.252748\n",
       "Name: 0, Length: 10958, dtype: float64"
      ]
     },
     "execution_count": 19,
     "metadata": {},
     "output_type": "execute_result"
    }
   ],
   "source": [
    "dff.iloc[:,2].loc['1979-01-01':'2008-12-31']"
   ]
  },
  {
   "cell_type": "raw",
   "metadata": {},
   "source": [
    "from scipy import stats\n",
    "X = dff.iloc[:,0].dropna().values\n",
    "slope, intercept, r_value, p_value, std_err = stats.linregress(np.arange(0,len(X)),X)"
   ]
  },
  {
   "cell_type": "code",
   "execution_count": null,
   "metadata": {},
   "outputs": [],
   "source": []
  },
  {
   "cell_type": "code",
   "execution_count": null,
   "metadata": {},
   "outputs": [],
   "source": []
  },
  {
   "cell_type": "code",
   "execution_count": null,
   "metadata": {},
   "outputs": [],
   "source": []
  }
 ],
 "metadata": {
  "kernelspec": {
   "display_name": "Python 3",
   "language": "python",
   "name": "python3"
  },
  "language_info": {
   "codemirror_mode": {
    "name": "ipython",
    "version": 3
   },
   "file_extension": ".py",
   "mimetype": "text/x-python",
   "name": "python",
   "nbconvert_exporter": "python",
   "pygments_lexer": "ipython3",
   "version": "3.7.5"
  }
 },
 "nbformat": 4,
 "nbformat_minor": 2
}
