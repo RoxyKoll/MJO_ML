{
 "cells": [
  {
   "cell_type": "markdown",
   "metadata": {},
   "source": [
    "## Multiple linear regression using Hilbert transform"
   ]
  },
  {
   "cell_type": "markdown",
   "metadata": {},
   "source": [
    "Written by Abirlal Metya, Panini Dasgupta, Manmeet Singh (25/12/2019)"
   ]
  },
  {
   "cell_type": "markdown",
   "metadata": {},
   "source": [
    "import modules"
   ]
  },
  {
   "cell_type": "code",
   "execution_count": 1,
   "metadata": {},
   "outputs": [
    {
     "name": "stderr",
     "output_type": "stream",
     "text": [
      "Using TensorFlow backend.\n"
     ]
    }
   ],
   "source": [
    "import pandas as pd\n",
    "import matplotlib.pyplot as plt\n",
    "import numpy as np\n",
    "from scipy.signal import hilbert, chirp\n",
    "\n",
    "from keras.models import Sequential\n",
    "from keras.layers import Dropout,LSTM,Dense\n",
    "\n",
    "from keras.layers.advanced_activations import LeakyReLU\n",
    "from keras.wrappers.scikit_learn import KerasRegressor\n",
    "import hilbert_data1_panini_20CRV2\n",
    "import datetime\n",
    "\n",
    "\n",
    "import statsmodels.api as sm"
   ]
  },
  {
   "cell_type": "markdown",
   "metadata": {},
   "source": [
    "Read Data"
   ]
  },
  {
   "cell_type": "code",
   "execution_count": null,
   "metadata": {},
   "outputs": [],
   "source": [
    "x_train,y_train,_ = hilbert_data1_panini_20CRV2.data_hilbert(datetime.datetime(1979,1,1),datetime.datetime(2008,12,31))\n",
    "x_test,y_test,_ = hilbert_data1_panini_20CRV2.data_hilbert(datetime.datetime(1974,1,1),datetime.datetime(1978,3,16))\n"
   ]
  },
  {
   "cell_type": "code",
   "execution_count": 3,
   "metadata": {},
   "outputs": [
    {
     "data": {
      "text/plain": [
       "((10839, 24), (10839, 1), (1266, 24), (1266, 1))"
      ]
     },
     "execution_count": 3,
     "metadata": {},
     "output_type": "execute_result"
    }
   ],
   "source": [
    "x_train.shape,y_train.shape,x_test.shape,y_test.shape\n"
   ]
  },
  {
   "cell_type": "code",
   "execution_count": 4,
   "metadata": {},
   "outputs": [
    {
     "name": "stderr",
     "output_type": "stream",
     "text": [
      "/home/cccr/supriyo/.conda/envs/knp_ai/lib/python3.7/site-packages/pandas/plotting/_matplotlib/converter.py:103: FutureWarning: Using an implicitly registered datetime converter for a matplotlib plotting method. The converter was registered by pandas on import. Future versions of pandas will require you to explicitly register matplotlib converters.\n",
      "\n",
      "To register the converters:\n",
      "\t>>> from pandas.plotting import register_matplotlib_converters\n",
      "\t>>> register_matplotlib_converters()\n",
      "  warnings.warn(msg, FutureWarning)\n"
     ]
    },
    {
     "data": {
      "text/plain": [
       "[<matplotlib.lines.Line2D at 0x7f3d6ea8dd50>]"
      ]
     },
     "execution_count": 4,
     "metadata": {},
     "output_type": "execute_result"
    },
    {
     "data": {
      "image/png": "[encoded data removed]",
      "text/plain": [
       "<Figure size 432x288 with 1 Axes>"
      ]
     },
     "metadata": {
      "needs_background": "light"
     },
     "output_type": "display_data"
    }
   ],
   "source": [
    "plt.plot(x_train.iloc[1:200,2])"
   ]
  },
  {
   "cell_type": "code",
   "execution_count": 5,
   "metadata": {},
   "outputs": [],
   "source": [
    "from sklearn import linear_model"
   ]
  },
  {
   "cell_type": "code",
   "execution_count": 6,
   "metadata": {},
   "outputs": [],
   "source": [
    "lm = linear_model.LinearRegression()\n",
    "model = lm.fit(x_train.values,y_train.values)"
   ]
  },
  {
   "cell_type": "code",
   "execution_count": 7,
   "metadata": {},
   "outputs": [],
   "source": [
    "predictions = lm.predict(x_test.values)"
   ]
  },
  {
   "cell_type": "code",
   "execution_count": 8,
   "metadata": {},
   "outputs": [
    {
     "data": {
      "text/plain": [
       "(1266, 1)"
      ]
     },
     "execution_count": 8,
     "metadata": {},
     "output_type": "execute_result"
    }
   ],
   "source": [
    "predictions.shape"
   ]
  },
  {
   "cell_type": "code",
   "execution_count": 9,
   "metadata": {},
   "outputs": [
    {
     "data": {
      "text/plain": [
       "0.8332541050998429"
      ]
     },
     "execution_count": 9,
     "metadata": {},
     "output_type": "execute_result"
    }
   ],
   "source": [
    "(lm.score(x_train.values,y_train.values))**0.5"
   ]
  },
  {
   "cell_type": "code",
   "execution_count": 10,
   "metadata": {},
   "outputs": [
    {
     "data": {
      "text/plain": [
       "array([[1.        , 0.79619225],\n",
       "       [0.79619225, 1.        ]])"
      ]
     },
     "execution_count": 10,
     "metadata": {},
     "output_type": "execute_result"
    }
   ],
   "source": [
    "np.corrcoef(predictions[:,0],y_test.values[:,0])"
   ]
  },
  {
   "cell_type": "markdown",
   "metadata": {},
   "source": [
    "Plot different columns"
   ]
  },
  {
   "cell_type": "code",
   "execution_count": 11,
   "metadata": {},
   "outputs": [
    {
     "data": {
      "text/html": [
       "<table class=\"simpletable\">\n",
       "<caption>OLS Regression Results</caption>\n",
       "<tr>\n",
       "  <th>Dep. Variable:</th>          <td>rmm1</td>       <th>  R-squared (uncentered):</th>      <td>   0.694</td> \n",
       "</tr>\n",
       "<tr>\n",
       "  <th>Model:</th>                   <td>OLS</td>       <th>  Adj. R-squared (uncentered):</th> <td>   0.694</td> \n",
       "</tr>\n",
       "<tr>\n",
       "  <th>Method:</th>             <td>Least Squares</td>  <th>  F-statistic:       </th>          <td>   2049.</td> \n",
       "</tr>\n",
       "<tr>\n",
       "  <th>Date:</th>             <td>Sat, 28 Dec 2019</td> <th>  Prob (F-statistic):</th>           <td>  0.00</td>  \n",
       "</tr>\n",
       "<tr>\n",
       "  <th>Time:</th>                 <td>17:14:39</td>     <th>  Log-Likelihood:    </th>          <td> -7795.1</td> \n",
       "</tr>\n",
       "<tr>\n",
       "  <th>No. Observations:</th>      <td> 10839</td>      <th>  AIC:               </th>          <td>1.561e+04</td>\n",
       "</tr>\n",
       "<tr>\n",
       "  <th>Df Residuals:</th>          <td> 10827</td>      <th>  BIC:               </th>          <td>1.570e+04</td>\n",
       "</tr>\n",
       "<tr>\n",
       "  <th>Df Model:</th>              <td>    12</td>      <th>                     </th>              <td> </td>    \n",
       "</tr>\n",
       "<tr>\n",
       "  <th>Covariance Type:</th>      <td>nonrobust</td>    <th>                     </th>              <td> </td>    \n",
       "</tr>\n",
       "</table>\n",
       "<table class=\"simpletable\">\n",
       "<tr>\n",
       "   <td></td>     <th>coef</th>     <th>std err</th>      <th>t</th>      <th>P>|t|</th>  <th>[0.025</th>    <th>0.975]</th>  \n",
       "</tr>\n",
       "<tr>\n",
       "  <th>0</th>  <td>    0.0020</td> <td>    0.000</td> <td>   15.016</td> <td> 0.000</td> <td>    0.002</td> <td>    0.002</td>\n",
       "</tr>\n",
       "<tr>\n",
       "  <th>1</th>  <td>   -0.0006</td> <td>    0.000</td> <td>   -4.878</td> <td> 0.000</td> <td>   -0.001</td> <td>   -0.000</td>\n",
       "</tr>\n",
       "<tr>\n",
       "  <th>2</th>  <td>    0.0013</td> <td> 5.78e-05</td> <td>   22.515</td> <td> 0.000</td> <td>    0.001</td> <td>    0.001</td>\n",
       "</tr>\n",
       "<tr>\n",
       "  <th>3</th>  <td>   -0.0005</td> <td> 3.98e-05</td> <td>  -13.079</td> <td> 0.000</td> <td>   -0.001</td> <td>   -0.000</td>\n",
       "</tr>\n",
       "<tr>\n",
       "  <th>4</th>  <td>    0.0010</td> <td> 6.69e-05</td> <td>   14.557</td> <td> 0.000</td> <td>    0.001</td> <td>    0.001</td>\n",
       "</tr>\n",
       "<tr>\n",
       "  <th>5</th>  <td>   -0.0004</td> <td> 6.02e-05</td> <td>   -6.500</td> <td> 0.000</td> <td>   -0.001</td> <td>   -0.000</td>\n",
       "</tr>\n",
       "<tr>\n",
       "  <th>6</th>  <td>   -0.0008</td> <td> 4.95e-05</td> <td>  -15.873</td> <td> 0.000</td> <td>   -0.001</td> <td>   -0.001</td>\n",
       "</tr>\n",
       "<tr>\n",
       "  <th>7</th>  <td>   -0.0010</td> <td> 3.39e-05</td> <td>  -29.626</td> <td> 0.000</td> <td>   -0.001</td> <td>   -0.001</td>\n",
       "</tr>\n",
       "<tr>\n",
       "  <th>8</th>  <td>    0.0002</td> <td>    0.000</td> <td>    1.724</td> <td> 0.085</td> <td>-2.55e-05</td> <td>    0.000</td>\n",
       "</tr>\n",
       "<tr>\n",
       "  <th>9</th>  <td>   -0.0018</td> <td> 5.36e-05</td> <td>  -33.075</td> <td> 0.000</td> <td>   -0.002</td> <td>   -0.002</td>\n",
       "</tr>\n",
       "<tr>\n",
       "  <th>10</th> <td>    0.0025</td> <td> 8.86e-05</td> <td>   28.231</td> <td> 0.000</td> <td>    0.002</td> <td>    0.003</td>\n",
       "</tr>\n",
       "<tr>\n",
       "  <th>11</th> <td>   -0.0038</td> <td>  8.6e-05</td> <td>  -44.079</td> <td> 0.000</td> <td>   -0.004</td> <td>   -0.004</td>\n",
       "</tr>\n",
       "<tr>\n",
       "  <th>0</th>  <td>   -0.0022</td> <td> 7.07e-05</td> <td>  -31.789</td> <td> 0.000</td> <td>   -0.002</td> <td>   -0.002</td>\n",
       "</tr>\n",
       "<tr>\n",
       "  <th>1</th>  <td>    0.0007</td> <td> 8.43e-05</td> <td>    8.552</td> <td> 0.000</td> <td>    0.001</td> <td>    0.001</td>\n",
       "</tr>\n",
       "<tr>\n",
       "  <th>2</th>  <td>   -0.0006</td> <td> 6.77e-05</td> <td>   -9.214</td> <td> 0.000</td> <td>   -0.001</td> <td>   -0.000</td>\n",
       "</tr>\n",
       "<tr>\n",
       "  <th>3</th>  <td>    0.0008</td> <td> 6.16e-05</td> <td>   12.460</td> <td> 0.000</td> <td>    0.001</td> <td>    0.001</td>\n",
       "</tr>\n",
       "<tr>\n",
       "  <th>4</th>  <td>-9.619e-05</td> <td> 5.05e-05</td> <td>   -1.905</td> <td> 0.057</td> <td>   -0.000</td> <td>  2.8e-06</td>\n",
       "</tr>\n",
       "<tr>\n",
       "  <th>5</th>  <td>    0.0013</td> <td> 5.27e-05</td> <td>   23.851</td> <td> 0.000</td> <td>    0.001</td> <td>    0.001</td>\n",
       "</tr>\n",
       "<tr>\n",
       "  <th>6</th>  <td>    0.0007</td> <td> 3.54e-05</td> <td>   20.769</td> <td> 0.000</td> <td>    0.001</td> <td>    0.001</td>\n",
       "</tr>\n",
       "<tr>\n",
       "  <th>7</th>  <td>   -0.0009</td> <td> 6.59e-05</td> <td>  -13.485</td> <td> 0.000</td> <td>   -0.001</td> <td>   -0.001</td>\n",
       "</tr>\n",
       "<tr>\n",
       "  <th>8</th>  <td>    0.0010</td> <td> 4.01e-05</td> <td>   26.104</td> <td> 0.000</td> <td>    0.001</td> <td>    0.001</td>\n",
       "</tr>\n",
       "<tr>\n",
       "  <th>9</th>  <td>   -0.0019</td> <td>    0.000</td> <td>  -17.802</td> <td> 0.000</td> <td>   -0.002</td> <td>   -0.002</td>\n",
       "</tr>\n",
       "<tr>\n",
       "  <th>10</th> <td>    0.0012</td> <td> 6.42e-05</td> <td>   18.463</td> <td> 0.000</td> <td>    0.001</td> <td>    0.001</td>\n",
       "</tr>\n",
       "<tr>\n",
       "  <th>11</th> <td> 5.858e-05</td> <td> 8.62e-05</td> <td>    0.679</td> <td> 0.497</td> <td>   -0.000</td> <td>    0.000</td>\n",
       "</tr>\n",
       "</table>\n",
       "<table class=\"simpletable\">\n",
       "<tr>\n",
       "  <th>Omnibus:</th>       <td>12.998</td> <th>  Durbin-Watson:     </th> <td>   0.013</td>\n",
       "</tr>\n",
       "<tr>\n",
       "  <th>Prob(Omnibus):</th> <td> 0.002</td> <th>  Jarque-Bera (JB):  </th> <td>  13.005</td>\n",
       "</tr>\n",
       "<tr>\n",
       "  <th>Skew:</th>          <td>-0.079</td> <th>  Prob(JB):          </th> <td> 0.00150</td>\n",
       "</tr>\n",
       "<tr>\n",
       "  <th>Kurtosis:</th>      <td> 2.940</td> <th>  Cond. No.          </th> <td>3.44e+16</td>\n",
       "</tr>\n",
       "</table><br/><br/>Warnings:<br/>[1] Standard Errors assume that the covariance matrix of the errors is correctly specified.<br/>[2] The smallest eigenvalue is 5.59e-25. This might indicate that there are<br/>strong multicollinearity problems or that the design matrix is singular."
      ],
      "text/plain": [
       "<class 'statsmodels.iolib.summary.Summary'>\n",
       "\"\"\"\n",
       "                                 OLS Regression Results                                \n",
       "=======================================================================================\n",
       "Dep. Variable:                   rmm1   R-squared (uncentered):                   0.694\n",
       "Model:                            OLS   Adj. R-squared (uncentered):              0.694\n",
       "Method:                 Least Squares   F-statistic:                              2049.\n",
       "Date:                Sat, 28 Dec 2019   Prob (F-statistic):                        0.00\n",
       "Time:                        17:14:39   Log-Likelihood:                         -7795.1\n",
       "No. Observations:               10839   AIC:                                  1.561e+04\n",
       "Df Residuals:                   10827   BIC:                                  1.570e+04\n",
       "Df Model:                          12                                                  \n",
       "Covariance Type:            nonrobust                                                  \n",
       "==============================================================================\n",
       "                 coef    std err          t      P>|t|      [0.025      0.975]\n",
       "------------------------------------------------------------------------------\n",
       "0              0.0020      0.000     15.016      0.000       0.002       0.002\n",
       "1             -0.0006      0.000     -4.878      0.000      -0.001      -0.000\n",
       "2              0.0013   5.78e-05     22.515      0.000       0.001       0.001\n",
       "3             -0.0005   3.98e-05    -13.079      0.000      -0.001      -0.000\n",
       "4              0.0010   6.69e-05     14.557      0.000       0.001       0.001\n",
       "5             -0.0004   6.02e-05     -6.500      0.000      -0.001      -0.000\n",
       "6             -0.0008   4.95e-05    -15.873      0.000      -0.001      -0.001\n",
       "7             -0.0010   3.39e-05    -29.626      0.000      -0.001      -0.001\n",
       "8              0.0002      0.000      1.724      0.085   -2.55e-05       0.000\n",
       "9             -0.0018   5.36e-05    -33.075      0.000      -0.002      -0.002\n",
       "10             0.0025   8.86e-05     28.231      0.000       0.002       0.003\n",
       "11            -0.0038    8.6e-05    -44.079      0.000      -0.004      -0.004\n",
       "0             -0.0022   7.07e-05    -31.789      0.000      -0.002      -0.002\n",
       "1              0.0007   8.43e-05      8.552      0.000       0.001       0.001\n",
       "2             -0.0006   6.77e-05     -9.214      0.000      -0.001      -0.000\n",
       "3              0.0008   6.16e-05     12.460      0.000       0.001       0.001\n",
       "4          -9.619e-05   5.05e-05     -1.905      0.057      -0.000     2.8e-06\n",
       "5              0.0013   5.27e-05     23.851      0.000       0.001       0.001\n",
       "6              0.0007   3.54e-05     20.769      0.000       0.001       0.001\n",
       "7             -0.0009   6.59e-05    -13.485      0.000      -0.001      -0.001\n",
       "8              0.0010   4.01e-05     26.104      0.000       0.001       0.001\n",
       "9             -0.0019      0.000    -17.802      0.000      -0.002      -0.002\n",
       "10             0.0012   6.42e-05     18.463      0.000       0.001       0.001\n",
       "11          5.858e-05   8.62e-05      0.679      0.497      -0.000       0.000\n",
       "==============================================================================\n",
       "Omnibus:                       12.998   Durbin-Watson:                   0.013\n",
       "Prob(Omnibus):                  0.002   Jarque-Bera (JB):               13.005\n",
       "Skew:                          -0.079   Prob(JB):                      0.00150\n",
       "Kurtosis:                       2.940   Cond. No.                     3.44e+16\n",
       "==============================================================================\n",
       "\n",
       "Warnings:\n",
       "[1] Standard Errors assume that the covariance matrix of the errors is correctly specified.\n",
       "[2] The smallest eigenvalue is 5.59e-25. This might indicate that there are\n",
       "strong multicollinearity problems or that the design matrix is singular.\n",
       "\"\"\""
      ]
     },
     "execution_count": 11,
     "metadata": {},
     "output_type": "execute_result"
    }
   ],
   "source": [
    "model = sm.OLS(y_train, x_train).fit()\n",
    "predictions = model.predict(x_train) # make the predictions by the model\n",
    "\n",
    "model.summary()"
   ]
  },
  {
   "cell_type": "markdown",
   "metadata": {},
   "source": [
    "## RMM2"
   ]
  },
  {
   "cell_type": "code",
   "execution_count": null,
   "metadata": {},
   "outputs": [],
   "source": [
    "x_train,y_train,_ = hilbert_data1_panini_20CRV2.data_hilbert(datetime.datetime(1979,1,1),datetime.datetime(2008,12,31))\n",
    "x_test,y_test,_ = hilbert_data1_panini_20CRV2.data_hilbert(datetime.datetime(1974,1,1),datetime.datetime(1978,3,16))\n"
   ]
  }
 ],
 "metadata": {
  "kernelspec": {
   "display_name": "Python 3",
   "language": "python",
   "name": "python3"
  },
  "language_info": {
   "codemirror_mode": {
    "name": "ipython",
    "version": 3
   },
   "file_extension": ".py",
   "mimetype": "text/x-python",
   "name": "python",
   "nbconvert_exporter": "python",
   "pygments_lexer": "ipython3",
   "version": "3.7.5"
  }
 },
 "nbformat": 4,
 "nbformat_minor": 2
}
